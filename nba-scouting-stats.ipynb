{
 "cells": [
  {
   "cell_type": "code",
   "execution_count": 1,
   "metadata": {},
   "outputs": [],
   "source": [
    "import pandas as pd\n",
    "import numpy as np\n",
    "import plotly.express as px\n",
    "import plotly.graph_objects as pxgo\n",
    "from plotly.subplots import make_subplots\n",
    "import plotly.tools as tls"
   ]
  },
  {
   "attachments": {},
   "cell_type": "markdown",
   "metadata": {},
   "source": [
    "# Dataset Import"
   ]
  },
  {
   "cell_type": "code",
   "execution_count": 2,
   "metadata": {},
   "outputs": [
    {
     "name": "stderr",
     "output_type": "stream",
     "text": [
      "/tmp/ipykernel_3322/2875637720.py:3: DtypeWarning:\n",
      "\n",
      "Columns (6) have mixed types. Specify dtype option on import or set low_memory=False.\n",
      "\n"
     ]
    }
   ],
   "source": [
    "teams_df = pd.read_csv('./dataset/teams.csv')\n",
    "games_df = pd.read_csv('./dataset/games.csv')\n",
    "games_details_df = pd.read_csv('./dataset/games_details.csv')\n",
    "players_df = pd.read_csv('./dataset/players.csv')\n",
    "ranking_df = pd.read_csv('./dataset/ranking.csv')"
   ]
  },
  {
   "attachments": {},
   "cell_type": "markdown",
   "metadata": {},
   "source": [
    "# Dataset analysis"
   ]
  },
  {
   "attachments": {},
   "cell_type": "markdown",
   "metadata": {},
   "source": [
    "## Teams Dataset"
   ]
  },
  {
   "attachments": {},
   "cell_type": "markdown",
   "metadata": {},
   "source": [
    "NaN values in arena capacity --> set with 0"
   ]
  },
  {
   "cell_type": "code",
   "execution_count": 3,
   "metadata": {},
   "outputs": [
    {
     "name": "stdout",
     "output_type": "stream",
     "text": [
      "<class 'pandas.core.frame.DataFrame'>\n",
      "RangeIndex: 30 entries, 0 to 29\n",
      "Data columns (total 14 columns):\n",
      " #   Column              Non-Null Count  Dtype  \n",
      "---  ------              --------------  -----  \n",
      " 0   LEAGUE_ID           30 non-null     int64  \n",
      " 1   TEAM_ID             30 non-null     int64  \n",
      " 2   MIN_YEAR            30 non-null     int64  \n",
      " 3   MAX_YEAR            30 non-null     int64  \n",
      " 4   ABBREVIATION        30 non-null     object \n",
      " 5   NICKNAME            30 non-null     object \n",
      " 6   YEARFOUNDED         30 non-null     int64  \n",
      " 7   CITY                30 non-null     object \n",
      " 8   ARENA               30 non-null     object \n",
      " 9   ARENACAPACITY       26 non-null     float64\n",
      " 10  OWNER               30 non-null     object \n",
      " 11  GENERALMANAGER      30 non-null     object \n",
      " 12  HEADCOACH           30 non-null     object \n",
      " 13  DLEAGUEAFFILIATION  30 non-null     object \n",
      "dtypes: float64(1), int64(5), object(8)\n",
      "memory usage: 3.4+ KB\n"
     ]
    }
   ],
   "source": [
    "teams_df.info()"
   ]
  },
  {
   "cell_type": "code",
   "execution_count": 4,
   "metadata": {},
   "outputs": [
    {
     "data": {
      "text/html": [
       "<div>\n",
       "<style scoped>\n",
       "    .dataframe tbody tr th:only-of-type {\n",
       "        vertical-align: middle;\n",
       "    }\n",
       "\n",
       "    .dataframe tbody tr th {\n",
       "        vertical-align: top;\n",
       "    }\n",
       "\n",
       "    .dataframe thead th {\n",
       "        text-align: right;\n",
       "    }\n",
       "</style>\n",
       "<table border=\"1\" class=\"dataframe\">\n",
       "  <thead>\n",
       "    <tr style=\"text-align: right;\">\n",
       "      <th></th>\n",
       "      <th>count</th>\n",
       "      <th>mean</th>\n",
       "      <th>std</th>\n",
       "      <th>min</th>\n",
       "      <th>25%</th>\n",
       "      <th>50%</th>\n",
       "      <th>75%</th>\n",
       "      <th>max</th>\n",
       "    </tr>\n",
       "  </thead>\n",
       "  <tbody>\n",
       "    <tr>\n",
       "      <th>LEAGUE_ID</th>\n",
       "      <td>30.0</td>\n",
       "      <td>0.000000e+00</td>\n",
       "      <td>0.000000</td>\n",
       "      <td>0.000000e+00</td>\n",
       "      <td>0.000000e+00</td>\n",
       "      <td>0.000000e+00</td>\n",
       "      <td>0.000000e+00</td>\n",
       "      <td>0.000000e+00</td>\n",
       "    </tr>\n",
       "    <tr>\n",
       "      <th>TEAM_ID</th>\n",
       "      <td>30.0</td>\n",
       "      <td>1.610613e+09</td>\n",
       "      <td>8.803408</td>\n",
       "      <td>1.610613e+09</td>\n",
       "      <td>1.610613e+09</td>\n",
       "      <td>1.610613e+09</td>\n",
       "      <td>1.610613e+09</td>\n",
       "      <td>1.610613e+09</td>\n",
       "    </tr>\n",
       "    <tr>\n",
       "      <th>MIN_YEAR</th>\n",
       "      <td>30.0</td>\n",
       "      <td>1.969700e+03</td>\n",
       "      <td>16.698441</td>\n",
       "      <td>1.946000e+03</td>\n",
       "      <td>1.952000e+03</td>\n",
       "      <td>1.970000e+03</td>\n",
       "      <td>1.979000e+03</td>\n",
       "      <td>2.002000e+03</td>\n",
       "    </tr>\n",
       "    <tr>\n",
       "      <th>MAX_YEAR</th>\n",
       "      <td>30.0</td>\n",
       "      <td>2.019000e+03</td>\n",
       "      <td>0.000000</td>\n",
       "      <td>2.019000e+03</td>\n",
       "      <td>2.019000e+03</td>\n",
       "      <td>2.019000e+03</td>\n",
       "      <td>2.019000e+03</td>\n",
       "      <td>2.019000e+03</td>\n",
       "    </tr>\n",
       "    <tr>\n",
       "      <th>YEARFOUNDED</th>\n",
       "      <td>30.0</td>\n",
       "      <td>1.969700e+03</td>\n",
       "      <td>16.698441</td>\n",
       "      <td>1.946000e+03</td>\n",
       "      <td>1.952000e+03</td>\n",
       "      <td>1.970000e+03</td>\n",
       "      <td>1.979000e+03</td>\n",
       "      <td>2.002000e+03</td>\n",
       "    </tr>\n",
       "    <tr>\n",
       "      <th>ARENACAPACITY</th>\n",
       "      <td>26.0</td>\n",
       "      <td>1.855331e+04</td>\n",
       "      <td>3916.923362</td>\n",
       "      <td>0.000000e+00</td>\n",
       "      <td>1.864150e+04</td>\n",
       "      <td>1.913100e+04</td>\n",
       "      <td>1.979075e+04</td>\n",
       "      <td>2.171100e+04</td>\n",
       "    </tr>\n",
       "  </tbody>\n",
       "</table>\n",
       "</div>"
      ],
      "text/plain": [
       "               count          mean          std           min           25%  \\\n",
       "LEAGUE_ID       30.0  0.000000e+00     0.000000  0.000000e+00  0.000000e+00   \n",
       "TEAM_ID         30.0  1.610613e+09     8.803408  1.610613e+09  1.610613e+09   \n",
       "MIN_YEAR        30.0  1.969700e+03    16.698441  1.946000e+03  1.952000e+03   \n",
       "MAX_YEAR        30.0  2.019000e+03     0.000000  2.019000e+03  2.019000e+03   \n",
       "YEARFOUNDED     30.0  1.969700e+03    16.698441  1.946000e+03  1.952000e+03   \n",
       "ARENACAPACITY   26.0  1.855331e+04  3916.923362  0.000000e+00  1.864150e+04   \n",
       "\n",
       "                        50%           75%           max  \n",
       "LEAGUE_ID      0.000000e+00  0.000000e+00  0.000000e+00  \n",
       "TEAM_ID        1.610613e+09  1.610613e+09  1.610613e+09  \n",
       "MIN_YEAR       1.970000e+03  1.979000e+03  2.002000e+03  \n",
       "MAX_YEAR       2.019000e+03  2.019000e+03  2.019000e+03  \n",
       "YEARFOUNDED    1.970000e+03  1.979000e+03  2.002000e+03  \n",
       "ARENACAPACITY  1.913100e+04  1.979075e+04  2.171100e+04  "
      ]
     },
     "execution_count": 4,
     "metadata": {},
     "output_type": "execute_result"
    }
   ],
   "source": [
    "teams_df.describe().T"
   ]
  },
  {
   "cell_type": "code",
   "execution_count": 5,
   "metadata": {},
   "outputs": [
    {
     "data": {
      "text/html": [
       "<div>\n",
       "<style scoped>\n",
       "    .dataframe tbody tr th:only-of-type {\n",
       "        vertical-align: middle;\n",
       "    }\n",
       "\n",
       "    .dataframe tbody tr th {\n",
       "        vertical-align: top;\n",
       "    }\n",
       "\n",
       "    .dataframe thead th {\n",
       "        text-align: right;\n",
       "    }\n",
       "</style>\n",
       "<table border=\"1\" class=\"dataframe\">\n",
       "  <thead>\n",
       "    <tr style=\"text-align: right;\">\n",
       "      <th></th>\n",
       "      <th>LEAGUE_ID</th>\n",
       "      <th>TEAM_ID</th>\n",
       "      <th>MIN_YEAR</th>\n",
       "      <th>MAX_YEAR</th>\n",
       "      <th>ABBREVIATION</th>\n",
       "      <th>NICKNAME</th>\n",
       "      <th>YEARFOUNDED</th>\n",
       "      <th>CITY</th>\n",
       "      <th>ARENA</th>\n",
       "      <th>ARENACAPACITY</th>\n",
       "      <th>OWNER</th>\n",
       "      <th>GENERALMANAGER</th>\n",
       "      <th>HEADCOACH</th>\n",
       "      <th>DLEAGUEAFFILIATION</th>\n",
       "    </tr>\n",
       "  </thead>\n",
       "  <tbody>\n",
       "    <tr>\n",
       "      <th>0</th>\n",
       "      <td>0</td>\n",
       "      <td>1610612737</td>\n",
       "      <td>1949</td>\n",
       "      <td>2019</td>\n",
       "      <td>ATL</td>\n",
       "      <td>Hawks</td>\n",
       "      <td>1949</td>\n",
       "      <td>Atlanta</td>\n",
       "      <td>State Farm Arena</td>\n",
       "      <td>18729.0</td>\n",
       "      <td>Tony Ressler</td>\n",
       "      <td>Travis Schlenk</td>\n",
       "      <td>Lloyd Pierce</td>\n",
       "      <td>Erie Bayhawks</td>\n",
       "    </tr>\n",
       "    <tr>\n",
       "      <th>1</th>\n",
       "      <td>0</td>\n",
       "      <td>1610612738</td>\n",
       "      <td>1946</td>\n",
       "      <td>2019</td>\n",
       "      <td>BOS</td>\n",
       "      <td>Celtics</td>\n",
       "      <td>1946</td>\n",
       "      <td>Boston</td>\n",
       "      <td>TD Garden</td>\n",
       "      <td>18624.0</td>\n",
       "      <td>Wyc Grousbeck</td>\n",
       "      <td>Danny Ainge</td>\n",
       "      <td>Brad Stevens</td>\n",
       "      <td>Maine Red Claws</td>\n",
       "    </tr>\n",
       "    <tr>\n",
       "      <th>2</th>\n",
       "      <td>0</td>\n",
       "      <td>1610612740</td>\n",
       "      <td>2002</td>\n",
       "      <td>2019</td>\n",
       "      <td>NOP</td>\n",
       "      <td>Pelicans</td>\n",
       "      <td>2002</td>\n",
       "      <td>New Orleans</td>\n",
       "      <td>Smoothie King Center</td>\n",
       "      <td>NaN</td>\n",
       "      <td>Tom Benson</td>\n",
       "      <td>Trajan Langdon</td>\n",
       "      <td>Alvin Gentry</td>\n",
       "      <td>No Affiliate</td>\n",
       "    </tr>\n",
       "    <tr>\n",
       "      <th>3</th>\n",
       "      <td>0</td>\n",
       "      <td>1610612741</td>\n",
       "      <td>1966</td>\n",
       "      <td>2019</td>\n",
       "      <td>CHI</td>\n",
       "      <td>Bulls</td>\n",
       "      <td>1966</td>\n",
       "      <td>Chicago</td>\n",
       "      <td>United Center</td>\n",
       "      <td>21711.0</td>\n",
       "      <td>Jerry Reinsdorf</td>\n",
       "      <td>Gar Forman</td>\n",
       "      <td>Jim Boylen</td>\n",
       "      <td>Windy City Bulls</td>\n",
       "    </tr>\n",
       "    <tr>\n",
       "      <th>4</th>\n",
       "      <td>0</td>\n",
       "      <td>1610612742</td>\n",
       "      <td>1980</td>\n",
       "      <td>2019</td>\n",
       "      <td>DAL</td>\n",
       "      <td>Mavericks</td>\n",
       "      <td>1980</td>\n",
       "      <td>Dallas</td>\n",
       "      <td>American Airlines Center</td>\n",
       "      <td>19200.0</td>\n",
       "      <td>Mark Cuban</td>\n",
       "      <td>Donnie Nelson</td>\n",
       "      <td>Rick Carlisle</td>\n",
       "      <td>Texas Legends</td>\n",
       "    </tr>\n",
       "    <tr>\n",
       "      <th>5</th>\n",
       "      <td>0</td>\n",
       "      <td>1610612743</td>\n",
       "      <td>1976</td>\n",
       "      <td>2019</td>\n",
       "      <td>DEN</td>\n",
       "      <td>Nuggets</td>\n",
       "      <td>1976</td>\n",
       "      <td>Denver</td>\n",
       "      <td>Pepsi Center</td>\n",
       "      <td>19099.0</td>\n",
       "      <td>Stan Kroenke</td>\n",
       "      <td>Tim Connelly</td>\n",
       "      <td>Michael Malone</td>\n",
       "      <td>No Affiliate</td>\n",
       "    </tr>\n",
       "    <tr>\n",
       "      <th>6</th>\n",
       "      <td>0</td>\n",
       "      <td>1610612745</td>\n",
       "      <td>1967</td>\n",
       "      <td>2019</td>\n",
       "      <td>HOU</td>\n",
       "      <td>Rockets</td>\n",
       "      <td>1967</td>\n",
       "      <td>Houston</td>\n",
       "      <td>Toyota Center</td>\n",
       "      <td>18104.0</td>\n",
       "      <td>Tilman Fertitta</td>\n",
       "      <td>Daryl Morey</td>\n",
       "      <td>Mike D'Antoni</td>\n",
       "      <td>Rio Grande Valley Vipers</td>\n",
       "    </tr>\n",
       "    <tr>\n",
       "      <th>7</th>\n",
       "      <td>0</td>\n",
       "      <td>1610612746</td>\n",
       "      <td>1970</td>\n",
       "      <td>2019</td>\n",
       "      <td>LAC</td>\n",
       "      <td>Clippers</td>\n",
       "      <td>1970</td>\n",
       "      <td>Los Angeles</td>\n",
       "      <td>Staples Center</td>\n",
       "      <td>19060.0</td>\n",
       "      <td>Steve Ballmer</td>\n",
       "      <td>Michael Winger</td>\n",
       "      <td>Doc Rivers</td>\n",
       "      <td>Agua Caliente Clippers of Ontario</td>\n",
       "    </tr>\n",
       "    <tr>\n",
       "      <th>8</th>\n",
       "      <td>0</td>\n",
       "      <td>1610612747</td>\n",
       "      <td>1948</td>\n",
       "      <td>2019</td>\n",
       "      <td>LAL</td>\n",
       "      <td>Lakers</td>\n",
       "      <td>1948</td>\n",
       "      <td>Los Angeles</td>\n",
       "      <td>Staples Center</td>\n",
       "      <td>19060.0</td>\n",
       "      <td>Jerry Buss Family Trust</td>\n",
       "      <td>Rob Pelinka</td>\n",
       "      <td>Frank Vogel</td>\n",
       "      <td>South Bay Lakers</td>\n",
       "    </tr>\n",
       "    <tr>\n",
       "      <th>9</th>\n",
       "      <td>0</td>\n",
       "      <td>1610612748</td>\n",
       "      <td>1988</td>\n",
       "      <td>2019</td>\n",
       "      <td>MIA</td>\n",
       "      <td>Heat</td>\n",
       "      <td>1988</td>\n",
       "      <td>Miami</td>\n",
       "      <td>AmericanAirlines Arena</td>\n",
       "      <td>19600.0</td>\n",
       "      <td>Micky Arison</td>\n",
       "      <td>Pat Riley</td>\n",
       "      <td>Erik Spoelstra</td>\n",
       "      <td>Sioux Falls Skyforce</td>\n",
       "    </tr>\n",
       "  </tbody>\n",
       "</table>\n",
       "</div>"
      ],
      "text/plain": [
       "   LEAGUE_ID     TEAM_ID  MIN_YEAR  MAX_YEAR ABBREVIATION   NICKNAME  \\\n",
       "0          0  1610612737      1949      2019          ATL      Hawks   \n",
       "1          0  1610612738      1946      2019          BOS    Celtics   \n",
       "2          0  1610612740      2002      2019          NOP   Pelicans   \n",
       "3          0  1610612741      1966      2019          CHI      Bulls   \n",
       "4          0  1610612742      1980      2019          DAL  Mavericks   \n",
       "5          0  1610612743      1976      2019          DEN    Nuggets   \n",
       "6          0  1610612745      1967      2019          HOU    Rockets   \n",
       "7          0  1610612746      1970      2019          LAC   Clippers   \n",
       "8          0  1610612747      1948      2019          LAL     Lakers   \n",
       "9          0  1610612748      1988      2019          MIA       Heat   \n",
       "\n",
       "   YEARFOUNDED         CITY                     ARENA  ARENACAPACITY  \\\n",
       "0         1949      Atlanta          State Farm Arena        18729.0   \n",
       "1         1946       Boston                 TD Garden        18624.0   \n",
       "2         2002  New Orleans      Smoothie King Center            NaN   \n",
       "3         1966      Chicago             United Center        21711.0   \n",
       "4         1980       Dallas  American Airlines Center        19200.0   \n",
       "5         1976       Denver              Pepsi Center        19099.0   \n",
       "6         1967      Houston             Toyota Center        18104.0   \n",
       "7         1970  Los Angeles            Staples Center        19060.0   \n",
       "8         1948  Los Angeles            Staples Center        19060.0   \n",
       "9         1988        Miami    AmericanAirlines Arena        19600.0   \n",
       "\n",
       "                     OWNER  GENERALMANAGER       HEADCOACH  \\\n",
       "0             Tony Ressler  Travis Schlenk    Lloyd Pierce   \n",
       "1            Wyc Grousbeck     Danny Ainge    Brad Stevens   \n",
       "2               Tom Benson  Trajan Langdon    Alvin Gentry   \n",
       "3          Jerry Reinsdorf      Gar Forman      Jim Boylen   \n",
       "4               Mark Cuban   Donnie Nelson   Rick Carlisle   \n",
       "5             Stan Kroenke    Tim Connelly  Michael Malone   \n",
       "6          Tilman Fertitta     Daryl Morey   Mike D'Antoni   \n",
       "7            Steve Ballmer  Michael Winger      Doc Rivers   \n",
       "8  Jerry Buss Family Trust     Rob Pelinka     Frank Vogel   \n",
       "9             Micky Arison       Pat Riley  Erik Spoelstra   \n",
       "\n",
       "                  DLEAGUEAFFILIATION  \n",
       "0                      Erie Bayhawks  \n",
       "1                    Maine Red Claws  \n",
       "2                       No Affiliate  \n",
       "3                   Windy City Bulls  \n",
       "4                      Texas Legends  \n",
       "5                       No Affiliate  \n",
       "6           Rio Grande Valley Vipers  \n",
       "7  Agua Caliente Clippers of Ontario  \n",
       "8                   South Bay Lakers  \n",
       "9               Sioux Falls Skyforce  "
      ]
     },
     "execution_count": 5,
     "metadata": {},
     "output_type": "execute_result"
    }
   ],
   "source": [
    "teams_df.head(10)"
   ]
  },
  {
   "cell_type": "code",
   "execution_count": 6,
   "metadata": {},
   "outputs": [],
   "source": [
    "teams_df['ARENACAPACITY'].fillna(0, inplace=True)"
   ]
  },
  {
   "cell_type": "code",
   "execution_count": 7,
   "metadata": {},
   "outputs": [
    {
     "name": "stdout",
     "output_type": "stream",
     "text": [
      "<class 'pandas.core.frame.DataFrame'>\n",
      "RangeIndex: 30 entries, 0 to 29\n",
      "Data columns (total 14 columns):\n",
      " #   Column              Non-Null Count  Dtype  \n",
      "---  ------              --------------  -----  \n",
      " 0   LEAGUE_ID           30 non-null     int64  \n",
      " 1   TEAM_ID             30 non-null     int64  \n",
      " 2   MIN_YEAR            30 non-null     int64  \n",
      " 3   MAX_YEAR            30 non-null     int64  \n",
      " 4   ABBREVIATION        30 non-null     object \n",
      " 5   NICKNAME            30 non-null     object \n",
      " 6   YEARFOUNDED         30 non-null     int64  \n",
      " 7   CITY                30 non-null     object \n",
      " 8   ARENA               30 non-null     object \n",
      " 9   ARENACAPACITY       30 non-null     float64\n",
      " 10  OWNER               30 non-null     object \n",
      " 11  GENERALMANAGER      30 non-null     object \n",
      " 12  HEADCOACH           30 non-null     object \n",
      " 13  DLEAGUEAFFILIATION  30 non-null     object \n",
      "dtypes: float64(1), int64(5), object(8)\n",
      "memory usage: 3.4+ KB\n"
     ]
    }
   ],
   "source": [
    "teams_df.info()"
   ]
  },
  {
   "attachments": {},
   "cell_type": "markdown",
   "metadata": {},
   "source": [
    "## Games Dataset"
   ]
  },
  {
   "attachments": {},
   "cell_type": "markdown",
   "metadata": {},
   "source": [
    "NaN values --> dropped from main dataset and saved in ```match_NaN_values```"
   ]
  },
  {
   "cell_type": "code",
   "execution_count": 8,
   "metadata": {},
   "outputs": [
    {
     "name": "stdout",
     "output_type": "stream",
     "text": [
      "<class 'pandas.core.frame.DataFrame'>\n",
      "RangeIndex: 25796 entries, 0 to 25795\n",
      "Data columns (total 21 columns):\n",
      " #   Column            Non-Null Count  Dtype  \n",
      "---  ------            --------------  -----  \n",
      " 0   GAME_DATE_EST     25796 non-null  object \n",
      " 1   GAME_ID           25796 non-null  int64  \n",
      " 2   GAME_STATUS_TEXT  25796 non-null  object \n",
      " 3   HOME_TEAM_ID      25796 non-null  int64  \n",
      " 4   VISITOR_TEAM_ID   25796 non-null  int64  \n",
      " 5   SEASON            25796 non-null  int64  \n",
      " 6   TEAM_ID_home      25796 non-null  int64  \n",
      " 7   PTS_home          25697 non-null  float64\n",
      " 8   FG_PCT_home       25697 non-null  float64\n",
      " 9   FT_PCT_home       25697 non-null  float64\n",
      " 10  FG3_PCT_home      25697 non-null  float64\n",
      " 11  AST_home          25697 non-null  float64\n",
      " 12  REB_home          25697 non-null  float64\n",
      " 13  TEAM_ID_away      25796 non-null  int64  \n",
      " 14  PTS_away          25697 non-null  float64\n",
      " 15  FG_PCT_away       25697 non-null  float64\n",
      " 16  FT_PCT_away       25697 non-null  float64\n",
      " 17  FG3_PCT_away      25697 non-null  float64\n",
      " 18  AST_away          25697 non-null  float64\n",
      " 19  REB_away          25697 non-null  float64\n",
      " 20  HOME_TEAM_WINS    25796 non-null  int64  \n",
      "dtypes: float64(12), int64(7), object(2)\n",
      "memory usage: 4.1+ MB\n"
     ]
    }
   ],
   "source": [
    "games_df.info()"
   ]
  },
  {
   "cell_type": "code",
   "execution_count": 9,
   "metadata": {},
   "outputs": [
    {
     "data": {
      "text/html": [
       "<div>\n",
       "<style scoped>\n",
       "    .dataframe tbody tr th:only-of-type {\n",
       "        vertical-align: middle;\n",
       "    }\n",
       "\n",
       "    .dataframe tbody tr th {\n",
       "        vertical-align: top;\n",
       "    }\n",
       "\n",
       "    .dataframe thead th {\n",
       "        text-align: right;\n",
       "    }\n",
       "</style>\n",
       "<table border=\"1\" class=\"dataframe\">\n",
       "  <thead>\n",
       "    <tr style=\"text-align: right;\">\n",
       "      <th></th>\n",
       "      <th>count</th>\n",
       "      <th>mean</th>\n",
       "      <th>std</th>\n",
       "      <th>min</th>\n",
       "      <th>25%</th>\n",
       "      <th>50%</th>\n",
       "      <th>75%</th>\n",
       "      <th>max</th>\n",
       "    </tr>\n",
       "  </thead>\n",
       "  <tbody>\n",
       "    <tr>\n",
       "      <th>GAME_ID</th>\n",
       "      <td>25796.0</td>\n",
       "      <td>2.169208e+07</td>\n",
       "      <td>5.496041e+06</td>\n",
       "      <td>1.030000e+07</td>\n",
       "      <td>2.060109e+07</td>\n",
       "      <td>2.120040e+07</td>\n",
       "      <td>2.170070e+07</td>\n",
       "      <td>5.200021e+07</td>\n",
       "    </tr>\n",
       "    <tr>\n",
       "      <th>HOME_TEAM_ID</th>\n",
       "      <td>25796.0</td>\n",
       "      <td>1.610613e+09</td>\n",
       "      <td>8.638857e+00</td>\n",
       "      <td>1.610613e+09</td>\n",
       "      <td>1.610613e+09</td>\n",
       "      <td>1.610613e+09</td>\n",
       "      <td>1.610613e+09</td>\n",
       "      <td>1.610613e+09</td>\n",
       "    </tr>\n",
       "    <tr>\n",
       "      <th>VISITOR_TEAM_ID</th>\n",
       "      <td>25796.0</td>\n",
       "      <td>1.610613e+09</td>\n",
       "      <td>8.654846e+00</td>\n",
       "      <td>1.610613e+09</td>\n",
       "      <td>1.610613e+09</td>\n",
       "      <td>1.610613e+09</td>\n",
       "      <td>1.610613e+09</td>\n",
       "      <td>1.610613e+09</td>\n",
       "    </tr>\n",
       "    <tr>\n",
       "      <th>SEASON</th>\n",
       "      <td>25796.0</td>\n",
       "      <td>2.011798e+03</td>\n",
       "      <td>5.397985e+00</td>\n",
       "      <td>2.003000e+03</td>\n",
       "      <td>2.007000e+03</td>\n",
       "      <td>2.012000e+03</td>\n",
       "      <td>2.016000e+03</td>\n",
       "      <td>2.021000e+03</td>\n",
       "    </tr>\n",
       "    <tr>\n",
       "      <th>TEAM_ID_home</th>\n",
       "      <td>25796.0</td>\n",
       "      <td>1.610613e+09</td>\n",
       "      <td>8.638857e+00</td>\n",
       "      <td>1.610613e+09</td>\n",
       "      <td>1.610613e+09</td>\n",
       "      <td>1.610613e+09</td>\n",
       "      <td>1.610613e+09</td>\n",
       "      <td>1.610613e+09</td>\n",
       "    </tr>\n",
       "    <tr>\n",
       "      <th>PTS_home</th>\n",
       "      <td>25697.0</td>\n",
       "      <td>1.031060e+02</td>\n",
       "      <td>1.317473e+01</td>\n",
       "      <td>3.600000e+01</td>\n",
       "      <td>9.400000e+01</td>\n",
       "      <td>1.030000e+02</td>\n",
       "      <td>1.120000e+02</td>\n",
       "      <td>1.680000e+02</td>\n",
       "    </tr>\n",
       "    <tr>\n",
       "      <th>FG_PCT_home</th>\n",
       "      <td>25697.0</td>\n",
       "      <td>4.603128e-01</td>\n",
       "      <td>5.662854e-02</td>\n",
       "      <td>2.500000e-01</td>\n",
       "      <td>4.210000e-01</td>\n",
       "      <td>4.590000e-01</td>\n",
       "      <td>5.000000e-01</td>\n",
       "      <td>6.840000e-01</td>\n",
       "    </tr>\n",
       "    <tr>\n",
       "      <th>FT_PCT_home</th>\n",
       "      <td>25697.0</td>\n",
       "      <td>7.597049e-01</td>\n",
       "      <td>1.006920e-01</td>\n",
       "      <td>1.430000e-01</td>\n",
       "      <td>6.960000e-01</td>\n",
       "      <td>7.650000e-01</td>\n",
       "      <td>8.290000e-01</td>\n",
       "      <td>1.000000e+00</td>\n",
       "    </tr>\n",
       "    <tr>\n",
       "      <th>FG3_PCT_home</th>\n",
       "      <td>25697.0</td>\n",
       "      <td>3.558964e-01</td>\n",
       "      <td>1.119400e-01</td>\n",
       "      <td>0.000000e+00</td>\n",
       "      <td>2.860000e-01</td>\n",
       "      <td>3.550000e-01</td>\n",
       "      <td>4.290000e-01</td>\n",
       "      <td>1.000000e+00</td>\n",
       "    </tr>\n",
       "    <tr>\n",
       "      <th>AST_home</th>\n",
       "      <td>25697.0</td>\n",
       "      <td>2.273678e+01</td>\n",
       "      <td>5.177566e+00</td>\n",
       "      <td>6.000000e+00</td>\n",
       "      <td>1.900000e+01</td>\n",
       "      <td>2.300000e+01</td>\n",
       "      <td>2.600000e+01</td>\n",
       "      <td>5.000000e+01</td>\n",
       "    </tr>\n",
       "    <tr>\n",
       "      <th>REB_home</th>\n",
       "      <td>25697.0</td>\n",
       "      <td>4.334580e+01</td>\n",
       "      <td>6.621832e+00</td>\n",
       "      <td>1.500000e+01</td>\n",
       "      <td>3.900000e+01</td>\n",
       "      <td>4.300000e+01</td>\n",
       "      <td>4.800000e+01</td>\n",
       "      <td>7.200000e+01</td>\n",
       "    </tr>\n",
       "    <tr>\n",
       "      <th>TEAM_ID_away</th>\n",
       "      <td>25796.0</td>\n",
       "      <td>1.610613e+09</td>\n",
       "      <td>8.654846e+00</td>\n",
       "      <td>1.610613e+09</td>\n",
       "      <td>1.610613e+09</td>\n",
       "      <td>1.610613e+09</td>\n",
       "      <td>1.610613e+09</td>\n",
       "      <td>1.610613e+09</td>\n",
       "    </tr>\n",
       "    <tr>\n",
       "      <th>PTS_away</th>\n",
       "      <td>25697.0</td>\n",
       "      <td>1.002941e+02</td>\n",
       "      <td>1.334302e+01</td>\n",
       "      <td>3.300000e+01</td>\n",
       "      <td>9.100000e+01</td>\n",
       "      <td>1.000000e+02</td>\n",
       "      <td>1.090000e+02</td>\n",
       "      <td>1.680000e+02</td>\n",
       "    </tr>\n",
       "    <tr>\n",
       "      <th>FG_PCT_away</th>\n",
       "      <td>25697.0</td>\n",
       "      <td>4.492652e-01</td>\n",
       "      <td>5.552800e-02</td>\n",
       "      <td>2.440000e-01</td>\n",
       "      <td>4.120000e-01</td>\n",
       "      <td>4.480000e-01</td>\n",
       "      <td>4.870000e-01</td>\n",
       "      <td>6.870000e-01</td>\n",
       "    </tr>\n",
       "    <tr>\n",
       "      <th>FT_PCT_away</th>\n",
       "      <td>25697.0</td>\n",
       "      <td>7.580819e-01</td>\n",
       "      <td>1.034176e-01</td>\n",
       "      <td>1.430000e-01</td>\n",
       "      <td>6.920000e-01</td>\n",
       "      <td>7.650000e-01</td>\n",
       "      <td>8.330000e-01</td>\n",
       "      <td>1.000000e+00</td>\n",
       "    </tr>\n",
       "    <tr>\n",
       "      <th>FG3_PCT_away</th>\n",
       "      <td>25697.0</td>\n",
       "      <td>3.494131e-01</td>\n",
       "      <td>1.101939e-01</td>\n",
       "      <td>0.000000e+00</td>\n",
       "      <td>2.780000e-01</td>\n",
       "      <td>3.500000e-01</td>\n",
       "      <td>4.200000e-01</td>\n",
       "      <td>1.000000e+00</td>\n",
       "    </tr>\n",
       "    <tr>\n",
       "      <th>AST_away</th>\n",
       "      <td>25697.0</td>\n",
       "      <td>2.140390e+01</td>\n",
       "      <td>5.140897e+00</td>\n",
       "      <td>4.000000e+00</td>\n",
       "      <td>1.800000e+01</td>\n",
       "      <td>2.100000e+01</td>\n",
       "      <td>2.500000e+01</td>\n",
       "      <td>4.600000e+01</td>\n",
       "    </tr>\n",
       "    <tr>\n",
       "      <th>REB_away</th>\n",
       "      <td>25697.0</td>\n",
       "      <td>4.208515e+01</td>\n",
       "      <td>6.526951e+00</td>\n",
       "      <td>1.900000e+01</td>\n",
       "      <td>3.800000e+01</td>\n",
       "      <td>4.200000e+01</td>\n",
       "      <td>4.600000e+01</td>\n",
       "      <td>8.100000e+01</td>\n",
       "    </tr>\n",
       "    <tr>\n",
       "      <th>HOME_TEAM_WINS</th>\n",
       "      <td>25796.0</td>\n",
       "      <td>5.874942e-01</td>\n",
       "      <td>4.922948e-01</td>\n",
       "      <td>0.000000e+00</td>\n",
       "      <td>0.000000e+00</td>\n",
       "      <td>1.000000e+00</td>\n",
       "      <td>1.000000e+00</td>\n",
       "      <td>1.000000e+00</td>\n",
       "    </tr>\n",
       "  </tbody>\n",
       "</table>\n",
       "</div>"
      ],
      "text/plain": [
       "                   count          mean           std           min  \\\n",
       "GAME_ID          25796.0  2.169208e+07  5.496041e+06  1.030000e+07   \n",
       "HOME_TEAM_ID     25796.0  1.610613e+09  8.638857e+00  1.610613e+09   \n",
       "VISITOR_TEAM_ID  25796.0  1.610613e+09  8.654846e+00  1.610613e+09   \n",
       "SEASON           25796.0  2.011798e+03  5.397985e+00  2.003000e+03   \n",
       "TEAM_ID_home     25796.0  1.610613e+09  8.638857e+00  1.610613e+09   \n",
       "PTS_home         25697.0  1.031060e+02  1.317473e+01  3.600000e+01   \n",
       "FG_PCT_home      25697.0  4.603128e-01  5.662854e-02  2.500000e-01   \n",
       "FT_PCT_home      25697.0  7.597049e-01  1.006920e-01  1.430000e-01   \n",
       "FG3_PCT_home     25697.0  3.558964e-01  1.119400e-01  0.000000e+00   \n",
       "AST_home         25697.0  2.273678e+01  5.177566e+00  6.000000e+00   \n",
       "REB_home         25697.0  4.334580e+01  6.621832e+00  1.500000e+01   \n",
       "TEAM_ID_away     25796.0  1.610613e+09  8.654846e+00  1.610613e+09   \n",
       "PTS_away         25697.0  1.002941e+02  1.334302e+01  3.300000e+01   \n",
       "FG_PCT_away      25697.0  4.492652e-01  5.552800e-02  2.440000e-01   \n",
       "FT_PCT_away      25697.0  7.580819e-01  1.034176e-01  1.430000e-01   \n",
       "FG3_PCT_away     25697.0  3.494131e-01  1.101939e-01  0.000000e+00   \n",
       "AST_away         25697.0  2.140390e+01  5.140897e+00  4.000000e+00   \n",
       "REB_away         25697.0  4.208515e+01  6.526951e+00  1.900000e+01   \n",
       "HOME_TEAM_WINS   25796.0  5.874942e-01  4.922948e-01  0.000000e+00   \n",
       "\n",
       "                          25%           50%           75%           max  \n",
       "GAME_ID          2.060109e+07  2.120040e+07  2.170070e+07  5.200021e+07  \n",
       "HOME_TEAM_ID     1.610613e+09  1.610613e+09  1.610613e+09  1.610613e+09  \n",
       "VISITOR_TEAM_ID  1.610613e+09  1.610613e+09  1.610613e+09  1.610613e+09  \n",
       "SEASON           2.007000e+03  2.012000e+03  2.016000e+03  2.021000e+03  \n",
       "TEAM_ID_home     1.610613e+09  1.610613e+09  1.610613e+09  1.610613e+09  \n",
       "PTS_home         9.400000e+01  1.030000e+02  1.120000e+02  1.680000e+02  \n",
       "FG_PCT_home      4.210000e-01  4.590000e-01  5.000000e-01  6.840000e-01  \n",
       "FT_PCT_home      6.960000e-01  7.650000e-01  8.290000e-01  1.000000e+00  \n",
       "FG3_PCT_home     2.860000e-01  3.550000e-01  4.290000e-01  1.000000e+00  \n",
       "AST_home         1.900000e+01  2.300000e+01  2.600000e+01  5.000000e+01  \n",
       "REB_home         3.900000e+01  4.300000e+01  4.800000e+01  7.200000e+01  \n",
       "TEAM_ID_away     1.610613e+09  1.610613e+09  1.610613e+09  1.610613e+09  \n",
       "PTS_away         9.100000e+01  1.000000e+02  1.090000e+02  1.680000e+02  \n",
       "FG_PCT_away      4.120000e-01  4.480000e-01  4.870000e-01  6.870000e-01  \n",
       "FT_PCT_away      6.920000e-01  7.650000e-01  8.330000e-01  1.000000e+00  \n",
       "FG3_PCT_away     2.780000e-01  3.500000e-01  4.200000e-01  1.000000e+00  \n",
       "AST_away         1.800000e+01  2.100000e+01  2.500000e+01  4.600000e+01  \n",
       "REB_away         3.800000e+01  4.200000e+01  4.600000e+01  8.100000e+01  \n",
       "HOME_TEAM_WINS   0.000000e+00  1.000000e+00  1.000000e+00  1.000000e+00  "
      ]
     },
     "execution_count": 9,
     "metadata": {},
     "output_type": "execute_result"
    }
   ],
   "source": [
    "games_df.describe().T"
   ]
  },
  {
   "cell_type": "code",
   "execution_count": 10,
   "metadata": {},
   "outputs": [
    {
     "data": {
      "text/html": [
       "<div>\n",
       "<style scoped>\n",
       "    .dataframe tbody tr th:only-of-type {\n",
       "        vertical-align: middle;\n",
       "    }\n",
       "\n",
       "    .dataframe tbody tr th {\n",
       "        vertical-align: top;\n",
       "    }\n",
       "\n",
       "    .dataframe thead th {\n",
       "        text-align: right;\n",
       "    }\n",
       "</style>\n",
       "<table border=\"1\" class=\"dataframe\">\n",
       "  <thead>\n",
       "    <tr style=\"text-align: right;\">\n",
       "      <th></th>\n",
       "      <th>GAME_DATE_EST</th>\n",
       "      <th>GAME_ID</th>\n",
       "      <th>GAME_STATUS_TEXT</th>\n",
       "      <th>HOME_TEAM_ID</th>\n",
       "      <th>VISITOR_TEAM_ID</th>\n",
       "      <th>SEASON</th>\n",
       "      <th>TEAM_ID_home</th>\n",
       "      <th>PTS_home</th>\n",
       "      <th>FG_PCT_home</th>\n",
       "      <th>FT_PCT_home</th>\n",
       "      <th>...</th>\n",
       "      <th>AST_home</th>\n",
       "      <th>REB_home</th>\n",
       "      <th>TEAM_ID_away</th>\n",
       "      <th>PTS_away</th>\n",
       "      <th>FG_PCT_away</th>\n",
       "      <th>FT_PCT_away</th>\n",
       "      <th>FG3_PCT_away</th>\n",
       "      <th>AST_away</th>\n",
       "      <th>REB_away</th>\n",
       "      <th>HOME_TEAM_WINS</th>\n",
       "    </tr>\n",
       "  </thead>\n",
       "  <tbody>\n",
       "    <tr>\n",
       "      <th>0</th>\n",
       "      <td>2022-03-12</td>\n",
       "      <td>22101005</td>\n",
       "      <td>Final</td>\n",
       "      <td>1610612748</td>\n",
       "      <td>1610612750</td>\n",
       "      <td>2021</td>\n",
       "      <td>1610612748</td>\n",
       "      <td>104.0</td>\n",
       "      <td>0.398</td>\n",
       "      <td>0.760</td>\n",
       "      <td>...</td>\n",
       "      <td>23.0</td>\n",
       "      <td>53.0</td>\n",
       "      <td>1610612750</td>\n",
       "      <td>113.0</td>\n",
       "      <td>0.422</td>\n",
       "      <td>0.875</td>\n",
       "      <td>0.357</td>\n",
       "      <td>21.0</td>\n",
       "      <td>46.0</td>\n",
       "      <td>0</td>\n",
       "    </tr>\n",
       "    <tr>\n",
       "      <th>1</th>\n",
       "      <td>2022-03-12</td>\n",
       "      <td>22101006</td>\n",
       "      <td>Final</td>\n",
       "      <td>1610612741</td>\n",
       "      <td>1610612739</td>\n",
       "      <td>2021</td>\n",
       "      <td>1610612741</td>\n",
       "      <td>101.0</td>\n",
       "      <td>0.443</td>\n",
       "      <td>0.933</td>\n",
       "      <td>...</td>\n",
       "      <td>20.0</td>\n",
       "      <td>46.0</td>\n",
       "      <td>1610612739</td>\n",
       "      <td>91.0</td>\n",
       "      <td>0.419</td>\n",
       "      <td>0.824</td>\n",
       "      <td>0.208</td>\n",
       "      <td>19.0</td>\n",
       "      <td>40.0</td>\n",
       "      <td>1</td>\n",
       "    </tr>\n",
       "    <tr>\n",
       "      <th>2</th>\n",
       "      <td>2022-03-12</td>\n",
       "      <td>22101007</td>\n",
       "      <td>Final</td>\n",
       "      <td>1610612759</td>\n",
       "      <td>1610612754</td>\n",
       "      <td>2021</td>\n",
       "      <td>1610612759</td>\n",
       "      <td>108.0</td>\n",
       "      <td>0.412</td>\n",
       "      <td>0.813</td>\n",
       "      <td>...</td>\n",
       "      <td>28.0</td>\n",
       "      <td>52.0</td>\n",
       "      <td>1610612754</td>\n",
       "      <td>119.0</td>\n",
       "      <td>0.489</td>\n",
       "      <td>1.000</td>\n",
       "      <td>0.389</td>\n",
       "      <td>23.0</td>\n",
       "      <td>47.0</td>\n",
       "      <td>0</td>\n",
       "    </tr>\n",
       "    <tr>\n",
       "      <th>3</th>\n",
       "      <td>2022-03-12</td>\n",
       "      <td>22101008</td>\n",
       "      <td>Final</td>\n",
       "      <td>1610612744</td>\n",
       "      <td>1610612749</td>\n",
       "      <td>2021</td>\n",
       "      <td>1610612744</td>\n",
       "      <td>122.0</td>\n",
       "      <td>0.484</td>\n",
       "      <td>0.933</td>\n",
       "      <td>...</td>\n",
       "      <td>33.0</td>\n",
       "      <td>55.0</td>\n",
       "      <td>1610612749</td>\n",
       "      <td>109.0</td>\n",
       "      <td>0.413</td>\n",
       "      <td>0.696</td>\n",
       "      <td>0.386</td>\n",
       "      <td>27.0</td>\n",
       "      <td>39.0</td>\n",
       "      <td>1</td>\n",
       "    </tr>\n",
       "    <tr>\n",
       "      <th>4</th>\n",
       "      <td>2022-03-12</td>\n",
       "      <td>22101009</td>\n",
       "      <td>Final</td>\n",
       "      <td>1610612743</td>\n",
       "      <td>1610612761</td>\n",
       "      <td>2021</td>\n",
       "      <td>1610612743</td>\n",
       "      <td>115.0</td>\n",
       "      <td>0.551</td>\n",
       "      <td>0.750</td>\n",
       "      <td>...</td>\n",
       "      <td>32.0</td>\n",
       "      <td>39.0</td>\n",
       "      <td>1610612761</td>\n",
       "      <td>127.0</td>\n",
       "      <td>0.471</td>\n",
       "      <td>0.760</td>\n",
       "      <td>0.387</td>\n",
       "      <td>28.0</td>\n",
       "      <td>50.0</td>\n",
       "      <td>0</td>\n",
       "    </tr>\n",
       "    <tr>\n",
       "      <th>5</th>\n",
       "      <td>2022-03-12</td>\n",
       "      <td>22101010</td>\n",
       "      <td>Final</td>\n",
       "      <td>1610612762</td>\n",
       "      <td>1610612758</td>\n",
       "      <td>2021</td>\n",
       "      <td>1610612762</td>\n",
       "      <td>134.0</td>\n",
       "      <td>0.558</td>\n",
       "      <td>0.710</td>\n",
       "      <td>...</td>\n",
       "      <td>21.0</td>\n",
       "      <td>44.0</td>\n",
       "      <td>1610612758</td>\n",
       "      <td>125.0</td>\n",
       "      <td>0.500</td>\n",
       "      <td>0.857</td>\n",
       "      <td>0.394</td>\n",
       "      <td>27.0</td>\n",
       "      <td>33.0</td>\n",
       "      <td>1</td>\n",
       "    </tr>\n",
       "    <tr>\n",
       "      <th>6</th>\n",
       "      <td>2022-03-12</td>\n",
       "      <td>22101011</td>\n",
       "      <td>Final</td>\n",
       "      <td>1610612757</td>\n",
       "      <td>1610612764</td>\n",
       "      <td>2021</td>\n",
       "      <td>1610612757</td>\n",
       "      <td>127.0</td>\n",
       "      <td>0.516</td>\n",
       "      <td>0.909</td>\n",
       "      <td>...</td>\n",
       "      <td>21.0</td>\n",
       "      <td>43.0</td>\n",
       "      <td>1610612764</td>\n",
       "      <td>118.0</td>\n",
       "      <td>0.470</td>\n",
       "      <td>0.963</td>\n",
       "      <td>0.412</td>\n",
       "      <td>26.0</td>\n",
       "      <td>35.0</td>\n",
       "      <td>1</td>\n",
       "    </tr>\n",
       "    <tr>\n",
       "      <th>7</th>\n",
       "      <td>2022-03-11</td>\n",
       "      <td>22100995</td>\n",
       "      <td>Final</td>\n",
       "      <td>1610612753</td>\n",
       "      <td>1610612750</td>\n",
       "      <td>2021</td>\n",
       "      <td>1610612753</td>\n",
       "      <td>118.0</td>\n",
       "      <td>0.465</td>\n",
       "      <td>0.880</td>\n",
       "      <td>...</td>\n",
       "      <td>31.0</td>\n",
       "      <td>49.0</td>\n",
       "      <td>1610612750</td>\n",
       "      <td>110.0</td>\n",
       "      <td>0.456</td>\n",
       "      <td>1.000</td>\n",
       "      <td>0.333</td>\n",
       "      <td>24.0</td>\n",
       "      <td>37.0</td>\n",
       "      <td>1</td>\n",
       "    </tr>\n",
       "    <tr>\n",
       "      <th>8</th>\n",
       "      <td>2022-03-11</td>\n",
       "      <td>22100996</td>\n",
       "      <td>Final</td>\n",
       "      <td>1610612737</td>\n",
       "      <td>1610612746</td>\n",
       "      <td>2021</td>\n",
       "      <td>1610612737</td>\n",
       "      <td>112.0</td>\n",
       "      <td>0.478</td>\n",
       "      <td>0.895</td>\n",
       "      <td>...</td>\n",
       "      <td>28.0</td>\n",
       "      <td>47.0</td>\n",
       "      <td>1610612746</td>\n",
       "      <td>106.0</td>\n",
       "      <td>0.488</td>\n",
       "      <td>0.824</td>\n",
       "      <td>0.375</td>\n",
       "      <td>22.0</td>\n",
       "      <td>36.0</td>\n",
       "      <td>1</td>\n",
       "    </tr>\n",
       "    <tr>\n",
       "      <th>9</th>\n",
       "      <td>2022-03-11</td>\n",
       "      <td>22100997</td>\n",
       "      <td>Final</td>\n",
       "      <td>1610612738</td>\n",
       "      <td>1610612765</td>\n",
       "      <td>2021</td>\n",
       "      <td>1610612738</td>\n",
       "      <td>114.0</td>\n",
       "      <td>0.467</td>\n",
       "      <td>0.800</td>\n",
       "      <td>...</td>\n",
       "      <td>23.0</td>\n",
       "      <td>47.0</td>\n",
       "      <td>1610612765</td>\n",
       "      <td>103.0</td>\n",
       "      <td>0.422</td>\n",
       "      <td>0.958</td>\n",
       "      <td>0.294</td>\n",
       "      <td>21.0</td>\n",
       "      <td>42.0</td>\n",
       "      <td>1</td>\n",
       "    </tr>\n",
       "  </tbody>\n",
       "</table>\n",
       "<p>10 rows × 21 columns</p>\n",
       "</div>"
      ],
      "text/plain": [
       "  GAME_DATE_EST   GAME_ID GAME_STATUS_TEXT  HOME_TEAM_ID  VISITOR_TEAM_ID  \\\n",
       "0    2022-03-12  22101005            Final    1610612748       1610612750   \n",
       "1    2022-03-12  22101006            Final    1610612741       1610612739   \n",
       "2    2022-03-12  22101007            Final    1610612759       1610612754   \n",
       "3    2022-03-12  22101008            Final    1610612744       1610612749   \n",
       "4    2022-03-12  22101009            Final    1610612743       1610612761   \n",
       "5    2022-03-12  22101010            Final    1610612762       1610612758   \n",
       "6    2022-03-12  22101011            Final    1610612757       1610612764   \n",
       "7    2022-03-11  22100995            Final    1610612753       1610612750   \n",
       "8    2022-03-11  22100996            Final    1610612737       1610612746   \n",
       "9    2022-03-11  22100997            Final    1610612738       1610612765   \n",
       "\n",
       "   SEASON  TEAM_ID_home  PTS_home  FG_PCT_home  FT_PCT_home  ...  AST_home  \\\n",
       "0    2021    1610612748     104.0        0.398        0.760  ...      23.0   \n",
       "1    2021    1610612741     101.0        0.443        0.933  ...      20.0   \n",
       "2    2021    1610612759     108.0        0.412        0.813  ...      28.0   \n",
       "3    2021    1610612744     122.0        0.484        0.933  ...      33.0   \n",
       "4    2021    1610612743     115.0        0.551        0.750  ...      32.0   \n",
       "5    2021    1610612762     134.0        0.558        0.710  ...      21.0   \n",
       "6    2021    1610612757     127.0        0.516        0.909  ...      21.0   \n",
       "7    2021    1610612753     118.0        0.465        0.880  ...      31.0   \n",
       "8    2021    1610612737     112.0        0.478        0.895  ...      28.0   \n",
       "9    2021    1610612738     114.0        0.467        0.800  ...      23.0   \n",
       "\n",
       "   REB_home  TEAM_ID_away  PTS_away  FG_PCT_away  FT_PCT_away  FG3_PCT_away  \\\n",
       "0      53.0    1610612750     113.0        0.422        0.875         0.357   \n",
       "1      46.0    1610612739      91.0        0.419        0.824         0.208   \n",
       "2      52.0    1610612754     119.0        0.489        1.000         0.389   \n",
       "3      55.0    1610612749     109.0        0.413        0.696         0.386   \n",
       "4      39.0    1610612761     127.0        0.471        0.760         0.387   \n",
       "5      44.0    1610612758     125.0        0.500        0.857         0.394   \n",
       "6      43.0    1610612764     118.0        0.470        0.963         0.412   \n",
       "7      49.0    1610612750     110.0        0.456        1.000         0.333   \n",
       "8      47.0    1610612746     106.0        0.488        0.824         0.375   \n",
       "9      47.0    1610612765     103.0        0.422        0.958         0.294   \n",
       "\n",
       "   AST_away  REB_away  HOME_TEAM_WINS  \n",
       "0      21.0      46.0               0  \n",
       "1      19.0      40.0               1  \n",
       "2      23.0      47.0               0  \n",
       "3      27.0      39.0               1  \n",
       "4      28.0      50.0               0  \n",
       "5      27.0      33.0               1  \n",
       "6      26.0      35.0               1  \n",
       "7      24.0      37.0               1  \n",
       "8      22.0      36.0               1  \n",
       "9      21.0      42.0               1  \n",
       "\n",
       "[10 rows x 21 columns]"
      ]
     },
     "execution_count": 10,
     "metadata": {},
     "output_type": "execute_result"
    }
   ],
   "source": [
    "games_df.head(10)"
   ]
  },
  {
   "cell_type": "code",
   "execution_count": 11,
   "metadata": {},
   "outputs": [
    {
     "data": {
      "text/plain": [
       "0        False\n",
       "1        False\n",
       "2        False\n",
       "3        False\n",
       "4        False\n",
       "         ...  \n",
       "25791    False\n",
       "25792    False\n",
       "25793    False\n",
       "25794    False\n",
       "25795    False\n",
       "Length: 25796, dtype: bool"
      ]
     },
     "execution_count": 11,
     "metadata": {},
     "output_type": "execute_result"
    }
   ],
   "source": [
    "# Get rows which contains NaN values\n",
    "games_df.isna().any(axis=1)"
   ]
  },
  {
   "cell_type": "code",
   "execution_count": 12,
   "metadata": {},
   "outputs": [],
   "source": [
    "# Dataframe which contains matches with NaN values\n",
    "match_NaN_values = games_df[games_df.isna().any(axis=1)]"
   ]
  },
  {
   "cell_type": "code",
   "execution_count": 13,
   "metadata": {},
   "outputs": [],
   "source": [
    "games_df.dropna(inplace=True)"
   ]
  },
  {
   "cell_type": "code",
   "execution_count": 14,
   "metadata": {},
   "outputs": [
    {
     "name": "stdout",
     "output_type": "stream",
     "text": [
      "<class 'pandas.core.frame.DataFrame'>\n",
      "Index: 25697 entries, 0 to 25795\n",
      "Data columns (total 21 columns):\n",
      " #   Column            Non-Null Count  Dtype  \n",
      "---  ------            --------------  -----  \n",
      " 0   GAME_DATE_EST     25697 non-null  object \n",
      " 1   GAME_ID           25697 non-null  int64  \n",
      " 2   GAME_STATUS_TEXT  25697 non-null  object \n",
      " 3   HOME_TEAM_ID      25697 non-null  int64  \n",
      " 4   VISITOR_TEAM_ID   25697 non-null  int64  \n",
      " 5   SEASON            25697 non-null  int64  \n",
      " 6   TEAM_ID_home      25697 non-null  int64  \n",
      " 7   PTS_home          25697 non-null  float64\n",
      " 8   FG_PCT_home       25697 non-null  float64\n",
      " 9   FT_PCT_home       25697 non-null  float64\n",
      " 10  FG3_PCT_home      25697 non-null  float64\n",
      " 11  AST_home          25697 non-null  float64\n",
      " 12  REB_home          25697 non-null  float64\n",
      " 13  TEAM_ID_away      25697 non-null  int64  \n",
      " 14  PTS_away          25697 non-null  float64\n",
      " 15  FG_PCT_away       25697 non-null  float64\n",
      " 16  FT_PCT_away       25697 non-null  float64\n",
      " 17  FG3_PCT_away      25697 non-null  float64\n",
      " 18  AST_away          25697 non-null  float64\n",
      " 19  REB_away          25697 non-null  float64\n",
      " 20  HOME_TEAM_WINS    25697 non-null  int64  \n",
      "dtypes: float64(12), int64(7), object(2)\n",
      "memory usage: 4.3+ MB\n"
     ]
    }
   ],
   "source": [
    "games_df.info()"
   ]
  },
  {
   "attachments": {},
   "cell_type": "markdown",
   "metadata": {},
   "source": [
    "## Ranking Dataset"
   ]
  },
  {
   "cell_type": "code",
   "execution_count": 15,
   "metadata": {},
   "outputs": [
    {
     "name": "stdout",
     "output_type": "stream",
     "text": [
      "<class 'pandas.core.frame.DataFrame'>\n",
      "RangeIndex: 201792 entries, 0 to 201791\n",
      "Data columns (total 13 columns):\n",
      " #   Column         Non-Null Count   Dtype  \n",
      "---  ------         --------------   -----  \n",
      " 0   TEAM_ID        201792 non-null  int64  \n",
      " 1   LEAGUE_ID      201792 non-null  int64  \n",
      " 2   SEASON_ID      201792 non-null  int64  \n",
      " 3   STANDINGSDATE  201792 non-null  object \n",
      " 4   CONFERENCE     201792 non-null  object \n",
      " 5   TEAM           201792 non-null  object \n",
      " 6   G              201792 non-null  int64  \n",
      " 7   W              201792 non-null  int64  \n",
      " 8   L              201792 non-null  int64  \n",
      " 9   W_PCT          201792 non-null  float64\n",
      " 10  HOME_RECORD    201792 non-null  object \n",
      " 11  ROAD_RECORD    201792 non-null  object \n",
      " 12  RETURNTOPLAY   3990 non-null    float64\n",
      "dtypes: float64(2), int64(6), object(5)\n",
      "memory usage: 20.0+ MB\n"
     ]
    }
   ],
   "source": [
    "ranking_df.info()"
   ]
  },
  {
   "cell_type": "code",
   "execution_count": 16,
   "metadata": {},
   "outputs": [
    {
     "data": {
      "text/html": [
       "<div>\n",
       "<style scoped>\n",
       "    .dataframe tbody tr th:only-of-type {\n",
       "        vertical-align: middle;\n",
       "    }\n",
       "\n",
       "    .dataframe tbody tr th {\n",
       "        vertical-align: top;\n",
       "    }\n",
       "\n",
       "    .dataframe thead th {\n",
       "        text-align: right;\n",
       "    }\n",
       "</style>\n",
       "<table border=\"1\" class=\"dataframe\">\n",
       "  <thead>\n",
       "    <tr style=\"text-align: right;\">\n",
       "      <th></th>\n",
       "      <th>count</th>\n",
       "      <th>mean</th>\n",
       "      <th>std</th>\n",
       "      <th>min</th>\n",
       "      <th>25%</th>\n",
       "      <th>50%</th>\n",
       "      <th>75%</th>\n",
       "      <th>max</th>\n",
       "    </tr>\n",
       "  </thead>\n",
       "  <tbody>\n",
       "    <tr>\n",
       "      <th>TEAM_ID</th>\n",
       "      <td>201792.0</td>\n",
       "      <td>1.610613e+09</td>\n",
       "      <td>8.640908</td>\n",
       "      <td>1.610613e+09</td>\n",
       "      <td>1.610613e+09</td>\n",
       "      <td>1.610613e+09</td>\n",
       "      <td>1.610613e+09</td>\n",
       "      <td>1.610613e+09</td>\n",
       "    </tr>\n",
       "    <tr>\n",
       "      <th>LEAGUE_ID</th>\n",
       "      <td>201792.0</td>\n",
       "      <td>0.000000e+00</td>\n",
       "      <td>0.000000</td>\n",
       "      <td>0.000000e+00</td>\n",
       "      <td>0.000000e+00</td>\n",
       "      <td>0.000000e+00</td>\n",
       "      <td>0.000000e+00</td>\n",
       "      <td>0.000000e+00</td>\n",
       "    </tr>\n",
       "    <tr>\n",
       "      <th>SEASON_ID</th>\n",
       "      <td>201792.0</td>\n",
       "      <td>2.140154e+04</td>\n",
       "      <td>2393.667432</td>\n",
       "      <td>1.200300e+04</td>\n",
       "      <td>2.200600e+04</td>\n",
       "      <td>2.201100e+04</td>\n",
       "      <td>2.201600e+04</td>\n",
       "      <td>2.202100e+04</td>\n",
       "    </tr>\n",
       "    <tr>\n",
       "      <th>G</th>\n",
       "      <td>201792.0</td>\n",
       "      <td>5.647545e+01</td>\n",
       "      <td>28.505551</td>\n",
       "      <td>0.000000e+00</td>\n",
       "      <td>3.300000e+01</td>\n",
       "      <td>6.600000e+01</td>\n",
       "      <td>8.200000e+01</td>\n",
       "      <td>8.200000e+01</td>\n",
       "    </tr>\n",
       "    <tr>\n",
       "      <th>W</th>\n",
       "      <td>201792.0</td>\n",
       "      <td>2.824128e+01</td>\n",
       "      <td>17.214043</td>\n",
       "      <td>0.000000e+00</td>\n",
       "      <td>1.400000e+01</td>\n",
       "      <td>2.800000e+01</td>\n",
       "      <td>4.200000e+01</td>\n",
       "      <td>7.300000e+01</td>\n",
       "    </tr>\n",
       "    <tr>\n",
       "      <th>L</th>\n",
       "      <td>201792.0</td>\n",
       "      <td>2.823418e+01</td>\n",
       "      <td>17.205158</td>\n",
       "      <td>0.000000e+00</td>\n",
       "      <td>1.400000e+01</td>\n",
       "      <td>2.800000e+01</td>\n",
       "      <td>4.100000e+01</td>\n",
       "      <td>7.200000e+01</td>\n",
       "    </tr>\n",
       "    <tr>\n",
       "      <th>W_PCT</th>\n",
       "      <td>201792.0</td>\n",
       "      <td>4.927449e-01</td>\n",
       "      <td>0.187940</td>\n",
       "      <td>0.000000e+00</td>\n",
       "      <td>3.710000e-01</td>\n",
       "      <td>5.000000e-01</td>\n",
       "      <td>6.210000e-01</td>\n",
       "      <td>1.000000e+00</td>\n",
       "    </tr>\n",
       "    <tr>\n",
       "      <th>RETURNTOPLAY</th>\n",
       "      <td>3990.0</td>\n",
       "      <td>6.000000e-01</td>\n",
       "      <td>0.489959</td>\n",
       "      <td>0.000000e+00</td>\n",
       "      <td>0.000000e+00</td>\n",
       "      <td>1.000000e+00</td>\n",
       "      <td>1.000000e+00</td>\n",
       "      <td>1.000000e+00</td>\n",
       "    </tr>\n",
       "  </tbody>\n",
       "</table>\n",
       "</div>"
      ],
      "text/plain": [
       "                 count          mean          std           min           25%  \\\n",
       "TEAM_ID       201792.0  1.610613e+09     8.640908  1.610613e+09  1.610613e+09   \n",
       "LEAGUE_ID     201792.0  0.000000e+00     0.000000  0.000000e+00  0.000000e+00   \n",
       "SEASON_ID     201792.0  2.140154e+04  2393.667432  1.200300e+04  2.200600e+04   \n",
       "G             201792.0  5.647545e+01    28.505551  0.000000e+00  3.300000e+01   \n",
       "W             201792.0  2.824128e+01    17.214043  0.000000e+00  1.400000e+01   \n",
       "L             201792.0  2.823418e+01    17.205158  0.000000e+00  1.400000e+01   \n",
       "W_PCT         201792.0  4.927449e-01     0.187940  0.000000e+00  3.710000e-01   \n",
       "RETURNTOPLAY    3990.0  6.000000e-01     0.489959  0.000000e+00  0.000000e+00   \n",
       "\n",
       "                       50%           75%           max  \n",
       "TEAM_ID       1.610613e+09  1.610613e+09  1.610613e+09  \n",
       "LEAGUE_ID     0.000000e+00  0.000000e+00  0.000000e+00  \n",
       "SEASON_ID     2.201100e+04  2.201600e+04  2.202100e+04  \n",
       "G             6.600000e+01  8.200000e+01  8.200000e+01  \n",
       "W             2.800000e+01  4.200000e+01  7.300000e+01  \n",
       "L             2.800000e+01  4.100000e+01  7.200000e+01  \n",
       "W_PCT         5.000000e-01  6.210000e-01  1.000000e+00  \n",
       "RETURNTOPLAY  1.000000e+00  1.000000e+00  1.000000e+00  "
      ]
     },
     "execution_count": 16,
     "metadata": {},
     "output_type": "execute_result"
    }
   ],
   "source": [
    "ranking_df.describe().T"
   ]
  },
  {
   "cell_type": "code",
   "execution_count": 17,
   "metadata": {},
   "outputs": [
    {
     "data": {
      "text/html": [
       "<div>\n",
       "<style scoped>\n",
       "    .dataframe tbody tr th:only-of-type {\n",
       "        vertical-align: middle;\n",
       "    }\n",
       "\n",
       "    .dataframe tbody tr th {\n",
       "        vertical-align: top;\n",
       "    }\n",
       "\n",
       "    .dataframe thead th {\n",
       "        text-align: right;\n",
       "    }\n",
       "</style>\n",
       "<table border=\"1\" class=\"dataframe\">\n",
       "  <thead>\n",
       "    <tr style=\"text-align: right;\">\n",
       "      <th></th>\n",
       "      <th>TEAM_ID</th>\n",
       "      <th>LEAGUE_ID</th>\n",
       "      <th>SEASON_ID</th>\n",
       "      <th>STANDINGSDATE</th>\n",
       "      <th>CONFERENCE</th>\n",
       "      <th>TEAM</th>\n",
       "      <th>G</th>\n",
       "      <th>W</th>\n",
       "      <th>L</th>\n",
       "      <th>W_PCT</th>\n",
       "      <th>HOME_RECORD</th>\n",
       "      <th>ROAD_RECORD</th>\n",
       "      <th>RETURNTOPLAY</th>\n",
       "    </tr>\n",
       "  </thead>\n",
       "  <tbody>\n",
       "    <tr>\n",
       "      <th>0</th>\n",
       "      <td>1610612756</td>\n",
       "      <td>0</td>\n",
       "      <td>22021</td>\n",
       "      <td>2022-03-12</td>\n",
       "      <td>West</td>\n",
       "      <td>Phoenix</td>\n",
       "      <td>67</td>\n",
       "      <td>53</td>\n",
       "      <td>14</td>\n",
       "      <td>0.791</td>\n",
       "      <td>28-8</td>\n",
       "      <td>25-6</td>\n",
       "      <td>NaN</td>\n",
       "    </tr>\n",
       "    <tr>\n",
       "      <th>1</th>\n",
       "      <td>1610612744</td>\n",
       "      <td>0</td>\n",
       "      <td>22021</td>\n",
       "      <td>2022-03-12</td>\n",
       "      <td>West</td>\n",
       "      <td>Golden State</td>\n",
       "      <td>68</td>\n",
       "      <td>46</td>\n",
       "      <td>22</td>\n",
       "      <td>0.676</td>\n",
       "      <td>28-7</td>\n",
       "      <td>18-15</td>\n",
       "      <td>NaN</td>\n",
       "    </tr>\n",
       "    <tr>\n",
       "      <th>2</th>\n",
       "      <td>1610612763</td>\n",
       "      <td>0</td>\n",
       "      <td>22021</td>\n",
       "      <td>2022-03-12</td>\n",
       "      <td>West</td>\n",
       "      <td>Memphis</td>\n",
       "      <td>68</td>\n",
       "      <td>46</td>\n",
       "      <td>22</td>\n",
       "      <td>0.676</td>\n",
       "      <td>24-10</td>\n",
       "      <td>22-12</td>\n",
       "      <td>NaN</td>\n",
       "    </tr>\n",
       "    <tr>\n",
       "      <th>3</th>\n",
       "      <td>1610612762</td>\n",
       "      <td>0</td>\n",
       "      <td>22021</td>\n",
       "      <td>2022-03-12</td>\n",
       "      <td>West</td>\n",
       "      <td>Utah</td>\n",
       "      <td>67</td>\n",
       "      <td>42</td>\n",
       "      <td>25</td>\n",
       "      <td>0.627</td>\n",
       "      <td>24-10</td>\n",
       "      <td>18-15</td>\n",
       "      <td>NaN</td>\n",
       "    </tr>\n",
       "    <tr>\n",
       "      <th>4</th>\n",
       "      <td>1610612742</td>\n",
       "      <td>0</td>\n",
       "      <td>22021</td>\n",
       "      <td>2022-03-12</td>\n",
       "      <td>West</td>\n",
       "      <td>Dallas</td>\n",
       "      <td>67</td>\n",
       "      <td>41</td>\n",
       "      <td>26</td>\n",
       "      <td>0.612</td>\n",
       "      <td>23-12</td>\n",
       "      <td>18-14</td>\n",
       "      <td>NaN</td>\n",
       "    </tr>\n",
       "    <tr>\n",
       "      <th>5</th>\n",
       "      <td>1610612743</td>\n",
       "      <td>0</td>\n",
       "      <td>22021</td>\n",
       "      <td>2022-03-12</td>\n",
       "      <td>West</td>\n",
       "      <td>Denver</td>\n",
       "      <td>68</td>\n",
       "      <td>40</td>\n",
       "      <td>28</td>\n",
       "      <td>0.588</td>\n",
       "      <td>20-13</td>\n",
       "      <td>20-15</td>\n",
       "      <td>NaN</td>\n",
       "    </tr>\n",
       "    <tr>\n",
       "      <th>6</th>\n",
       "      <td>1610612750</td>\n",
       "      <td>0</td>\n",
       "      <td>22021</td>\n",
       "      <td>2022-03-12</td>\n",
       "      <td>West</td>\n",
       "      <td>Minnesota</td>\n",
       "      <td>69</td>\n",
       "      <td>39</td>\n",
       "      <td>30</td>\n",
       "      <td>0.565</td>\n",
       "      <td>22-12</td>\n",
       "      <td>17-18</td>\n",
       "      <td>NaN</td>\n",
       "    </tr>\n",
       "    <tr>\n",
       "      <th>7</th>\n",
       "      <td>1610612746</td>\n",
       "      <td>0</td>\n",
       "      <td>22021</td>\n",
       "      <td>2022-03-12</td>\n",
       "      <td>West</td>\n",
       "      <td>LA Clippers</td>\n",
       "      <td>69</td>\n",
       "      <td>35</td>\n",
       "      <td>34</td>\n",
       "      <td>0.507</td>\n",
       "      <td>20-14</td>\n",
       "      <td>15-20</td>\n",
       "      <td>NaN</td>\n",
       "    </tr>\n",
       "    <tr>\n",
       "      <th>8</th>\n",
       "      <td>1610612747</td>\n",
       "      <td>0</td>\n",
       "      <td>22021</td>\n",
       "      <td>2022-03-12</td>\n",
       "      <td>West</td>\n",
       "      <td>L.A. Lakers</td>\n",
       "      <td>66</td>\n",
       "      <td>29</td>\n",
       "      <td>37</td>\n",
       "      <td>0.439</td>\n",
       "      <td>20-16</td>\n",
       "      <td>9-21</td>\n",
       "      <td>NaN</td>\n",
       "    </tr>\n",
       "    <tr>\n",
       "      <th>9</th>\n",
       "      <td>1610612740</td>\n",
       "      <td>0</td>\n",
       "      <td>22021</td>\n",
       "      <td>2022-03-12</td>\n",
       "      <td>West</td>\n",
       "      <td>New Orleans</td>\n",
       "      <td>67</td>\n",
       "      <td>27</td>\n",
       "      <td>40</td>\n",
       "      <td>0.403</td>\n",
       "      <td>15-19</td>\n",
       "      <td>12-21</td>\n",
       "      <td>NaN</td>\n",
       "    </tr>\n",
       "  </tbody>\n",
       "</table>\n",
       "</div>"
      ],
      "text/plain": [
       "      TEAM_ID  LEAGUE_ID  SEASON_ID STANDINGSDATE CONFERENCE          TEAM  \\\n",
       "0  1610612756          0      22021    2022-03-12       West       Phoenix   \n",
       "1  1610612744          0      22021    2022-03-12       West  Golden State   \n",
       "2  1610612763          0      22021    2022-03-12       West       Memphis   \n",
       "3  1610612762          0      22021    2022-03-12       West          Utah   \n",
       "4  1610612742          0      22021    2022-03-12       West        Dallas   \n",
       "5  1610612743          0      22021    2022-03-12       West        Denver   \n",
       "6  1610612750          0      22021    2022-03-12       West     Minnesota   \n",
       "7  1610612746          0      22021    2022-03-12       West   LA Clippers   \n",
       "8  1610612747          0      22021    2022-03-12       West   L.A. Lakers   \n",
       "9  1610612740          0      22021    2022-03-12       West   New Orleans   \n",
       "\n",
       "    G   W   L  W_PCT HOME_RECORD ROAD_RECORD  RETURNTOPLAY  \n",
       "0  67  53  14  0.791        28-8        25-6           NaN  \n",
       "1  68  46  22  0.676        28-7       18-15           NaN  \n",
       "2  68  46  22  0.676       24-10       22-12           NaN  \n",
       "3  67  42  25  0.627       24-10       18-15           NaN  \n",
       "4  67  41  26  0.612       23-12       18-14           NaN  \n",
       "5  68  40  28  0.588       20-13       20-15           NaN  \n",
       "6  69  39  30  0.565       22-12       17-18           NaN  \n",
       "7  69  35  34  0.507       20-14       15-20           NaN  \n",
       "8  66  29  37  0.439       20-16        9-21           NaN  \n",
       "9  67  27  40  0.403       15-19       12-21           NaN  "
      ]
     },
     "execution_count": 17,
     "metadata": {},
     "output_type": "execute_result"
    }
   ],
   "source": [
    "ranking_df.head(10)"
   ]
  },
  {
   "cell_type": "code",
   "execution_count": 18,
   "metadata": {},
   "outputs": [
    {
     "data": {
      "text/html": [
       "<div>\n",
       "<style scoped>\n",
       "    .dataframe tbody tr th:only-of-type {\n",
       "        vertical-align: middle;\n",
       "    }\n",
       "\n",
       "    .dataframe tbody tr th {\n",
       "        vertical-align: top;\n",
       "    }\n",
       "\n",
       "    .dataframe thead th {\n",
       "        text-align: right;\n",
       "    }\n",
       "</style>\n",
       "<table border=\"1\" class=\"dataframe\">\n",
       "  <thead>\n",
       "    <tr style=\"text-align: right;\">\n",
       "      <th></th>\n",
       "      <th>TEAM_ID</th>\n",
       "      <th>LEAGUE_ID</th>\n",
       "      <th>SEASON_ID</th>\n",
       "      <th>STANDINGSDATE</th>\n",
       "      <th>CONFERENCE</th>\n",
       "      <th>TEAM</th>\n",
       "      <th>G</th>\n",
       "      <th>W</th>\n",
       "      <th>L</th>\n",
       "      <th>W_PCT</th>\n",
       "      <th>HOME_RECORD</th>\n",
       "      <th>ROAD_RECORD</th>\n",
       "      <th>RETURNTOPLAY</th>\n",
       "    </tr>\n",
       "  </thead>\n",
       "  <tbody>\n",
       "    <tr>\n",
       "      <th>201782</th>\n",
       "      <td>1610612764</td>\n",
       "      <td>0</td>\n",
       "      <td>22013</td>\n",
       "      <td>2014-09-01</td>\n",
       "      <td>East</td>\n",
       "      <td>Washington</td>\n",
       "      <td>82</td>\n",
       "      <td>44</td>\n",
       "      <td>38</td>\n",
       "      <td>0.537</td>\n",
       "      <td>22-19</td>\n",
       "      <td>22-19</td>\n",
       "      <td>NaN</td>\n",
       "    </tr>\n",
       "    <tr>\n",
       "      <th>201783</th>\n",
       "      <td>1610612766</td>\n",
       "      <td>0</td>\n",
       "      <td>22013</td>\n",
       "      <td>2014-09-01</td>\n",
       "      <td>East</td>\n",
       "      <td>Charlotte</td>\n",
       "      <td>82</td>\n",
       "      <td>43</td>\n",
       "      <td>39</td>\n",
       "      <td>0.524</td>\n",
       "      <td>25-16</td>\n",
       "      <td>18-23</td>\n",
       "      <td>NaN</td>\n",
       "    </tr>\n",
       "    <tr>\n",
       "      <th>201784</th>\n",
       "      <td>1610612737</td>\n",
       "      <td>0</td>\n",
       "      <td>22013</td>\n",
       "      <td>2014-09-01</td>\n",
       "      <td>East</td>\n",
       "      <td>Atlanta</td>\n",
       "      <td>82</td>\n",
       "      <td>38</td>\n",
       "      <td>44</td>\n",
       "      <td>0.463</td>\n",
       "      <td>24-17</td>\n",
       "      <td>14-27</td>\n",
       "      <td>NaN</td>\n",
       "    </tr>\n",
       "    <tr>\n",
       "      <th>201785</th>\n",
       "      <td>1610612752</td>\n",
       "      <td>0</td>\n",
       "      <td>22013</td>\n",
       "      <td>2014-09-01</td>\n",
       "      <td>East</td>\n",
       "      <td>New York</td>\n",
       "      <td>82</td>\n",
       "      <td>37</td>\n",
       "      <td>45</td>\n",
       "      <td>0.451</td>\n",
       "      <td>19-22</td>\n",
       "      <td>18-23</td>\n",
       "      <td>NaN</td>\n",
       "    </tr>\n",
       "    <tr>\n",
       "      <th>201786</th>\n",
       "      <td>1610612739</td>\n",
       "      <td>0</td>\n",
       "      <td>22013</td>\n",
       "      <td>2014-09-01</td>\n",
       "      <td>East</td>\n",
       "      <td>Cleveland</td>\n",
       "      <td>82</td>\n",
       "      <td>33</td>\n",
       "      <td>49</td>\n",
       "      <td>0.402</td>\n",
       "      <td>19-22</td>\n",
       "      <td>14-27</td>\n",
       "      <td>NaN</td>\n",
       "    </tr>\n",
       "    <tr>\n",
       "      <th>201787</th>\n",
       "      <td>1610612765</td>\n",
       "      <td>0</td>\n",
       "      <td>22013</td>\n",
       "      <td>2014-09-01</td>\n",
       "      <td>East</td>\n",
       "      <td>Detroit</td>\n",
       "      <td>82</td>\n",
       "      <td>29</td>\n",
       "      <td>53</td>\n",
       "      <td>0.354</td>\n",
       "      <td>17-24</td>\n",
       "      <td>12-29</td>\n",
       "      <td>NaN</td>\n",
       "    </tr>\n",
       "    <tr>\n",
       "      <th>201788</th>\n",
       "      <td>1610612738</td>\n",
       "      <td>0</td>\n",
       "      <td>22013</td>\n",
       "      <td>2014-09-01</td>\n",
       "      <td>East</td>\n",
       "      <td>Boston</td>\n",
       "      <td>82</td>\n",
       "      <td>25</td>\n",
       "      <td>57</td>\n",
       "      <td>0.305</td>\n",
       "      <td>16-25</td>\n",
       "      <td>9-32</td>\n",
       "      <td>NaN</td>\n",
       "    </tr>\n",
       "    <tr>\n",
       "      <th>201789</th>\n",
       "      <td>1610612753</td>\n",
       "      <td>0</td>\n",
       "      <td>22013</td>\n",
       "      <td>2014-09-01</td>\n",
       "      <td>East</td>\n",
       "      <td>Orlando</td>\n",
       "      <td>82</td>\n",
       "      <td>23</td>\n",
       "      <td>59</td>\n",
       "      <td>0.280</td>\n",
       "      <td>19-22</td>\n",
       "      <td>4-37</td>\n",
       "      <td>NaN</td>\n",
       "    </tr>\n",
       "    <tr>\n",
       "      <th>201790</th>\n",
       "      <td>1610612755</td>\n",
       "      <td>0</td>\n",
       "      <td>22013</td>\n",
       "      <td>2014-09-01</td>\n",
       "      <td>East</td>\n",
       "      <td>Philadelphia</td>\n",
       "      <td>82</td>\n",
       "      <td>19</td>\n",
       "      <td>63</td>\n",
       "      <td>0.232</td>\n",
       "      <td>10-31</td>\n",
       "      <td>9-32</td>\n",
       "      <td>NaN</td>\n",
       "    </tr>\n",
       "    <tr>\n",
       "      <th>201791</th>\n",
       "      <td>1610612749</td>\n",
       "      <td>0</td>\n",
       "      <td>22013</td>\n",
       "      <td>2014-09-01</td>\n",
       "      <td>East</td>\n",
       "      <td>Milwaukee</td>\n",
       "      <td>82</td>\n",
       "      <td>15</td>\n",
       "      <td>67</td>\n",
       "      <td>0.183</td>\n",
       "      <td>10-31</td>\n",
       "      <td>5-36</td>\n",
       "      <td>NaN</td>\n",
       "    </tr>\n",
       "  </tbody>\n",
       "</table>\n",
       "</div>"
      ],
      "text/plain": [
       "           TEAM_ID  LEAGUE_ID  SEASON_ID STANDINGSDATE CONFERENCE  \\\n",
       "201782  1610612764          0      22013    2014-09-01       East   \n",
       "201783  1610612766          0      22013    2014-09-01       East   \n",
       "201784  1610612737          0      22013    2014-09-01       East   \n",
       "201785  1610612752          0      22013    2014-09-01       East   \n",
       "201786  1610612739          0      22013    2014-09-01       East   \n",
       "201787  1610612765          0      22013    2014-09-01       East   \n",
       "201788  1610612738          0      22013    2014-09-01       East   \n",
       "201789  1610612753          0      22013    2014-09-01       East   \n",
       "201790  1610612755          0      22013    2014-09-01       East   \n",
       "201791  1610612749          0      22013    2014-09-01       East   \n",
       "\n",
       "                TEAM   G   W   L  W_PCT HOME_RECORD ROAD_RECORD  RETURNTOPLAY  \n",
       "201782    Washington  82  44  38  0.537       22-19       22-19           NaN  \n",
       "201783     Charlotte  82  43  39  0.524       25-16       18-23           NaN  \n",
       "201784       Atlanta  82  38  44  0.463       24-17       14-27           NaN  \n",
       "201785      New York  82  37  45  0.451       19-22       18-23           NaN  \n",
       "201786     Cleveland  82  33  49  0.402       19-22       14-27           NaN  \n",
       "201787       Detroit  82  29  53  0.354       17-24       12-29           NaN  \n",
       "201788        Boston  82  25  57  0.305       16-25        9-32           NaN  \n",
       "201789       Orlando  82  23  59  0.280       19-22        4-37           NaN  \n",
       "201790  Philadelphia  82  19  63  0.232       10-31        9-32           NaN  \n",
       "201791     Milwaukee  82  15  67  0.183       10-31        5-36           NaN  "
      ]
     },
     "execution_count": 18,
     "metadata": {},
     "output_type": "execute_result"
    }
   ],
   "source": [
    "ranking_df.tail(10)"
   ]
  },
  {
   "attachments": {},
   "cell_type": "markdown",
   "metadata": {},
   "source": [
    "## Games Detail Dataset"
   ]
  },
  {
   "cell_type": "code",
   "execution_count": 19,
   "metadata": {},
   "outputs": [
    {
     "name": "stdout",
     "output_type": "stream",
     "text": [
      "<class 'pandas.core.frame.DataFrame'>\n",
      "RangeIndex: 645953 entries, 0 to 645952\n",
      "Data columns (total 29 columns):\n",
      " #   Column             Non-Null Count   Dtype  \n",
      "---  ------             --------------   -----  \n",
      " 0   GAME_ID            645953 non-null  int64  \n",
      " 1   TEAM_ID            645953 non-null  int64  \n",
      " 2   TEAM_ABBREVIATION  645953 non-null  object \n",
      " 3   TEAM_CITY          645953 non-null  object \n",
      " 4   PLAYER_ID          645953 non-null  int64  \n",
      " 5   PLAYER_NAME        645953 non-null  object \n",
      " 6   NICKNAME           30362 non-null   object \n",
      " 7   START_POSITION     247215 non-null  object \n",
      " 8   COMMENT            105602 non-null  object \n",
      " 9   MIN                540350 non-null  object \n",
      " 10  FGM                540350 non-null  float64\n",
      " 11  FGA                540350 non-null  float64\n",
      " 12  FG_PCT             540350 non-null  float64\n",
      " 13  FG3M               540350 non-null  float64\n",
      " 14  FG3A               540350 non-null  float64\n",
      " 15  FG3_PCT            540350 non-null  float64\n",
      " 16  FTM                540350 non-null  float64\n",
      " 17  FTA                540350 non-null  float64\n",
      " 18  FT_PCT             540350 non-null  float64\n",
      " 19  OREB               540350 non-null  float64\n",
      " 20  DREB               540350 non-null  float64\n",
      " 21  REB                540350 non-null  float64\n",
      " 22  AST                540350 non-null  float64\n",
      " 23  STL                540350 non-null  float64\n",
      " 24  BLK                540350 non-null  float64\n",
      " 25  TO                 540350 non-null  float64\n",
      " 26  PF                 540350 non-null  float64\n",
      " 27  PTS                540350 non-null  float64\n",
      " 28  PLUS_MINUS         516689 non-null  float64\n",
      "dtypes: float64(19), int64(3), object(7)\n",
      "memory usage: 142.9+ MB\n"
     ]
    }
   ],
   "source": [
    "games_details_df.info()"
   ]
  },
  {
   "cell_type": "code",
   "execution_count": 20,
   "metadata": {},
   "outputs": [
    {
     "data": {
      "text/html": [
       "<div>\n",
       "<style scoped>\n",
       "    .dataframe tbody tr th:only-of-type {\n",
       "        vertical-align: middle;\n",
       "    }\n",
       "\n",
       "    .dataframe tbody tr th {\n",
       "        vertical-align: top;\n",
       "    }\n",
       "\n",
       "    .dataframe thead th {\n",
       "        text-align: right;\n",
       "    }\n",
       "</style>\n",
       "<table border=\"1\" class=\"dataframe\">\n",
       "  <thead>\n",
       "    <tr style=\"text-align: right;\">\n",
       "      <th></th>\n",
       "      <th>count</th>\n",
       "      <th>mean</th>\n",
       "      <th>std</th>\n",
       "      <th>min</th>\n",
       "      <th>25%</th>\n",
       "      <th>50%</th>\n",
       "      <th>75%</th>\n",
       "      <th>max</th>\n",
       "    </tr>\n",
       "  </thead>\n",
       "  <tbody>\n",
       "    <tr>\n",
       "      <th>GAME_ID</th>\n",
       "      <td>645953.0</td>\n",
       "      <td>2.165952e+07</td>\n",
       "      <td>5.569116e+06</td>\n",
       "      <td>1.030000e+07</td>\n",
       "      <td>2.060113e+07</td>\n",
       "      <td>2.120062e+07</td>\n",
       "      <td>2.170079e+07</td>\n",
       "      <td>5.200021e+07</td>\n",
       "    </tr>\n",
       "    <tr>\n",
       "      <th>TEAM_ID</th>\n",
       "      <td>645953.0</td>\n",
       "      <td>1.610613e+09</td>\n",
       "      <td>8.650314e+00</td>\n",
       "      <td>1.610613e+09</td>\n",
       "      <td>1.610613e+09</td>\n",
       "      <td>1.610613e+09</td>\n",
       "      <td>1.610613e+09</td>\n",
       "      <td>1.610613e+09</td>\n",
       "    </tr>\n",
       "    <tr>\n",
       "      <th>PLAYER_ID</th>\n",
       "      <td>645953.0</td>\n",
       "      <td>3.716935e+05</td>\n",
       "      <td>7.348620e+06</td>\n",
       "      <td>1.500000e+01</td>\n",
       "      <td>2.435000e+03</td>\n",
       "      <td>2.011560e+05</td>\n",
       "      <td>2.031240e+05</td>\n",
       "      <td>1.962938e+09</td>\n",
       "    </tr>\n",
       "    <tr>\n",
       "      <th>FGM</th>\n",
       "      <td>540350.0</td>\n",
       "      <td>3.582408e+00</td>\n",
       "      <td>3.023962e+00</td>\n",
       "      <td>0.000000e+00</td>\n",
       "      <td>1.000000e+00</td>\n",
       "      <td>3.000000e+00</td>\n",
       "      <td>5.000000e+00</td>\n",
       "      <td>2.800000e+01</td>\n",
       "    </tr>\n",
       "    <tr>\n",
       "      <th>FGA</th>\n",
       "      <td>540350.0</td>\n",
       "      <td>7.891298e+00</td>\n",
       "      <td>5.665752e+00</td>\n",
       "      <td>0.000000e+00</td>\n",
       "      <td>3.000000e+00</td>\n",
       "      <td>7.000000e+00</td>\n",
       "      <td>1.100000e+01</td>\n",
       "      <td>5.000000e+01</td>\n",
       "    </tr>\n",
       "    <tr>\n",
       "      <th>FG_PCT</th>\n",
       "      <td>540350.0</td>\n",
       "      <td>4.162029e-01</td>\n",
       "      <td>2.516336e-01</td>\n",
       "      <td>0.000000e+00</td>\n",
       "      <td>2.630000e-01</td>\n",
       "      <td>4.290000e-01</td>\n",
       "      <td>5.710000e-01</td>\n",
       "      <td>1.000000e+00</td>\n",
       "    </tr>\n",
       "    <tr>\n",
       "      <th>FG3M</th>\n",
       "      <td>540350.0</td>\n",
       "      <td>7.657315e-01</td>\n",
       "      <td>1.216917e+00</td>\n",
       "      <td>0.000000e+00</td>\n",
       "      <td>0.000000e+00</td>\n",
       "      <td>0.000000e+00</td>\n",
       "      <td>1.000000e+00</td>\n",
       "      <td>1.400000e+01</td>\n",
       "    </tr>\n",
       "    <tr>\n",
       "      <th>FG3A</th>\n",
       "      <td>540350.0</td>\n",
       "      <td>2.151618e+00</td>\n",
       "      <td>2.547737e+00</td>\n",
       "      <td>0.000000e+00</td>\n",
       "      <td>0.000000e+00</td>\n",
       "      <td>1.000000e+00</td>\n",
       "      <td>4.000000e+00</td>\n",
       "      <td>2.400000e+01</td>\n",
       "    </tr>\n",
       "    <tr>\n",
       "      <th>FG3_PCT</th>\n",
       "      <td>540350.0</td>\n",
       "      <td>1.991665e-01</td>\n",
       "      <td>2.894474e-01</td>\n",
       "      <td>0.000000e+00</td>\n",
       "      <td>0.000000e+00</td>\n",
       "      <td>0.000000e+00</td>\n",
       "      <td>3.750000e-01</td>\n",
       "      <td>1.000000e+00</td>\n",
       "    </tr>\n",
       "    <tr>\n",
       "      <th>FTM</th>\n",
       "      <td>540350.0</td>\n",
       "      <td>1.734931e+00</td>\n",
       "      <td>2.353475e+00</td>\n",
       "      <td>0.000000e+00</td>\n",
       "      <td>0.000000e+00</td>\n",
       "      <td>1.000000e+00</td>\n",
       "      <td>3.000000e+00</td>\n",
       "      <td>2.600000e+01</td>\n",
       "    </tr>\n",
       "    <tr>\n",
       "      <th>FTA</th>\n",
       "      <td>540350.0</td>\n",
       "      <td>2.288537e+00</td>\n",
       "      <td>2.887957e+00</td>\n",
       "      <td>0.000000e+00</td>\n",
       "      <td>0.000000e+00</td>\n",
       "      <td>2.000000e+00</td>\n",
       "      <td>4.000000e+00</td>\n",
       "      <td>3.900000e+01</td>\n",
       "    </tr>\n",
       "    <tr>\n",
       "      <th>FT_PCT</th>\n",
       "      <td>540350.0</td>\n",
       "      <td>4.360996e-01</td>\n",
       "      <td>4.279468e-01</td>\n",
       "      <td>0.000000e+00</td>\n",
       "      <td>0.000000e+00</td>\n",
       "      <td>5.000000e-01</td>\n",
       "      <td>9.090000e-01</td>\n",
       "      <td>1.000000e+00</td>\n",
       "    </tr>\n",
       "    <tr>\n",
       "      <th>OREB</th>\n",
       "      <td>540350.0</td>\n",
       "      <td>1.026770e+00</td>\n",
       "      <td>1.400243e+00</td>\n",
       "      <td>0.000000e+00</td>\n",
       "      <td>0.000000e+00</td>\n",
       "      <td>1.000000e+00</td>\n",
       "      <td>2.000000e+00</td>\n",
       "      <td>1.800000e+01</td>\n",
       "    </tr>\n",
       "    <tr>\n",
       "      <th>DREB</th>\n",
       "      <td>540350.0</td>\n",
       "      <td>3.032875e+00</td>\n",
       "      <td>2.687996e+00</td>\n",
       "      <td>0.000000e+00</td>\n",
       "      <td>1.000000e+00</td>\n",
       "      <td>2.000000e+00</td>\n",
       "      <td>4.000000e+00</td>\n",
       "      <td>2.500000e+01</td>\n",
       "    </tr>\n",
       "    <tr>\n",
       "      <th>REB</th>\n",
       "      <td>540350.0</td>\n",
       "      <td>4.059645e+00</td>\n",
       "      <td>3.486507e+00</td>\n",
       "      <td>0.000000e+00</td>\n",
       "      <td>1.000000e+00</td>\n",
       "      <td>3.000000e+00</td>\n",
       "      <td>6.000000e+00</td>\n",
       "      <td>3.100000e+01</td>\n",
       "    </tr>\n",
       "    <tr>\n",
       "      <th>AST</th>\n",
       "      <td>540350.0</td>\n",
       "      <td>2.097692e+00</td>\n",
       "      <td>2.473238e+00</td>\n",
       "      <td>0.000000e+00</td>\n",
       "      <td>0.000000e+00</td>\n",
       "      <td>1.000000e+00</td>\n",
       "      <td>3.000000e+00</td>\n",
       "      <td>2.500000e+01</td>\n",
       "    </tr>\n",
       "    <tr>\n",
       "      <th>STL</th>\n",
       "      <td>540350.0</td>\n",
       "      <td>7.225409e-01</td>\n",
       "      <td>9.735732e-01</td>\n",
       "      <td>0.000000e+00</td>\n",
       "      <td>0.000000e+00</td>\n",
       "      <td>0.000000e+00</td>\n",
       "      <td>1.000000e+00</td>\n",
       "      <td>1.000000e+01</td>\n",
       "    </tr>\n",
       "    <tr>\n",
       "      <th>BLK</th>\n",
       "      <td>540350.0</td>\n",
       "      <td>4.613769e-01</td>\n",
       "      <td>8.635255e-01</td>\n",
       "      <td>0.000000e+00</td>\n",
       "      <td>0.000000e+00</td>\n",
       "      <td>0.000000e+00</td>\n",
       "      <td>1.000000e+00</td>\n",
       "      <td>1.200000e+01</td>\n",
       "    </tr>\n",
       "    <tr>\n",
       "      <th>TO</th>\n",
       "      <td>540350.0</td>\n",
       "      <td>1.321897e+00</td>\n",
       "      <td>1.402182e+00</td>\n",
       "      <td>0.000000e+00</td>\n",
       "      <td>0.000000e+00</td>\n",
       "      <td>1.000000e+00</td>\n",
       "      <td>2.000000e+00</td>\n",
       "      <td>1.200000e+01</td>\n",
       "    </tr>\n",
       "    <tr>\n",
       "      <th>PF</th>\n",
       "      <td>540350.0</td>\n",
       "      <td>2.003018e+00</td>\n",
       "      <td>1.503081e+00</td>\n",
       "      <td>0.000000e+00</td>\n",
       "      <td>1.000000e+00</td>\n",
       "      <td>2.000000e+00</td>\n",
       "      <td>3.000000e+00</td>\n",
       "      <td>1.500000e+01</td>\n",
       "    </tr>\n",
       "    <tr>\n",
       "      <th>PTS</th>\n",
       "      <td>540350.0</td>\n",
       "      <td>9.665469e+00</td>\n",
       "      <td>8.056629e+00</td>\n",
       "      <td>0.000000e+00</td>\n",
       "      <td>3.000000e+00</td>\n",
       "      <td>8.000000e+00</td>\n",
       "      <td>1.400000e+01</td>\n",
       "      <td>8.100000e+01</td>\n",
       "    </tr>\n",
       "    <tr>\n",
       "      <th>PLUS_MINUS</th>\n",
       "      <td>516689.0</td>\n",
       "      <td>-5.051395e-04</td>\n",
       "      <td>1.064019e+01</td>\n",
       "      <td>-5.700000e+01</td>\n",
       "      <td>-7.000000e+00</td>\n",
       "      <td>0.000000e+00</td>\n",
       "      <td>6.000000e+00</td>\n",
       "      <td>5.700000e+01</td>\n",
       "    </tr>\n",
       "  </tbody>\n",
       "</table>\n",
       "</div>"
      ],
      "text/plain": [
       "               count          mean           std           min           25%  \\\n",
       "GAME_ID     645953.0  2.165952e+07  5.569116e+06  1.030000e+07  2.060113e+07   \n",
       "TEAM_ID     645953.0  1.610613e+09  8.650314e+00  1.610613e+09  1.610613e+09   \n",
       "PLAYER_ID   645953.0  3.716935e+05  7.348620e+06  1.500000e+01  2.435000e+03   \n",
       "FGM         540350.0  3.582408e+00  3.023962e+00  0.000000e+00  1.000000e+00   \n",
       "FGA         540350.0  7.891298e+00  5.665752e+00  0.000000e+00  3.000000e+00   \n",
       "FG_PCT      540350.0  4.162029e-01  2.516336e-01  0.000000e+00  2.630000e-01   \n",
       "FG3M        540350.0  7.657315e-01  1.216917e+00  0.000000e+00  0.000000e+00   \n",
       "FG3A        540350.0  2.151618e+00  2.547737e+00  0.000000e+00  0.000000e+00   \n",
       "FG3_PCT     540350.0  1.991665e-01  2.894474e-01  0.000000e+00  0.000000e+00   \n",
       "FTM         540350.0  1.734931e+00  2.353475e+00  0.000000e+00  0.000000e+00   \n",
       "FTA         540350.0  2.288537e+00  2.887957e+00  0.000000e+00  0.000000e+00   \n",
       "FT_PCT      540350.0  4.360996e-01  4.279468e-01  0.000000e+00  0.000000e+00   \n",
       "OREB        540350.0  1.026770e+00  1.400243e+00  0.000000e+00  0.000000e+00   \n",
       "DREB        540350.0  3.032875e+00  2.687996e+00  0.000000e+00  1.000000e+00   \n",
       "REB         540350.0  4.059645e+00  3.486507e+00  0.000000e+00  1.000000e+00   \n",
       "AST         540350.0  2.097692e+00  2.473238e+00  0.000000e+00  0.000000e+00   \n",
       "STL         540350.0  7.225409e-01  9.735732e-01  0.000000e+00  0.000000e+00   \n",
       "BLK         540350.0  4.613769e-01  8.635255e-01  0.000000e+00  0.000000e+00   \n",
       "TO          540350.0  1.321897e+00  1.402182e+00  0.000000e+00  0.000000e+00   \n",
       "PF          540350.0  2.003018e+00  1.503081e+00  0.000000e+00  1.000000e+00   \n",
       "PTS         540350.0  9.665469e+00  8.056629e+00  0.000000e+00  3.000000e+00   \n",
       "PLUS_MINUS  516689.0 -5.051395e-04  1.064019e+01 -5.700000e+01 -7.000000e+00   \n",
       "\n",
       "                     50%           75%           max  \n",
       "GAME_ID     2.120062e+07  2.170079e+07  5.200021e+07  \n",
       "TEAM_ID     1.610613e+09  1.610613e+09  1.610613e+09  \n",
       "PLAYER_ID   2.011560e+05  2.031240e+05  1.962938e+09  \n",
       "FGM         3.000000e+00  5.000000e+00  2.800000e+01  \n",
       "FGA         7.000000e+00  1.100000e+01  5.000000e+01  \n",
       "FG_PCT      4.290000e-01  5.710000e-01  1.000000e+00  \n",
       "FG3M        0.000000e+00  1.000000e+00  1.400000e+01  \n",
       "FG3A        1.000000e+00  4.000000e+00  2.400000e+01  \n",
       "FG3_PCT     0.000000e+00  3.750000e-01  1.000000e+00  \n",
       "FTM         1.000000e+00  3.000000e+00  2.600000e+01  \n",
       "FTA         2.000000e+00  4.000000e+00  3.900000e+01  \n",
       "FT_PCT      5.000000e-01  9.090000e-01  1.000000e+00  \n",
       "OREB        1.000000e+00  2.000000e+00  1.800000e+01  \n",
       "DREB        2.000000e+00  4.000000e+00  2.500000e+01  \n",
       "REB         3.000000e+00  6.000000e+00  3.100000e+01  \n",
       "AST         1.000000e+00  3.000000e+00  2.500000e+01  \n",
       "STL         0.000000e+00  1.000000e+00  1.000000e+01  \n",
       "BLK         0.000000e+00  1.000000e+00  1.200000e+01  \n",
       "TO          1.000000e+00  2.000000e+00  1.200000e+01  \n",
       "PF          2.000000e+00  3.000000e+00  1.500000e+01  \n",
       "PTS         8.000000e+00  1.400000e+01  8.100000e+01  \n",
       "PLUS_MINUS  0.000000e+00  6.000000e+00  5.700000e+01  "
      ]
     },
     "execution_count": 20,
     "metadata": {},
     "output_type": "execute_result"
    }
   ],
   "source": [
    "games_details_df.describe().T"
   ]
  },
  {
   "cell_type": "code",
   "execution_count": 21,
   "metadata": {},
   "outputs": [
    {
     "data": {
      "text/plain": [
       "0         True\n",
       "1         True\n",
       "2         True\n",
       "3         True\n",
       "4         True\n",
       "          ... \n",
       "645948    True\n",
       "645949    True\n",
       "645950    True\n",
       "645951    True\n",
       "645952    True\n",
       "Length: 645953, dtype: bool"
      ]
     },
     "execution_count": 21,
     "metadata": {},
     "output_type": "execute_result"
    }
   ],
   "source": [
    "games_details_df.isnull().any(axis=1)"
   ]
  },
  {
   "cell_type": "code",
   "execution_count": 22,
   "metadata": {},
   "outputs": [],
   "source": [
    "games_details_dropped_data = games_details_df[games_details_df.isnull().any(axis=1)]"
   ]
  },
  {
   "cell_type": "code",
   "execution_count": 23,
   "metadata": {},
   "outputs": [],
   "source": [
    "games_details_df.dropna(subset=['MIN'],inplace=True)"
   ]
  },
  {
   "cell_type": "code",
   "execution_count": 24,
   "metadata": {},
   "outputs": [
    {
     "name": "stdout",
     "output_type": "stream",
     "text": [
      "<class 'pandas.core.frame.DataFrame'>\n",
      "Index: 540350 entries, 0 to 645952\n",
      "Data columns (total 29 columns):\n",
      " #   Column             Non-Null Count   Dtype  \n",
      "---  ------             --------------   -----  \n",
      " 0   GAME_ID            540350 non-null  int64  \n",
      " 1   TEAM_ID            540350 non-null  int64  \n",
      " 2   TEAM_ABBREVIATION  540350 non-null  object \n",
      " 3   TEAM_CITY          540350 non-null  object \n",
      " 4   PLAYER_ID          540350 non-null  int64  \n",
      " 5   PLAYER_NAME        540350 non-null  object \n",
      " 6   NICKNAME           24808 non-null   object \n",
      " 7   START_POSITION     247215 non-null  object \n",
      " 8   COMMENT            0 non-null       object \n",
      " 9   MIN                540350 non-null  object \n",
      " 10  FGM                540350 non-null  float64\n",
      " 11  FGA                540350 non-null  float64\n",
      " 12  FG_PCT             540350 non-null  float64\n",
      " 13  FG3M               540350 non-null  float64\n",
      " 14  FG3A               540350 non-null  float64\n",
      " 15  FG3_PCT            540350 non-null  float64\n",
      " 16  FTM                540350 non-null  float64\n",
      " 17  FTA                540350 non-null  float64\n",
      " 18  FT_PCT             540350 non-null  float64\n",
      " 19  OREB               540350 non-null  float64\n",
      " 20  DREB               540350 non-null  float64\n",
      " 21  REB                540350 non-null  float64\n",
      " 22  AST                540350 non-null  float64\n",
      " 23  STL                540350 non-null  float64\n",
      " 24  BLK                540350 non-null  float64\n",
      " 25  TO                 540350 non-null  float64\n",
      " 26  PF                 540350 non-null  float64\n",
      " 27  PTS                540350 non-null  float64\n",
      " 28  PLUS_MINUS         516689 non-null  float64\n",
      "dtypes: float64(19), int64(3), object(7)\n",
      "memory usage: 123.7+ MB\n"
     ]
    }
   ],
   "source": [
    "games_details_df.info()"
   ]
  },
  {
   "cell_type": "code",
   "execution_count": 25,
   "metadata": {},
   "outputs": [],
   "source": [
    "games_details_df['NICKNAME'].fillna('N/A', inplace=True)\n",
    "games_details_df['START_POSITION'].fillna('N/A', inplace=True)\n",
    "games_details_df['COMMENT'].fillna('N/A', inplace=True)"
   ]
  },
  {
   "cell_type": "code",
   "execution_count": 26,
   "metadata": {},
   "outputs": [
    {
     "name": "stdout",
     "output_type": "stream",
     "text": [
      "<class 'pandas.core.frame.DataFrame'>\n",
      "Index: 540350 entries, 0 to 645952\n",
      "Data columns (total 29 columns):\n",
      " #   Column             Non-Null Count   Dtype  \n",
      "---  ------             --------------   -----  \n",
      " 0   GAME_ID            540350 non-null  int64  \n",
      " 1   TEAM_ID            540350 non-null  int64  \n",
      " 2   TEAM_ABBREVIATION  540350 non-null  object \n",
      " 3   TEAM_CITY          540350 non-null  object \n",
      " 4   PLAYER_ID          540350 non-null  int64  \n",
      " 5   PLAYER_NAME        540350 non-null  object \n",
      " 6   NICKNAME           540350 non-null  object \n",
      " 7   START_POSITION     540350 non-null  object \n",
      " 8   COMMENT            540350 non-null  object \n",
      " 9   MIN                540350 non-null  object \n",
      " 10  FGM                540350 non-null  float64\n",
      " 11  FGA                540350 non-null  float64\n",
      " 12  FG_PCT             540350 non-null  float64\n",
      " 13  FG3M               540350 non-null  float64\n",
      " 14  FG3A               540350 non-null  float64\n",
      " 15  FG3_PCT            540350 non-null  float64\n",
      " 16  FTM                540350 non-null  float64\n",
      " 17  FTA                540350 non-null  float64\n",
      " 18  FT_PCT             540350 non-null  float64\n",
      " 19  OREB               540350 non-null  float64\n",
      " 20  DREB               540350 non-null  float64\n",
      " 21  REB                540350 non-null  float64\n",
      " 22  AST                540350 non-null  float64\n",
      " 23  STL                540350 non-null  float64\n",
      " 24  BLK                540350 non-null  float64\n",
      " 25  TO                 540350 non-null  float64\n",
      " 26  PF                 540350 non-null  float64\n",
      " 27  PTS                540350 non-null  float64\n",
      " 28  PLUS_MINUS         516689 non-null  float64\n",
      "dtypes: float64(19), int64(3), object(7)\n",
      "memory usage: 123.7+ MB\n"
     ]
    }
   ],
   "source": [
    "games_details_df.info()"
   ]
  },
  {
   "cell_type": "code",
   "execution_count": 27,
   "metadata": {},
   "outputs": [],
   "source": [
    "games_details_df_no_plusminus = games_details_df[games_details_df.isnull().any(axis=1)]"
   ]
  },
  {
   "cell_type": "code",
   "execution_count": 28,
   "metadata": {},
   "outputs": [],
   "source": [
    "games_details_df.dropna(subset=['PLUS_MINUS'], inplace=True)"
   ]
  },
  {
   "cell_type": "code",
   "execution_count": 29,
   "metadata": {},
   "outputs": [
    {
     "name": "stdout",
     "output_type": "stream",
     "text": [
      "<class 'pandas.core.frame.DataFrame'>\n",
      "Index: 516689 entries, 0 to 643293\n",
      "Data columns (total 29 columns):\n",
      " #   Column             Non-Null Count   Dtype  \n",
      "---  ------             --------------   -----  \n",
      " 0   GAME_ID            516689 non-null  int64  \n",
      " 1   TEAM_ID            516689 non-null  int64  \n",
      " 2   TEAM_ABBREVIATION  516689 non-null  object \n",
      " 3   TEAM_CITY          516689 non-null  object \n",
      " 4   PLAYER_ID          516689 non-null  int64  \n",
      " 5   PLAYER_NAME        516689 non-null  object \n",
      " 6   NICKNAME           516689 non-null  object \n",
      " 7   START_POSITION     516689 non-null  object \n",
      " 8   COMMENT            516689 non-null  object \n",
      " 9   MIN                516689 non-null  object \n",
      " 10  FGM                516689 non-null  float64\n",
      " 11  FGA                516689 non-null  float64\n",
      " 12  FG_PCT             516689 non-null  float64\n",
      " 13  FG3M               516689 non-null  float64\n",
      " 14  FG3A               516689 non-null  float64\n",
      " 15  FG3_PCT            516689 non-null  float64\n",
      " 16  FTM                516689 non-null  float64\n",
      " 17  FTA                516689 non-null  float64\n",
      " 18  FT_PCT             516689 non-null  float64\n",
      " 19  OREB               516689 non-null  float64\n",
      " 20  DREB               516689 non-null  float64\n",
      " 21  REB                516689 non-null  float64\n",
      " 22  AST                516689 non-null  float64\n",
      " 23  STL                516689 non-null  float64\n",
      " 24  BLK                516689 non-null  float64\n",
      " 25  TO                 516689 non-null  float64\n",
      " 26  PF                 516689 non-null  float64\n",
      " 27  PTS                516689 non-null  float64\n",
      " 28  PLUS_MINUS         516689 non-null  float64\n",
      "dtypes: float64(19), int64(3), object(7)\n",
      "memory usage: 118.3+ MB\n"
     ]
    }
   ],
   "source": [
    "games_details_df.info()"
   ]
  },
  {
   "attachments": {},
   "cell_type": "markdown",
   "metadata": {},
   "source": [
    "## Players Dataset"
   ]
  },
  {
   "cell_type": "code",
   "execution_count": 30,
   "metadata": {},
   "outputs": [
    {
     "name": "stdout",
     "output_type": "stream",
     "text": [
      "<class 'pandas.core.frame.DataFrame'>\n",
      "RangeIndex: 7228 entries, 0 to 7227\n",
      "Data columns (total 4 columns):\n",
      " #   Column       Non-Null Count  Dtype \n",
      "---  ------       --------------  ----- \n",
      " 0   PLAYER_NAME  7228 non-null   object\n",
      " 1   TEAM_ID      7228 non-null   int64 \n",
      " 2   PLAYER_ID    7228 non-null   int64 \n",
      " 3   SEASON       7228 non-null   int64 \n",
      "dtypes: int64(3), object(1)\n",
      "memory usage: 226.0+ KB\n"
     ]
    }
   ],
   "source": [
    "players_df.info()"
   ]
  },
  {
   "cell_type": "code",
   "execution_count": 31,
   "metadata": {},
   "outputs": [
    {
     "data": {
      "text/html": [
       "<div>\n",
       "<style scoped>\n",
       "    .dataframe tbody tr th:only-of-type {\n",
       "        vertical-align: middle;\n",
       "    }\n",
       "\n",
       "    .dataframe tbody tr th {\n",
       "        vertical-align: top;\n",
       "    }\n",
       "\n",
       "    .dataframe thead th {\n",
       "        text-align: right;\n",
       "    }\n",
       "</style>\n",
       "<table border=\"1\" class=\"dataframe\">\n",
       "  <thead>\n",
       "    <tr style=\"text-align: right;\">\n",
       "      <th></th>\n",
       "      <th>count</th>\n",
       "      <th>mean</th>\n",
       "      <th>std</th>\n",
       "      <th>min</th>\n",
       "      <th>25%</th>\n",
       "      <th>50%</th>\n",
       "      <th>75%</th>\n",
       "      <th>max</th>\n",
       "    </tr>\n",
       "  </thead>\n",
       "  <tbody>\n",
       "    <tr>\n",
       "      <th>TEAM_ID</th>\n",
       "      <td>7228.0</td>\n",
       "      <td>1.610613e+09</td>\n",
       "      <td>8.723521e+00</td>\n",
       "      <td>1.610613e+09</td>\n",
       "      <td>1.610613e+09</td>\n",
       "      <td>1.610613e+09</td>\n",
       "      <td>1.610613e+09</td>\n",
       "      <td>1.610613e+09</td>\n",
       "    </tr>\n",
       "    <tr>\n",
       "      <th>PLAYER_ID</th>\n",
       "      <td>7228.0</td>\n",
       "      <td>2.355862e+06</td>\n",
       "      <td>6.106688e+07</td>\n",
       "      <td>2.440000e+02</td>\n",
       "      <td>2.007680e+05</td>\n",
       "      <td>2.023465e+05</td>\n",
       "      <td>2.039100e+05</td>\n",
       "      <td>1.962938e+09</td>\n",
       "    </tr>\n",
       "    <tr>\n",
       "      <th>SEASON</th>\n",
       "      <td>7228.0</td>\n",
       "      <td>2.014160e+03</td>\n",
       "      <td>3.126216e+00</td>\n",
       "      <td>2.009000e+03</td>\n",
       "      <td>2.012000e+03</td>\n",
       "      <td>2.014000e+03</td>\n",
       "      <td>2.017000e+03</td>\n",
       "      <td>2.019000e+03</td>\n",
       "    </tr>\n",
       "  </tbody>\n",
       "</table>\n",
       "</div>"
      ],
      "text/plain": [
       "            count          mean           std           min           25%  \\\n",
       "TEAM_ID    7228.0  1.610613e+09  8.723521e+00  1.610613e+09  1.610613e+09   \n",
       "PLAYER_ID  7228.0  2.355862e+06  6.106688e+07  2.440000e+02  2.007680e+05   \n",
       "SEASON     7228.0  2.014160e+03  3.126216e+00  2.009000e+03  2.012000e+03   \n",
       "\n",
       "                    50%           75%           max  \n",
       "TEAM_ID    1.610613e+09  1.610613e+09  1.610613e+09  \n",
       "PLAYER_ID  2.023465e+05  2.039100e+05  1.962938e+09  \n",
       "SEASON     2.014000e+03  2.017000e+03  2.019000e+03  "
      ]
     },
     "execution_count": 31,
     "metadata": {},
     "output_type": "execute_result"
    }
   ],
   "source": [
    "players_df.describe().T"
   ]
  },
  {
   "cell_type": "code",
   "execution_count": 32,
   "metadata": {},
   "outputs": [
    {
     "data": {
      "text/html": [
       "<div>\n",
       "<style scoped>\n",
       "    .dataframe tbody tr th:only-of-type {\n",
       "        vertical-align: middle;\n",
       "    }\n",
       "\n",
       "    .dataframe tbody tr th {\n",
       "        vertical-align: top;\n",
       "    }\n",
       "\n",
       "    .dataframe thead th {\n",
       "        text-align: right;\n",
       "    }\n",
       "</style>\n",
       "<table border=\"1\" class=\"dataframe\">\n",
       "  <thead>\n",
       "    <tr style=\"text-align: right;\">\n",
       "      <th></th>\n",
       "      <th>PLAYER_NAME</th>\n",
       "      <th>TEAM_ID</th>\n",
       "      <th>PLAYER_ID</th>\n",
       "      <th>SEASON</th>\n",
       "    </tr>\n",
       "  </thead>\n",
       "  <tbody>\n",
       "    <tr>\n",
       "      <th>0</th>\n",
       "      <td>Royce O'Neale</td>\n",
       "      <td>1610612762</td>\n",
       "      <td>1626220</td>\n",
       "      <td>2019</td>\n",
       "    </tr>\n",
       "    <tr>\n",
       "      <th>1</th>\n",
       "      <td>Bojan Bogdanovic</td>\n",
       "      <td>1610612762</td>\n",
       "      <td>202711</td>\n",
       "      <td>2019</td>\n",
       "    </tr>\n",
       "    <tr>\n",
       "      <th>2</th>\n",
       "      <td>Rudy Gobert</td>\n",
       "      <td>1610612762</td>\n",
       "      <td>203497</td>\n",
       "      <td>2019</td>\n",
       "    </tr>\n",
       "    <tr>\n",
       "      <th>3</th>\n",
       "      <td>Donovan Mitchell</td>\n",
       "      <td>1610612762</td>\n",
       "      <td>1628378</td>\n",
       "      <td>2019</td>\n",
       "    </tr>\n",
       "    <tr>\n",
       "      <th>4</th>\n",
       "      <td>Mike Conley</td>\n",
       "      <td>1610612762</td>\n",
       "      <td>201144</td>\n",
       "      <td>2019</td>\n",
       "    </tr>\n",
       "    <tr>\n",
       "      <th>5</th>\n",
       "      <td>Joe Ingles</td>\n",
       "      <td>1610612762</td>\n",
       "      <td>204060</td>\n",
       "      <td>2019</td>\n",
       "    </tr>\n",
       "    <tr>\n",
       "      <th>6</th>\n",
       "      <td>Ed Davis</td>\n",
       "      <td>1610612762</td>\n",
       "      <td>202334</td>\n",
       "      <td>2019</td>\n",
       "    </tr>\n",
       "    <tr>\n",
       "      <th>7</th>\n",
       "      <td>Jeff Green</td>\n",
       "      <td>1610612762</td>\n",
       "      <td>201145</td>\n",
       "      <td>2019</td>\n",
       "    </tr>\n",
       "    <tr>\n",
       "      <th>8</th>\n",
       "      <td>Dante Exum</td>\n",
       "      <td>1610612762</td>\n",
       "      <td>203957</td>\n",
       "      <td>2019</td>\n",
       "    </tr>\n",
       "    <tr>\n",
       "      <th>9</th>\n",
       "      <td>Emmanuel Mudiay</td>\n",
       "      <td>1610612762</td>\n",
       "      <td>1626144</td>\n",
       "      <td>2019</td>\n",
       "    </tr>\n",
       "  </tbody>\n",
       "</table>\n",
       "</div>"
      ],
      "text/plain": [
       "        PLAYER_NAME     TEAM_ID  PLAYER_ID  SEASON\n",
       "0     Royce O'Neale  1610612762    1626220    2019\n",
       "1  Bojan Bogdanovic  1610612762     202711    2019\n",
       "2       Rudy Gobert  1610612762     203497    2019\n",
       "3  Donovan Mitchell  1610612762    1628378    2019\n",
       "4       Mike Conley  1610612762     201144    2019\n",
       "5        Joe Ingles  1610612762     204060    2019\n",
       "6          Ed Davis  1610612762     202334    2019\n",
       "7        Jeff Green  1610612762     201145    2019\n",
       "8        Dante Exum  1610612762     203957    2019\n",
       "9   Emmanuel Mudiay  1610612762    1626144    2019"
      ]
     },
     "execution_count": 32,
     "metadata": {},
     "output_type": "execute_result"
    }
   ],
   "source": [
    "players_df.head(10)"
   ]
  },
  {
   "attachments": {},
   "cell_type": "markdown",
   "metadata": {},
   "source": [
    "# Data merge"
   ]
  },
  {
   "cell_type": "code",
   "execution_count": 33,
   "metadata": {},
   "outputs": [],
   "source": [
    "games_full_df = pd.merge(games_details_df, games_df[['SEASON','GAME_ID']], how='inner', left_on='GAME_ID', right_on='GAME_ID')"
   ]
  },
  {
   "cell_type": "code",
   "execution_count": 34,
   "metadata": {},
   "outputs": [
    {
     "name": "stdout",
     "output_type": "stream",
     "text": [
      "<class 'pandas.core.frame.DataFrame'>\n",
      "RangeIndex: 517429 entries, 0 to 517428\n",
      "Data columns (total 30 columns):\n",
      " #   Column             Non-Null Count   Dtype  \n",
      "---  ------             --------------   -----  \n",
      " 0   GAME_ID            517429 non-null  int64  \n",
      " 1   TEAM_ID            517429 non-null  int64  \n",
      " 2   TEAM_ABBREVIATION  517429 non-null  object \n",
      " 3   TEAM_CITY          517429 non-null  object \n",
      " 4   PLAYER_ID          517429 non-null  int64  \n",
      " 5   PLAYER_NAME        517429 non-null  object \n",
      " 6   NICKNAME           517429 non-null  object \n",
      " 7   START_POSITION     517429 non-null  object \n",
      " 8   COMMENT            517429 non-null  object \n",
      " 9   MIN                517429 non-null  object \n",
      " 10  FGM                517429 non-null  float64\n",
      " 11  FGA                517429 non-null  float64\n",
      " 12  FG_PCT             517429 non-null  float64\n",
      " 13  FG3M               517429 non-null  float64\n",
      " 14  FG3A               517429 non-null  float64\n",
      " 15  FG3_PCT            517429 non-null  float64\n",
      " 16  FTM                517429 non-null  float64\n",
      " 17  FTA                517429 non-null  float64\n",
      " 18  FT_PCT             517429 non-null  float64\n",
      " 19  OREB               517429 non-null  float64\n",
      " 20  DREB               517429 non-null  float64\n",
      " 21  REB                517429 non-null  float64\n",
      " 22  AST                517429 non-null  float64\n",
      " 23  STL                517429 non-null  float64\n",
      " 24  BLK                517429 non-null  float64\n",
      " 25  TO                 517429 non-null  float64\n",
      " 26  PF                 517429 non-null  float64\n",
      " 27  PTS                517429 non-null  float64\n",
      " 28  PLUS_MINUS         517429 non-null  float64\n",
      " 29  SEASON             517429 non-null  int64  \n",
      "dtypes: float64(19), int64(4), object(7)\n",
      "memory usage: 118.4+ MB\n"
     ]
    }
   ],
   "source": [
    "games_full_df.info()"
   ]
  },
  {
   "cell_type": "code",
   "execution_count": 35,
   "metadata": {},
   "outputs": [
    {
     "data": {
      "text/html": [
       "<div>\n",
       "<style scoped>\n",
       "    .dataframe tbody tr th:only-of-type {\n",
       "        vertical-align: middle;\n",
       "    }\n",
       "\n",
       "    .dataframe tbody tr th {\n",
       "        vertical-align: top;\n",
       "    }\n",
       "\n",
       "    .dataframe thead th {\n",
       "        text-align: right;\n",
       "    }\n",
       "</style>\n",
       "<table border=\"1\" class=\"dataframe\">\n",
       "  <thead>\n",
       "    <tr style=\"text-align: right;\">\n",
       "      <th></th>\n",
       "      <th>GAME_ID</th>\n",
       "      <th>TEAM_ID</th>\n",
       "      <th>TEAM_ABBREVIATION</th>\n",
       "      <th>TEAM_CITY</th>\n",
       "      <th>PLAYER_ID</th>\n",
       "      <th>PLAYER_NAME</th>\n",
       "      <th>NICKNAME</th>\n",
       "      <th>START_POSITION</th>\n",
       "      <th>COMMENT</th>\n",
       "      <th>MIN</th>\n",
       "      <th>...</th>\n",
       "      <th>DREB</th>\n",
       "      <th>REB</th>\n",
       "      <th>AST</th>\n",
       "      <th>STL</th>\n",
       "      <th>BLK</th>\n",
       "      <th>TO</th>\n",
       "      <th>PF</th>\n",
       "      <th>PTS</th>\n",
       "      <th>PLUS_MINUS</th>\n",
       "      <th>SEASON</th>\n",
       "    </tr>\n",
       "  </thead>\n",
       "  <tbody>\n",
       "    <tr>\n",
       "      <th>0</th>\n",
       "      <td>22101005</td>\n",
       "      <td>1610612750</td>\n",
       "      <td>MIN</td>\n",
       "      <td>Minnesota</td>\n",
       "      <td>1630162</td>\n",
       "      <td>Anthony Edwards</td>\n",
       "      <td>Anthony</td>\n",
       "      <td>F</td>\n",
       "      <td>N/A</td>\n",
       "      <td>36:22</td>\n",
       "      <td>...</td>\n",
       "      <td>8.0</td>\n",
       "      <td>8.0</td>\n",
       "      <td>5.0</td>\n",
       "      <td>3.0</td>\n",
       "      <td>1.0</td>\n",
       "      <td>1.0</td>\n",
       "      <td>1.0</td>\n",
       "      <td>15.0</td>\n",
       "      <td>5.0</td>\n",
       "      <td>2021</td>\n",
       "    </tr>\n",
       "    <tr>\n",
       "      <th>1</th>\n",
       "      <td>22101005</td>\n",
       "      <td>1610612750</td>\n",
       "      <td>MIN</td>\n",
       "      <td>Minnesota</td>\n",
       "      <td>1630183</td>\n",
       "      <td>Jaden McDaniels</td>\n",
       "      <td>Jaden</td>\n",
       "      <td>F</td>\n",
       "      <td>N/A</td>\n",
       "      <td>23:54</td>\n",
       "      <td>...</td>\n",
       "      <td>4.0</td>\n",
       "      <td>6.0</td>\n",
       "      <td>0.0</td>\n",
       "      <td>0.0</td>\n",
       "      <td>2.0</td>\n",
       "      <td>2.0</td>\n",
       "      <td>6.0</td>\n",
       "      <td>14.0</td>\n",
       "      <td>10.0</td>\n",
       "      <td>2021</td>\n",
       "    </tr>\n",
       "    <tr>\n",
       "      <th>2</th>\n",
       "      <td>22101005</td>\n",
       "      <td>1610612750</td>\n",
       "      <td>MIN</td>\n",
       "      <td>Minnesota</td>\n",
       "      <td>1626157</td>\n",
       "      <td>Karl-Anthony Towns</td>\n",
       "      <td>Karl-Anthony</td>\n",
       "      <td>C</td>\n",
       "      <td>N/A</td>\n",
       "      <td>25:17</td>\n",
       "      <td>...</td>\n",
       "      <td>9.0</td>\n",
       "      <td>10.0</td>\n",
       "      <td>0.0</td>\n",
       "      <td>0.0</td>\n",
       "      <td>0.0</td>\n",
       "      <td>3.0</td>\n",
       "      <td>4.0</td>\n",
       "      <td>15.0</td>\n",
       "      <td>14.0</td>\n",
       "      <td>2021</td>\n",
       "    </tr>\n",
       "    <tr>\n",
       "      <th>3</th>\n",
       "      <td>22101005</td>\n",
       "      <td>1610612750</td>\n",
       "      <td>MIN</td>\n",
       "      <td>Minnesota</td>\n",
       "      <td>1627736</td>\n",
       "      <td>Malik Beasley</td>\n",
       "      <td>Malik</td>\n",
       "      <td>G</td>\n",
       "      <td>N/A</td>\n",
       "      <td>30:52</td>\n",
       "      <td>...</td>\n",
       "      <td>3.0</td>\n",
       "      <td>3.0</td>\n",
       "      <td>1.0</td>\n",
       "      <td>1.0</td>\n",
       "      <td>0.0</td>\n",
       "      <td>1.0</td>\n",
       "      <td>4.0</td>\n",
       "      <td>12.0</td>\n",
       "      <td>20.0</td>\n",
       "      <td>2021</td>\n",
       "    </tr>\n",
       "    <tr>\n",
       "      <th>4</th>\n",
       "      <td>22101005</td>\n",
       "      <td>1610612750</td>\n",
       "      <td>MIN</td>\n",
       "      <td>Minnesota</td>\n",
       "      <td>1626156</td>\n",
       "      <td>D'Angelo Russell</td>\n",
       "      <td>D'Angelo</td>\n",
       "      <td>G</td>\n",
       "      <td>N/A</td>\n",
       "      <td>33:46</td>\n",
       "      <td>...</td>\n",
       "      <td>6.0</td>\n",
       "      <td>6.0</td>\n",
       "      <td>9.0</td>\n",
       "      <td>1.0</td>\n",
       "      <td>0.0</td>\n",
       "      <td>5.0</td>\n",
       "      <td>0.0</td>\n",
       "      <td>14.0</td>\n",
       "      <td>17.0</td>\n",
       "      <td>2021</td>\n",
       "    </tr>\n",
       "    <tr>\n",
       "      <th>5</th>\n",
       "      <td>22101005</td>\n",
       "      <td>1610612750</td>\n",
       "      <td>MIN</td>\n",
       "      <td>Minnesota</td>\n",
       "      <td>1629675</td>\n",
       "      <td>Naz Reid</td>\n",
       "      <td>Naz</td>\n",
       "      <td>N/A</td>\n",
       "      <td>N/A</td>\n",
       "      <td>23:56</td>\n",
       "      <td>...</td>\n",
       "      <td>7.0</td>\n",
       "      <td>10.0</td>\n",
       "      <td>1.0</td>\n",
       "      <td>3.0</td>\n",
       "      <td>2.0</td>\n",
       "      <td>1.0</td>\n",
       "      <td>1.0</td>\n",
       "      <td>11.0</td>\n",
       "      <td>-7.0</td>\n",
       "      <td>2021</td>\n",
       "    </tr>\n",
       "    <tr>\n",
       "      <th>6</th>\n",
       "      <td>22101005</td>\n",
       "      <td>1610612750</td>\n",
       "      <td>MIN</td>\n",
       "      <td>Minnesota</td>\n",
       "      <td>1629162</td>\n",
       "      <td>Jordan McLaughlin</td>\n",
       "      <td>Jordan</td>\n",
       "      <td>N/A</td>\n",
       "      <td>N/A</td>\n",
       "      <td>21:00</td>\n",
       "      <td>...</td>\n",
       "      <td>1.0</td>\n",
       "      <td>1.0</td>\n",
       "      <td>3.0</td>\n",
       "      <td>3.0</td>\n",
       "      <td>0.0</td>\n",
       "      <td>0.0</td>\n",
       "      <td>1.0</td>\n",
       "      <td>5.0</td>\n",
       "      <td>-10.0</td>\n",
       "      <td>2021</td>\n",
       "    </tr>\n",
       "    <tr>\n",
       "      <th>7</th>\n",
       "      <td>22101005</td>\n",
       "      <td>1610612750</td>\n",
       "      <td>MIN</td>\n",
       "      <td>Minnesota</td>\n",
       "      <td>1629669</td>\n",
       "      <td>Jaylen Nowell</td>\n",
       "      <td>Jaylen</td>\n",
       "      <td>N/A</td>\n",
       "      <td>N/A</td>\n",
       "      <td>21:35</td>\n",
       "      <td>...</td>\n",
       "      <td>0.0</td>\n",
       "      <td>0.0</td>\n",
       "      <td>1.0</td>\n",
       "      <td>0.0</td>\n",
       "      <td>0.0</td>\n",
       "      <td>0.0</td>\n",
       "      <td>0.0</td>\n",
       "      <td>16.0</td>\n",
       "      <td>-5.0</td>\n",
       "      <td>2021</td>\n",
       "    </tr>\n",
       "    <tr>\n",
       "      <th>8</th>\n",
       "      <td>22101005</td>\n",
       "      <td>1610612750</td>\n",
       "      <td>MIN</td>\n",
       "      <td>Minnesota</td>\n",
       "      <td>1627752</td>\n",
       "      <td>Taurean Prince</td>\n",
       "      <td>Taurean</td>\n",
       "      <td>N/A</td>\n",
       "      <td>N/A</td>\n",
       "      <td>22:53</td>\n",
       "      <td>...</td>\n",
       "      <td>2.0</td>\n",
       "      <td>2.0</td>\n",
       "      <td>1.0</td>\n",
       "      <td>1.0</td>\n",
       "      <td>0.0</td>\n",
       "      <td>1.0</td>\n",
       "      <td>2.0</td>\n",
       "      <td>11.0</td>\n",
       "      <td>1.0</td>\n",
       "      <td>2021</td>\n",
       "    </tr>\n",
       "    <tr>\n",
       "      <th>9</th>\n",
       "      <td>22101005</td>\n",
       "      <td>1610612750</td>\n",
       "      <td>MIN</td>\n",
       "      <td>Minnesota</td>\n",
       "      <td>1629006</td>\n",
       "      <td>Josh Okogie</td>\n",
       "      <td>Josh</td>\n",
       "      <td>N/A</td>\n",
       "      <td>N/A</td>\n",
       "      <td>0:25</td>\n",
       "      <td>...</td>\n",
       "      <td>0.0</td>\n",
       "      <td>0.0</td>\n",
       "      <td>0.0</td>\n",
       "      <td>0.0</td>\n",
       "      <td>0.0</td>\n",
       "      <td>0.0</td>\n",
       "      <td>0.0</td>\n",
       "      <td>0.0</td>\n",
       "      <td>0.0</td>\n",
       "      <td>2021</td>\n",
       "    </tr>\n",
       "  </tbody>\n",
       "</table>\n",
       "<p>10 rows × 30 columns</p>\n",
       "</div>"
      ],
      "text/plain": [
       "    GAME_ID     TEAM_ID TEAM_ABBREVIATION  TEAM_CITY  PLAYER_ID  \\\n",
       "0  22101005  1610612750               MIN  Minnesota    1630162   \n",
       "1  22101005  1610612750               MIN  Minnesota    1630183   \n",
       "2  22101005  1610612750               MIN  Minnesota    1626157   \n",
       "3  22101005  1610612750               MIN  Minnesota    1627736   \n",
       "4  22101005  1610612750               MIN  Minnesota    1626156   \n",
       "5  22101005  1610612750               MIN  Minnesota    1629675   \n",
       "6  22101005  1610612750               MIN  Minnesota    1629162   \n",
       "7  22101005  1610612750               MIN  Minnesota    1629669   \n",
       "8  22101005  1610612750               MIN  Minnesota    1627752   \n",
       "9  22101005  1610612750               MIN  Minnesota    1629006   \n",
       "\n",
       "          PLAYER_NAME      NICKNAME START_POSITION COMMENT    MIN  ...  DREB  \\\n",
       "0     Anthony Edwards       Anthony              F     N/A  36:22  ...   8.0   \n",
       "1     Jaden McDaniels         Jaden              F     N/A  23:54  ...   4.0   \n",
       "2  Karl-Anthony Towns  Karl-Anthony              C     N/A  25:17  ...   9.0   \n",
       "3       Malik Beasley         Malik              G     N/A  30:52  ...   3.0   \n",
       "4    D'Angelo Russell      D'Angelo              G     N/A  33:46  ...   6.0   \n",
       "5            Naz Reid           Naz            N/A     N/A  23:56  ...   7.0   \n",
       "6   Jordan McLaughlin        Jordan            N/A     N/A  21:00  ...   1.0   \n",
       "7       Jaylen Nowell        Jaylen            N/A     N/A  21:35  ...   0.0   \n",
       "8      Taurean Prince       Taurean            N/A     N/A  22:53  ...   2.0   \n",
       "9         Josh Okogie          Josh            N/A     N/A   0:25  ...   0.0   \n",
       "\n",
       "    REB  AST  STL  BLK   TO   PF   PTS  PLUS_MINUS  SEASON  \n",
       "0   8.0  5.0  3.0  1.0  1.0  1.0  15.0         5.0    2021  \n",
       "1   6.0  0.0  0.0  2.0  2.0  6.0  14.0        10.0    2021  \n",
       "2  10.0  0.0  0.0  0.0  3.0  4.0  15.0        14.0    2021  \n",
       "3   3.0  1.0  1.0  0.0  1.0  4.0  12.0        20.0    2021  \n",
       "4   6.0  9.0  1.0  0.0  5.0  0.0  14.0        17.0    2021  \n",
       "5  10.0  1.0  3.0  2.0  1.0  1.0  11.0        -7.0    2021  \n",
       "6   1.0  3.0  3.0  0.0  0.0  1.0   5.0       -10.0    2021  \n",
       "7   0.0  1.0  0.0  0.0  0.0  0.0  16.0        -5.0    2021  \n",
       "8   2.0  1.0  1.0  0.0  1.0  2.0  11.0         1.0    2021  \n",
       "9   0.0  0.0  0.0  0.0  0.0  0.0   0.0         0.0    2021  \n",
       "\n",
       "[10 rows x 30 columns]"
      ]
     },
     "execution_count": 35,
     "metadata": {},
     "output_type": "execute_result"
    }
   ],
   "source": [
    "games_full_df.head(10)"
   ]
  },
  {
   "cell_type": "code",
   "execution_count": 36,
   "metadata": {},
   "outputs": [
    {
     "data": {
      "text/html": [
       "<div>\n",
       "<style scoped>\n",
       "    .dataframe tbody tr th:only-of-type {\n",
       "        vertical-align: middle;\n",
       "    }\n",
       "\n",
       "    .dataframe tbody tr th {\n",
       "        vertical-align: top;\n",
       "    }\n",
       "\n",
       "    .dataframe thead th {\n",
       "        text-align: right;\n",
       "    }\n",
       "</style>\n",
       "<table border=\"1\" class=\"dataframe\">\n",
       "  <thead>\n",
       "    <tr style=\"text-align: right;\">\n",
       "      <th></th>\n",
       "      <th>GAME_ID</th>\n",
       "      <th>TEAM_ID</th>\n",
       "      <th>TEAM_ABBREVIATION</th>\n",
       "      <th>TEAM_CITY</th>\n",
       "      <th>PLAYER_ID</th>\n",
       "      <th>PLAYER_NAME</th>\n",
       "      <th>NICKNAME</th>\n",
       "      <th>START_POSITION</th>\n",
       "      <th>COMMENT</th>\n",
       "      <th>MIN</th>\n",
       "      <th>...</th>\n",
       "      <th>DREB</th>\n",
       "      <th>REB</th>\n",
       "      <th>AST</th>\n",
       "      <th>STL</th>\n",
       "      <th>BLK</th>\n",
       "      <th>TO</th>\n",
       "      <th>PF</th>\n",
       "      <th>PTS</th>\n",
       "      <th>PLUS_MINUS</th>\n",
       "      <th>SEASON</th>\n",
       "    </tr>\n",
       "  </thead>\n",
       "  <tbody>\n",
       "    <tr>\n",
       "      <th>517419</th>\n",
       "      <td>21200001</td>\n",
       "      <td>1610612739</td>\n",
       "      <td>CLE</td>\n",
       "      <td>Cleveland</td>\n",
       "      <td>202087</td>\n",
       "      <td>Alonzo Gee</td>\n",
       "      <td>N/A</td>\n",
       "      <td>F</td>\n",
       "      <td>N/A</td>\n",
       "      <td>33:53</td>\n",
       "      <td>...</td>\n",
       "      <td>1.0</td>\n",
       "      <td>3.0</td>\n",
       "      <td>2.0</td>\n",
       "      <td>2.0</td>\n",
       "      <td>0.0</td>\n",
       "      <td>3.0</td>\n",
       "      <td>5.0</td>\n",
       "      <td>4.0</td>\n",
       "      <td>14.0</td>\n",
       "      <td>2012</td>\n",
       "    </tr>\n",
       "    <tr>\n",
       "      <th>517420</th>\n",
       "      <td>21200001</td>\n",
       "      <td>1610612739</td>\n",
       "      <td>CLE</td>\n",
       "      <td>Cleveland</td>\n",
       "      <td>202684</td>\n",
       "      <td>Tristan Thompson</td>\n",
       "      <td>N/A</td>\n",
       "      <td>F</td>\n",
       "      <td>N/A</td>\n",
       "      <td>31:31</td>\n",
       "      <td>...</td>\n",
       "      <td>7.0</td>\n",
       "      <td>10.0</td>\n",
       "      <td>5.0</td>\n",
       "      <td>1.0</td>\n",
       "      <td>0.0</td>\n",
       "      <td>2.0</td>\n",
       "      <td>2.0</td>\n",
       "      <td>12.0</td>\n",
       "      <td>20.0</td>\n",
       "      <td>2012</td>\n",
       "    </tr>\n",
       "    <tr>\n",
       "      <th>517421</th>\n",
       "      <td>21200001</td>\n",
       "      <td>1610612739</td>\n",
       "      <td>CLE</td>\n",
       "      <td>Cleveland</td>\n",
       "      <td>2760</td>\n",
       "      <td>Anderson Varejao</td>\n",
       "      <td>N/A</td>\n",
       "      <td>C</td>\n",
       "      <td>N/A</td>\n",
       "      <td>37:22</td>\n",
       "      <td>...</td>\n",
       "      <td>11.0</td>\n",
       "      <td>23.0</td>\n",
       "      <td>9.0</td>\n",
       "      <td>0.0</td>\n",
       "      <td>2.0</td>\n",
       "      <td>1.0</td>\n",
       "      <td>4.0</td>\n",
       "      <td>9.0</td>\n",
       "      <td>7.0</td>\n",
       "      <td>2012</td>\n",
       "    </tr>\n",
       "    <tr>\n",
       "      <th>517422</th>\n",
       "      <td>21200001</td>\n",
       "      <td>1610612739</td>\n",
       "      <td>CLE</td>\n",
       "      <td>Cleveland</td>\n",
       "      <td>203079</td>\n",
       "      <td>Dion Waiters</td>\n",
       "      <td>N/A</td>\n",
       "      <td>G</td>\n",
       "      <td>N/A</td>\n",
       "      <td>28:14</td>\n",
       "      <td>...</td>\n",
       "      <td>2.0</td>\n",
       "      <td>2.0</td>\n",
       "      <td>0.0</td>\n",
       "      <td>3.0</td>\n",
       "      <td>0.0</td>\n",
       "      <td>3.0</td>\n",
       "      <td>0.0</td>\n",
       "      <td>17.0</td>\n",
       "      <td>13.0</td>\n",
       "      <td>2012</td>\n",
       "    </tr>\n",
       "    <tr>\n",
       "      <th>517423</th>\n",
       "      <td>21200001</td>\n",
       "      <td>1610612739</td>\n",
       "      <td>CLE</td>\n",
       "      <td>Cleveland</td>\n",
       "      <td>202681</td>\n",
       "      <td>Kyrie Irving</td>\n",
       "      <td>N/A</td>\n",
       "      <td>G</td>\n",
       "      <td>N/A</td>\n",
       "      <td>34:34</td>\n",
       "      <td>...</td>\n",
       "      <td>6.0</td>\n",
       "      <td>6.0</td>\n",
       "      <td>3.0</td>\n",
       "      <td>0.0</td>\n",
       "      <td>1.0</td>\n",
       "      <td>4.0</td>\n",
       "      <td>4.0</td>\n",
       "      <td>29.0</td>\n",
       "      <td>23.0</td>\n",
       "      <td>2012</td>\n",
       "    </tr>\n",
       "    <tr>\n",
       "      <th>517424</th>\n",
       "      <td>21200001</td>\n",
       "      <td>1610612739</td>\n",
       "      <td>CLE</td>\n",
       "      <td>Cleveland</td>\n",
       "      <td>101139</td>\n",
       "      <td>CJ Miles</td>\n",
       "      <td>N/A</td>\n",
       "      <td>N/A</td>\n",
       "      <td>N/A</td>\n",
       "      <td>17:42</td>\n",
       "      <td>...</td>\n",
       "      <td>4.0</td>\n",
       "      <td>4.0</td>\n",
       "      <td>1.0</td>\n",
       "      <td>0.0</td>\n",
       "      <td>0.0</td>\n",
       "      <td>3.0</td>\n",
       "      <td>0.0</td>\n",
       "      <td>2.0</td>\n",
       "      <td>2.0</td>\n",
       "      <td>2012</td>\n",
       "    </tr>\n",
       "    <tr>\n",
       "      <th>517425</th>\n",
       "      <td>21200001</td>\n",
       "      <td>1610612739</td>\n",
       "      <td>CLE</td>\n",
       "      <td>Cleveland</td>\n",
       "      <td>203092</td>\n",
       "      <td>Tyler Zeller</td>\n",
       "      <td>N/A</td>\n",
       "      <td>N/A</td>\n",
       "      <td>N/A</td>\n",
       "      <td>14:53</td>\n",
       "      <td>...</td>\n",
       "      <td>2.0</td>\n",
       "      <td>2.0</td>\n",
       "      <td>0.0</td>\n",
       "      <td>1.0</td>\n",
       "      <td>1.0</td>\n",
       "      <td>0.0</td>\n",
       "      <td>2.0</td>\n",
       "      <td>5.0</td>\n",
       "      <td>4.0</td>\n",
       "      <td>2012</td>\n",
       "    </tr>\n",
       "    <tr>\n",
       "      <th>517426</th>\n",
       "      <td>21200001</td>\n",
       "      <td>1610612739</td>\n",
       "      <td>CLE</td>\n",
       "      <td>Cleveland</td>\n",
       "      <td>200789</td>\n",
       "      <td>Daniel Gibson</td>\n",
       "      <td>N/A</td>\n",
       "      <td>N/A</td>\n",
       "      <td>N/A</td>\n",
       "      <td>16:11</td>\n",
       "      <td>...</td>\n",
       "      <td>2.0</td>\n",
       "      <td>3.0</td>\n",
       "      <td>1.0</td>\n",
       "      <td>0.0</td>\n",
       "      <td>1.0</td>\n",
       "      <td>0.0</td>\n",
       "      <td>2.0</td>\n",
       "      <td>10.0</td>\n",
       "      <td>-9.0</td>\n",
       "      <td>2012</td>\n",
       "    </tr>\n",
       "    <tr>\n",
       "      <th>517427</th>\n",
       "      <td>21200001</td>\n",
       "      <td>1610612739</td>\n",
       "      <td>CLE</td>\n",
       "      <td>Cleveland</td>\n",
       "      <td>2575</td>\n",
       "      <td>Luke Walton</td>\n",
       "      <td>N/A</td>\n",
       "      <td>N/A</td>\n",
       "      <td>N/A</td>\n",
       "      <td>12:14</td>\n",
       "      <td>...</td>\n",
       "      <td>1.0</td>\n",
       "      <td>1.0</td>\n",
       "      <td>0.0</td>\n",
       "      <td>0.0</td>\n",
       "      <td>0.0</td>\n",
       "      <td>2.0</td>\n",
       "      <td>0.0</td>\n",
       "      <td>2.0</td>\n",
       "      <td>-11.0</td>\n",
       "      <td>2012</td>\n",
       "    </tr>\n",
       "    <tr>\n",
       "      <th>517428</th>\n",
       "      <td>21200001</td>\n",
       "      <td>1610612739</td>\n",
       "      <td>CLE</td>\n",
       "      <td>Cleveland</td>\n",
       "      <td>202388</td>\n",
       "      <td>Donald Sloan</td>\n",
       "      <td>N/A</td>\n",
       "      <td>N/A</td>\n",
       "      <td>N/A</td>\n",
       "      <td>13:26</td>\n",
       "      <td>...</td>\n",
       "      <td>0.0</td>\n",
       "      <td>0.0</td>\n",
       "      <td>1.0</td>\n",
       "      <td>0.0</td>\n",
       "      <td>0.0</td>\n",
       "      <td>2.0</td>\n",
       "      <td>2.0</td>\n",
       "      <td>4.0</td>\n",
       "      <td>-13.0</td>\n",
       "      <td>2012</td>\n",
       "    </tr>\n",
       "  </tbody>\n",
       "</table>\n",
       "<p>10 rows × 30 columns</p>\n",
       "</div>"
      ],
      "text/plain": [
       "         GAME_ID     TEAM_ID TEAM_ABBREVIATION  TEAM_CITY  PLAYER_ID  \\\n",
       "517419  21200001  1610612739               CLE  Cleveland     202087   \n",
       "517420  21200001  1610612739               CLE  Cleveland     202684   \n",
       "517421  21200001  1610612739               CLE  Cleveland       2760   \n",
       "517422  21200001  1610612739               CLE  Cleveland     203079   \n",
       "517423  21200001  1610612739               CLE  Cleveland     202681   \n",
       "517424  21200001  1610612739               CLE  Cleveland     101139   \n",
       "517425  21200001  1610612739               CLE  Cleveland     203092   \n",
       "517426  21200001  1610612739               CLE  Cleveland     200789   \n",
       "517427  21200001  1610612739               CLE  Cleveland       2575   \n",
       "517428  21200001  1610612739               CLE  Cleveland     202388   \n",
       "\n",
       "             PLAYER_NAME NICKNAME START_POSITION COMMENT    MIN  ...  DREB  \\\n",
       "517419        Alonzo Gee      N/A              F     N/A  33:53  ...   1.0   \n",
       "517420  Tristan Thompson      N/A              F     N/A  31:31  ...   7.0   \n",
       "517421  Anderson Varejao      N/A              C     N/A  37:22  ...  11.0   \n",
       "517422      Dion Waiters      N/A              G     N/A  28:14  ...   2.0   \n",
       "517423      Kyrie Irving      N/A              G     N/A  34:34  ...   6.0   \n",
       "517424          CJ Miles      N/A            N/A     N/A  17:42  ...   4.0   \n",
       "517425      Tyler Zeller      N/A            N/A     N/A  14:53  ...   2.0   \n",
       "517426     Daniel Gibson      N/A            N/A     N/A  16:11  ...   2.0   \n",
       "517427       Luke Walton      N/A            N/A     N/A  12:14  ...   1.0   \n",
       "517428      Donald Sloan      N/A            N/A     N/A  13:26  ...   0.0   \n",
       "\n",
       "         REB  AST  STL  BLK   TO   PF   PTS  PLUS_MINUS  SEASON  \n",
       "517419   3.0  2.0  2.0  0.0  3.0  5.0   4.0        14.0    2012  \n",
       "517420  10.0  5.0  1.0  0.0  2.0  2.0  12.0        20.0    2012  \n",
       "517421  23.0  9.0  0.0  2.0  1.0  4.0   9.0         7.0    2012  \n",
       "517422   2.0  0.0  3.0  0.0  3.0  0.0  17.0        13.0    2012  \n",
       "517423   6.0  3.0  0.0  1.0  4.0  4.0  29.0        23.0    2012  \n",
       "517424   4.0  1.0  0.0  0.0  3.0  0.0   2.0         2.0    2012  \n",
       "517425   2.0  0.0  1.0  1.0  0.0  2.0   5.0         4.0    2012  \n",
       "517426   3.0  1.0  0.0  1.0  0.0  2.0  10.0        -9.0    2012  \n",
       "517427   1.0  0.0  0.0  0.0  2.0  0.0   2.0       -11.0    2012  \n",
       "517428   0.0  1.0  0.0  0.0  2.0  2.0   4.0       -13.0    2012  \n",
       "\n",
       "[10 rows x 30 columns]"
      ]
     },
     "execution_count": 36,
     "metadata": {},
     "output_type": "execute_result"
    }
   ],
   "source": [
    "games_full_df.tail(10)"
   ]
  },
  {
   "cell_type": "code",
   "execution_count": 94,
   "metadata": {},
   "outputs": [
    {
     "data": {
      "text/plain": [
       "array([2003, 2004, 2005, 2006, 2007, 2008, 2009, 2010, 2011, 2012, 2013,\n",
       "       2014, 2015, 2016, 2017, 2018, 2019, 2020, 2021])"
      ]
     },
     "execution_count": 94,
     "metadata": {},
     "output_type": "execute_result"
    }
   ],
   "source": [
    "np.sort(games_full_df['SEASON'].unique())"
   ]
  },
  {
   "cell_type": "code",
   "execution_count": 37,
   "metadata": {},
   "outputs": [],
   "source": [
    "games_full_df.rename(columns={'NICKNAME': 'PLAYER_NICKNAME'}, inplace=True)"
   ]
  },
  {
   "cell_type": "code",
   "execution_count": 38,
   "metadata": {},
   "outputs": [
    {
     "name": "stdout",
     "output_type": "stream",
     "text": [
      "<class 'pandas.core.frame.DataFrame'>\n",
      "RangeIndex: 517429 entries, 0 to 517428\n",
      "Data columns (total 30 columns):\n",
      " #   Column             Non-Null Count   Dtype  \n",
      "---  ------             --------------   -----  \n",
      " 0   GAME_ID            517429 non-null  int64  \n",
      " 1   TEAM_ID            517429 non-null  int64  \n",
      " 2   TEAM_ABBREVIATION  517429 non-null  object \n",
      " 3   TEAM_CITY          517429 non-null  object \n",
      " 4   PLAYER_ID          517429 non-null  int64  \n",
      " 5   PLAYER_NAME        517429 non-null  object \n",
      " 6   PLAYER_NICKNAME    517429 non-null  object \n",
      " 7   START_POSITION     517429 non-null  object \n",
      " 8   COMMENT            517429 non-null  object \n",
      " 9   MIN                517429 non-null  object \n",
      " 10  FGM                517429 non-null  float64\n",
      " 11  FGA                517429 non-null  float64\n",
      " 12  FG_PCT             517429 non-null  float64\n",
      " 13  FG3M               517429 non-null  float64\n",
      " 14  FG3A               517429 non-null  float64\n",
      " 15  FG3_PCT            517429 non-null  float64\n",
      " 16  FTM                517429 non-null  float64\n",
      " 17  FTA                517429 non-null  float64\n",
      " 18  FT_PCT             517429 non-null  float64\n",
      " 19  OREB               517429 non-null  float64\n",
      " 20  DREB               517429 non-null  float64\n",
      " 21  REB                517429 non-null  float64\n",
      " 22  AST                517429 non-null  float64\n",
      " 23  STL                517429 non-null  float64\n",
      " 24  BLK                517429 non-null  float64\n",
      " 25  TO                 517429 non-null  float64\n",
      " 26  PF                 517429 non-null  float64\n",
      " 27  PTS                517429 non-null  float64\n",
      " 28  PLUS_MINUS         517429 non-null  float64\n",
      " 29  SEASON             517429 non-null  int64  \n",
      "dtypes: float64(19), int64(4), object(7)\n",
      "memory usage: 118.4+ MB\n"
     ]
    }
   ],
   "source": [
    "games_full_df.info()"
   ]
  },
  {
   "cell_type": "code",
   "execution_count": 39,
   "metadata": {},
   "outputs": [],
   "source": [
    "games_full_df = pd.merge(games_full_df, teams_df[['TEAM_ID', 'NICKNAME']], how='inner', left_on='TEAM_ID', right_on='TEAM_ID')"
   ]
  },
  {
   "cell_type": "code",
   "execution_count": 40,
   "metadata": {},
   "outputs": [],
   "source": [
    "games_full_df.rename(columns={'NICKNAME': 'TEAM'}, inplace=True)"
   ]
  },
  {
   "cell_type": "code",
   "execution_count": 41,
   "metadata": {},
   "outputs": [
    {
     "name": "stdout",
     "output_type": "stream",
     "text": [
      "<class 'pandas.core.frame.DataFrame'>\n",
      "RangeIndex: 517429 entries, 0 to 517428\n",
      "Data columns (total 31 columns):\n",
      " #   Column             Non-Null Count   Dtype  \n",
      "---  ------             --------------   -----  \n",
      " 0   GAME_ID            517429 non-null  int64  \n",
      " 1   TEAM_ID            517429 non-null  int64  \n",
      " 2   TEAM_ABBREVIATION  517429 non-null  object \n",
      " 3   TEAM_CITY          517429 non-null  object \n",
      " 4   PLAYER_ID          517429 non-null  int64  \n",
      " 5   PLAYER_NAME        517429 non-null  object \n",
      " 6   PLAYER_NICKNAME    517429 non-null  object \n",
      " 7   START_POSITION     517429 non-null  object \n",
      " 8   COMMENT            517429 non-null  object \n",
      " 9   MIN                517429 non-null  object \n",
      " 10  FGM                517429 non-null  float64\n",
      " 11  FGA                517429 non-null  float64\n",
      " 12  FG_PCT             517429 non-null  float64\n",
      " 13  FG3M               517429 non-null  float64\n",
      " 14  FG3A               517429 non-null  float64\n",
      " 15  FG3_PCT            517429 non-null  float64\n",
      " 16  FTM                517429 non-null  float64\n",
      " 17  FTA                517429 non-null  float64\n",
      " 18  FT_PCT             517429 non-null  float64\n",
      " 19  OREB               517429 non-null  float64\n",
      " 20  DREB               517429 non-null  float64\n",
      " 21  REB                517429 non-null  float64\n",
      " 22  AST                517429 non-null  float64\n",
      " 23  STL                517429 non-null  float64\n",
      " 24  BLK                517429 non-null  float64\n",
      " 25  TO                 517429 non-null  float64\n",
      " 26  PF                 517429 non-null  float64\n",
      " 27  PTS                517429 non-null  float64\n",
      " 28  PLUS_MINUS         517429 non-null  float64\n",
      " 29  SEASON             517429 non-null  int64  \n",
      " 30  TEAM               517429 non-null  object \n",
      "dtypes: float64(19), int64(4), object(8)\n",
      "memory usage: 122.4+ MB\n"
     ]
    }
   ],
   "source": [
    "games_full_df.info()"
   ]
  },
  {
   "attachments": {},
   "cell_type": "markdown",
   "metadata": {},
   "source": [
    "# Data Visualization"
   ]
  },
  {
   "attachments": {},
   "cell_type": "markdown",
   "metadata": {},
   "source": [
    "### For each season, evaluate top players for pts, reb, assist and fg3"
   ]
  },
  {
   "cell_type": "code",
   "execution_count": 42,
   "metadata": {},
   "outputs": [
    {
     "data": {
      "text/html": [
       "<div>\n",
       "<style scoped>\n",
       "    .dataframe tbody tr th:only-of-type {\n",
       "        vertical-align: middle;\n",
       "    }\n",
       "\n",
       "    .dataframe tbody tr th {\n",
       "        vertical-align: top;\n",
       "    }\n",
       "\n",
       "    .dataframe thead th {\n",
       "        text-align: right;\n",
       "    }\n",
       "</style>\n",
       "<table border=\"1\" class=\"dataframe\">\n",
       "  <thead>\n",
       "    <tr style=\"text-align: right;\">\n",
       "      <th></th>\n",
       "      <th>GAME_ID</th>\n",
       "      <th>TEAM_ID</th>\n",
       "      <th>TEAM_ABBREVIATION</th>\n",
       "      <th>TEAM_CITY</th>\n",
       "      <th>PLAYER_ID</th>\n",
       "      <th>PLAYER_NAME</th>\n",
       "      <th>PLAYER_NICKNAME</th>\n",
       "      <th>START_POSITION</th>\n",
       "      <th>COMMENT</th>\n",
       "      <th>MIN</th>\n",
       "      <th>...</th>\n",
       "      <th>REB</th>\n",
       "      <th>AST</th>\n",
       "      <th>STL</th>\n",
       "      <th>BLK</th>\n",
       "      <th>TO</th>\n",
       "      <th>PF</th>\n",
       "      <th>PTS</th>\n",
       "      <th>PLUS_MINUS</th>\n",
       "      <th>SEASON</th>\n",
       "      <th>TEAM</th>\n",
       "    </tr>\n",
       "  </thead>\n",
       "  <tbody>\n",
       "    <tr>\n",
       "      <th>0</th>\n",
       "      <td>22101005</td>\n",
       "      <td>1610612750</td>\n",
       "      <td>MIN</td>\n",
       "      <td>Minnesota</td>\n",
       "      <td>1630162</td>\n",
       "      <td>Anthony Edwards</td>\n",
       "      <td>Anthony</td>\n",
       "      <td>F</td>\n",
       "      <td>N/A</td>\n",
       "      <td>36:22</td>\n",
       "      <td>...</td>\n",
       "      <td>8.0</td>\n",
       "      <td>5.0</td>\n",
       "      <td>3.0</td>\n",
       "      <td>1.0</td>\n",
       "      <td>1.0</td>\n",
       "      <td>1.0</td>\n",
       "      <td>15.0</td>\n",
       "      <td>5.0</td>\n",
       "      <td>2021</td>\n",
       "      <td>Timberwolves</td>\n",
       "    </tr>\n",
       "    <tr>\n",
       "      <th>1</th>\n",
       "      <td>22101005</td>\n",
       "      <td>1610612750</td>\n",
       "      <td>MIN</td>\n",
       "      <td>Minnesota</td>\n",
       "      <td>1630183</td>\n",
       "      <td>Jaden McDaniels</td>\n",
       "      <td>Jaden</td>\n",
       "      <td>F</td>\n",
       "      <td>N/A</td>\n",
       "      <td>23:54</td>\n",
       "      <td>...</td>\n",
       "      <td>6.0</td>\n",
       "      <td>0.0</td>\n",
       "      <td>0.0</td>\n",
       "      <td>2.0</td>\n",
       "      <td>2.0</td>\n",
       "      <td>6.0</td>\n",
       "      <td>14.0</td>\n",
       "      <td>10.0</td>\n",
       "      <td>2021</td>\n",
       "      <td>Timberwolves</td>\n",
       "    </tr>\n",
       "    <tr>\n",
       "      <th>2</th>\n",
       "      <td>22101005</td>\n",
       "      <td>1610612750</td>\n",
       "      <td>MIN</td>\n",
       "      <td>Minnesota</td>\n",
       "      <td>1626157</td>\n",
       "      <td>Karl-Anthony Towns</td>\n",
       "      <td>Karl-Anthony</td>\n",
       "      <td>C</td>\n",
       "      <td>N/A</td>\n",
       "      <td>25:17</td>\n",
       "      <td>...</td>\n",
       "      <td>10.0</td>\n",
       "      <td>0.0</td>\n",
       "      <td>0.0</td>\n",
       "      <td>0.0</td>\n",
       "      <td>3.0</td>\n",
       "      <td>4.0</td>\n",
       "      <td>15.0</td>\n",
       "      <td>14.0</td>\n",
       "      <td>2021</td>\n",
       "      <td>Timberwolves</td>\n",
       "    </tr>\n",
       "    <tr>\n",
       "      <th>3</th>\n",
       "      <td>22101005</td>\n",
       "      <td>1610612750</td>\n",
       "      <td>MIN</td>\n",
       "      <td>Minnesota</td>\n",
       "      <td>1627736</td>\n",
       "      <td>Malik Beasley</td>\n",
       "      <td>Malik</td>\n",
       "      <td>G</td>\n",
       "      <td>N/A</td>\n",
       "      <td>30:52</td>\n",
       "      <td>...</td>\n",
       "      <td>3.0</td>\n",
       "      <td>1.0</td>\n",
       "      <td>1.0</td>\n",
       "      <td>0.0</td>\n",
       "      <td>1.0</td>\n",
       "      <td>4.0</td>\n",
       "      <td>12.0</td>\n",
       "      <td>20.0</td>\n",
       "      <td>2021</td>\n",
       "      <td>Timberwolves</td>\n",
       "    </tr>\n",
       "    <tr>\n",
       "      <th>4</th>\n",
       "      <td>22101005</td>\n",
       "      <td>1610612750</td>\n",
       "      <td>MIN</td>\n",
       "      <td>Minnesota</td>\n",
       "      <td>1626156</td>\n",
       "      <td>D'Angelo Russell</td>\n",
       "      <td>D'Angelo</td>\n",
       "      <td>G</td>\n",
       "      <td>N/A</td>\n",
       "      <td>33:46</td>\n",
       "      <td>...</td>\n",
       "      <td>6.0</td>\n",
       "      <td>9.0</td>\n",
       "      <td>1.0</td>\n",
       "      <td>0.0</td>\n",
       "      <td>5.0</td>\n",
       "      <td>0.0</td>\n",
       "      <td>14.0</td>\n",
       "      <td>17.0</td>\n",
       "      <td>2021</td>\n",
       "      <td>Timberwolves</td>\n",
       "    </tr>\n",
       "    <tr>\n",
       "      <th>5</th>\n",
       "      <td>22101005</td>\n",
       "      <td>1610612750</td>\n",
       "      <td>MIN</td>\n",
       "      <td>Minnesota</td>\n",
       "      <td>1629675</td>\n",
       "      <td>Naz Reid</td>\n",
       "      <td>Naz</td>\n",
       "      <td>N/A</td>\n",
       "      <td>N/A</td>\n",
       "      <td>23:56</td>\n",
       "      <td>...</td>\n",
       "      <td>10.0</td>\n",
       "      <td>1.0</td>\n",
       "      <td>3.0</td>\n",
       "      <td>2.0</td>\n",
       "      <td>1.0</td>\n",
       "      <td>1.0</td>\n",
       "      <td>11.0</td>\n",
       "      <td>-7.0</td>\n",
       "      <td>2021</td>\n",
       "      <td>Timberwolves</td>\n",
       "    </tr>\n",
       "    <tr>\n",
       "      <th>6</th>\n",
       "      <td>22101005</td>\n",
       "      <td>1610612750</td>\n",
       "      <td>MIN</td>\n",
       "      <td>Minnesota</td>\n",
       "      <td>1629162</td>\n",
       "      <td>Jordan McLaughlin</td>\n",
       "      <td>Jordan</td>\n",
       "      <td>N/A</td>\n",
       "      <td>N/A</td>\n",
       "      <td>21:00</td>\n",
       "      <td>...</td>\n",
       "      <td>1.0</td>\n",
       "      <td>3.0</td>\n",
       "      <td>3.0</td>\n",
       "      <td>0.0</td>\n",
       "      <td>0.0</td>\n",
       "      <td>1.0</td>\n",
       "      <td>5.0</td>\n",
       "      <td>-10.0</td>\n",
       "      <td>2021</td>\n",
       "      <td>Timberwolves</td>\n",
       "    </tr>\n",
       "    <tr>\n",
       "      <th>7</th>\n",
       "      <td>22101005</td>\n",
       "      <td>1610612750</td>\n",
       "      <td>MIN</td>\n",
       "      <td>Minnesota</td>\n",
       "      <td>1629669</td>\n",
       "      <td>Jaylen Nowell</td>\n",
       "      <td>Jaylen</td>\n",
       "      <td>N/A</td>\n",
       "      <td>N/A</td>\n",
       "      <td>21:35</td>\n",
       "      <td>...</td>\n",
       "      <td>0.0</td>\n",
       "      <td>1.0</td>\n",
       "      <td>0.0</td>\n",
       "      <td>0.0</td>\n",
       "      <td>0.0</td>\n",
       "      <td>0.0</td>\n",
       "      <td>16.0</td>\n",
       "      <td>-5.0</td>\n",
       "      <td>2021</td>\n",
       "      <td>Timberwolves</td>\n",
       "    </tr>\n",
       "    <tr>\n",
       "      <th>8</th>\n",
       "      <td>22101005</td>\n",
       "      <td>1610612750</td>\n",
       "      <td>MIN</td>\n",
       "      <td>Minnesota</td>\n",
       "      <td>1627752</td>\n",
       "      <td>Taurean Prince</td>\n",
       "      <td>Taurean</td>\n",
       "      <td>N/A</td>\n",
       "      <td>N/A</td>\n",
       "      <td>22:53</td>\n",
       "      <td>...</td>\n",
       "      <td>2.0</td>\n",
       "      <td>1.0</td>\n",
       "      <td>1.0</td>\n",
       "      <td>0.0</td>\n",
       "      <td>1.0</td>\n",
       "      <td>2.0</td>\n",
       "      <td>11.0</td>\n",
       "      <td>1.0</td>\n",
       "      <td>2021</td>\n",
       "      <td>Timberwolves</td>\n",
       "    </tr>\n",
       "    <tr>\n",
       "      <th>9</th>\n",
       "      <td>22101005</td>\n",
       "      <td>1610612750</td>\n",
       "      <td>MIN</td>\n",
       "      <td>Minnesota</td>\n",
       "      <td>1629006</td>\n",
       "      <td>Josh Okogie</td>\n",
       "      <td>Josh</td>\n",
       "      <td>N/A</td>\n",
       "      <td>N/A</td>\n",
       "      <td>0:25</td>\n",
       "      <td>...</td>\n",
       "      <td>0.0</td>\n",
       "      <td>0.0</td>\n",
       "      <td>0.0</td>\n",
       "      <td>0.0</td>\n",
       "      <td>0.0</td>\n",
       "      <td>0.0</td>\n",
       "      <td>0.0</td>\n",
       "      <td>0.0</td>\n",
       "      <td>2021</td>\n",
       "      <td>Timberwolves</td>\n",
       "    </tr>\n",
       "  </tbody>\n",
       "</table>\n",
       "<p>10 rows × 31 columns</p>\n",
       "</div>"
      ],
      "text/plain": [
       "    GAME_ID     TEAM_ID TEAM_ABBREVIATION  TEAM_CITY  PLAYER_ID  \\\n",
       "0  22101005  1610612750               MIN  Minnesota    1630162   \n",
       "1  22101005  1610612750               MIN  Minnesota    1630183   \n",
       "2  22101005  1610612750               MIN  Minnesota    1626157   \n",
       "3  22101005  1610612750               MIN  Minnesota    1627736   \n",
       "4  22101005  1610612750               MIN  Minnesota    1626156   \n",
       "5  22101005  1610612750               MIN  Minnesota    1629675   \n",
       "6  22101005  1610612750               MIN  Minnesota    1629162   \n",
       "7  22101005  1610612750               MIN  Minnesota    1629669   \n",
       "8  22101005  1610612750               MIN  Minnesota    1627752   \n",
       "9  22101005  1610612750               MIN  Minnesota    1629006   \n",
       "\n",
       "          PLAYER_NAME PLAYER_NICKNAME START_POSITION COMMENT    MIN  ...  \\\n",
       "0     Anthony Edwards         Anthony              F     N/A  36:22  ...   \n",
       "1     Jaden McDaniels           Jaden              F     N/A  23:54  ...   \n",
       "2  Karl-Anthony Towns    Karl-Anthony              C     N/A  25:17  ...   \n",
       "3       Malik Beasley           Malik              G     N/A  30:52  ...   \n",
       "4    D'Angelo Russell        D'Angelo              G     N/A  33:46  ...   \n",
       "5            Naz Reid             Naz            N/A     N/A  23:56  ...   \n",
       "6   Jordan McLaughlin          Jordan            N/A     N/A  21:00  ...   \n",
       "7       Jaylen Nowell          Jaylen            N/A     N/A  21:35  ...   \n",
       "8      Taurean Prince         Taurean            N/A     N/A  22:53  ...   \n",
       "9         Josh Okogie            Josh            N/A     N/A   0:25  ...   \n",
       "\n",
       "    REB  AST  STL  BLK   TO   PF   PTS  PLUS_MINUS  SEASON          TEAM  \n",
       "0   8.0  5.0  3.0  1.0  1.0  1.0  15.0         5.0    2021  Timberwolves  \n",
       "1   6.0  0.0  0.0  2.0  2.0  6.0  14.0        10.0    2021  Timberwolves  \n",
       "2  10.0  0.0  0.0  0.0  3.0  4.0  15.0        14.0    2021  Timberwolves  \n",
       "3   3.0  1.0  1.0  0.0  1.0  4.0  12.0        20.0    2021  Timberwolves  \n",
       "4   6.0  9.0  1.0  0.0  5.0  0.0  14.0        17.0    2021  Timberwolves  \n",
       "5  10.0  1.0  3.0  2.0  1.0  1.0  11.0        -7.0    2021  Timberwolves  \n",
       "6   1.0  3.0  3.0  0.0  0.0  1.0   5.0       -10.0    2021  Timberwolves  \n",
       "7   0.0  1.0  0.0  0.0  0.0  0.0  16.0        -5.0    2021  Timberwolves  \n",
       "8   2.0  1.0  1.0  0.0  1.0  2.0  11.0         1.0    2021  Timberwolves  \n",
       "9   0.0  0.0  0.0  0.0  0.0  0.0   0.0         0.0    2021  Timberwolves  \n",
       "\n",
       "[10 rows x 31 columns]"
      ]
     },
     "execution_count": 42,
     "metadata": {},
     "output_type": "execute_result"
    }
   ],
   "source": [
    "games_full_df.head(10)"
   ]
  },
  {
   "cell_type": "code",
   "execution_count": 43,
   "metadata": {},
   "outputs": [
    {
     "data": {
      "text/plain": [
       "0         Timberwolves\n",
       "1         Timberwolves\n",
       "2         Timberwolves\n",
       "3         Timberwolves\n",
       "4         Timberwolves\n",
       "              ...     \n",
       "517424         Thunder\n",
       "517425         Thunder\n",
       "517426         Thunder\n",
       "517427         Thunder\n",
       "517428         Thunder\n",
       "Name: TEAM, Length: 517429, dtype: object"
      ]
     },
     "execution_count": 43,
     "metadata": {},
     "output_type": "execute_result"
    }
   ],
   "source": [
    "games_full_df['TEAM']"
   ]
  },
  {
   "cell_type": "code",
   "execution_count": 44,
   "metadata": {},
   "outputs": [],
   "source": [
    "performances_by_season_sum = games_full_df.groupby(['SEASON', 'TEAM','PLAYER_NAME'])[['PTS','REB', 'AST', 'FG3M', 'FG3A']].sum()\n",
    "performances_by_season_avg = games_full_df.groupby(['SEASON', 'TEAM', 'PLAYER_NAME'])[['PTS','REB', 'AST', 'FG3M', 'FG3A']].mean()"
   ]
  },
  {
   "cell_type": "code",
   "execution_count": 98,
   "metadata": {},
   "outputs": [],
   "source": [
    "performances_by_season_sum2 = games_full_df.groupby(['SEASON', 'TEAM','PLAYER_NAME'])[['PTS','REB', 'AST', 'FG3M', 'FG3A']].sum().reset_index()"
   ]
  },
  {
   "cell_type": "code",
   "execution_count": 99,
   "metadata": {},
   "outputs": [
    {
     "data": {
      "text/html": [
       "<div>\n",
       "<style scoped>\n",
       "    .dataframe tbody tr th:only-of-type {\n",
       "        vertical-align: middle;\n",
       "    }\n",
       "\n",
       "    .dataframe tbody tr th {\n",
       "        vertical-align: top;\n",
       "    }\n",
       "\n",
       "    .dataframe thead th {\n",
       "        text-align: right;\n",
       "    }\n",
       "</style>\n",
       "<table border=\"1\" class=\"dataframe\">\n",
       "  <thead>\n",
       "    <tr style=\"text-align: right;\">\n",
       "      <th></th>\n",
       "      <th>SEASON</th>\n",
       "      <th>TEAM</th>\n",
       "      <th>PLAYER_NAME</th>\n",
       "      <th>PTS</th>\n",
       "      <th>REB</th>\n",
       "      <th>AST</th>\n",
       "      <th>FG3M</th>\n",
       "      <th>FG3A</th>\n",
       "    </tr>\n",
       "  </thead>\n",
       "  <tbody>\n",
       "    <tr>\n",
       "      <th>0</th>\n",
       "      <td>2003</td>\n",
       "      <td>76ers</td>\n",
       "      <td>Aaron McKie</td>\n",
       "      <td>689.0</td>\n",
       "      <td>253.0</td>\n",
       "      <td>195.0</td>\n",
       "      <td>75.0</td>\n",
       "      <td>172.0</td>\n",
       "    </tr>\n",
       "    <tr>\n",
       "      <th>1</th>\n",
       "      <td>2003</td>\n",
       "      <td>76ers</td>\n",
       "      <td>Allen Iverson</td>\n",
       "      <td>1266.0</td>\n",
       "      <td>178.0</td>\n",
       "      <td>324.0</td>\n",
       "      <td>57.0</td>\n",
       "      <td>199.0</td>\n",
       "    </tr>\n",
       "    <tr>\n",
       "      <th>2</th>\n",
       "      <td>2003</td>\n",
       "      <td>76ers</td>\n",
       "      <td>Amal McCaskill</td>\n",
       "      <td>113.0</td>\n",
       "      <td>133.0</td>\n",
       "      <td>20.0</td>\n",
       "      <td>0.0</td>\n",
       "      <td>1.0</td>\n",
       "    </tr>\n",
       "    <tr>\n",
       "      <th>3</th>\n",
       "      <td>2003</td>\n",
       "      <td>76ers</td>\n",
       "      <td>Derrick Coleman</td>\n",
       "      <td>271.0</td>\n",
       "      <td>192.0</td>\n",
       "      <td>46.0</td>\n",
       "      <td>8.0</td>\n",
       "      <td>36.0</td>\n",
       "    </tr>\n",
       "    <tr>\n",
       "      <th>4</th>\n",
       "      <td>2003</td>\n",
       "      <td>76ers</td>\n",
       "      <td>Eric Snow</td>\n",
       "      <td>844.0</td>\n",
       "      <td>281.0</td>\n",
       "      <td>563.0</td>\n",
       "      <td>2.0</td>\n",
       "      <td>18.0</td>\n",
       "    </tr>\n",
       "  </tbody>\n",
       "</table>\n",
       "</div>"
      ],
      "text/plain": [
       "   SEASON   TEAM      PLAYER_NAME     PTS    REB    AST  FG3M   FG3A\n",
       "0    2003  76ers      Aaron McKie   689.0  253.0  195.0  75.0  172.0\n",
       "1    2003  76ers    Allen Iverson  1266.0  178.0  324.0  57.0  199.0\n",
       "2    2003  76ers   Amal McCaskill   113.0  133.0   20.0   0.0    1.0\n",
       "3    2003  76ers  Derrick Coleman   271.0  192.0   46.0   8.0   36.0\n",
       "4    2003  76ers        Eric Snow   844.0  281.0  563.0   2.0   18.0"
      ]
     },
     "execution_count": 99,
     "metadata": {},
     "output_type": "execute_result"
    }
   ],
   "source": [
    "performances_by_season_sum2.head()"
   ]
  },
  {
   "cell_type": "code",
   "execution_count": 45,
   "metadata": {},
   "outputs": [
    {
     "name": "stdout",
     "output_type": "stream",
     "text": [
      "<class 'pandas.core.frame.DataFrame'>\n",
      "MultiIndex: 11222 entries, (2003, '76ers', 'Aaron McKie') to (2021, 'Wizards', 'Vernon Carey Jr.')\n",
      "Data columns (total 3 columns):\n",
      " #   Column  Non-Null Count  Dtype  \n",
      "---  ------  --------------  -----  \n",
      " 0   PTS     11222 non-null  float64\n",
      " 1   REB     11222 non-null  float64\n",
      " 2   AST     11222 non-null  float64\n",
      "dtypes: float64(3)\n",
      "memory usage: 324.6+ KB\n"
     ]
    }
   ],
   "source": [
    "performances_by_season_sum.info()"
   ]
  },
  {
   "cell_type": "code",
   "execution_count": 46,
   "metadata": {},
   "outputs": [
    {
     "data": {
      "text/html": [
       "<div>\n",
       "<style scoped>\n",
       "    .dataframe tbody tr th:only-of-type {\n",
       "        vertical-align: middle;\n",
       "    }\n",
       "\n",
       "    .dataframe tbody tr th {\n",
       "        vertical-align: top;\n",
       "    }\n",
       "\n",
       "    .dataframe thead th {\n",
       "        text-align: right;\n",
       "    }\n",
       "</style>\n",
       "<table border=\"1\" class=\"dataframe\">\n",
       "  <thead>\n",
       "    <tr style=\"text-align: right;\">\n",
       "      <th></th>\n",
       "      <th></th>\n",
       "      <th></th>\n",
       "      <th>PTS</th>\n",
       "      <th>REB</th>\n",
       "      <th>AST</th>\n",
       "    </tr>\n",
       "    <tr>\n",
       "      <th>SEASON</th>\n",
       "      <th>TEAM</th>\n",
       "      <th>PLAYER_NAME</th>\n",
       "      <th></th>\n",
       "      <th></th>\n",
       "      <th></th>\n",
       "    </tr>\n",
       "  </thead>\n",
       "  <tbody>\n",
       "    <tr>\n",
       "      <th rowspan=\"10\" valign=\"top\">2003</th>\n",
       "      <th rowspan=\"10\" valign=\"top\">76ers</th>\n",
       "      <th>Aaron McKie</th>\n",
       "      <td>689.0</td>\n",
       "      <td>253.0</td>\n",
       "      <td>195.0</td>\n",
       "    </tr>\n",
       "    <tr>\n",
       "      <th>Allen Iverson</th>\n",
       "      <td>1266.0</td>\n",
       "      <td>178.0</td>\n",
       "      <td>324.0</td>\n",
       "    </tr>\n",
       "    <tr>\n",
       "      <th>Amal McCaskill</th>\n",
       "      <td>113.0</td>\n",
       "      <td>133.0</td>\n",
       "      <td>20.0</td>\n",
       "    </tr>\n",
       "    <tr>\n",
       "      <th>Derrick Coleman</th>\n",
       "      <td>271.0</td>\n",
       "      <td>192.0</td>\n",
       "      <td>46.0</td>\n",
       "    </tr>\n",
       "    <tr>\n",
       "      <th>Eric Snow</th>\n",
       "      <td>844.0</td>\n",
       "      <td>281.0</td>\n",
       "      <td>563.0</td>\n",
       "    </tr>\n",
       "    <tr>\n",
       "      <th>Glenn Robinson</th>\n",
       "      <td>698.0</td>\n",
       "      <td>189.0</td>\n",
       "      <td>57.0</td>\n",
       "    </tr>\n",
       "    <tr>\n",
       "      <th>Greg Buckner</th>\n",
       "      <td>164.0</td>\n",
       "      <td>103.0</td>\n",
       "      <td>45.0</td>\n",
       "    </tr>\n",
       "    <tr>\n",
       "      <th>John Salmons</th>\n",
       "      <td>443.0</td>\n",
       "      <td>196.0</td>\n",
       "      <td>134.0</td>\n",
       "    </tr>\n",
       "    <tr>\n",
       "      <th>Kenny Thomas</th>\n",
       "      <td>1006.0</td>\n",
       "      <td>750.0</td>\n",
       "      <td>111.0</td>\n",
       "    </tr>\n",
       "    <tr>\n",
       "      <th>Kyle Korver</th>\n",
       "      <td>330.0</td>\n",
       "      <td>111.0</td>\n",
       "      <td>40.0</td>\n",
       "    </tr>\n",
       "  </tbody>\n",
       "</table>\n",
       "</div>"
      ],
      "text/plain": [
       "                                 PTS    REB    AST\n",
       "SEASON TEAM  PLAYER_NAME                          \n",
       "2003   76ers Aaron McKie       689.0  253.0  195.0\n",
       "             Allen Iverson    1266.0  178.0  324.0\n",
       "             Amal McCaskill    113.0  133.0   20.0\n",
       "             Derrick Coleman   271.0  192.0   46.0\n",
       "             Eric Snow         844.0  281.0  563.0\n",
       "             Glenn Robinson    698.0  189.0   57.0\n",
       "             Greg Buckner      164.0  103.0   45.0\n",
       "             John Salmons      443.0  196.0  134.0\n",
       "             Kenny Thomas     1006.0  750.0  111.0\n",
       "             Kyle Korver       330.0  111.0   40.0"
      ]
     },
     "execution_count": 46,
     "metadata": {},
     "output_type": "execute_result"
    }
   ],
   "source": [
    "performances_by_season_sum.head(10)"
   ]
  },
  {
   "cell_type": "code",
   "execution_count": 47,
   "metadata": {},
   "outputs": [
    {
     "data": {
      "text/html": [
       "<div>\n",
       "<style scoped>\n",
       "    .dataframe tbody tr th:only-of-type {\n",
       "        vertical-align: middle;\n",
       "    }\n",
       "\n",
       "    .dataframe tbody tr th {\n",
       "        vertical-align: top;\n",
       "    }\n",
       "\n",
       "    .dataframe thead th {\n",
       "        text-align: right;\n",
       "    }\n",
       "</style>\n",
       "<table border=\"1\" class=\"dataframe\">\n",
       "  <thead>\n",
       "    <tr style=\"text-align: right;\">\n",
       "      <th></th>\n",
       "      <th></th>\n",
       "      <th></th>\n",
       "      <th>PTS</th>\n",
       "      <th>REB</th>\n",
       "      <th>AST</th>\n",
       "      <th>FG3_PCT</th>\n",
       "    </tr>\n",
       "    <tr>\n",
       "      <th>SEASON</th>\n",
       "      <th>TEAM</th>\n",
       "      <th>PLAYER_NAME</th>\n",
       "      <th></th>\n",
       "      <th></th>\n",
       "      <th></th>\n",
       "      <th></th>\n",
       "    </tr>\n",
       "  </thead>\n",
       "  <tbody>\n",
       "    <tr>\n",
       "      <th rowspan=\"10\" valign=\"top\">2003</th>\n",
       "      <th rowspan=\"10\" valign=\"top\">76ers</th>\n",
       "      <th>Aaron McKie</th>\n",
       "      <td>9.186667</td>\n",
       "      <td>3.373333</td>\n",
       "      <td>2.600000</td>\n",
       "      <td>0.351800</td>\n",
       "    </tr>\n",
       "    <tr>\n",
       "      <th>Allen Iverson</th>\n",
       "      <td>26.375000</td>\n",
       "      <td>3.708333</td>\n",
       "      <td>6.750000</td>\n",
       "      <td>0.227979</td>\n",
       "    </tr>\n",
       "    <tr>\n",
       "      <th>Amal McCaskill</th>\n",
       "      <td>1.915254</td>\n",
       "      <td>2.254237</td>\n",
       "      <td>0.338983</td>\n",
       "      <td>0.000000</td>\n",
       "    </tr>\n",
       "    <tr>\n",
       "      <th>Derrick Coleman</th>\n",
       "      <td>7.970588</td>\n",
       "      <td>5.647059</td>\n",
       "      <td>1.352941</td>\n",
       "      <td>0.142147</td>\n",
       "    </tr>\n",
       "    <tr>\n",
       "      <th>Eric Snow</th>\n",
       "      <td>10.292683</td>\n",
       "      <td>3.426829</td>\n",
       "      <td>6.865854</td>\n",
       "      <td>0.024390</td>\n",
       "    </tr>\n",
       "    <tr>\n",
       "      <th>Glenn Robinson</th>\n",
       "      <td>16.619048</td>\n",
       "      <td>4.500000</td>\n",
       "      <td>1.357143</td>\n",
       "      <td>0.253548</td>\n",
       "    </tr>\n",
       "    <tr>\n",
       "      <th>Greg Buckner</th>\n",
       "      <td>3.094340</td>\n",
       "      <td>1.943396</td>\n",
       "      <td>0.849057</td>\n",
       "      <td>0.077981</td>\n",
       "    </tr>\n",
       "    <tr>\n",
       "      <th>John Salmons</th>\n",
       "      <td>5.753247</td>\n",
       "      <td>2.545455</td>\n",
       "      <td>1.740260</td>\n",
       "      <td>0.280286</td>\n",
       "    </tr>\n",
       "    <tr>\n",
       "      <th>Kenny Thomas</th>\n",
       "      <td>13.594595</td>\n",
       "      <td>10.135135</td>\n",
       "      <td>1.500000</td>\n",
       "      <td>0.013514</td>\n",
       "    </tr>\n",
       "    <tr>\n",
       "      <th>Kyle Korver</th>\n",
       "      <td>4.459459</td>\n",
       "      <td>1.500000</td>\n",
       "      <td>0.540541</td>\n",
       "      <td>0.273892</td>\n",
       "    </tr>\n",
       "  </tbody>\n",
       "</table>\n",
       "</div>"
      ],
      "text/plain": [
       "                                    PTS        REB       AST   FG3_PCT\n",
       "SEASON TEAM  PLAYER_NAME                                              \n",
       "2003   76ers Aaron McKie       9.186667   3.373333  2.600000  0.351800\n",
       "             Allen Iverson    26.375000   3.708333  6.750000  0.227979\n",
       "             Amal McCaskill    1.915254   2.254237  0.338983  0.000000\n",
       "             Derrick Coleman   7.970588   5.647059  1.352941  0.142147\n",
       "             Eric Snow        10.292683   3.426829  6.865854  0.024390\n",
       "             Glenn Robinson   16.619048   4.500000  1.357143  0.253548\n",
       "             Greg Buckner      3.094340   1.943396  0.849057  0.077981\n",
       "             John Salmons      5.753247   2.545455  1.740260  0.280286\n",
       "             Kenny Thomas     13.594595  10.135135  1.500000  0.013514\n",
       "             Kyle Korver       4.459459   1.500000  0.540541  0.273892"
      ]
     },
     "execution_count": 47,
     "metadata": {},
     "output_type": "execute_result"
    }
   ],
   "source": [
    "performances_by_season_avg.head(10)"
   ]
  },
  {
   "cell_type": "code",
   "execution_count": 48,
   "metadata": {},
   "outputs": [],
   "source": [
    "fig1 = make_subplots(rows=3, cols=2, row_titles=['# of Points','# of Rebounds', '# of Assists'], column_titles=['Summed data', 'Averaged Data'], row_heights=[20,20,30], column_widths=[20,20])"
   ]
  },
  {
   "cell_type": "code",
   "execution_count": 49,
   "metadata": {},
   "outputs": [],
   "source": [
    "team ='76ers'\n",
    "season = 2003\n",
    "players_avg_df = performances_by_season_avg.loc[season, team]\n",
    "players_sum_df = performances_by_season_sum.loc[season, team]"
   ]
  },
  {
   "cell_type": "code",
   "execution_count": 50,
   "metadata": {},
   "outputs": [],
   "source": [
    "best_avg_pts_player = players_avg_df[players_avg_df['PTS'] == players_avg_df['PTS'].max()].index.values\n",
    "best_avg_reb_player = players_avg_df[players_avg_df['REB'] == players_avg_df['REB'].max()].index.values\n",
    "best_avg_ast_player = players_avg_df[players_avg_df['AST'] == players_avg_df['AST'].max()].index.values\n",
    "best_avg_f3c_player = players_avg_df[players_avg_df['FG3_PCT'] == players_avg_df['FG3_PCT'].max()].index.values\n",
    "best_sum_pts_player = players_sum_df[players_sum_df['PTS'] == players_sum_df['PTS'].max()].index.values\n",
    "best_sum_reb_player = players_sum_df[players_sum_df['REB'] == players_sum_df['REB'].max()].index.values\n",
    "best_sum_ast_player = players_sum_df[players_sum_df['AST'] == players_sum_df['AST'].max()].index.values"
   ]
  },
  {
   "cell_type": "code",
   "execution_count": 97,
   "metadata": {},
   "outputs": [
    {
     "data": {
      "text/html": [
       "<div>\n",
       "<style scoped>\n",
       "    .dataframe tbody tr th:only-of-type {\n",
       "        vertical-align: middle;\n",
       "    }\n",
       "\n",
       "    .dataframe tbody tr th {\n",
       "        vertical-align: top;\n",
       "    }\n",
       "\n",
       "    .dataframe thead th {\n",
       "        text-align: right;\n",
       "    }\n",
       "</style>\n",
       "<table border=\"1\" class=\"dataframe\">\n",
       "  <thead>\n",
       "    <tr style=\"text-align: right;\">\n",
       "      <th></th>\n",
       "      <th>PTS</th>\n",
       "      <th>REB</th>\n",
       "      <th>AST</th>\n",
       "      <th>FG3_PCT</th>\n",
       "    </tr>\n",
       "    <tr>\n",
       "      <th>PLAYER_NAME</th>\n",
       "      <th></th>\n",
       "      <th></th>\n",
       "      <th></th>\n",
       "      <th></th>\n",
       "    </tr>\n",
       "  </thead>\n",
       "  <tbody>\n",
       "    <tr>\n",
       "      <th>Allen Iverson</th>\n",
       "      <td>26.375</td>\n",
       "      <td>3.708333</td>\n",
       "      <td>6.75</td>\n",
       "      <td>0.227979</td>\n",
       "    </tr>\n",
       "  </tbody>\n",
       "</table>\n",
       "</div>"
      ],
      "text/plain": [
       "                  PTS       REB   AST   FG3_PCT\n",
       "PLAYER_NAME                                    \n",
       "Allen Iverson  26.375  3.708333  6.75  0.227979"
      ]
     },
     "execution_count": 97,
     "metadata": {},
     "output_type": "execute_result"
    }
   ],
   "source": [
    "players_avg_df[players_avg_df['PTS'] == players_avg_df['PTS'].max()]"
   ]
  },
  {
   "cell_type": "code",
   "execution_count": 100,
   "metadata": {},
   "outputs": [],
   "source": [
    "season_data = performances_by_season_sum2[performances_by_season_sum2['SEASON'] == season]"
   ]
  },
  {
   "cell_type": "code",
   "execution_count": 101,
   "metadata": {},
   "outputs": [
    {
     "data": {
      "text/html": [
       "<div>\n",
       "<style scoped>\n",
       "    .dataframe tbody tr th:only-of-type {\n",
       "        vertical-align: middle;\n",
       "    }\n",
       "\n",
       "    .dataframe tbody tr th {\n",
       "        vertical-align: top;\n",
       "    }\n",
       "\n",
       "    .dataframe thead th {\n",
       "        text-align: right;\n",
       "    }\n",
       "</style>\n",
       "<table border=\"1\" class=\"dataframe\">\n",
       "  <thead>\n",
       "    <tr style=\"text-align: right;\">\n",
       "      <th></th>\n",
       "      <th>SEASON</th>\n",
       "      <th>TEAM</th>\n",
       "      <th>PLAYER_NAME</th>\n",
       "      <th>PTS</th>\n",
       "      <th>REB</th>\n",
       "      <th>AST</th>\n",
       "      <th>FG3M</th>\n",
       "      <th>FG3A</th>\n",
       "    </tr>\n",
       "  </thead>\n",
       "  <tbody>\n",
       "    <tr>\n",
       "      <th>9773</th>\n",
       "      <td>2020</td>\n",
       "      <td>76ers</td>\n",
       "      <td>Anthony Tolliver</td>\n",
       "      <td>17.0</td>\n",
       "      <td>10.0</td>\n",
       "      <td>2.0</td>\n",
       "      <td>4.0</td>\n",
       "      <td>14.0</td>\n",
       "    </tr>\n",
       "    <tr>\n",
       "      <th>9774</th>\n",
       "      <td>2020</td>\n",
       "      <td>76ers</td>\n",
       "      <td>Ben Simmons</td>\n",
       "      <td>1050.0</td>\n",
       "      <td>559.0</td>\n",
       "      <td>549.0</td>\n",
       "      <td>3.0</td>\n",
       "      <td>12.0</td>\n",
       "    </tr>\n",
       "    <tr>\n",
       "      <th>9775</th>\n",
       "      <td>2020</td>\n",
       "      <td>76ers</td>\n",
       "      <td>Dakota Mathias</td>\n",
       "      <td>48.0</td>\n",
       "      <td>7.0</td>\n",
       "      <td>14.0</td>\n",
       "      <td>8.0</td>\n",
       "      <td>29.0</td>\n",
       "    </tr>\n",
       "    <tr>\n",
       "      <th>9776</th>\n",
       "      <td>2020</td>\n",
       "      <td>76ers</td>\n",
       "      <td>Danny Green</td>\n",
       "      <td>737.0</td>\n",
       "      <td>289.0</td>\n",
       "      <td>145.0</td>\n",
       "      <td>194.0</td>\n",
       "      <td>489.0</td>\n",
       "    </tr>\n",
       "    <tr>\n",
       "      <th>9777</th>\n",
       "      <td>2020</td>\n",
       "      <td>76ers</td>\n",
       "      <td>Dwight Howard</td>\n",
       "      <td>561.0</td>\n",
       "      <td>677.0</td>\n",
       "      <td>72.0</td>\n",
       "      <td>5.0</td>\n",
       "      <td>21.0</td>\n",
       "    </tr>\n",
       "  </tbody>\n",
       "</table>\n",
       "</div>"
      ],
      "text/plain": [
       "      SEASON   TEAM       PLAYER_NAME     PTS    REB    AST   FG3M   FG3A\n",
       "9773    2020  76ers  Anthony Tolliver    17.0   10.0    2.0    4.0   14.0\n",
       "9774    2020  76ers       Ben Simmons  1050.0  559.0  549.0    3.0   12.0\n",
       "9775    2020  76ers    Dakota Mathias    48.0    7.0   14.0    8.0   29.0\n",
       "9776    2020  76ers       Danny Green   737.0  289.0  145.0  194.0  489.0\n",
       "9777    2020  76ers     Dwight Howard   561.0  677.0   72.0    5.0   21.0"
      ]
     },
     "execution_count": 101,
     "metadata": {},
     "output_type": "execute_result"
    }
   ],
   "source": [
    "season_data.head()"
   ]
  },
  {
   "cell_type": "code",
   "execution_count": 106,
   "metadata": {},
   "outputs": [
    {
     "data": {
      "text/plain": [
       "array(['Devin Booker'], dtype=object)"
      ]
     },
     "execution_count": 106,
     "metadata": {},
     "output_type": "execute_result"
    }
   ],
   "source": [
    "season_data[season_data['PTS'] == season_data['PTS'].max()]['PLAYER_NAME'].values"
   ]
  },
  {
   "cell_type": "code",
   "execution_count": 51,
   "metadata": {},
   "outputs": [
    {
     "data": {
      "text/plain": [
       "'Allen Iverson'"
      ]
     },
     "execution_count": 51,
     "metadata": {},
     "output_type": "execute_result"
    }
   ],
   "source": [
    "best_avg_pts_player[0]"
   ]
  },
  {
   "cell_type": "code",
   "execution_count": 52,
   "metadata": {},
   "outputs": [
    {
     "data": {
      "application/vnd.plotly.v1+json": {
       "config": {
        "plotlyServerURL": "https://plot.ly"
       },
       "data": [
        {
         "domain": {
          "column": 0,
          "row": 0
         },
         "title": {
          "text": "Allen Iverson"
         },
         "type": "indicator",
         "value": 1266
        },
        {
         "domain": {
          "column": 1,
          "row": 0
         },
         "title": {
          "text": "Allen Iverson"
         },
         "type": "indicator",
         "value": 26.375
        },
        {
         "domain": {
          "column": 0,
          "row": 1
         },
         "title": {
          "text": "Kenny Thomas"
         },
         "type": "indicator",
         "value": 750
        },
        {
         "domain": {
          "column": 1,
          "row": 1
         },
         "title": {
          "text": "Kenny Thomas"
         },
         "type": "indicator",
         "value": 10.135135135135135
        },
        {
         "domain": {
          "column": 0,
          "row": 2
         },
         "title": {
          "text": "Eric Snow"
         },
         "type": "indicator",
         "value": 563
        },
        {
         "domain": {
          "column": 1,
          "row": 2
         },
         "title": {
          "text": "Eric Snow"
         },
         "type": "indicator",
         "value": 6.865853658536586
        }
       ],
       "layout": {
        "annotations": [
         {
          "font": {
           "size": 16
          },
          "showarrow": false,
          "text": "Summed data",
          "x": 0.22,
          "xanchor": "center",
          "xref": "paper",
          "y": 0.9999999999999999,
          "yanchor": "bottom",
          "yref": "paper"
         },
         {
          "font": {
           "size": 16
          },
          "showarrow": false,
          "text": "Averaged Data",
          "x": 0.76,
          "xanchor": "center",
          "xref": "paper",
          "y": 0.9999999999999999,
          "yanchor": "bottom",
          "yref": "paper"
         },
         {
          "font": {
           "size": 16
          },
          "showarrow": false,
          "text": "# of Points",
          "textangle": 90,
          "x": 0.98,
          "xanchor": "left",
          "xref": "paper",
          "y": 0.8857142857142857,
          "yanchor": "middle",
          "yref": "paper"
         },
         {
          "font": {
           "size": 16
          },
          "showarrow": false,
          "text": "# of Rebounds",
          "textangle": 90,
          "x": 0.98,
          "xanchor": "left",
          "xref": "paper",
          "y": 0.5571428571428572,
          "yanchor": "middle",
          "yref": "paper"
         },
         {
          "font": {
           "size": 16
          },
          "showarrow": false,
          "text": "# of Assists",
          "textangle": 90,
          "x": 0.98,
          "xanchor": "left",
          "xref": "paper",
          "y": 0.17142857142857143,
          "yanchor": "middle",
          "yref": "paper"
         }
        ],
        "grid": {
         "columns": 2,
         "pattern": "independent",
         "rows": 2
        },
        "height": 700,
        "template": {
         "data": {
          "bar": [
           {
            "error_x": {
             "color": "#2a3f5f"
            },
            "error_y": {
             "color": "#2a3f5f"
            },
            "marker": {
             "line": {
              "color": "#E5ECF6",
              "width": 0.5
             },
             "pattern": {
              "fillmode": "overlay",
              "size": 10,
              "solidity": 0.2
             }
            },
            "type": "bar"
           }
          ],
          "barpolar": [
           {
            "marker": {
             "line": {
              "color": "#E5ECF6",
              "width": 0.5
             },
             "pattern": {
              "fillmode": "overlay",
              "size": 10,
              "solidity": 0.2
             }
            },
            "type": "barpolar"
           }
          ],
          "carpet": [
           {
            "aaxis": {
             "endlinecolor": "#2a3f5f",
             "gridcolor": "white",
             "linecolor": "white",
             "minorgridcolor": "white",
             "startlinecolor": "#2a3f5f"
            },
            "baxis": {
             "endlinecolor": "#2a3f5f",
             "gridcolor": "white",
             "linecolor": "white",
             "minorgridcolor": "white",
             "startlinecolor": "#2a3f5f"
            },
            "type": "carpet"
           }
          ],
          "choropleth": [
           {
            "colorbar": {
             "outlinewidth": 0,
             "ticks": ""
            },
            "type": "choropleth"
           }
          ],
          "contour": [
           {
            "colorbar": {
             "outlinewidth": 0,
             "ticks": ""
            },
            "colorscale": [
             [
              0,
              "#0d0887"
             ],
             [
              0.1111111111111111,
              "#46039f"
             ],
             [
              0.2222222222222222,
              "#7201a8"
             ],
             [
              0.3333333333333333,
              "#9c179e"
             ],
             [
              0.4444444444444444,
              "#bd3786"
             ],
             [
              0.5555555555555556,
              "#d8576b"
             ],
             [
              0.6666666666666666,
              "#ed7953"
             ],
             [
              0.7777777777777778,
              "#fb9f3a"
             ],
             [
              0.8888888888888888,
              "#fdca26"
             ],
             [
              1,
              "#f0f921"
             ]
            ],
            "type": "contour"
           }
          ],
          "contourcarpet": [
           {
            "colorbar": {
             "outlinewidth": 0,
             "ticks": ""
            },
            "type": "contourcarpet"
           }
          ],
          "heatmap": [
           {
            "colorbar": {
             "outlinewidth": 0,
             "ticks": ""
            },
            "colorscale": [
             [
              0,
              "#0d0887"
             ],
             [
              0.1111111111111111,
              "#46039f"
             ],
             [
              0.2222222222222222,
              "#7201a8"
             ],
             [
              0.3333333333333333,
              "#9c179e"
             ],
             [
              0.4444444444444444,
              "#bd3786"
             ],
             [
              0.5555555555555556,
              "#d8576b"
             ],
             [
              0.6666666666666666,
              "#ed7953"
             ],
             [
              0.7777777777777778,
              "#fb9f3a"
             ],
             [
              0.8888888888888888,
              "#fdca26"
             ],
             [
              1,
              "#f0f921"
             ]
            ],
            "type": "heatmap"
           }
          ],
          "heatmapgl": [
           {
            "colorbar": {
             "outlinewidth": 0,
             "ticks": ""
            },
            "colorscale": [
             [
              0,
              "#0d0887"
             ],
             [
              0.1111111111111111,
              "#46039f"
             ],
             [
              0.2222222222222222,
              "#7201a8"
             ],
             [
              0.3333333333333333,
              "#9c179e"
             ],
             [
              0.4444444444444444,
              "#bd3786"
             ],
             [
              0.5555555555555556,
              "#d8576b"
             ],
             [
              0.6666666666666666,
              "#ed7953"
             ],
             [
              0.7777777777777778,
              "#fb9f3a"
             ],
             [
              0.8888888888888888,
              "#fdca26"
             ],
             [
              1,
              "#f0f921"
             ]
            ],
            "type": "heatmapgl"
           }
          ],
          "histogram": [
           {
            "marker": {
             "pattern": {
              "fillmode": "overlay",
              "size": 10,
              "solidity": 0.2
             }
            },
            "type": "histogram"
           }
          ],
          "histogram2d": [
           {
            "colorbar": {
             "outlinewidth": 0,
             "ticks": ""
            },
            "colorscale": [
             [
              0,
              "#0d0887"
             ],
             [
              0.1111111111111111,
              "#46039f"
             ],
             [
              0.2222222222222222,
              "#7201a8"
             ],
             [
              0.3333333333333333,
              "#9c179e"
             ],
             [
              0.4444444444444444,
              "#bd3786"
             ],
             [
              0.5555555555555556,
              "#d8576b"
             ],
             [
              0.6666666666666666,
              "#ed7953"
             ],
             [
              0.7777777777777778,
              "#fb9f3a"
             ],
             [
              0.8888888888888888,
              "#fdca26"
             ],
             [
              1,
              "#f0f921"
             ]
            ],
            "type": "histogram2d"
           }
          ],
          "histogram2dcontour": [
           {
            "colorbar": {
             "outlinewidth": 0,
             "ticks": ""
            },
            "colorscale": [
             [
              0,
              "#0d0887"
             ],
             [
              0.1111111111111111,
              "#46039f"
             ],
             [
              0.2222222222222222,
              "#7201a8"
             ],
             [
              0.3333333333333333,
              "#9c179e"
             ],
             [
              0.4444444444444444,
              "#bd3786"
             ],
             [
              0.5555555555555556,
              "#d8576b"
             ],
             [
              0.6666666666666666,
              "#ed7953"
             ],
             [
              0.7777777777777778,
              "#fb9f3a"
             ],
             [
              0.8888888888888888,
              "#fdca26"
             ],
             [
              1,
              "#f0f921"
             ]
            ],
            "type": "histogram2dcontour"
           }
          ],
          "mesh3d": [
           {
            "colorbar": {
             "outlinewidth": 0,
             "ticks": ""
            },
            "type": "mesh3d"
           }
          ],
          "parcoords": [
           {
            "line": {
             "colorbar": {
              "outlinewidth": 0,
              "ticks": ""
             }
            },
            "type": "parcoords"
           }
          ],
          "pie": [
           {
            "automargin": true,
            "type": "pie"
           }
          ],
          "scatter": [
           {
            "fillpattern": {
             "fillmode": "overlay",
             "size": 10,
             "solidity": 0.2
            },
            "type": "scatter"
           }
          ],
          "scatter3d": [
           {
            "line": {
             "colorbar": {
              "outlinewidth": 0,
              "ticks": ""
             }
            },
            "marker": {
             "colorbar": {
              "outlinewidth": 0,
              "ticks": ""
             }
            },
            "type": "scatter3d"
           }
          ],
          "scattercarpet": [
           {
            "marker": {
             "colorbar": {
              "outlinewidth": 0,
              "ticks": ""
             }
            },
            "type": "scattercarpet"
           }
          ],
          "scattergeo": [
           {
            "marker": {
             "colorbar": {
              "outlinewidth": 0,
              "ticks": ""
             }
            },
            "type": "scattergeo"
           }
          ],
          "scattergl": [
           {
            "marker": {
             "colorbar": {
              "outlinewidth": 0,
              "ticks": ""
             }
            },
            "type": "scattergl"
           }
          ],
          "scattermapbox": [
           {
            "marker": {
             "colorbar": {
              "outlinewidth": 0,
              "ticks": ""
             }
            },
            "type": "scattermapbox"
           }
          ],
          "scatterpolar": [
           {
            "marker": {
             "colorbar": {
              "outlinewidth": 0,
              "ticks": ""
             }
            },
            "type": "scatterpolar"
           }
          ],
          "scatterpolargl": [
           {
            "marker": {
             "colorbar": {
              "outlinewidth": 0,
              "ticks": ""
             }
            },
            "type": "scatterpolargl"
           }
          ],
          "scatterternary": [
           {
            "marker": {
             "colorbar": {
              "outlinewidth": 0,
              "ticks": ""
             }
            },
            "type": "scatterternary"
           }
          ],
          "surface": [
           {
            "colorbar": {
             "outlinewidth": 0,
             "ticks": ""
            },
            "colorscale": [
             [
              0,
              "#0d0887"
             ],
             [
              0.1111111111111111,
              "#46039f"
             ],
             [
              0.2222222222222222,
              "#7201a8"
             ],
             [
              0.3333333333333333,
              "#9c179e"
             ],
             [
              0.4444444444444444,
              "#bd3786"
             ],
             [
              0.5555555555555556,
              "#d8576b"
             ],
             [
              0.6666666666666666,
              "#ed7953"
             ],
             [
              0.7777777777777778,
              "#fb9f3a"
             ],
             [
              0.8888888888888888,
              "#fdca26"
             ],
             [
              1,
              "#f0f921"
             ]
            ],
            "type": "surface"
           }
          ],
          "table": [
           {
            "cells": {
             "fill": {
              "color": "#EBF0F8"
             },
             "line": {
              "color": "white"
             }
            },
            "header": {
             "fill": {
              "color": "#C8D4E3"
             },
             "line": {
              "color": "white"
             }
            },
            "type": "table"
           }
          ]
         },
         "layout": {
          "annotationdefaults": {
           "arrowcolor": "#2a3f5f",
           "arrowhead": 0,
           "arrowwidth": 1
          },
          "autotypenumbers": "strict",
          "coloraxis": {
           "colorbar": {
            "outlinewidth": 0,
            "ticks": ""
           }
          },
          "colorscale": {
           "diverging": [
            [
             0,
             "#8e0152"
            ],
            [
             0.1,
             "#c51b7d"
            ],
            [
             0.2,
             "#de77ae"
            ],
            [
             0.3,
             "#f1b6da"
            ],
            [
             0.4,
             "#fde0ef"
            ],
            [
             0.5,
             "#f7f7f7"
            ],
            [
             0.6,
             "#e6f5d0"
            ],
            [
             0.7,
             "#b8e186"
            ],
            [
             0.8,
             "#7fbc41"
            ],
            [
             0.9,
             "#4d9221"
            ],
            [
             1,
             "#276419"
            ]
           ],
           "sequential": [
            [
             0,
             "#0d0887"
            ],
            [
             0.1111111111111111,
             "#46039f"
            ],
            [
             0.2222222222222222,
             "#7201a8"
            ],
            [
             0.3333333333333333,
             "#9c179e"
            ],
            [
             0.4444444444444444,
             "#bd3786"
            ],
            [
             0.5555555555555556,
             "#d8576b"
            ],
            [
             0.6666666666666666,
             "#ed7953"
            ],
            [
             0.7777777777777778,
             "#fb9f3a"
            ],
            [
             0.8888888888888888,
             "#fdca26"
            ],
            [
             1,
             "#f0f921"
            ]
           ],
           "sequentialminus": [
            [
             0,
             "#0d0887"
            ],
            [
             0.1111111111111111,
             "#46039f"
            ],
            [
             0.2222222222222222,
             "#7201a8"
            ],
            [
             0.3333333333333333,
             "#9c179e"
            ],
            [
             0.4444444444444444,
             "#bd3786"
            ],
            [
             0.5555555555555556,
             "#d8576b"
            ],
            [
             0.6666666666666666,
             "#ed7953"
            ],
            [
             0.7777777777777778,
             "#fb9f3a"
            ],
            [
             0.8888888888888888,
             "#fdca26"
            ],
            [
             1,
             "#f0f921"
            ]
           ]
          },
          "colorway": [
           "#636efa",
           "#EF553B",
           "#00cc96",
           "#ab63fa",
           "#FFA15A",
           "#19d3f3",
           "#FF6692",
           "#B6E880",
           "#FF97FF",
           "#FECB52"
          ],
          "font": {
           "color": "#2a3f5f"
          },
          "geo": {
           "bgcolor": "white",
           "lakecolor": "white",
           "landcolor": "#E5ECF6",
           "showlakes": true,
           "showland": true,
           "subunitcolor": "white"
          },
          "hoverlabel": {
           "align": "left"
          },
          "hovermode": "closest",
          "mapbox": {
           "style": "light"
          },
          "paper_bgcolor": "white",
          "plot_bgcolor": "#E5ECF6",
          "polar": {
           "angularaxis": {
            "gridcolor": "white",
            "linecolor": "white",
            "ticks": ""
           },
           "bgcolor": "#E5ECF6",
           "radialaxis": {
            "gridcolor": "white",
            "linecolor": "white",
            "ticks": ""
           }
          },
          "scene": {
           "xaxis": {
            "backgroundcolor": "#E5ECF6",
            "gridcolor": "white",
            "gridwidth": 2,
            "linecolor": "white",
            "showbackground": true,
            "ticks": "",
            "zerolinecolor": "white"
           },
           "yaxis": {
            "backgroundcolor": "#E5ECF6",
            "gridcolor": "white",
            "gridwidth": 2,
            "linecolor": "white",
            "showbackground": true,
            "ticks": "",
            "zerolinecolor": "white"
           },
           "zaxis": {
            "backgroundcolor": "#E5ECF6",
            "gridcolor": "white",
            "gridwidth": 2,
            "linecolor": "white",
            "showbackground": true,
            "ticks": "",
            "zerolinecolor": "white"
           }
          },
          "shapedefaults": {
           "line": {
            "color": "#2a3f5f"
           }
          },
          "ternary": {
           "aaxis": {
            "gridcolor": "white",
            "linecolor": "white",
            "ticks": ""
           },
           "baxis": {
            "gridcolor": "white",
            "linecolor": "white",
            "ticks": ""
           },
           "bgcolor": "#E5ECF6",
           "caxis": {
            "gridcolor": "white",
            "linecolor": "white",
            "ticks": ""
           }
          },
          "title": {
           "x": 0.05
          },
          "xaxis": {
           "automargin": true,
           "gridcolor": "white",
           "linecolor": "white",
           "ticks": "",
           "title": {
            "standoff": 15
           },
           "zerolinecolor": "white",
           "zerolinewidth": 2
          },
          "yaxis": {
           "automargin": true,
           "gridcolor": "white",
           "linecolor": "white",
           "ticks": "",
           "title": {
            "standoff": 15
           },
           "zerolinecolor": "white",
           "zerolinewidth": 2
          }
         }
        },
        "width": 700,
        "xaxis": {
         "anchor": "y",
         "domain": [
          0,
          0.44
         ]
        },
        "xaxis2": {
         "anchor": "y2",
         "domain": [
          0.54,
          0.98
         ]
        },
        "xaxis3": {
         "anchor": "y3",
         "domain": [
          0,
          0.44
         ]
        },
        "xaxis4": {
         "anchor": "y4",
         "domain": [
          0.54,
          0.98
         ]
        },
        "xaxis5": {
         "anchor": "y5",
         "domain": [
          0,
          0.44
         ]
        },
        "xaxis6": {
         "anchor": "y6",
         "domain": [
          0.54,
          0.98
         ]
        },
        "yaxis": {
         "anchor": "x",
         "domain": [
          0.7714285714285714,
          0.9999999999999999
         ]
        },
        "yaxis2": {
         "anchor": "x2",
         "domain": [
          0.7714285714285714,
          0.9999999999999999
         ]
        },
        "yaxis3": {
         "anchor": "x3",
         "domain": [
          0.44285714285714284,
          0.6714285714285714
         ]
        },
        "yaxis4": {
         "anchor": "x4",
         "domain": [
          0.44285714285714284,
          0.6714285714285714
         ]
        },
        "yaxis5": {
         "anchor": "x5",
         "domain": [
          0,
          0.34285714285714286
         ]
        },
        "yaxis6": {
         "anchor": "x6",
         "domain": [
          0,
          0.34285714285714286
         ]
        }
       }
      }
     },
     "metadata": {},
     "output_type": "display_data"
    }
   ],
   "source": [
    "fig1.add_trace(\n",
    "    pxgo.Indicator(value=players_sum_df['PTS'].max(), title=best_sum_pts_player[0],domain={'row': 0, 'column': 0}),\n",
    ")\n",
    "fig1.add_trace(\n",
    "    pxgo.Indicator(value=players_avg_df['PTS'].max(), title=best_avg_pts_player[0],domain={'row': 0, 'column': 1}),\n",
    ")\n",
    "fig1.add_trace(\n",
    "    pxgo.Indicator(value=players_sum_df['REB'].max(), title=best_sum_reb_player[0],domain={'row': 1, 'column': 0}),\n",
    ")\n",
    "fig1.add_trace(\n",
    "    pxgo.Indicator(value=players_avg_df['REB'].max(), title=best_avg_reb_player[0],domain={'row': 1, 'column': 1}),\n",
    ")\n",
    "fig1.add_trace(\n",
    "    pxgo.Indicator(value=players_sum_df['AST'].max(), title=best_sum_ast_player[0],domain={'row': 2, 'column': 0}),\n",
    ")\n",
    "fig1.add_trace(\n",
    "    pxgo.Indicator(value=players_avg_df['AST'].max(), title=best_avg_ast_player[0],domain={'row': 2, 'column': 1}),\n",
    ")\n",
    "fig1.update_layout(width=700, height=700, grid = {'rows': 2, 'columns': 2, 'pattern': \"independent\"})\n",
    "fig1.show()"
   ]
  },
  {
   "cell_type": "markdown",
   "metadata": {},
   "source": [
    "### For each season, show the trend of points, reb, assist, fg3 of a specific squad"
   ]
  },
  {
   "cell_type": "code",
   "execution_count": 53,
   "metadata": {},
   "outputs": [],
   "source": [
    "team ='76ers'"
   ]
  },
  {
   "cell_type": "code",
   "execution_count": 54,
   "metadata": {},
   "outputs": [
    {
     "name": "stdout",
     "output_type": "stream",
     "text": [
      "<class 'pandas.core.frame.DataFrame'>\n",
      "RangeIndex: 517429 entries, 0 to 517428\n",
      "Data columns (total 31 columns):\n",
      " #   Column             Non-Null Count   Dtype  \n",
      "---  ------             --------------   -----  \n",
      " 0   GAME_ID            517429 non-null  int64  \n",
      " 1   TEAM_ID            517429 non-null  int64  \n",
      " 2   TEAM_ABBREVIATION  517429 non-null  object \n",
      " 3   TEAM_CITY          517429 non-null  object \n",
      " 4   PLAYER_ID          517429 non-null  int64  \n",
      " 5   PLAYER_NAME        517429 non-null  object \n",
      " 6   PLAYER_NICKNAME    517429 non-null  object \n",
      " 7   START_POSITION     517429 non-null  object \n",
      " 8   COMMENT            517429 non-null  object \n",
      " 9   MIN                517429 non-null  object \n",
      " 10  FGM                517429 non-null  float64\n",
      " 11  FGA                517429 non-null  float64\n",
      " 12  FG_PCT             517429 non-null  float64\n",
      " 13  FG3M               517429 non-null  float64\n",
      " 14  FG3A               517429 non-null  float64\n",
      " 15  FG3_PCT            517429 non-null  float64\n",
      " 16  FTM                517429 non-null  float64\n",
      " 17  FTA                517429 non-null  float64\n",
      " 18  FT_PCT             517429 non-null  float64\n",
      " 19  OREB               517429 non-null  float64\n",
      " 20  DREB               517429 non-null  float64\n",
      " 21  REB                517429 non-null  float64\n",
      " 22  AST                517429 non-null  float64\n",
      " 23  STL                517429 non-null  float64\n",
      " 24  BLK                517429 non-null  float64\n",
      " 25  TO                 517429 non-null  float64\n",
      " 26  PF                 517429 non-null  float64\n",
      " 27  PTS                517429 non-null  float64\n",
      " 28  PLUS_MINUS         517429 non-null  float64\n",
      " 29  SEASON             517429 non-null  int64  \n",
      " 30  TEAM               517429 non-null  object \n",
      "dtypes: float64(19), int64(4), object(8)\n",
      "memory usage: 122.4+ MB\n"
     ]
    }
   ],
   "source": [
    "games_full_df.info()"
   ]
  },
  {
   "cell_type": "code",
   "execution_count": 55,
   "metadata": {},
   "outputs": [
    {
     "data": {
      "text/html": [
       "<div>\n",
       "<style scoped>\n",
       "    .dataframe tbody tr th:only-of-type {\n",
       "        vertical-align: middle;\n",
       "    }\n",
       "\n",
       "    .dataframe tbody tr th {\n",
       "        vertical-align: top;\n",
       "    }\n",
       "\n",
       "    .dataframe thead th {\n",
       "        text-align: right;\n",
       "    }\n",
       "</style>\n",
       "<table border=\"1\" class=\"dataframe\">\n",
       "  <thead>\n",
       "    <tr style=\"text-align: right;\">\n",
       "      <th></th>\n",
       "      <th>GAME_ID</th>\n",
       "      <th>TEAM_ID</th>\n",
       "      <th>TEAM_ABBREVIATION</th>\n",
       "      <th>TEAM_CITY</th>\n",
       "      <th>PLAYER_ID</th>\n",
       "      <th>PLAYER_NAME</th>\n",
       "      <th>PLAYER_NICKNAME</th>\n",
       "      <th>START_POSITION</th>\n",
       "      <th>COMMENT</th>\n",
       "      <th>MIN</th>\n",
       "      <th>...</th>\n",
       "      <th>REB</th>\n",
       "      <th>AST</th>\n",
       "      <th>STL</th>\n",
       "      <th>BLK</th>\n",
       "      <th>TO</th>\n",
       "      <th>PF</th>\n",
       "      <th>PTS</th>\n",
       "      <th>PLUS_MINUS</th>\n",
       "      <th>SEASON</th>\n",
       "      <th>TEAM</th>\n",
       "    </tr>\n",
       "  </thead>\n",
       "  <tbody>\n",
       "    <tr>\n",
       "      <th>0</th>\n",
       "      <td>22101005</td>\n",
       "      <td>1610612750</td>\n",
       "      <td>MIN</td>\n",
       "      <td>Minnesota</td>\n",
       "      <td>1630162</td>\n",
       "      <td>Anthony Edwards</td>\n",
       "      <td>Anthony</td>\n",
       "      <td>F</td>\n",
       "      <td>N/A</td>\n",
       "      <td>36:22</td>\n",
       "      <td>...</td>\n",
       "      <td>8.0</td>\n",
       "      <td>5.0</td>\n",
       "      <td>3.0</td>\n",
       "      <td>1.0</td>\n",
       "      <td>1.0</td>\n",
       "      <td>1.0</td>\n",
       "      <td>15.0</td>\n",
       "      <td>5.0</td>\n",
       "      <td>2021</td>\n",
       "      <td>Timberwolves</td>\n",
       "    </tr>\n",
       "    <tr>\n",
       "      <th>1</th>\n",
       "      <td>22101005</td>\n",
       "      <td>1610612750</td>\n",
       "      <td>MIN</td>\n",
       "      <td>Minnesota</td>\n",
       "      <td>1630183</td>\n",
       "      <td>Jaden McDaniels</td>\n",
       "      <td>Jaden</td>\n",
       "      <td>F</td>\n",
       "      <td>N/A</td>\n",
       "      <td>23:54</td>\n",
       "      <td>...</td>\n",
       "      <td>6.0</td>\n",
       "      <td>0.0</td>\n",
       "      <td>0.0</td>\n",
       "      <td>2.0</td>\n",
       "      <td>2.0</td>\n",
       "      <td>6.0</td>\n",
       "      <td>14.0</td>\n",
       "      <td>10.0</td>\n",
       "      <td>2021</td>\n",
       "      <td>Timberwolves</td>\n",
       "    </tr>\n",
       "    <tr>\n",
       "      <th>2</th>\n",
       "      <td>22101005</td>\n",
       "      <td>1610612750</td>\n",
       "      <td>MIN</td>\n",
       "      <td>Minnesota</td>\n",
       "      <td>1626157</td>\n",
       "      <td>Karl-Anthony Towns</td>\n",
       "      <td>Karl-Anthony</td>\n",
       "      <td>C</td>\n",
       "      <td>N/A</td>\n",
       "      <td>25:17</td>\n",
       "      <td>...</td>\n",
       "      <td>10.0</td>\n",
       "      <td>0.0</td>\n",
       "      <td>0.0</td>\n",
       "      <td>0.0</td>\n",
       "      <td>3.0</td>\n",
       "      <td>4.0</td>\n",
       "      <td>15.0</td>\n",
       "      <td>14.0</td>\n",
       "      <td>2021</td>\n",
       "      <td>Timberwolves</td>\n",
       "    </tr>\n",
       "    <tr>\n",
       "      <th>3</th>\n",
       "      <td>22101005</td>\n",
       "      <td>1610612750</td>\n",
       "      <td>MIN</td>\n",
       "      <td>Minnesota</td>\n",
       "      <td>1627736</td>\n",
       "      <td>Malik Beasley</td>\n",
       "      <td>Malik</td>\n",
       "      <td>G</td>\n",
       "      <td>N/A</td>\n",
       "      <td>30:52</td>\n",
       "      <td>...</td>\n",
       "      <td>3.0</td>\n",
       "      <td>1.0</td>\n",
       "      <td>1.0</td>\n",
       "      <td>0.0</td>\n",
       "      <td>1.0</td>\n",
       "      <td>4.0</td>\n",
       "      <td>12.0</td>\n",
       "      <td>20.0</td>\n",
       "      <td>2021</td>\n",
       "      <td>Timberwolves</td>\n",
       "    </tr>\n",
       "    <tr>\n",
       "      <th>4</th>\n",
       "      <td>22101005</td>\n",
       "      <td>1610612750</td>\n",
       "      <td>MIN</td>\n",
       "      <td>Minnesota</td>\n",
       "      <td>1626156</td>\n",
       "      <td>D'Angelo Russell</td>\n",
       "      <td>D'Angelo</td>\n",
       "      <td>G</td>\n",
       "      <td>N/A</td>\n",
       "      <td>33:46</td>\n",
       "      <td>...</td>\n",
       "      <td>6.0</td>\n",
       "      <td>9.0</td>\n",
       "      <td>1.0</td>\n",
       "      <td>0.0</td>\n",
       "      <td>5.0</td>\n",
       "      <td>0.0</td>\n",
       "      <td>14.0</td>\n",
       "      <td>17.0</td>\n",
       "      <td>2021</td>\n",
       "      <td>Timberwolves</td>\n",
       "    </tr>\n",
       "    <tr>\n",
       "      <th>5</th>\n",
       "      <td>22101005</td>\n",
       "      <td>1610612750</td>\n",
       "      <td>MIN</td>\n",
       "      <td>Minnesota</td>\n",
       "      <td>1629675</td>\n",
       "      <td>Naz Reid</td>\n",
       "      <td>Naz</td>\n",
       "      <td>N/A</td>\n",
       "      <td>N/A</td>\n",
       "      <td>23:56</td>\n",
       "      <td>...</td>\n",
       "      <td>10.0</td>\n",
       "      <td>1.0</td>\n",
       "      <td>3.0</td>\n",
       "      <td>2.0</td>\n",
       "      <td>1.0</td>\n",
       "      <td>1.0</td>\n",
       "      <td>11.0</td>\n",
       "      <td>-7.0</td>\n",
       "      <td>2021</td>\n",
       "      <td>Timberwolves</td>\n",
       "    </tr>\n",
       "    <tr>\n",
       "      <th>6</th>\n",
       "      <td>22101005</td>\n",
       "      <td>1610612750</td>\n",
       "      <td>MIN</td>\n",
       "      <td>Minnesota</td>\n",
       "      <td>1629162</td>\n",
       "      <td>Jordan McLaughlin</td>\n",
       "      <td>Jordan</td>\n",
       "      <td>N/A</td>\n",
       "      <td>N/A</td>\n",
       "      <td>21:00</td>\n",
       "      <td>...</td>\n",
       "      <td>1.0</td>\n",
       "      <td>3.0</td>\n",
       "      <td>3.0</td>\n",
       "      <td>0.0</td>\n",
       "      <td>0.0</td>\n",
       "      <td>1.0</td>\n",
       "      <td>5.0</td>\n",
       "      <td>-10.0</td>\n",
       "      <td>2021</td>\n",
       "      <td>Timberwolves</td>\n",
       "    </tr>\n",
       "    <tr>\n",
       "      <th>7</th>\n",
       "      <td>22101005</td>\n",
       "      <td>1610612750</td>\n",
       "      <td>MIN</td>\n",
       "      <td>Minnesota</td>\n",
       "      <td>1629669</td>\n",
       "      <td>Jaylen Nowell</td>\n",
       "      <td>Jaylen</td>\n",
       "      <td>N/A</td>\n",
       "      <td>N/A</td>\n",
       "      <td>21:35</td>\n",
       "      <td>...</td>\n",
       "      <td>0.0</td>\n",
       "      <td>1.0</td>\n",
       "      <td>0.0</td>\n",
       "      <td>0.0</td>\n",
       "      <td>0.0</td>\n",
       "      <td>0.0</td>\n",
       "      <td>16.0</td>\n",
       "      <td>-5.0</td>\n",
       "      <td>2021</td>\n",
       "      <td>Timberwolves</td>\n",
       "    </tr>\n",
       "    <tr>\n",
       "      <th>8</th>\n",
       "      <td>22101005</td>\n",
       "      <td>1610612750</td>\n",
       "      <td>MIN</td>\n",
       "      <td>Minnesota</td>\n",
       "      <td>1627752</td>\n",
       "      <td>Taurean Prince</td>\n",
       "      <td>Taurean</td>\n",
       "      <td>N/A</td>\n",
       "      <td>N/A</td>\n",
       "      <td>22:53</td>\n",
       "      <td>...</td>\n",
       "      <td>2.0</td>\n",
       "      <td>1.0</td>\n",
       "      <td>1.0</td>\n",
       "      <td>0.0</td>\n",
       "      <td>1.0</td>\n",
       "      <td>2.0</td>\n",
       "      <td>11.0</td>\n",
       "      <td>1.0</td>\n",
       "      <td>2021</td>\n",
       "      <td>Timberwolves</td>\n",
       "    </tr>\n",
       "    <tr>\n",
       "      <th>9</th>\n",
       "      <td>22101005</td>\n",
       "      <td>1610612750</td>\n",
       "      <td>MIN</td>\n",
       "      <td>Minnesota</td>\n",
       "      <td>1629006</td>\n",
       "      <td>Josh Okogie</td>\n",
       "      <td>Josh</td>\n",
       "      <td>N/A</td>\n",
       "      <td>N/A</td>\n",
       "      <td>0:25</td>\n",
       "      <td>...</td>\n",
       "      <td>0.0</td>\n",
       "      <td>0.0</td>\n",
       "      <td>0.0</td>\n",
       "      <td>0.0</td>\n",
       "      <td>0.0</td>\n",
       "      <td>0.0</td>\n",
       "      <td>0.0</td>\n",
       "      <td>0.0</td>\n",
       "      <td>2021</td>\n",
       "      <td>Timberwolves</td>\n",
       "    </tr>\n",
       "  </tbody>\n",
       "</table>\n",
       "<p>10 rows × 31 columns</p>\n",
       "</div>"
      ],
      "text/plain": [
       "    GAME_ID     TEAM_ID TEAM_ABBREVIATION  TEAM_CITY  PLAYER_ID  \\\n",
       "0  22101005  1610612750               MIN  Minnesota    1630162   \n",
       "1  22101005  1610612750               MIN  Minnesota    1630183   \n",
       "2  22101005  1610612750               MIN  Minnesota    1626157   \n",
       "3  22101005  1610612750               MIN  Minnesota    1627736   \n",
       "4  22101005  1610612750               MIN  Minnesota    1626156   \n",
       "5  22101005  1610612750               MIN  Minnesota    1629675   \n",
       "6  22101005  1610612750               MIN  Minnesota    1629162   \n",
       "7  22101005  1610612750               MIN  Minnesota    1629669   \n",
       "8  22101005  1610612750               MIN  Minnesota    1627752   \n",
       "9  22101005  1610612750               MIN  Minnesota    1629006   \n",
       "\n",
       "          PLAYER_NAME PLAYER_NICKNAME START_POSITION COMMENT    MIN  ...  \\\n",
       "0     Anthony Edwards         Anthony              F     N/A  36:22  ...   \n",
       "1     Jaden McDaniels           Jaden              F     N/A  23:54  ...   \n",
       "2  Karl-Anthony Towns    Karl-Anthony              C     N/A  25:17  ...   \n",
       "3       Malik Beasley           Malik              G     N/A  30:52  ...   \n",
       "4    D'Angelo Russell        D'Angelo              G     N/A  33:46  ...   \n",
       "5            Naz Reid             Naz            N/A     N/A  23:56  ...   \n",
       "6   Jordan McLaughlin          Jordan            N/A     N/A  21:00  ...   \n",
       "7       Jaylen Nowell          Jaylen            N/A     N/A  21:35  ...   \n",
       "8      Taurean Prince         Taurean            N/A     N/A  22:53  ...   \n",
       "9         Josh Okogie            Josh            N/A     N/A   0:25  ...   \n",
       "\n",
       "    REB  AST  STL  BLK   TO   PF   PTS  PLUS_MINUS  SEASON          TEAM  \n",
       "0   8.0  5.0  3.0  1.0  1.0  1.0  15.0         5.0    2021  Timberwolves  \n",
       "1   6.0  0.0  0.0  2.0  2.0  6.0  14.0        10.0    2021  Timberwolves  \n",
       "2  10.0  0.0  0.0  0.0  3.0  4.0  15.0        14.0    2021  Timberwolves  \n",
       "3   3.0  1.0  1.0  0.0  1.0  4.0  12.0        20.0    2021  Timberwolves  \n",
       "4   6.0  9.0  1.0  0.0  5.0  0.0  14.0        17.0    2021  Timberwolves  \n",
       "5  10.0  1.0  3.0  2.0  1.0  1.0  11.0        -7.0    2021  Timberwolves  \n",
       "6   1.0  3.0  3.0  0.0  0.0  1.0   5.0       -10.0    2021  Timberwolves  \n",
       "7   0.0  1.0  0.0  0.0  0.0  0.0  16.0        -5.0    2021  Timberwolves  \n",
       "8   2.0  1.0  1.0  0.0  1.0  2.0  11.0         1.0    2021  Timberwolves  \n",
       "9   0.0  0.0  0.0  0.0  0.0  0.0   0.0         0.0    2021  Timberwolves  \n",
       "\n",
       "[10 rows x 31 columns]"
      ]
     },
     "execution_count": 55,
     "metadata": {},
     "output_type": "execute_result"
    }
   ],
   "source": [
    "games_full_df.head(10)"
   ]
  },
  {
   "cell_type": "code",
   "execution_count": 56,
   "metadata": {},
   "outputs": [
    {
     "data": {
      "text/plain": [
       "0         3.0\n",
       "1         1.0\n",
       "2         1.0\n",
       "3         4.0\n",
       "4         1.0\n",
       "         ... \n",
       "517424    0.0\n",
       "517425    3.0\n",
       "517426    0.0\n",
       "517427    1.0\n",
       "517428    0.0\n",
       "Name: FG3M, Length: 517429, dtype: float64"
      ]
     },
     "execution_count": 56,
     "metadata": {},
     "output_type": "execute_result"
    }
   ],
   "source": [
    "games_full_df['FG3M']"
   ]
  },
  {
   "cell_type": "code",
   "execution_count": 57,
   "metadata": {},
   "outputs": [],
   "source": [
    "performances_by_season_sum = games_full_df.groupby(['SEASON', 'TEAM'])[['PTS','REB', 'AST', 'FG3M', 'FG3A' ]].sum().reset_index()\n",
    "performances_by_season_avg = games_full_df.groupby(['SEASON', 'TEAM', 'GAME_ID'])[['PTS','REB', 'AST', 'FG3M', 'FG3A']].sum().groupby(['SEASON', 'TEAM']).mean().reset_index()"
   ]
  },
  {
   "cell_type": "code",
   "execution_count": 58,
   "metadata": {},
   "outputs": [
    {
     "data": {
      "text/html": [
       "<div>\n",
       "<style scoped>\n",
       "    .dataframe tbody tr th:only-of-type {\n",
       "        vertical-align: middle;\n",
       "    }\n",
       "\n",
       "    .dataframe tbody tr th {\n",
       "        vertical-align: top;\n",
       "    }\n",
       "\n",
       "    .dataframe thead th {\n",
       "        text-align: right;\n",
       "    }\n",
       "</style>\n",
       "<table border=\"1\" class=\"dataframe\">\n",
       "  <thead>\n",
       "    <tr style=\"text-align: right;\">\n",
       "      <th></th>\n",
       "      <th>SEASON</th>\n",
       "      <th>TEAM</th>\n",
       "      <th>PTS</th>\n",
       "      <th>REB</th>\n",
       "      <th>AST</th>\n",
       "      <th>FG3M</th>\n",
       "      <th>FG3A</th>\n",
       "    </tr>\n",
       "  </thead>\n",
       "  <tbody>\n",
       "    <tr>\n",
       "      <th>0</th>\n",
       "      <td>2003</td>\n",
       "      <td>76ers</td>\n",
       "      <td>7195.0</td>\n",
       "      <td>3347.0</td>\n",
       "      <td>1639.0</td>\n",
       "      <td>338.0</td>\n",
       "      <td>991.0</td>\n",
       "    </tr>\n",
       "    <tr>\n",
       "      <th>1</th>\n",
       "      <td>2003</td>\n",
       "      <td>Bucks</td>\n",
       "      <td>8467.0</td>\n",
       "      <td>3658.0</td>\n",
       "      <td>1975.0</td>\n",
       "      <td>425.0</td>\n",
       "      <td>1217.0</td>\n",
       "    </tr>\n",
       "    <tr>\n",
       "      <th>2</th>\n",
       "      <td>2003</td>\n",
       "      <td>Bulls</td>\n",
       "      <td>7351.0</td>\n",
       "      <td>3561.0</td>\n",
       "      <td>1793.0</td>\n",
       "      <td>429.0</td>\n",
       "      <td>1256.0</td>\n",
       "    </tr>\n",
       "    <tr>\n",
       "      <th>3</th>\n",
       "      <td>2003</td>\n",
       "      <td>Cavaliers</td>\n",
       "      <td>7619.0</td>\n",
       "      <td>3737.0</td>\n",
       "      <td>1808.0</td>\n",
       "      <td>247.0</td>\n",
       "      <td>786.0</td>\n",
       "    </tr>\n",
       "    <tr>\n",
       "      <th>4</th>\n",
       "      <td>2003</td>\n",
       "      <td>Celtics</td>\n",
       "      <td>8149.0</td>\n",
       "      <td>3455.0</td>\n",
       "      <td>1753.0</td>\n",
       "      <td>574.0</td>\n",
       "      <td>1662.0</td>\n",
       "    </tr>\n",
       "  </tbody>\n",
       "</table>\n",
       "</div>"
      ],
      "text/plain": [
       "   SEASON       TEAM     PTS     REB     AST   FG3M    FG3A\n",
       "0    2003      76ers  7195.0  3347.0  1639.0  338.0   991.0\n",
       "1    2003      Bucks  8467.0  3658.0  1975.0  425.0  1217.0\n",
       "2    2003      Bulls  7351.0  3561.0  1793.0  429.0  1256.0\n",
       "3    2003  Cavaliers  7619.0  3737.0  1808.0  247.0   786.0\n",
       "4    2003    Celtics  8149.0  3455.0  1753.0  574.0  1662.0"
      ]
     },
     "execution_count": 58,
     "metadata": {},
     "output_type": "execute_result"
    }
   ],
   "source": [
    "performances_by_season_sum.head()"
   ]
  },
  {
   "cell_type": "code",
   "execution_count": 59,
   "metadata": {},
   "outputs": [
    {
     "data": {
      "text/html": [
       "<div>\n",
       "<style scoped>\n",
       "    .dataframe tbody tr th:only-of-type {\n",
       "        vertical-align: middle;\n",
       "    }\n",
       "\n",
       "    .dataframe tbody tr th {\n",
       "        vertical-align: top;\n",
       "    }\n",
       "\n",
       "    .dataframe thead th {\n",
       "        text-align: right;\n",
       "    }\n",
       "</style>\n",
       "<table border=\"1\" class=\"dataframe\">\n",
       "  <thead>\n",
       "    <tr style=\"text-align: right;\">\n",
       "      <th></th>\n",
       "      <th>SEASON</th>\n",
       "      <th>TEAM</th>\n",
       "      <th>PTS</th>\n",
       "      <th>REB</th>\n",
       "      <th>AST</th>\n",
       "      <th>FG3M</th>\n",
       "      <th>FG3A</th>\n",
       "    </tr>\n",
       "  </thead>\n",
       "  <tbody>\n",
       "    <tr>\n",
       "      <th>0</th>\n",
       "      <td>2003</td>\n",
       "      <td>76ers</td>\n",
       "      <td>87.743902</td>\n",
       "      <td>40.817073</td>\n",
       "      <td>19.987805</td>\n",
       "      <td>4.121951</td>\n",
       "      <td>12.085366</td>\n",
       "    </tr>\n",
       "    <tr>\n",
       "      <th>1</th>\n",
       "      <td>2003</td>\n",
       "      <td>Bucks</td>\n",
       "      <td>97.321839</td>\n",
       "      <td>42.045977</td>\n",
       "      <td>22.701149</td>\n",
       "      <td>4.885057</td>\n",
       "      <td>13.988506</td>\n",
       "    </tr>\n",
       "    <tr>\n",
       "      <th>2</th>\n",
       "      <td>2003</td>\n",
       "      <td>Bulls</td>\n",
       "      <td>89.646341</td>\n",
       "      <td>43.426829</td>\n",
       "      <td>21.865854</td>\n",
       "      <td>5.231707</td>\n",
       "      <td>15.317073</td>\n",
       "    </tr>\n",
       "    <tr>\n",
       "      <th>3</th>\n",
       "      <td>2003</td>\n",
       "      <td>Cavaliers</td>\n",
       "      <td>92.914634</td>\n",
       "      <td>45.573171</td>\n",
       "      <td>22.048780</td>\n",
       "      <td>3.012195</td>\n",
       "      <td>9.585366</td>\n",
       "    </tr>\n",
       "    <tr>\n",
       "      <th>4</th>\n",
       "      <td>2003</td>\n",
       "      <td>Celtics</td>\n",
       "      <td>94.755814</td>\n",
       "      <td>40.174419</td>\n",
       "      <td>20.383721</td>\n",
       "      <td>6.674419</td>\n",
       "      <td>19.325581</td>\n",
       "    </tr>\n",
       "  </tbody>\n",
       "</table>\n",
       "</div>"
      ],
      "text/plain": [
       "   SEASON       TEAM        PTS        REB        AST      FG3M       FG3A\n",
       "0    2003      76ers  87.743902  40.817073  19.987805  4.121951  12.085366\n",
       "1    2003      Bucks  97.321839  42.045977  22.701149  4.885057  13.988506\n",
       "2    2003      Bulls  89.646341  43.426829  21.865854  5.231707  15.317073\n",
       "3    2003  Cavaliers  92.914634  45.573171  22.048780  3.012195   9.585366\n",
       "4    2003    Celtics  94.755814  40.174419  20.383721  6.674419  19.325581"
      ]
     },
     "execution_count": 59,
     "metadata": {},
     "output_type": "execute_result"
    }
   ],
   "source": [
    "performances_by_season_avg.head()"
   ]
  },
  {
   "cell_type": "code",
   "execution_count": 60,
   "metadata": {},
   "outputs": [],
   "source": [
    "plot_sum_data = performances_by_season_sum#[performances_by_season_sum['TEAM'] == team]\n",
    "plot_avg_data = performances_by_season_avg#[performances_by_season_avg['TEAM'] == team]"
   ]
  },
  {
   "cell_type": "code",
   "execution_count": 61,
   "metadata": {},
   "outputs": [
    {
     "data": {
      "text/html": [
       "<div>\n",
       "<style scoped>\n",
       "    .dataframe tbody tr th:only-of-type {\n",
       "        vertical-align: middle;\n",
       "    }\n",
       "\n",
       "    .dataframe tbody tr th {\n",
       "        vertical-align: top;\n",
       "    }\n",
       "\n",
       "    .dataframe thead th {\n",
       "        text-align: right;\n",
       "    }\n",
       "</style>\n",
       "<table border=\"1\" class=\"dataframe\">\n",
       "  <thead>\n",
       "    <tr style=\"text-align: right;\">\n",
       "      <th></th>\n",
       "      <th>SEASON</th>\n",
       "      <th>TEAM</th>\n",
       "      <th>PTS</th>\n",
       "      <th>REB</th>\n",
       "      <th>AST</th>\n",
       "      <th>FG3M</th>\n",
       "      <th>FG3A</th>\n",
       "    </tr>\n",
       "  </thead>\n",
       "  <tbody>\n",
       "    <tr>\n",
       "      <th>0</th>\n",
       "      <td>2003</td>\n",
       "      <td>76ers</td>\n",
       "      <td>7195.0</td>\n",
       "      <td>3347.0</td>\n",
       "      <td>1639.0</td>\n",
       "      <td>338.0</td>\n",
       "      <td>991.0</td>\n",
       "    </tr>\n",
       "    <tr>\n",
       "      <th>1</th>\n",
       "      <td>2003</td>\n",
       "      <td>Bucks</td>\n",
       "      <td>8467.0</td>\n",
       "      <td>3658.0</td>\n",
       "      <td>1975.0</td>\n",
       "      <td>425.0</td>\n",
       "      <td>1217.0</td>\n",
       "    </tr>\n",
       "    <tr>\n",
       "      <th>2</th>\n",
       "      <td>2003</td>\n",
       "      <td>Bulls</td>\n",
       "      <td>7351.0</td>\n",
       "      <td>3561.0</td>\n",
       "      <td>1793.0</td>\n",
       "      <td>429.0</td>\n",
       "      <td>1256.0</td>\n",
       "    </tr>\n",
       "    <tr>\n",
       "      <th>3</th>\n",
       "      <td>2003</td>\n",
       "      <td>Cavaliers</td>\n",
       "      <td>7619.0</td>\n",
       "      <td>3737.0</td>\n",
       "      <td>1808.0</td>\n",
       "      <td>247.0</td>\n",
       "      <td>786.0</td>\n",
       "    </tr>\n",
       "    <tr>\n",
       "      <th>4</th>\n",
       "      <td>2003</td>\n",
       "      <td>Celtics</td>\n",
       "      <td>8149.0</td>\n",
       "      <td>3455.0</td>\n",
       "      <td>1753.0</td>\n",
       "      <td>574.0</td>\n",
       "      <td>1662.0</td>\n",
       "    </tr>\n",
       "  </tbody>\n",
       "</table>\n",
       "</div>"
      ],
      "text/plain": [
       "   SEASON       TEAM     PTS     REB     AST   FG3M    FG3A\n",
       "0    2003      76ers  7195.0  3347.0  1639.0  338.0   991.0\n",
       "1    2003      Bucks  8467.0  3658.0  1975.0  425.0  1217.0\n",
       "2    2003      Bulls  7351.0  3561.0  1793.0  429.0  1256.0\n",
       "3    2003  Cavaliers  7619.0  3737.0  1808.0  247.0   786.0\n",
       "4    2003    Celtics  8149.0  3455.0  1753.0  574.0  1662.0"
      ]
     },
     "execution_count": 61,
     "metadata": {},
     "output_type": "execute_result"
    }
   ],
   "source": [
    "plot_sum_data.head()"
   ]
  },
  {
   "cell_type": "code",
   "execution_count": 62,
   "metadata": {},
   "outputs": [
    {
     "data": {
      "application/vnd.plotly.v1+json": {
       "config": {
        "plotlyServerURL": "https://plot.ly"
       },
       "data": [
        {
         "hovertemplate": "TEAM=76ers<br>SEASON=%{x}<br>PTS=%{y}<extra></extra>",
         "legendgroup": "76ers",
         "line": {
          "color": "#636efa",
          "dash": "solid"
         },
         "marker": {
          "symbol": "circle"
         },
         "mode": "lines+markers",
         "name": "76ers",
         "orientation": "v",
         "showlegend": true,
         "type": "scatter",
         "x": [
          2003,
          2004,
          2005,
          2006,
          2007,
          2008,
          2009,
          2010,
          2011,
          2012,
          2013,
          2014,
          2015,
          2016,
          2017,
          2018,
          2019,
          2020,
          2021
         ],
         "xaxis": "x",
         "y": [
          7195,
          8565,
          8147,
          7785,
          8438,
          8518,
          8014,
          8552,
          7294,
          7640,
          8155,
          8290,
          8657,
          9075,
          10631,
          11101,
          9213,
          10067,
          7500
         ],
         "yaxis": "y"
        },
        {
         "hovertemplate": "TEAM=Bucks<br>SEASON=%{x}<br>PTS=%{y}<extra></extra>",
         "legendgroup": "Bucks",
         "line": {
          "color": "#EF553B",
          "dash": "solid"
         },
         "marker": {
          "symbol": "circle"
         },
         "mode": "lines+markers",
         "name": "Bucks",
         "orientation": "v",
         "showlegend": true,
         "type": "scatter",
         "x": [
          2003,
          2004,
          2005,
          2006,
          2007,
          2008,
          2009,
          2010,
          2011,
          2012,
          2013,
          2014,
          2015,
          2016,
          2017,
          2018,
          2019,
          2020,
          2021
         ],
         "xaxis": "x",
         "y": [
          8467,
          7967,
          8508,
          8172,
          7956,
          8142,
          8639,
          7534,
          6535,
          8449,
          7829,
          9221,
          8730,
          9595,
          9842,
          11877,
          10727,
          11910,
          8333
         ],
         "yaxis": "y"
        },
        {
         "hovertemplate": "TEAM=Bulls<br>SEASON=%{x}<br>PTS=%{y}<extra></extra>",
         "legendgroup": "Bulls",
         "line": {
          "color": "#00cc96",
          "dash": "solid"
         },
         "marker": {
          "symbol": "circle"
         },
         "mode": "lines+markers",
         "name": "Bulls",
         "orientation": "v",
         "showlegend": true,
         "type": "scatter",
         "x": [
          2003,
          2004,
          2005,
          2006,
          2007,
          2008,
          2009,
          2010,
          2011,
          2012,
          2013,
          2014,
          2015,
          2016,
          2017,
          2018,
          2019,
          2020,
          2021
         ],
         "xaxis": "x",
         "y": [
          7351,
          8348,
          8610,
          9024,
          7981,
          9136,
          8478,
          9567,
          6865,
          8744,
          8130,
          10204,
          9146,
          9744,
          9041,
          9116,
          7485,
          8843,
          7995
         ],
         "yaxis": "y"
        },
        {
         "hovertemplate": "TEAM=Cavaliers<br>SEASON=%{x}<br>PTS=%{y}<extra></extra>",
         "legendgroup": "Cavaliers",
         "line": {
          "color": "#ab63fa",
          "dash": "solid"
         },
         "marker": {
          "symbol": "circle"
         },
         "mode": "lines+markers",
         "name": "Cavaliers",
         "orientation": "v",
         "showlegend": true,
         "type": "scatter",
         "x": [
          2003,
          2004,
          2005,
          2006,
          2007,
          2008,
          2009,
          2010,
          2011,
          2012,
          2013,
          2014,
          2015,
          2016,
          2017,
          2018,
          2019,
          2020,
          2021
         ],
         "xaxis": "x",
         "y": [
          7619,
          7914,
          9177,
          9710,
          9072,
          9589,
          9475,
          7827,
          6140,
          7913,
          8054,
          11064,
          11416,
          11751,
          11812,
          8994,
          7220,
          8052,
          7652
         ],
         "yaxis": "y"
        },
        {
         "hovertemplate": "TEAM=Celtics<br>SEASON=%{x}<br>PTS=%{y}<extra></extra>",
         "legendgroup": "Celtics",
         "line": {
          "color": "#FFA15A",
          "dash": "solid"
         },
         "marker": {
          "symbol": "circle"
         },
         "mode": "lines+markers",
         "name": "Celtics",
         "orientation": "v",
         "showlegend": true,
         "type": "scatter",
         "x": [
          2003,
          2004,
          2005,
          2006,
          2007,
          2008,
          2009,
          2010,
          2011,
          2012,
          2013,
          2014,
          2015,
          2016,
          2017,
          2018,
          2019,
          2020,
          2021
         ],
         "xaxis": "x",
         "y": [
          8149,
          8903,
          8033,
          7857,
          10689,
          9705,
          10389,
          8765,
          7852,
          8312,
          7892,
          9478,
          9727,
          11486,
          10880,
          10544,
          10798,
          9580,
          7875
         ],
         "yaxis": "y"
        },
        {
         "hovertemplate": "TEAM=Clippers<br>SEASON=%{x}<br>PTS=%{y}<extra></extra>",
         "legendgroup": "Clippers",
         "line": {
          "color": "#19d3f3",
          "dash": "solid"
         },
         "marker": {
          "symbol": "circle"
         },
         "mode": "lines+markers",
         "name": "Clippers",
         "orientation": "v",
         "showlegend": true,
         "type": "scatter",
         "x": [
          2003,
          2004,
          2005,
          2006,
          2007,
          2008,
          2009,
          2010,
          2011,
          2012,
          2013,
          2014,
          2015,
          2016,
          2017,
          2018,
          2019,
          2020,
          2021
         ],
         "xaxis": "x",
         "y": [
          7771,
          7847,
          9238,
          7843,
          7692,
          7799,
          7849,
          8089,
          7438,
          8857,
          10264,
          11055,
          9745,
          10147,
          9462,
          10470,
          10439,
          10779,
          7793
         ],
         "yaxis": "y"
        },
        {
         "hovertemplate": "TEAM=Grizzlies<br>SEASON=%{x}<br>PTS=%{y}<extra></extra>",
         "legendgroup": "Grizzlies",
         "line": {
          "color": "#FF6692",
          "dash": "solid"
         },
         "marker": {
          "symbol": "circle"
         },
         "mode": "lines+markers",
         "name": "Grizzlies",
         "orientation": "v",
         "showlegend": true,
         "type": "scatter",
         "x": [
          2003,
          2004,
          2005,
          2006,
          2007,
          2008,
          2009,
          2010,
          2011,
          2012,
          2013,
          2014,
          2015,
          2016,
          2017,
          2018,
          2019,
          2020,
          2021
         ],
         "xaxis": "x",
         "y": [
          8264,
          8046,
          7895,
          8331,
          8257,
          7698,
          8404,
          9477,
          6909,
          9079,
          8561,
          9777,
          8975,
          9461,
          8666,
          9023,
          8972,
          9913,
          8410
         ],
         "yaxis": "y"
        },
        {
         "hovertemplate": "TEAM=Hawks<br>SEASON=%{x}<br>PTS=%{y}<extra></extra>",
         "legendgroup": "Hawks",
         "line": {
          "color": "#B6E880",
          "dash": "solid"
         },
         "marker": {
          "symbol": "circle"
         },
         "mode": "lines+markers",
         "name": "Hawks",
         "orientation": "v",
         "showlegend": true,
         "type": "scatter",
         "x": [
          2003,
          2004,
          2005,
          2006,
          2007,
          2008,
          2009,
          2010,
          2011,
          2012,
          2013,
          2014,
          2015,
          2016,
          2017,
          2018,
          2019,
          2020,
          2021
         ],
         "xaxis": "x",
         "y": [
          7611,
          7605,
          7972,
          7680,
          8664,
          8970,
          9322,
          8825,
          6868,
          8568,
          8929,
          10685,
          10086,
          9778,
          8955,
          9857,
          7965,
          11222,
          7840
         ],
         "yaxis": "y"
        },
        {
         "hovertemplate": "TEAM=Heat<br>SEASON=%{x}<br>PTS=%{y}<extra></extra>",
         "legendgroup": "Heat",
         "line": {
          "color": "#FF97FF",
          "dash": "solid"
         },
         "marker": {
          "symbol": "circle"
         },
         "mode": "lines+markers",
         "name": "Heat",
         "orientation": "v",
         "showlegend": true,
         "type": "scatter",
         "x": [
          2003,
          2004,
          2005,
          2006,
          2007,
          2008,
          2009,
          2010,
          2011,
          2012,
          2013,
          2014,
          2015,
          2016,
          2017,
          2018,
          2019,
          2020,
          2021
         ],
         "xaxis": "x",
         "y": [
          8495,
          9787,
          10405,
          8114,
          7491,
          8678,
          8352,
          10317,
          8739,
          10670,
          10325,
          8593,
          10329,
          9296,
          9592,
          9344,
          11377,
          8548,
          8215
         ],
         "yaxis": "y"
        },
        {
         "hovertemplate": "TEAM=Jazz<br>SEASON=%{x}<br>PTS=%{y}<extra></extra>",
         "legendgroup": "Jazz",
         "line": {
          "color": "#FECB52",
          "dash": "solid"
         },
         "marker": {
          "symbol": "circle"
         },
         "mode": "lines+markers",
         "name": "Jazz",
         "orientation": "v",
         "showlegend": true,
         "type": "scatter",
         "x": [
          2003,
          2004,
          2005,
          2006,
          2007,
          2008,
          2009,
          2010,
          2011,
          2012,
          2013,
          2014,
          2015,
          2016,
          2017,
          2018,
          2019,
          2020,
          2021
         ],
         "xaxis": "x",
         "y": [
          7268,
          7623,
          7573,
          9986,
          9897,
          8979,
          9618,
          8153,
          6922,
          8038,
          7791,
          8616,
          8694,
          9832,
          10003,
          10010,
          9567,
          10350,
          8066
         ],
         "yaxis": "y"
        },
        {
         "hovertemplate": "TEAM=Kings<br>SEASON=%{x}<br>PTS=%{y}<extra></extra>",
         "legendgroup": "Kings",
         "line": {
          "color": "#636efa",
          "dash": "solid"
         },
         "marker": {
          "symbol": "circle"
         },
         "mode": "lines+markers",
         "name": "Kings",
         "orientation": "v",
         "showlegend": true,
         "type": "scatter",
         "x": [
          2003,
          2004,
          2005,
          2006,
          2007,
          2008,
          2009,
          2010,
          2011,
          2012,
          2013,
          2014,
          2015,
          2016,
          2017,
          2018,
          2019,
          2020,
          2021
         ],
         "xaxis": "x",
         "y": [
          9575,
          9016,
          8690,
          8303,
          8408,
          8248,
          8200,
          8151,
          6518,
          8219,
          8241,
          8921,
          9350,
          8939,
          8646,
          9894,
          8724,
          9098,
          8059
         ],
         "yaxis": "y"
        },
        {
         "hovertemplate": "TEAM=Knicks<br>SEASON=%{x}<br>PTS=%{y}<extra></extra>",
         "legendgroup": "Knicks",
         "line": {
          "color": "#EF553B",
          "dash": "solid"
         },
         "marker": {
          "symbol": "circle"
         },
         "mode": "lines+markers",
         "name": "Knicks",
         "orientation": "v",
         "showlegend": true,
         "type": "scatter",
         "x": [
          2003,
          2004,
          2005,
          2006,
          2007,
          2008,
          2009,
          2010,
          2011,
          2012,
          2013,
          2014,
          2015,
          2016,
          2017,
          2018,
          2019,
          2020,
          2021
         ],
         "xaxis": "x",
         "y": [
          7878,
          7977,
          7842,
          7994,
          7948,
          8627,
          8373,
          9097,
          6872,
          9259,
          8084,
          8167,
          8553,
          9209,
          9054,
          9117,
          7398,
          8828,
          7562
         ],
         "yaxis": "y"
        },
        {
         "hovertemplate": "TEAM=Lakers<br>SEASON=%{x}<br>PTS=%{y}<extra></extra>",
         "legendgroup": "Lakers",
         "line": {
          "color": "#00cc96",
          "dash": "solid"
         },
         "marker": {
          "symbol": "circle"
         },
         "mode": "lines+markers",
         "name": "Lakers",
         "orientation": "v",
         "showlegend": true,
         "type": "scatter",
         "x": [
          2003,
          2004,
          2005,
          2006,
          2007,
          2008,
          2009,
          2010,
          2011,
          2012,
          2013,
          2014,
          2015,
          2016,
          2017,
          2018,
          2019,
          2020,
          2021
         ],
         "xaxis": "x",
         "y": [
          9991,
          8085,
          8858,
          8964,
          11055,
          11123,
          10664,
          9253,
          7550,
          8722,
          8442,
          8829,
          8650,
          9422,
          9457,
          9840,
          11413,
          9141,
          7952
         ],
         "yaxis": "y"
        },
        {
         "hovertemplate": "TEAM=Magic<br>SEASON=%{x}<br>PTS=%{y}<extra></extra>",
         "legendgroup": "Magic",
         "line": {
          "color": "#ab63fa",
          "dash": "solid"
         },
         "marker": {
          "symbol": "circle"
         },
         "mode": "lines+markers",
         "name": "Magic",
         "orientation": "v",
         "showlegend": true,
         "type": "scatter",
         "x": [
          2003,
          2004,
          2005,
          2006,
          2007,
          2008,
          2009,
          2010,
          2011,
          2012,
          2013,
          2014,
          2015,
          2016,
          2017,
          2018,
          2019,
          2020,
          2021
         ],
         "xaxis": "x",
         "y": [
          7711,
          8147,
          7784,
          8123,
          9538,
          10613,
          9778,
          8667,
          6634,
          7718,
          7914,
          8512,
          9075,
          8979,
          9073,
          9646,
          9286,
          7995,
          7461
         ],
         "yaxis": "y"
        },
        {
         "hovertemplate": "TEAM=Mavericks<br>SEASON=%{x}<br>PTS=%{y}<extra></extra>",
         "legendgroup": "Mavericks",
         "line": {
          "color": "#FFA15A",
          "dash": "solid"
         },
         "marker": {
          "symbol": "circle"
         },
         "mode": "lines+markers",
         "name": "Mavericks",
         "orientation": "v",
         "showlegend": true,
         "type": "scatter",
         "x": [
          2003,
          2004,
          2005,
          2006,
          2007,
          2008,
          2009,
          2010,
          2011,
          2012,
          2013,
          2014,
          2015,
          2016,
          2017,
          2018,
          2019,
          2020,
          2021
         ],
         "xaxis": "x",
         "y": [
          9124,
          9772,
          10424,
          8767,
          8704,
          9359,
          8921,
          10283,
          6695,
          8293,
          9305,
          10012,
          9483,
          8687,
          9006,
          9274,
          10356,
          9283,
          7628
         ],
         "yaxis": "y"
        },
        {
         "hovertemplate": "TEAM=Nets<br>SEASON=%{x}<br>PTS=%{y}<extra></extra>",
         "legendgroup": "Nets",
         "line": {
          "color": "#19d3f3",
          "dash": "solid"
         },
         "marker": {
          "symbol": "circle"
         },
         "mode": "lines+markers",
         "name": "Nets",
         "orientation": "v",
         "showlegend": true,
         "type": "scatter",
         "x": [
          2003,
          2004,
          2005,
          2006,
          2007,
          2008,
          2009,
          2010,
          2011,
          2012,
          2013,
          2014,
          2015,
          2016,
          2017,
          2018,
          2019,
          2020,
          2021
         ],
         "xaxis": "x",
         "y": [
          8358,
          7867,
          8727,
          9083,
          7857,
          8044,
          7575,
          7722,
          6144,
          8640,
          9225,
          9117,
          8579,
          9279,
          9194,
          10177,
          9082,
          10880,
          7914
         ],
         "yaxis": "y"
        },
        {
         "hovertemplate": "TEAM=Nuggets<br>SEASON=%{x}<br>PTS=%{y}<extra></extra>",
         "legendgroup": "Nuggets",
         "line": {
          "color": "#FF6692",
          "dash": "solid"
         },
         "marker": {
          "symbol": "circle"
         },
         "mode": "lines+markers",
         "name": "Nuggets",
         "orientation": "v",
         "showlegend": true,
         "type": "scatter",
         "x": [
          2003,
          2004,
          2005,
          2006,
          2007,
          2008,
          2009,
          2010,
          2011,
          2012,
          2013,
          2014,
          2015,
          2016,
          2017,
          2018,
          2019,
          2020,
          2021
         ],
         "xaxis": "x",
         "y": [
          8404,
          8606,
          8664,
          9080,
          9480,
          10282,
          9385,
          9298,
          7549,
          9322,
          8559,
          9100,
          9055,
          9995,
          9549,
          11041,
          10901,
          10399,
          8097
         ],
         "yaxis": "y"
        },
        {
         "hovertemplate": "TEAM=Pacers<br>SEASON=%{x}<br>PTS=%{y}<extra></extra>",
         "legendgroup": "Pacers",
         "line": {
          "color": "#B6E880",
          "dash": "solid"
         },
         "marker": {
          "symbol": "circle"
         },
         "mode": "lines+markers",
         "name": "Pacers",
         "orientation": "v",
         "showlegend": true,
         "type": "scatter",
         "x": [
          2003,
          2004,
          2005,
          2006,
          2007,
          2008,
          2009,
          2010,
          2011,
          2012,
          2013,
          2014,
          2015,
          2016,
          2017,
          2018,
          2019,
          2020,
          2021
         ],
         "xaxis": "x",
         "y": [
          8858,
          8712,
          8235,
          7840,
          8527,
          8617,
          8263,
          8634,
          7449,
          9418,
          9673,
          8643,
          9750,
          9696,
          9667,
          9638,
          9190,
          9200,
          7924
         ],
         "yaxis": "y"
        },
        {
         "hovertemplate": "TEAM=Pelicans<br>SEASON=%{x}<br>PTS=%{y}<extra></extra>",
         "legendgroup": "Pelicans",
         "line": {
          "color": "#FF97FF",
          "dash": "solid"
         },
         "marker": {
          "symbol": "circle"
         },
         "mode": "lines+markers",
         "name": "Pelicans",
         "orientation": "v",
         "showlegend": true,
         "type": "scatter",
         "x": [
          2003,
          2004,
          2005,
          2006,
          2007,
          2008,
          2009,
          2010,
          2011,
          2012,
          2013,
          2014,
          2015,
          2016,
          2017,
          2018,
          2019,
          2020,
          2021
         ],
         "xaxis": "x",
         "y": [
          8093,
          7243,
          7611,
          7833,
          9429,
          8278,
          8220,
          8320,
          5916,
          7714,
          8177,
          9234,
          9147,
          9189,
          10551,
          10031,
          9311,
          8921,
          7625
         ],
         "yaxis": "y"
        },
        {
         "hovertemplate": "TEAM=Pistons<br>SEASON=%{x}<br>PTS=%{y}<extra></extra>",
         "legendgroup": "Pistons",
         "line": {
          "color": "#FECB52",
          "dash": "solid"
         },
         "marker": {
          "symbol": "circle"
         },
         "mode": "lines+markers",
         "name": "Pistons",
         "orientation": "v",
         "showlegend": true,
         "type": "scatter",
         "x": [
          2003,
          2004,
          2005,
          2006,
          2007,
          2008,
          2009,
          2010,
          2011,
          2012,
          2013,
          2014,
          2015,
          2016,
          2017,
          2018,
          2019,
          2020,
          2021
         ],
         "xaxis": "x",
         "y": [
          9391,
          9911,
          9591,
          9334,
          9546,
          8039,
          7709,
          7951,
          5997,
          7778,
          8286,
          8775,
          9565,
          8874,
          9026,
          9694,
          7604,
          8446,
          7360
         ],
         "yaxis": "y"
        },
        {
         "hovertemplate": "TEAM=Raptors<br>SEASON=%{x}<br>PTS=%{y}<extra></extra>",
         "legendgroup": "Raptors",
         "line": {
          "color": "#636efa",
          "dash": "solid"
         },
         "marker": {
          "symbol": "circle"
         },
         "mode": "lines+markers",
         "name": "Raptors",
         "orientation": "v",
         "showlegend": true,
         "type": "scatter",
         "x": [
          2003,
          2004,
          2005,
          2006,
          2007,
          2008,
          2009,
          2010,
          2011,
          2012,
          2013,
          2014,
          2015,
          2016,
          2017,
          2018,
          2019,
          2020,
          2021
         ],
         "xaxis": "x",
         "y": [
          7006,
          8169,
          8287,
          8702,
          8708,
          8121,
          8534,
          8124,
          5986,
          7971,
          8978,
          9598,
          10953,
          10334,
          10774,
          12406,
          10090,
          8612,
          7858
         ],
         "yaxis": "y"
        },
        {
         "hovertemplate": "TEAM=Rockets<br>SEASON=%{x}<br>PTS=%{y}<extra></extra>",
         "legendgroup": "Rockets",
         "line": {
          "color": "#EF553B",
          "dash": "solid"
         },
         "marker": {
          "symbol": "circle"
         },
         "mode": "lines+markers",
         "name": "Rockets",
         "orientation": "v",
         "showlegend": true,
         "type": "scatter",
         "x": [
          2003,
          2004,
          2005,
          2006,
          2007,
          2008,
          2009,
          2010,
          2011,
          2012,
          2013,
          2014,
          2015,
          2016,
          2017,
          2018,
          2019,
          2020,
          2021
         ],
         "xaxis": "x",
         "y": [
          7785,
          8479,
          7387,
          8564,
          8459,
          9259,
          8395,
          8685,
          6474,
          9288,
          9501,
          11139,
          10052,
          11342,
          11416,
          10995,
          10727,
          8582,
          7718
         ],
         "yaxis": "y"
        },
        {
         "hovertemplate": "TEAM=Spurs<br>SEASON=%{x}<br>PTS=%{y}<extra></extra>",
         "legendgroup": "Spurs",
         "line": {
          "color": "#00cc96",
          "dash": "solid"
         },
         "marker": {
          "symbol": "circle"
         },
         "mode": "lines+markers",
         "name": "Spurs",
         "orientation": "v",
         "showlegend": true,
         "type": "scatter",
         "x": [
          2003,
          2004,
          2005,
          2006,
          2007,
          2008,
          2009,
          2010,
          2011,
          2012,
          2013,
          2014,
          2015,
          2016,
          2017,
          2018,
          2019,
          2020,
          2021
         ],
         "xaxis": "x",
         "y": [
          8394,
          10117,
          9177,
          9992,
          9419,
          8410,
          9273,
          9068,
          8269,
          10555,
          11085,
          9683,
          10073,
          10933,
          9441,
          10420,
          8951,
          8779,
          8197
         ],
         "yaxis": "y"
        },
        {
         "hovertemplate": "TEAM=Suns<br>SEASON=%{x}<br>PTS=%{y}<extra></extra>",
         "legendgroup": "Suns",
         "line": {
          "color": "#ab63fa",
          "dash": "solid"
         },
         "marker": {
          "symbol": "circle"
         },
         "mode": "lines+markers",
         "name": "Suns",
         "orientation": "v",
         "showlegend": true,
         "type": "scatter",
         "x": [
          2003,
          2004,
          2005,
          2006,
          2007,
          2008,
          2009,
          2010,
          2011,
          2012,
          2013,
          2014,
          2015,
          2016,
          2017,
          2018,
          2019,
          2020,
          2021
         ],
         "xaxis": "x",
         "y": [
          7723,
          10734,
          11030,
          10182,
          9528,
          8974,
          10753,
          8611,
          6492,
          7805,
          8629,
          9031,
          8887,
          9452,
          8940,
          9210,
          9050,
          11572,
          8079
         ],
         "yaxis": "y"
        },
        {
         "hovertemplate": "TEAM=Thunder<br>SEASON=%{x}<br>PTS=%{y}<extra></extra>",
         "legendgroup": "Thunder",
         "line": {
          "color": "#FFA15A",
          "dash": "solid"
         },
         "marker": {
          "symbol": "circle"
         },
         "mode": "lines+markers",
         "name": "Thunder",
         "orientation": "v",
         "showlegend": true,
         "type": "scatter",
         "x": [
          2003,
          2004,
          2005,
          2006,
          2007,
          2008,
          2009,
          2010,
          2011,
          2012,
          2013,
          2014,
          2015,
          2016,
          2017,
          2018,
          2019,
          2020,
          2021
         ],
         "xaxis": "x",
         "y": [
          7937,
          9194,
          8411,
          8130,
          7999,
          7952,
          8885,
          10338,
          8827,
          9752,
          10652,
          9221,
          11477,
          9674,
          9746,
          10349,
          9317,
          8132,
          7175
         ],
         "yaxis": "y"
        },
        {
         "hovertemplate": "TEAM=Timberwolves<br>SEASON=%{x}<br>PTS=%{y}<extra></extra>",
         "legendgroup": "Timberwolves",
         "line": {
          "color": "#19d3f3",
          "dash": "solid"
         },
         "marker": {
          "symbol": "circle"
         },
         "mode": "lines+markers",
         "name": "Timberwolves",
         "orientation": "v",
         "showlegend": true,
         "type": "scatter",
         "x": [
          2003,
          2004,
          2005,
          2006,
          2007,
          2008,
          2009,
          2010,
          2011,
          2012,
          2013,
          2014,
          2015,
          2016,
          2017,
          2018,
          2019,
          2020,
          2021
         ],
         "xaxis": "x",
         "y": [
          9401,
          7934,
          7522,
          7877,
          7839,
          8019,
          8051,
          8288,
          6464,
          7851,
          8768,
          8762,
          9064,
          9362,
          9817,
          9767,
          7692,
          8798,
          8366
         ],
         "yaxis": "y"
        },
        {
         "hovertemplate": "TEAM=Trail Blazers<br>SEASON=%{x}<br>PTS=%{y}<extra></extra>",
         "legendgroup": "Trail Blazers",
         "line": {
          "color": "#FF6692",
          "dash": "solid"
         },
         "marker": {
          "symbol": "circle"
         },
         "mode": "lines+markers",
         "name": "Trail Blazers",
         "orientation": "v",
         "showlegend": true,
         "type": "scatter",
         "x": [
          2003,
          2004,
          2005,
          2006,
          2007,
          2008,
          2009,
          2010,
          2011,
          2012,
          2013,
          2014,
          2015,
          2016,
          2017,
          2018,
          2019,
          2020,
          2021
         ],
         "xaxis": "x",
         "y": [
          7440,
          7621,
          7285,
          7717,
          7820,
          8676,
          8603,
          8425,
          6415,
          7995,
          9900,
          9473,
          10505,
          9870,
          9640,
          11722,
          9921,
          9595,
          7444
         ],
         "yaxis": "y"
        },
        {
         "hovertemplate": "TEAM=Warriors<br>SEASON=%{x}<br>PTS=%{y}<extra></extra>",
         "legendgroup": "Warriors",
         "line": {
          "color": "#B6E880",
          "dash": "solid"
         },
         "marker": {
          "symbol": "circle"
         },
         "mode": "lines+markers",
         "name": "Warriors",
         "orientation": "v",
         "showlegend": true,
         "type": "scatter",
         "x": [
          2003,
          2004,
          2005,
          2006,
          2007,
          2008,
          2009,
          2010,
          2011,
          2012,
          2013,
          2014,
          2015,
          2016,
          2017,
          2018,
          2019,
          2020,
          2021
         ],
         "xaxis": "x",
         "y": [
          7649,
          8094,
          8076,
          9910,
          9105,
          8905,
          8922,
          8477,
          6453,
          9528,
          9294,
          12072,
          12729,
          12320,
          12079,
          12720,
          7471,
          9215,
          8163
         ],
         "yaxis": "y"
        },
        {
         "hovertemplate": "TEAM=Wizards<br>SEASON=%{x}<br>PTS=%{y}<extra></extra>",
         "legendgroup": "Wizards",
         "line": {
          "color": "#FF97FF",
          "dash": "solid"
         },
         "marker": {
          "symbol": "circle"
         },
         "mode": "lines+markers",
         "name": "Wizards",
         "orientation": "v",
         "showlegend": true,
         "type": "scatter",
         "x": [
          2003,
          2004,
          2005,
          2006,
          2007,
          2008,
          2009,
          2010,
          2011,
          2012,
          2013,
          2014,
          2015,
          2016,
          2017,
          2018,
          2019,
          2020,
          2021
         ],
         "xaxis": "x",
         "y": [
          7531,
          9245,
          8946,
          8922,
          8657,
          7877,
          7892,
          7977,
          6180,
          7644,
          9248,
          9717,
          9186,
          11100,
          9816,
          9804,
          8970,
          9642,
          7586
         ],
         "yaxis": "y"
        },
        {
         "hovertemplate": "TEAM=Hornets<br>SEASON=%{x}<br>PTS=%{y}<extra></extra>",
         "legendgroup": "Hornets",
         "line": {
          "color": "#FECB52",
          "dash": "solid"
         },
         "marker": {
          "symbol": "circle"
         },
         "mode": "lines+markers",
         "name": "Hornets",
         "orientation": "v",
         "showlegend": true,
         "type": "scatter",
         "x": [
          2004,
          2005,
          2006,
          2007,
          2008,
          2009,
          2010,
          2011,
          2012,
          2013,
          2014,
          2015,
          2016,
          2017,
          2018,
          2019,
          2020,
          2021
         ],
         "xaxis": "x",
         "y": [
          7706,
          7943,
          7945,
          7959,
          7677,
          8155,
          7650,
          5739,
          7661,
          8310,
          8480,
          9902,
          9243,
          9382,
          9652,
          7204,
          8814,
          8165
         ],
         "yaxis": "y"
        }
       ],
       "layout": {
        "legend": {
         "title": {
          "text": "TEAM"
         },
         "tracegroupgap": 0
        },
        "template": {
         "data": {
          "bar": [
           {
            "error_x": {
             "color": "#2a3f5f"
            },
            "error_y": {
             "color": "#2a3f5f"
            },
            "marker": {
             "line": {
              "color": "#E5ECF6",
              "width": 0.5
             },
             "pattern": {
              "fillmode": "overlay",
              "size": 10,
              "solidity": 0.2
             }
            },
            "type": "bar"
           }
          ],
          "barpolar": [
           {
            "marker": {
             "line": {
              "color": "#E5ECF6",
              "width": 0.5
             },
             "pattern": {
              "fillmode": "overlay",
              "size": 10,
              "solidity": 0.2
             }
            },
            "type": "barpolar"
           }
          ],
          "carpet": [
           {
            "aaxis": {
             "endlinecolor": "#2a3f5f",
             "gridcolor": "white",
             "linecolor": "white",
             "minorgridcolor": "white",
             "startlinecolor": "#2a3f5f"
            },
            "baxis": {
             "endlinecolor": "#2a3f5f",
             "gridcolor": "white",
             "linecolor": "white",
             "minorgridcolor": "white",
             "startlinecolor": "#2a3f5f"
            },
            "type": "carpet"
           }
          ],
          "choropleth": [
           {
            "colorbar": {
             "outlinewidth": 0,
             "ticks": ""
            },
            "type": "choropleth"
           }
          ],
          "contour": [
           {
            "colorbar": {
             "outlinewidth": 0,
             "ticks": ""
            },
            "colorscale": [
             [
              0,
              "#0d0887"
             ],
             [
              0.1111111111111111,
              "#46039f"
             ],
             [
              0.2222222222222222,
              "#7201a8"
             ],
             [
              0.3333333333333333,
              "#9c179e"
             ],
             [
              0.4444444444444444,
              "#bd3786"
             ],
             [
              0.5555555555555556,
              "#d8576b"
             ],
             [
              0.6666666666666666,
              "#ed7953"
             ],
             [
              0.7777777777777778,
              "#fb9f3a"
             ],
             [
              0.8888888888888888,
              "#fdca26"
             ],
             [
              1,
              "#f0f921"
             ]
            ],
            "type": "contour"
           }
          ],
          "contourcarpet": [
           {
            "colorbar": {
             "outlinewidth": 0,
             "ticks": ""
            },
            "type": "contourcarpet"
           }
          ],
          "heatmap": [
           {
            "colorbar": {
             "outlinewidth": 0,
             "ticks": ""
            },
            "colorscale": [
             [
              0,
              "#0d0887"
             ],
             [
              0.1111111111111111,
              "#46039f"
             ],
             [
              0.2222222222222222,
              "#7201a8"
             ],
             [
              0.3333333333333333,
              "#9c179e"
             ],
             [
              0.4444444444444444,
              "#bd3786"
             ],
             [
              0.5555555555555556,
              "#d8576b"
             ],
             [
              0.6666666666666666,
              "#ed7953"
             ],
             [
              0.7777777777777778,
              "#fb9f3a"
             ],
             [
              0.8888888888888888,
              "#fdca26"
             ],
             [
              1,
              "#f0f921"
             ]
            ],
            "type": "heatmap"
           }
          ],
          "heatmapgl": [
           {
            "colorbar": {
             "outlinewidth": 0,
             "ticks": ""
            },
            "colorscale": [
             [
              0,
              "#0d0887"
             ],
             [
              0.1111111111111111,
              "#46039f"
             ],
             [
              0.2222222222222222,
              "#7201a8"
             ],
             [
              0.3333333333333333,
              "#9c179e"
             ],
             [
              0.4444444444444444,
              "#bd3786"
             ],
             [
              0.5555555555555556,
              "#d8576b"
             ],
             [
              0.6666666666666666,
              "#ed7953"
             ],
             [
              0.7777777777777778,
              "#fb9f3a"
             ],
             [
              0.8888888888888888,
              "#fdca26"
             ],
             [
              1,
              "#f0f921"
             ]
            ],
            "type": "heatmapgl"
           }
          ],
          "histogram": [
           {
            "marker": {
             "pattern": {
              "fillmode": "overlay",
              "size": 10,
              "solidity": 0.2
             }
            },
            "type": "histogram"
           }
          ],
          "histogram2d": [
           {
            "colorbar": {
             "outlinewidth": 0,
             "ticks": ""
            },
            "colorscale": [
             [
              0,
              "#0d0887"
             ],
             [
              0.1111111111111111,
              "#46039f"
             ],
             [
              0.2222222222222222,
              "#7201a8"
             ],
             [
              0.3333333333333333,
              "#9c179e"
             ],
             [
              0.4444444444444444,
              "#bd3786"
             ],
             [
              0.5555555555555556,
              "#d8576b"
             ],
             [
              0.6666666666666666,
              "#ed7953"
             ],
             [
              0.7777777777777778,
              "#fb9f3a"
             ],
             [
              0.8888888888888888,
              "#fdca26"
             ],
             [
              1,
              "#f0f921"
             ]
            ],
            "type": "histogram2d"
           }
          ],
          "histogram2dcontour": [
           {
            "colorbar": {
             "outlinewidth": 0,
             "ticks": ""
            },
            "colorscale": [
             [
              0,
              "#0d0887"
             ],
             [
              0.1111111111111111,
              "#46039f"
             ],
             [
              0.2222222222222222,
              "#7201a8"
             ],
             [
              0.3333333333333333,
              "#9c179e"
             ],
             [
              0.4444444444444444,
              "#bd3786"
             ],
             [
              0.5555555555555556,
              "#d8576b"
             ],
             [
              0.6666666666666666,
              "#ed7953"
             ],
             [
              0.7777777777777778,
              "#fb9f3a"
             ],
             [
              0.8888888888888888,
              "#fdca26"
             ],
             [
              1,
              "#f0f921"
             ]
            ],
            "type": "histogram2dcontour"
           }
          ],
          "mesh3d": [
           {
            "colorbar": {
             "outlinewidth": 0,
             "ticks": ""
            },
            "type": "mesh3d"
           }
          ],
          "parcoords": [
           {
            "line": {
             "colorbar": {
              "outlinewidth": 0,
              "ticks": ""
             }
            },
            "type": "parcoords"
           }
          ],
          "pie": [
           {
            "automargin": true,
            "type": "pie"
           }
          ],
          "scatter": [
           {
            "fillpattern": {
             "fillmode": "overlay",
             "size": 10,
             "solidity": 0.2
            },
            "type": "scatter"
           }
          ],
          "scatter3d": [
           {
            "line": {
             "colorbar": {
              "outlinewidth": 0,
              "ticks": ""
             }
            },
            "marker": {
             "colorbar": {
              "outlinewidth": 0,
              "ticks": ""
             }
            },
            "type": "scatter3d"
           }
          ],
          "scattercarpet": [
           {
            "marker": {
             "colorbar": {
              "outlinewidth": 0,
              "ticks": ""
             }
            },
            "type": "scattercarpet"
           }
          ],
          "scattergeo": [
           {
            "marker": {
             "colorbar": {
              "outlinewidth": 0,
              "ticks": ""
             }
            },
            "type": "scattergeo"
           }
          ],
          "scattergl": [
           {
            "marker": {
             "colorbar": {
              "outlinewidth": 0,
              "ticks": ""
             }
            },
            "type": "scattergl"
           }
          ],
          "scattermapbox": [
           {
            "marker": {
             "colorbar": {
              "outlinewidth": 0,
              "ticks": ""
             }
            },
            "type": "scattermapbox"
           }
          ],
          "scatterpolar": [
           {
            "marker": {
             "colorbar": {
              "outlinewidth": 0,
              "ticks": ""
             }
            },
            "type": "scatterpolar"
           }
          ],
          "scatterpolargl": [
           {
            "marker": {
             "colorbar": {
              "outlinewidth": 0,
              "ticks": ""
             }
            },
            "type": "scatterpolargl"
           }
          ],
          "scatterternary": [
           {
            "marker": {
             "colorbar": {
              "outlinewidth": 0,
              "ticks": ""
             }
            },
            "type": "scatterternary"
           }
          ],
          "surface": [
           {
            "colorbar": {
             "outlinewidth": 0,
             "ticks": ""
            },
            "colorscale": [
             [
              0,
              "#0d0887"
             ],
             [
              0.1111111111111111,
              "#46039f"
             ],
             [
              0.2222222222222222,
              "#7201a8"
             ],
             [
              0.3333333333333333,
              "#9c179e"
             ],
             [
              0.4444444444444444,
              "#bd3786"
             ],
             [
              0.5555555555555556,
              "#d8576b"
             ],
             [
              0.6666666666666666,
              "#ed7953"
             ],
             [
              0.7777777777777778,
              "#fb9f3a"
             ],
             [
              0.8888888888888888,
              "#fdca26"
             ],
             [
              1,
              "#f0f921"
             ]
            ],
            "type": "surface"
           }
          ],
          "table": [
           {
            "cells": {
             "fill": {
              "color": "#EBF0F8"
             },
             "line": {
              "color": "white"
             }
            },
            "header": {
             "fill": {
              "color": "#C8D4E3"
             },
             "line": {
              "color": "white"
             }
            },
            "type": "table"
           }
          ]
         },
         "layout": {
          "annotationdefaults": {
           "arrowcolor": "#2a3f5f",
           "arrowhead": 0,
           "arrowwidth": 1
          },
          "autotypenumbers": "strict",
          "coloraxis": {
           "colorbar": {
            "outlinewidth": 0,
            "ticks": ""
           }
          },
          "colorscale": {
           "diverging": [
            [
             0,
             "#8e0152"
            ],
            [
             0.1,
             "#c51b7d"
            ],
            [
             0.2,
             "#de77ae"
            ],
            [
             0.3,
             "#f1b6da"
            ],
            [
             0.4,
             "#fde0ef"
            ],
            [
             0.5,
             "#f7f7f7"
            ],
            [
             0.6,
             "#e6f5d0"
            ],
            [
             0.7,
             "#b8e186"
            ],
            [
             0.8,
             "#7fbc41"
            ],
            [
             0.9,
             "#4d9221"
            ],
            [
             1,
             "#276419"
            ]
           ],
           "sequential": [
            [
             0,
             "#0d0887"
            ],
            [
             0.1111111111111111,
             "#46039f"
            ],
            [
             0.2222222222222222,
             "#7201a8"
            ],
            [
             0.3333333333333333,
             "#9c179e"
            ],
            [
             0.4444444444444444,
             "#bd3786"
            ],
            [
             0.5555555555555556,
             "#d8576b"
            ],
            [
             0.6666666666666666,
             "#ed7953"
            ],
            [
             0.7777777777777778,
             "#fb9f3a"
            ],
            [
             0.8888888888888888,
             "#fdca26"
            ],
            [
             1,
             "#f0f921"
            ]
           ],
           "sequentialminus": [
            [
             0,
             "#0d0887"
            ],
            [
             0.1111111111111111,
             "#46039f"
            ],
            [
             0.2222222222222222,
             "#7201a8"
            ],
            [
             0.3333333333333333,
             "#9c179e"
            ],
            [
             0.4444444444444444,
             "#bd3786"
            ],
            [
             0.5555555555555556,
             "#d8576b"
            ],
            [
             0.6666666666666666,
             "#ed7953"
            ],
            [
             0.7777777777777778,
             "#fb9f3a"
            ],
            [
             0.8888888888888888,
             "#fdca26"
            ],
            [
             1,
             "#f0f921"
            ]
           ]
          },
          "colorway": [
           "#636efa",
           "#EF553B",
           "#00cc96",
           "#ab63fa",
           "#FFA15A",
           "#19d3f3",
           "#FF6692",
           "#B6E880",
           "#FF97FF",
           "#FECB52"
          ],
          "font": {
           "color": "#2a3f5f"
          },
          "geo": {
           "bgcolor": "white",
           "lakecolor": "white",
           "landcolor": "#E5ECF6",
           "showlakes": true,
           "showland": true,
           "subunitcolor": "white"
          },
          "hoverlabel": {
           "align": "left"
          },
          "hovermode": "closest",
          "mapbox": {
           "style": "light"
          },
          "paper_bgcolor": "white",
          "plot_bgcolor": "#E5ECF6",
          "polar": {
           "angularaxis": {
            "gridcolor": "white",
            "linecolor": "white",
            "ticks": ""
           },
           "bgcolor": "#E5ECF6",
           "radialaxis": {
            "gridcolor": "white",
            "linecolor": "white",
            "ticks": ""
           }
          },
          "scene": {
           "xaxis": {
            "backgroundcolor": "#E5ECF6",
            "gridcolor": "white",
            "gridwidth": 2,
            "linecolor": "white",
            "showbackground": true,
            "ticks": "",
            "zerolinecolor": "white"
           },
           "yaxis": {
            "backgroundcolor": "#E5ECF6",
            "gridcolor": "white",
            "gridwidth": 2,
            "linecolor": "white",
            "showbackground": true,
            "ticks": "",
            "zerolinecolor": "white"
           },
           "zaxis": {
            "backgroundcolor": "#E5ECF6",
            "gridcolor": "white",
            "gridwidth": 2,
            "linecolor": "white",
            "showbackground": true,
            "ticks": "",
            "zerolinecolor": "white"
           }
          },
          "shapedefaults": {
           "line": {
            "color": "#2a3f5f"
           }
          },
          "ternary": {
           "aaxis": {
            "gridcolor": "white",
            "linecolor": "white",
            "ticks": ""
           },
           "baxis": {
            "gridcolor": "white",
            "linecolor": "white",
            "ticks": ""
           },
           "bgcolor": "#E5ECF6",
           "caxis": {
            "gridcolor": "white",
            "linecolor": "white",
            "ticks": ""
           }
          },
          "title": {
           "x": 0.05
          },
          "xaxis": {
           "automargin": true,
           "gridcolor": "white",
           "linecolor": "white",
           "ticks": "",
           "title": {
            "standoff": 15
           },
           "zerolinecolor": "white",
           "zerolinewidth": 2
          },
          "yaxis": {
           "automargin": true,
           "gridcolor": "white",
           "linecolor": "white",
           "ticks": "",
           "title": {
            "standoff": 15
           },
           "zerolinecolor": "white",
           "zerolinewidth": 2
          }
         }
        },
        "title": {
         "text": "Total PTS per Season"
        },
        "xaxis": {
         "anchor": "y",
         "domain": [
          0,
          1
         ],
         "title": {
          "text": "SEASON"
         }
        },
        "yaxis": {
         "anchor": "x",
         "domain": [
          0,
          1
         ],
         "title": {
          "text": "PTS"
         }
        }
       }
      }
     },
     "metadata": {},
     "output_type": "display_data"
    }
   ],
   "source": [
    "fig2 = px.line(plot_sum_data, x='SEASON', y='PTS', markers=True, color='TEAM', title = 'Total PTS per Season')\n",
    "fig2.show()"
   ]
  },
  {
   "cell_type": "code",
   "execution_count": 63,
   "metadata": {},
   "outputs": [
    {
     "data": {
      "application/vnd.plotly.v1+json": {
       "config": {
        "plotlyServerURL": "https://plot.ly"
       },
       "data": [
        {
         "hovertemplate": "TEAM=76ers<br>SEASON=%{x}<br>REB=%{y}<extra></extra>",
         "legendgroup": "76ers",
         "line": {
          "color": "#636efa",
          "dash": "solid"
         },
         "marker": {
          "symbol": "circle"
         },
         "mode": "lines+markers",
         "name": "76ers",
         "orientation": "v",
         "showlegend": true,
         "type": "scatter",
         "x": [
          2003,
          2004,
          2005,
          2006,
          2007,
          2008,
          2009,
          2010,
          2011,
          2012,
          2013,
          2014,
          2015,
          2016,
          2017,
          2018,
          2019,
          2020,
          2021
         ],
         "xaxis": "x",
         "y": [
          3347,
          3612,
          3298,
          3252,
          3666,
          3596,
          3362,
          3631,
          3391,
          3389,
          3505,
          3859,
          3709,
          3831,
          4619,
          4639,
          3880,
          4002,
          2898
         ],
         "yaxis": "y"
        },
        {
         "hovertemplate": "TEAM=Bucks<br>SEASON=%{x}<br>REB=%{y}<extra></extra>",
         "legendgroup": "Bucks",
         "line": {
          "color": "#EF553B",
          "dash": "solid"
         },
         "marker": {
          "symbol": "circle"
         },
         "mode": "lines+markers",
         "name": "Bucks",
         "orientation": "v",
         "showlegend": true,
         "type": "scatter",
         "x": [
          2003,
          2004,
          2005,
          2006,
          2007,
          2008,
          2009,
          2010,
          2011,
          2012,
          2013,
          2014,
          2015,
          2016,
          2017,
          2018,
          2019,
          2020,
          2021
         ],
         "xaxis": "x",
         "y": [
          3658,
          3384,
          3562,
          3213,
          3418,
          3340,
          3799,
          3342,
          2803,
          3744,
          3370,
          4023,
          3693,
          3802,
          3697,
          5071,
          4630,
          4915,
          3410
         ],
         "yaxis": "y"
        },
        {
         "hovertemplate": "TEAM=Bulls<br>SEASON=%{x}<br>REB=%{y}<extra></extra>",
         "legendgroup": "Bulls",
         "line": {
          "color": "#00cc96",
          "dash": "solid"
         },
         "marker": {
          "symbol": "circle"
         },
         "mode": "lines+markers",
         "name": "Bulls",
         "orientation": "v",
         "showlegend": true,
         "type": "scatter",
         "x": [
          2003,
          2004,
          2005,
          2006,
          2007,
          2008,
          2009,
          2010,
          2011,
          2012,
          2013,
          2014,
          2015,
          2016,
          2017,
          2018,
          2019,
          2020,
          2021
         ],
         "xaxis": "x",
         "y": [
          3561,
          3850,
          3744,
          4000,
          3528,
          3770,
          3857,
          4318,
          3361,
          4029,
          3829,
          4660,
          4211,
          4418,
          3919,
          3760,
          2971,
          3627,
          3089
         ],
         "yaxis": "y"
        },
        {
         "hovertemplate": "TEAM=Cavaliers<br>SEASON=%{x}<br>REB=%{y}<extra></extra>",
         "legendgroup": "Cavaliers",
         "line": {
          "color": "#ab63fa",
          "dash": "solid"
         },
         "marker": {
          "symbol": "circle"
         },
         "mode": "lines+markers",
         "name": "Cavaliers",
         "orientation": "v",
         "showlegend": true,
         "type": "scatter",
         "x": [
          2003,
          2004,
          2005,
          2006,
          2007,
          2008,
          2009,
          2010,
          2011,
          2012,
          2013,
          2014,
          2015,
          2016,
          2017,
          2018,
          2019,
          2020,
          2021
         ],
         "xaxis": "x",
         "y": [
          3737,
          3469,
          4019,
          4434,
          4187,
          4024,
          3920,
          3305,
          2790,
          3363,
          3618,
          4727,
          4837,
          4576,
          4583,
          3687,
          2991,
          3349,
          3205
         ],
         "yaxis": "y"
        },
        {
         "hovertemplate": "TEAM=Celtics<br>SEASON=%{x}<br>REB=%{y}<extra></extra>",
         "legendgroup": "Celtics",
         "line": {
          "color": "#FFA15A",
          "dash": "solid"
         },
         "marker": {
          "symbol": "circle"
         },
         "mode": "lines+markers",
         "name": "Celtics",
         "orientation": "v",
         "showlegend": true,
         "type": "scatter",
         "x": [
          2003,
          2004,
          2005,
          2006,
          2007,
          2008,
          2009,
          2010,
          2011,
          2012,
          2013,
          2014,
          2015,
          2016,
          2017,
          2018,
          2019,
          2020,
          2021
         ],
         "xaxis": "x",
         "y": [
          3455,
          3618,
          3245,
          3309,
          4485,
          4060,
          4104,
          3532,
          3357,
          3421,
          3485,
          4098,
          4216,
          4426,
          4628,
          4277,
          4405,
          3788,
          3332
         ],
         "yaxis": "y"
        },
        {
         "hovertemplate": "TEAM=Clippers<br>SEASON=%{x}<br>REB=%{y}<extra></extra>",
         "legendgroup": "Clippers",
         "line": {
          "color": "#19d3f3",
          "dash": "solid"
         },
         "marker": {
          "symbol": "circle"
         },
         "mode": "lines+markers",
         "name": "Clippers",
         "orientation": "v",
         "showlegend": true,
         "type": "scatter",
         "x": [
          2003,
          2004,
          2005,
          2006,
          2007,
          2008,
          2009,
          2010,
          2011,
          2012,
          2013,
          2014,
          2015,
          2016,
          2017,
          2018,
          2019,
          2020,
          2021
         ],
         "xaxis": "x",
         "y": [
          3565,
          3431,
          4079,
          3372,
          3291,
          3267,
          3429,
          3456,
          3148,
          3636,
          4043,
          4409,
          3967,
          4018,
          3799,
          4136,
          4262,
          4159,
          3241
         ],
         "yaxis": "y"
        },
        {
         "hovertemplate": "TEAM=Grizzlies<br>SEASON=%{x}<br>REB=%{y}<extra></extra>",
         "legendgroup": "Grizzlies",
         "line": {
          "color": "#FF6692",
          "dash": "solid"
         },
         "marker": {
          "symbol": "circle"
         },
         "mode": "lines+markers",
         "name": "Grizzlies",
         "orientation": "v",
         "showlegend": true,
         "type": "scatter",
         "x": [
          2003,
          2004,
          2005,
          2006,
          2007,
          2008,
          2009,
          2010,
          2011,
          2012,
          2013,
          2014,
          2015,
          2016,
          2017,
          2018,
          2019,
          2020,
          2021
         ],
         "xaxis": "x",
         "y": [
          3566,
          3342,
          3350,
          3241,
          3415,
          3184,
          3566,
          3921,
          3074,
          4130,
          3775,
          4242,
          3858,
          3975,
          3563,
          3627,
          3747,
          4116,
          3661
         ],
         "yaxis": "y"
        },
        {
         "hovertemplate": "TEAM=Hawks<br>SEASON=%{x}<br>REB=%{y}<extra></extra>",
         "legendgroup": "Hawks",
         "line": {
          "color": "#B6E880",
          "dash": "solid"
         },
         "marker": {
          "symbol": "circle"
         },
         "mode": "lines+markers",
         "name": "Hawks",
         "orientation": "v",
         "showlegend": true,
         "type": "scatter",
         "x": [
          2003,
          2004,
          2005,
          2006,
          2007,
          2008,
          2009,
          2010,
          2011,
          2012,
          2013,
          2014,
          2015,
          2016,
          2017,
          2018,
          2019,
          2020,
          2021
         ],
         "xaxis": "x",
         "y": [
          3503,
          3434,
          3301,
          3288,
          3730,
          3666,
          3859,
          3668,
          2973,
          3581,
          3553,
          4325,
          4218,
          4235,
          3645,
          4004,
          3134,
          4522,
          3092
         ],
         "yaxis": "y"
        },
        {
         "hovertemplate": "TEAM=Heat<br>SEASON=%{x}<br>REB=%{y}<extra></extra>",
         "legendgroup": "Heat",
         "line": {
          "color": "#FF97FF",
          "dash": "solid"
         },
         "marker": {
          "symbol": "circle"
         },
         "mode": "lines+markers",
         "name": "Heat",
         "orientation": "v",
         "showlegend": true,
         "type": "scatter",
         "x": [
          2003,
          2004,
          2005,
          2006,
          2007,
          2008,
          2009,
          2010,
          2011,
          2012,
          2013,
          2014,
          2015,
          2016,
          2017,
          2018,
          2019,
          2020,
          2021
         ],
         "xaxis": "x",
         "y": [
          3943,
          4147,
          4500,
          3488,
          3085,
          3510,
          3616,
          4318,
          3676,
          4042,
          3704,
          3521,
          4614,
          3935,
          4037,
          4089,
          4458,
          3297,
          3351
         ],
         "yaxis": "y"
        },
        {
         "hovertemplate": "TEAM=Jazz<br>SEASON=%{x}<br>REB=%{y}<extra></extra>",
         "legendgroup": "Jazz",
         "line": {
          "color": "#FECB52",
          "dash": "solid"
         },
         "marker": {
          "symbol": "circle"
         },
         "mode": "lines+markers",
         "name": "Jazz",
         "orientation": "v",
         "showlegend": true,
         "type": "scatter",
         "x": [
          2003,
          2004,
          2005,
          2006,
          2007,
          2008,
          2009,
          2010,
          2011,
          2012,
          2013,
          2014,
          2015,
          2016,
          2017,
          2018,
          2019,
          2020,
          2021
         ],
         "xaxis": "x",
         "y": [
          3371,
          3283,
          3451,
          4237,
          3884,
          3576,
          3856,
          3236,
          3110,
          3446,
          3381,
          3979,
          3855,
          4193,
          4176,
          4176,
          3822,
          4233,
          3286
         ],
         "yaxis": "y"
        },
        {
         "hovertemplate": "TEAM=Kings<br>SEASON=%{x}<br>REB=%{y}<extra></extra>",
         "legendgroup": "Kings",
         "line": {
          "color": "#636efa",
          "dash": "solid"
         },
         "marker": {
          "symbol": "circle"
         },
         "mode": "lines+markers",
         "name": "Kings",
         "orientation": "v",
         "showlegend": true,
         "type": "scatter",
         "x": [
          2003,
          2004,
          2005,
          2006,
          2007,
          2008,
          2009,
          2010,
          2011,
          2012,
          2013,
          2014,
          2015,
          2016,
          2017,
          2018,
          2019,
          2020,
          2021
         ],
         "xaxis": "x",
         "y": [
          3908,
          3656,
          3555,
          3193,
          3285,
          3206,
          3495,
          3597,
          2829,
          3328,
          3646,
          3873,
          3905,
          3574,
          3585,
          3931,
          3354,
          3352,
          3170
         ],
         "yaxis": "y"
        },
        {
         "hovertemplate": "TEAM=Knicks<br>SEASON=%{x}<br>REB=%{y}<extra></extra>",
         "legendgroup": "Knicks",
         "line": {
          "color": "#EF553B",
          "dash": "solid"
         },
         "marker": {
          "symbol": "circle"
         },
         "mode": "lines+markers",
         "name": "Knicks",
         "orientation": "v",
         "showlegend": true,
         "type": "scatter",
         "x": [
          2003,
          2004,
          2005,
          2006,
          2007,
          2008,
          2009,
          2010,
          2011,
          2012,
          2013,
          2014,
          2015,
          2016,
          2017,
          2018,
          2019,
          2020,
          2021
         ],
         "xaxis": "x",
         "y": [
          3647,
          3357,
          3393,
          3548,
          3486,
          3456,
          3313,
          3479,
          2957,
          3800,
          3307,
          3588,
          3872,
          3963,
          3819,
          3902,
          3262,
          3784,
          3305
         ],
         "yaxis": "y"
        },
        {
         "hovertemplate": "TEAM=Lakers<br>SEASON=%{x}<br>REB=%{y}<extra></extra>",
         "legendgroup": "Lakers",
         "line": {
          "color": "#00cc96",
          "dash": "solid"
         },
         "marker": {
          "symbol": "circle"
         },
         "mode": "lines+markers",
         "name": "Lakers",
         "orientation": "v",
         "showlegend": true,
         "type": "scatter",
         "x": [
          2003,
          2004,
          2005,
          2006,
          2007,
          2008,
          2009,
          2010,
          2011,
          2012,
          2013,
          2014,
          2015,
          2016,
          2017,
          2018,
          2019,
          2020,
          2021
         ],
         "xaxis": "x",
         "y": [
          4421,
          3529,
          3756,
          3598,
          4451,
          4569,
          4622,
          4014,
          3588,
          3834,
          3365,
          3921,
          3809,
          3906,
          4070,
          4086,
          4578,
          3712,
          3211
         ],
         "yaxis": "y"
        },
        {
         "hovertemplate": "TEAM=Magic<br>SEASON=%{x}<br>REB=%{y}<extra></extra>",
         "legendgroup": "Magic",
         "line": {
          "color": "#ab63fa",
          "dash": "solid"
         },
         "marker": {
          "symbol": "circle"
         },
         "mode": "lines+markers",
         "name": "Magic",
         "orientation": "v",
         "showlegend": true,
         "type": "scatter",
         "x": [
          2003,
          2004,
          2005,
          2006,
          2007,
          2008,
          2009,
          2010,
          2011,
          2012,
          2013,
          2014,
          2015,
          2016,
          2017,
          2018,
          2019,
          2020,
          2021
         ],
         "xaxis": "x",
         "y": [
          3353,
          3578,
          3294,
          3499,
          3874,
          4468,
          4111,
          3797,
          2994,
          3502,
          3448,
          3753,
          3879,
          3851,
          3688,
          4129,
          3868,
          3504,
          3174
         ],
         "yaxis": "y"
        },
        {
         "hovertemplate": "TEAM=Mavericks<br>SEASON=%{x}<br>REB=%{y}<extra></extra>",
         "legendgroup": "Mavericks",
         "line": {
          "color": "#FFA15A",
          "dash": "solid"
         },
         "marker": {
          "symbol": "circle"
         },
         "mode": "lines+markers",
         "name": "Mavericks",
         "orientation": "v",
         "showlegend": true,
         "type": "scatter",
         "x": [
          2003,
          2004,
          2005,
          2006,
          2007,
          2008,
          2009,
          2010,
          2011,
          2012,
          2013,
          2014,
          2015,
          2016,
          2017,
          2018,
          2019,
          2020,
          2021
         ],
         "xaxis": "x",
         "y": [
          3973,
          4085,
          4442,
          3699,
          3752,
          3911,
          3683,
          4204,
          2984,
          3437,
          3639,
          4049,
          4021,
          3476,
          3660,
          3840,
          4167,
          3585,
          3122
         ],
         "yaxis": "y"
        },
        {
         "hovertemplate": "TEAM=Nets<br>SEASON=%{x}<br>REB=%{y}<extra></extra>",
         "legendgroup": "Nets",
         "line": {
          "color": "#19d3f3",
          "dash": "solid"
         },
         "marker": {
          "symbol": "circle"
         },
         "mode": "lines+markers",
         "name": "Nets",
         "orientation": "v",
         "showlegend": true,
         "type": "scatter",
         "x": [
          2003,
          2004,
          2005,
          2006,
          2007,
          2008,
          2009,
          2010,
          2011,
          2012,
          2013,
          2014,
          2015,
          2016,
          2017,
          2018,
          2019,
          2020,
          2021
         ],
         "xaxis": "x",
         "y": [
          3802,
          3405,
          3786,
          3825,
          3433,
          3265,
          3255,
          3349,
          2662,
          3802,
          3582,
          3967,
          3682,
          3835,
          3841,
          4213,
          3887,
          4107,
          3138
         ],
         "yaxis": "y"
        },
        {
         "hovertemplate": "TEAM=Nuggets<br>SEASON=%{x}<br>REB=%{y}<extra></extra>",
         "legendgroup": "Nuggets",
         "line": {
          "color": "#FF6692",
          "dash": "solid"
         },
         "marker": {
          "symbol": "circle"
         },
         "mode": "lines+markers",
         "name": "Nuggets",
         "orientation": "v",
         "showlegend": true,
         "type": "scatter",
         "x": [
          2003,
          2004,
          2005,
          2006,
          2007,
          2008,
          2009,
          2010,
          2011,
          2012,
          2013,
          2014,
          2015,
          2016,
          2017,
          2018,
          2019,
          2020,
          2021
         ],
         "xaxis": "x",
         "y": [
          3668,
          3636,
          3598,
          3776,
          3811,
          4056,
          3632,
          3633,
          3177,
          3925,
          3726,
          4024,
          3995,
          4214,
          3864,
          4662,
          4322,
          4005,
          3227
         ],
         "yaxis": "y"
        },
        {
         "hovertemplate": "TEAM=Pacers<br>SEASON=%{x}<br>REB=%{y}<extra></extra>",
         "legendgroup": "Pacers",
         "line": {
          "color": "#B6E880",
          "dash": "solid"
         },
         "marker": {
          "symbol": "circle"
         },
         "mode": "lines+markers",
         "name": "Pacers",
         "orientation": "v",
         "showlegend": true,
         "type": "scatter",
         "x": [
          2003,
          2004,
          2005,
          2006,
          2007,
          2008,
          2009,
          2010,
          2011,
          2012,
          2013,
          2014,
          2015,
          2016,
          2017,
          2018,
          2019,
          2020,
          2021
         ],
         "xaxis": "x",
         "y": [
          4089,
          3800,
          3681,
          3431,
          3537,
          3585,
          3403,
          3763,
          3380,
          4581,
          4415,
          3965,
          4242,
          3887,
          3875,
          3898,
          3611,
          3406,
          3233
         ],
         "yaxis": "y"
        },
        {
         "hovertemplate": "TEAM=Pelicans<br>SEASON=%{x}<br>REB=%{y}<extra></extra>",
         "legendgroup": "Pelicans",
         "line": {
          "color": "#FF97FF",
          "dash": "solid"
         },
         "marker": {
          "symbol": "circle"
         },
         "mode": "lines+markers",
         "name": "Pelicans",
         "orientation": "v",
         "showlegend": true,
         "type": "scatter",
         "x": [
          2003,
          2004,
          2005,
          2006,
          2007,
          2008,
          2009,
          2010,
          2011,
          2012,
          2013,
          2014,
          2015,
          2016,
          2017,
          2018,
          2019,
          2020,
          2021
         ],
         "xaxis": "x",
         "y": [
          3805,
          3291,
          3297,
          3537,
          3936,
          3440,
          3302,
          3493,
          2715,
          3414,
          3419,
          4049,
          3810,
          3853,
          4202,
          4122,
          3695,
          3740,
          3223
         ],
         "yaxis": "y"
        },
        {
         "hovertemplate": "TEAM=Pistons<br>SEASON=%{x}<br>REB=%{y}<extra></extra>",
         "legendgroup": "Pistons",
         "line": {
          "color": "#FECB52",
          "dash": "solid"
         },
         "marker": {
          "symbol": "circle"
         },
         "mode": "lines+markers",
         "name": "Pistons",
         "orientation": "v",
         "showlegend": true,
         "type": "scatter",
         "x": [
          2003,
          2004,
          2005,
          2006,
          2007,
          2008,
          2009,
          2010,
          2011,
          2012,
          2013,
          2014,
          2015,
          2016,
          2017,
          2018,
          2019,
          2020,
          2021
         ],
         "xaxis": "x",
         "y": [
          4537,
          4613,
          4020,
          3971,
          4013,
          3531,
          3295,
          3167,
          2657,
          3454,
          3721,
          3995,
          4293,
          4013,
          3812,
          4084,
          2983,
          3396,
          3059
         ],
         "yaxis": "y"
        },
        {
         "hovertemplate": "TEAM=Raptors<br>SEASON=%{x}<br>REB=%{y}<extra></extra>",
         "legendgroup": "Raptors",
         "line": {
          "color": "#636efa",
          "dash": "solid"
         },
         "marker": {
          "symbol": "circle"
         },
         "mode": "lines+markers",
         "name": "Raptors",
         "orientation": "v",
         "showlegend": true,
         "type": "scatter",
         "x": [
          2003,
          2004,
          2005,
          2006,
          2007,
          2008,
          2009,
          2010,
          2011,
          2012,
          2013,
          2014,
          2015,
          2016,
          2017,
          2018,
          2019,
          2020,
          2021
         ],
         "xaxis": "x",
         "y": [
          3249,
          3285,
          3155,
          3462,
          3480,
          3315,
          3313,
          3306,
          2771,
          3297,
          3779,
          3838,
          4674,
          4195,
          4220,
          4903,
          4105,
          3236,
          3248
         ],
         "yaxis": "y"
        },
        {
         "hovertemplate": "TEAM=Rockets<br>SEASON=%{x}<br>REB=%{y}<extra></extra>",
         "legendgroup": "Rockets",
         "line": {
          "color": "#EF553B",
          "dash": "solid"
         },
         "marker": {
          "symbol": "circle"
         },
         "mode": "lines+markers",
         "name": "Rockets",
         "orientation": "v",
         "showlegend": true,
         "type": "scatter",
         "x": [
          2003,
          2004,
          2005,
          2006,
          2007,
          2008,
          2009,
          2010,
          2011,
          2012,
          2013,
          2014,
          2015,
          2016,
          2017,
          2018,
          2019,
          2020,
          2021
         ],
         "xaxis": "x",
         "y": [
          3716,
          3739,
          3414,
          3844,
          3913,
          4051,
          3442,
          3511,
          2783,
          3822,
          4012,
          4715,
          4168,
          4414,
          4459,
          4095,
          4015,
          3373,
          3026
         ],
         "yaxis": "y"
        },
        {
         "hovertemplate": "TEAM=Spurs<br>SEASON=%{x}<br>REB=%{y}<extra></extra>",
         "legendgroup": "Spurs",
         "line": {
          "color": "#00cc96",
          "dash": "solid"
         },
         "marker": {
          "symbol": "circle"
         },
         "mode": "lines+markers",
         "name": "Spurs",
         "orientation": "v",
         "showlegend": true,
         "type": "scatter",
         "x": [
          2003,
          2004,
          2005,
          2006,
          2007,
          2008,
          2009,
          2010,
          2011,
          2012,
          2013,
          2014,
          2015,
          2016,
          2017,
          2018,
          2019,
          2020,
          2021
         ],
         "xaxis": "x",
         "y": [
          4121,
          4441,
          3882,
          4150,
          4093,
          3554,
          3919,
          3682,
          3405,
          4281,
          4515,
          4106,
          4251,
          4575,
          4030,
          4216,
          3535,
          3532,
          3340
         ],
         "yaxis": "y"
        },
        {
         "hovertemplate": "TEAM=Suns<br>SEASON=%{x}<br>REB=%{y}<extra></extra>",
         "legendgroup": "Suns",
         "line": {
          "color": "#ab63fa",
          "dash": "solid"
         },
         "marker": {
          "symbol": "circle"
         },
         "mode": "lines+markers",
         "name": "Suns",
         "orientation": "v",
         "showlegend": true,
         "type": "scatter",
         "x": [
          2003,
          2004,
          2005,
          2006,
          2007,
          2008,
          2009,
          2010,
          2011,
          2012,
          2013,
          2014,
          2015,
          2016,
          2017,
          2018,
          2019,
          2020,
          2021
         ],
         "xaxis": "x",
         "y": [
          3330,
          4266,
          4161,
          3764,
          3611,
          3420,
          4168,
          3299,
          2752,
          3413,
          3529,
          3798,
          3950,
          3971,
          3795,
          3479,
          3472,
          4391,
          3249
         ],
         "yaxis": "y"
        },
        {
         "hovertemplate": "TEAM=Thunder<br>SEASON=%{x}<br>REB=%{y}<extra></extra>",
         "legendgroup": "Thunder",
         "line": {
          "color": "#FFA15A",
          "dash": "solid"
         },
         "marker": {
          "symbol": "circle"
         },
         "mode": "lines+markers",
         "name": "Thunder",
         "orientation": "v",
         "showlegend": true,
         "type": "scatter",
         "x": [
          2003,
          2004,
          2005,
          2006,
          2007,
          2008,
          2009,
          2010,
          2011,
          2012,
          2013,
          2014,
          2015,
          2016,
          2017,
          2018,
          2019,
          2020,
          2021
         ],
         "xaxis": "x",
         "y": [
          3220,
          3794,
          3246,
          3250,
          3659,
          3496,
          3827,
          4288,
          3678,
          4051,
          4527,
          4193,
          5063,
          4238,
          4105,
          4370,
          3715,
          3557,
          3202
         ],
         "yaxis": "y"
        },
        {
         "hovertemplate": "TEAM=Timberwolves<br>SEASON=%{x}<br>REB=%{y}<extra></extra>",
         "legendgroup": "Timberwolves",
         "line": {
          "color": "#19d3f3",
          "dash": "solid"
         },
         "marker": {
          "symbol": "circle"
         },
         "mode": "lines+markers",
         "name": "Timberwolves",
         "orientation": "v",
         "showlegend": true,
         "type": "scatter",
         "x": [
          2003,
          2004,
          2005,
          2006,
          2007,
          2008,
          2009,
          2010,
          2011,
          2012,
          2013,
          2014,
          2015,
          2016,
          2017,
          2018,
          2019,
          2020,
          2021
         ],
         "xaxis": "x",
         "y": [
          4274,
          3527,
          3233,
          3292,
          3392,
          3417,
          3518,
          3641,
          2886,
          3446,
          3668,
          3665,
          3654,
          3808,
          3794,
          3895,
          3069,
          3420,
          3268
         ],
         "yaxis": "y"
        },
        {
         "hovertemplate": "TEAM=Trail Blazers<br>SEASON=%{x}<br>REB=%{y}<extra></extra>",
         "legendgroup": "Trail Blazers",
         "line": {
          "color": "#FF6692",
          "dash": "solid"
         },
         "marker": {
          "symbol": "circle"
         },
         "mode": "lines+markers",
         "name": "Trail Blazers",
         "orientation": "v",
         "showlegend": true,
         "type": "scatter",
         "x": [
          2003,
          2004,
          2005,
          2006,
          2007,
          2008,
          2009,
          2010,
          2011,
          2012,
          2013,
          2014,
          2015,
          2016,
          2017,
          2018,
          2019,
          2020,
          2021
         ],
         "xaxis": "x",
         "y": [
          3416,
          3374,
          3089,
          3222,
          3339,
          3638,
          3520,
          3452,
          2684,
          3348,
          4294,
          4253,
          4592,
          4054,
          4147,
          4884,
          3928,
          3666,
          3058
         ],
         "yaxis": "y"
        },
        {
         "hovertemplate": "TEAM=Warriors<br>SEASON=%{x}<br>REB=%{y}<extra></extra>",
         "legendgroup": "Warriors",
         "line": {
          "color": "#B6E880",
          "dash": "solid"
         },
         "marker": {
          "symbol": "circle"
         },
         "mode": "lines+markers",
         "name": "Warriors",
         "orientation": "v",
         "showlegend": true,
         "type": "scatter",
         "x": [
          2003,
          2004,
          2005,
          2006,
          2007,
          2008,
          2009,
          2010,
          2011,
          2012,
          2013,
          2014,
          2015,
          2016,
          2017,
          2018,
          2019,
          2020,
          2021
         ],
         "xaxis": "x",
         "y": [
          3535,
          3505,
          3465,
          3817,
          3541,
          3445,
          3150,
          3325,
          2587,
          4239,
          4014,
          4948,
          5122,
          4745,
          4690,
          4970,
          3018,
          3490,
          3331
         ],
         "yaxis": "y"
        },
        {
         "hovertemplate": "TEAM=Wizards<br>SEASON=%{x}<br>REB=%{y}<extra></extra>",
         "legendgroup": "Wizards",
         "line": {
          "color": "#FF97FF",
          "dash": "solid"
         },
         "marker": {
          "symbol": "circle"
         },
         "mode": "lines+markers",
         "name": "Wizards",
         "orientation": "v",
         "showlegend": true,
         "type": "scatter",
         "x": [
          2003,
          2004,
          2005,
          2006,
          2007,
          2008,
          2009,
          2010,
          2011,
          2012,
          2013,
          2014,
          2015,
          2016,
          2017,
          2018,
          2019,
          2020,
          2021
         ],
         "xaxis": "x",
         "y": [
          3505,
          3934,
          3614,
          3523,
          3635,
          3286,
          3424,
          3387,
          2750,
          3539,
          3953,
          4420,
          3703,
          4382,
          3941,
          3669,
          3342,
          3768,
          3049
         ],
         "yaxis": "y"
        },
        {
         "hovertemplate": "TEAM=Hornets<br>SEASON=%{x}<br>REB=%{y}<extra></extra>",
         "legendgroup": "Hornets",
         "line": {
          "color": "#FECB52",
          "dash": "solid"
         },
         "marker": {
          "symbol": "circle"
         },
         "mode": "lines+markers",
         "name": "Hornets",
         "orientation": "v",
         "showlegend": true,
         "type": "scatter",
         "x": [
          2004,
          2005,
          2006,
          2007,
          2008,
          2009,
          2010,
          2011,
          2012,
          2013,
          2014,
          2015,
          2016,
          2017,
          2018,
          2019,
          2020,
          2021
         ],
         "xaxis": "x",
         "y": [
          3407,
          3260,
          3266,
          3332,
          3252,
          3494,
          3292,
          2571,
          3306,
          3659,
          3965,
          4246,
          3904,
          3954,
          3824,
          3012,
          3559,
          3247
         ],
         "yaxis": "y"
        }
       ],
       "layout": {
        "legend": {
         "title": {
          "text": "TEAM"
         },
         "tracegroupgap": 0
        },
        "template": {
         "data": {
          "bar": [
           {
            "error_x": {
             "color": "#2a3f5f"
            },
            "error_y": {
             "color": "#2a3f5f"
            },
            "marker": {
             "line": {
              "color": "#E5ECF6",
              "width": 0.5
             },
             "pattern": {
              "fillmode": "overlay",
              "size": 10,
              "solidity": 0.2
             }
            },
            "type": "bar"
           }
          ],
          "barpolar": [
           {
            "marker": {
             "line": {
              "color": "#E5ECF6",
              "width": 0.5
             },
             "pattern": {
              "fillmode": "overlay",
              "size": 10,
              "solidity": 0.2
             }
            },
            "type": "barpolar"
           }
          ],
          "carpet": [
           {
            "aaxis": {
             "endlinecolor": "#2a3f5f",
             "gridcolor": "white",
             "linecolor": "white",
             "minorgridcolor": "white",
             "startlinecolor": "#2a3f5f"
            },
            "baxis": {
             "endlinecolor": "#2a3f5f",
             "gridcolor": "white",
             "linecolor": "white",
             "minorgridcolor": "white",
             "startlinecolor": "#2a3f5f"
            },
            "type": "carpet"
           }
          ],
          "choropleth": [
           {
            "colorbar": {
             "outlinewidth": 0,
             "ticks": ""
            },
            "type": "choropleth"
           }
          ],
          "contour": [
           {
            "colorbar": {
             "outlinewidth": 0,
             "ticks": ""
            },
            "colorscale": [
             [
              0,
              "#0d0887"
             ],
             [
              0.1111111111111111,
              "#46039f"
             ],
             [
              0.2222222222222222,
              "#7201a8"
             ],
             [
              0.3333333333333333,
              "#9c179e"
             ],
             [
              0.4444444444444444,
              "#bd3786"
             ],
             [
              0.5555555555555556,
              "#d8576b"
             ],
             [
              0.6666666666666666,
              "#ed7953"
             ],
             [
              0.7777777777777778,
              "#fb9f3a"
             ],
             [
              0.8888888888888888,
              "#fdca26"
             ],
             [
              1,
              "#f0f921"
             ]
            ],
            "type": "contour"
           }
          ],
          "contourcarpet": [
           {
            "colorbar": {
             "outlinewidth": 0,
             "ticks": ""
            },
            "type": "contourcarpet"
           }
          ],
          "heatmap": [
           {
            "colorbar": {
             "outlinewidth": 0,
             "ticks": ""
            },
            "colorscale": [
             [
              0,
              "#0d0887"
             ],
             [
              0.1111111111111111,
              "#46039f"
             ],
             [
              0.2222222222222222,
              "#7201a8"
             ],
             [
              0.3333333333333333,
              "#9c179e"
             ],
             [
              0.4444444444444444,
              "#bd3786"
             ],
             [
              0.5555555555555556,
              "#d8576b"
             ],
             [
              0.6666666666666666,
              "#ed7953"
             ],
             [
              0.7777777777777778,
              "#fb9f3a"
             ],
             [
              0.8888888888888888,
              "#fdca26"
             ],
             [
              1,
              "#f0f921"
             ]
            ],
            "type": "heatmap"
           }
          ],
          "heatmapgl": [
           {
            "colorbar": {
             "outlinewidth": 0,
             "ticks": ""
            },
            "colorscale": [
             [
              0,
              "#0d0887"
             ],
             [
              0.1111111111111111,
              "#46039f"
             ],
             [
              0.2222222222222222,
              "#7201a8"
             ],
             [
              0.3333333333333333,
              "#9c179e"
             ],
             [
              0.4444444444444444,
              "#bd3786"
             ],
             [
              0.5555555555555556,
              "#d8576b"
             ],
             [
              0.6666666666666666,
              "#ed7953"
             ],
             [
              0.7777777777777778,
              "#fb9f3a"
             ],
             [
              0.8888888888888888,
              "#fdca26"
             ],
             [
              1,
              "#f0f921"
             ]
            ],
            "type": "heatmapgl"
           }
          ],
          "histogram": [
           {
            "marker": {
             "pattern": {
              "fillmode": "overlay",
              "size": 10,
              "solidity": 0.2
             }
            },
            "type": "histogram"
           }
          ],
          "histogram2d": [
           {
            "colorbar": {
             "outlinewidth": 0,
             "ticks": ""
            },
            "colorscale": [
             [
              0,
              "#0d0887"
             ],
             [
              0.1111111111111111,
              "#46039f"
             ],
             [
              0.2222222222222222,
              "#7201a8"
             ],
             [
              0.3333333333333333,
              "#9c179e"
             ],
             [
              0.4444444444444444,
              "#bd3786"
             ],
             [
              0.5555555555555556,
              "#d8576b"
             ],
             [
              0.6666666666666666,
              "#ed7953"
             ],
             [
              0.7777777777777778,
              "#fb9f3a"
             ],
             [
              0.8888888888888888,
              "#fdca26"
             ],
             [
              1,
              "#f0f921"
             ]
            ],
            "type": "histogram2d"
           }
          ],
          "histogram2dcontour": [
           {
            "colorbar": {
             "outlinewidth": 0,
             "ticks": ""
            },
            "colorscale": [
             [
              0,
              "#0d0887"
             ],
             [
              0.1111111111111111,
              "#46039f"
             ],
             [
              0.2222222222222222,
              "#7201a8"
             ],
             [
              0.3333333333333333,
              "#9c179e"
             ],
             [
              0.4444444444444444,
              "#bd3786"
             ],
             [
              0.5555555555555556,
              "#d8576b"
             ],
             [
              0.6666666666666666,
              "#ed7953"
             ],
             [
              0.7777777777777778,
              "#fb9f3a"
             ],
             [
              0.8888888888888888,
              "#fdca26"
             ],
             [
              1,
              "#f0f921"
             ]
            ],
            "type": "histogram2dcontour"
           }
          ],
          "mesh3d": [
           {
            "colorbar": {
             "outlinewidth": 0,
             "ticks": ""
            },
            "type": "mesh3d"
           }
          ],
          "parcoords": [
           {
            "line": {
             "colorbar": {
              "outlinewidth": 0,
              "ticks": ""
             }
            },
            "type": "parcoords"
           }
          ],
          "pie": [
           {
            "automargin": true,
            "type": "pie"
           }
          ],
          "scatter": [
           {
            "fillpattern": {
             "fillmode": "overlay",
             "size": 10,
             "solidity": 0.2
            },
            "type": "scatter"
           }
          ],
          "scatter3d": [
           {
            "line": {
             "colorbar": {
              "outlinewidth": 0,
              "ticks": ""
             }
            },
            "marker": {
             "colorbar": {
              "outlinewidth": 0,
              "ticks": ""
             }
            },
            "type": "scatter3d"
           }
          ],
          "scattercarpet": [
           {
            "marker": {
             "colorbar": {
              "outlinewidth": 0,
              "ticks": ""
             }
            },
            "type": "scattercarpet"
           }
          ],
          "scattergeo": [
           {
            "marker": {
             "colorbar": {
              "outlinewidth": 0,
              "ticks": ""
             }
            },
            "type": "scattergeo"
           }
          ],
          "scattergl": [
           {
            "marker": {
             "colorbar": {
              "outlinewidth": 0,
              "ticks": ""
             }
            },
            "type": "scattergl"
           }
          ],
          "scattermapbox": [
           {
            "marker": {
             "colorbar": {
              "outlinewidth": 0,
              "ticks": ""
             }
            },
            "type": "scattermapbox"
           }
          ],
          "scatterpolar": [
           {
            "marker": {
             "colorbar": {
              "outlinewidth": 0,
              "ticks": ""
             }
            },
            "type": "scatterpolar"
           }
          ],
          "scatterpolargl": [
           {
            "marker": {
             "colorbar": {
              "outlinewidth": 0,
              "ticks": ""
             }
            },
            "type": "scatterpolargl"
           }
          ],
          "scatterternary": [
           {
            "marker": {
             "colorbar": {
              "outlinewidth": 0,
              "ticks": ""
             }
            },
            "type": "scatterternary"
           }
          ],
          "surface": [
           {
            "colorbar": {
             "outlinewidth": 0,
             "ticks": ""
            },
            "colorscale": [
             [
              0,
              "#0d0887"
             ],
             [
              0.1111111111111111,
              "#46039f"
             ],
             [
              0.2222222222222222,
              "#7201a8"
             ],
             [
              0.3333333333333333,
              "#9c179e"
             ],
             [
              0.4444444444444444,
              "#bd3786"
             ],
             [
              0.5555555555555556,
              "#d8576b"
             ],
             [
              0.6666666666666666,
              "#ed7953"
             ],
             [
              0.7777777777777778,
              "#fb9f3a"
             ],
             [
              0.8888888888888888,
              "#fdca26"
             ],
             [
              1,
              "#f0f921"
             ]
            ],
            "type": "surface"
           }
          ],
          "table": [
           {
            "cells": {
             "fill": {
              "color": "#EBF0F8"
             },
             "line": {
              "color": "white"
             }
            },
            "header": {
             "fill": {
              "color": "#C8D4E3"
             },
             "line": {
              "color": "white"
             }
            },
            "type": "table"
           }
          ]
         },
         "layout": {
          "annotationdefaults": {
           "arrowcolor": "#2a3f5f",
           "arrowhead": 0,
           "arrowwidth": 1
          },
          "autotypenumbers": "strict",
          "coloraxis": {
           "colorbar": {
            "outlinewidth": 0,
            "ticks": ""
           }
          },
          "colorscale": {
           "diverging": [
            [
             0,
             "#8e0152"
            ],
            [
             0.1,
             "#c51b7d"
            ],
            [
             0.2,
             "#de77ae"
            ],
            [
             0.3,
             "#f1b6da"
            ],
            [
             0.4,
             "#fde0ef"
            ],
            [
             0.5,
             "#f7f7f7"
            ],
            [
             0.6,
             "#e6f5d0"
            ],
            [
             0.7,
             "#b8e186"
            ],
            [
             0.8,
             "#7fbc41"
            ],
            [
             0.9,
             "#4d9221"
            ],
            [
             1,
             "#276419"
            ]
           ],
           "sequential": [
            [
             0,
             "#0d0887"
            ],
            [
             0.1111111111111111,
             "#46039f"
            ],
            [
             0.2222222222222222,
             "#7201a8"
            ],
            [
             0.3333333333333333,
             "#9c179e"
            ],
            [
             0.4444444444444444,
             "#bd3786"
            ],
            [
             0.5555555555555556,
             "#d8576b"
            ],
            [
             0.6666666666666666,
             "#ed7953"
            ],
            [
             0.7777777777777778,
             "#fb9f3a"
            ],
            [
             0.8888888888888888,
             "#fdca26"
            ],
            [
             1,
             "#f0f921"
            ]
           ],
           "sequentialminus": [
            [
             0,
             "#0d0887"
            ],
            [
             0.1111111111111111,
             "#46039f"
            ],
            [
             0.2222222222222222,
             "#7201a8"
            ],
            [
             0.3333333333333333,
             "#9c179e"
            ],
            [
             0.4444444444444444,
             "#bd3786"
            ],
            [
             0.5555555555555556,
             "#d8576b"
            ],
            [
             0.6666666666666666,
             "#ed7953"
            ],
            [
             0.7777777777777778,
             "#fb9f3a"
            ],
            [
             0.8888888888888888,
             "#fdca26"
            ],
            [
             1,
             "#f0f921"
            ]
           ]
          },
          "colorway": [
           "#636efa",
           "#EF553B",
           "#00cc96",
           "#ab63fa",
           "#FFA15A",
           "#19d3f3",
           "#FF6692",
           "#B6E880",
           "#FF97FF",
           "#FECB52"
          ],
          "font": {
           "color": "#2a3f5f"
          },
          "geo": {
           "bgcolor": "white",
           "lakecolor": "white",
           "landcolor": "#E5ECF6",
           "showlakes": true,
           "showland": true,
           "subunitcolor": "white"
          },
          "hoverlabel": {
           "align": "left"
          },
          "hovermode": "closest",
          "mapbox": {
           "style": "light"
          },
          "paper_bgcolor": "white",
          "plot_bgcolor": "#E5ECF6",
          "polar": {
           "angularaxis": {
            "gridcolor": "white",
            "linecolor": "white",
            "ticks": ""
           },
           "bgcolor": "#E5ECF6",
           "radialaxis": {
            "gridcolor": "white",
            "linecolor": "white",
            "ticks": ""
           }
          },
          "scene": {
           "xaxis": {
            "backgroundcolor": "#E5ECF6",
            "gridcolor": "white",
            "gridwidth": 2,
            "linecolor": "white",
            "showbackground": true,
            "ticks": "",
            "zerolinecolor": "white"
           },
           "yaxis": {
            "backgroundcolor": "#E5ECF6",
            "gridcolor": "white",
            "gridwidth": 2,
            "linecolor": "white",
            "showbackground": true,
            "ticks": "",
            "zerolinecolor": "white"
           },
           "zaxis": {
            "backgroundcolor": "#E5ECF6",
            "gridcolor": "white",
            "gridwidth": 2,
            "linecolor": "white",
            "showbackground": true,
            "ticks": "",
            "zerolinecolor": "white"
           }
          },
          "shapedefaults": {
           "line": {
            "color": "#2a3f5f"
           }
          },
          "ternary": {
           "aaxis": {
            "gridcolor": "white",
            "linecolor": "white",
            "ticks": ""
           },
           "baxis": {
            "gridcolor": "white",
            "linecolor": "white",
            "ticks": ""
           },
           "bgcolor": "#E5ECF6",
           "caxis": {
            "gridcolor": "white",
            "linecolor": "white",
            "ticks": ""
           }
          },
          "title": {
           "x": 0.05
          },
          "xaxis": {
           "automargin": true,
           "gridcolor": "white",
           "linecolor": "white",
           "ticks": "",
           "title": {
            "standoff": 15
           },
           "zerolinecolor": "white",
           "zerolinewidth": 2
          },
          "yaxis": {
           "automargin": true,
           "gridcolor": "white",
           "linecolor": "white",
           "ticks": "",
           "title": {
            "standoff": 15
           },
           "zerolinecolor": "white",
           "zerolinewidth": 2
          }
         }
        },
        "title": {
         "text": "Total REB per Season"
        },
        "xaxis": {
         "anchor": "y",
         "domain": [
          0,
          1
         ],
         "title": {
          "text": "SEASON"
         }
        },
        "yaxis": {
         "anchor": "x",
         "domain": [
          0,
          1
         ],
         "title": {
          "text": "REB"
         }
        }
       }
      }
     },
     "metadata": {},
     "output_type": "display_data"
    }
   ],
   "source": [
    "fig2 = px.line(plot_sum_data, x='SEASON', y='REB', markers=True, color='TEAM', title = 'Total REB per Season')\n",
    "fig2.show()"
   ]
  },
  {
   "cell_type": "code",
   "execution_count": 64,
   "metadata": {},
   "outputs": [
    {
     "data": {
      "application/vnd.plotly.v1+json": {
       "config": {
        "plotlyServerURL": "https://plot.ly"
       },
       "data": [
        {
         "hovertemplate": "TEAM=76ers<br>SEASON=%{x}<br>AST=%{y}<extra></extra>",
         "legendgroup": "76ers",
         "line": {
          "color": "#636efa",
          "dash": "solid"
         },
         "marker": {
          "symbol": "circle"
         },
         "mode": "lines+markers",
         "name": "76ers",
         "orientation": "v",
         "showlegend": true,
         "type": "scatter",
         "x": [
          2003,
          2004,
          2005,
          2006,
          2007,
          2008,
          2009,
          2010,
          2011,
          2012,
          2013,
          2014,
          2015,
          2016,
          2017,
          2018,
          2019,
          2020,
          2021
         ],
         "xaxis": "x",
         "y": [
          1639,
          1803,
          1653,
          1669,
          1768,
          1754,
          1723,
          1963,
          1689,
          1867,
          1791,
          1849,
          1895,
          2081,
          2601,
          2588,
          2136,
          2113,
          1593
         ],
         "yaxis": "y"
        },
        {
         "hovertemplate": "TEAM=Bucks<br>SEASON=%{x}<br>AST=%{y}<extra></extra>",
         "legendgroup": "Bucks",
         "line": {
          "color": "#EF553B",
          "dash": "solid"
         },
         "marker": {
          "symbol": "circle"
         },
         "mode": "lines+markers",
         "name": "Bucks",
         "orientation": "v",
         "showlegend": true,
         "type": "scatter",
         "x": [
          2003,
          2004,
          2005,
          2006,
          2007,
          2008,
          2009,
          2010,
          2011,
          2012,
          2013,
          2014,
          2015,
          2016,
          2017,
          2018,
          2019,
          2020,
          2021
         ],
         "xaxis": "x",
         "y": [
          1975,
          1713,
          1874,
          1771,
          1760,
          1802,
          1854,
          1545,
          1550,
          1955,
          1760,
          2209,
          2020,
          2226,
          2165,
          2621,
          2335,
          2527,
          1722
         ],
         "yaxis": "y"
        },
        {
         "hovertemplate": "TEAM=Bulls<br>SEASON=%{x}<br>AST=%{y}<extra></extra>",
         "legendgroup": "Bulls",
         "line": {
          "color": "#00cc96",
          "dash": "solid"
         },
         "marker": {
          "symbol": "circle"
         },
         "mode": "lines+markers",
         "name": "Bulls",
         "orientation": "v",
         "showlegend": true,
         "type": "scatter",
         "x": [
          2003,
          2004,
          2005,
          2006,
          2007,
          2008,
          2009,
          2010,
          2011,
          2012,
          2013,
          2014,
          2015,
          2016,
          2017,
          2018,
          2019,
          2020,
          2021
         ],
         "xaxis": "x",
         "y": [
          1793,
          1871,
          1914,
          2038,
          1811,
          1871,
          1799,
          2149,
          1662,
          2120,
          1961,
          2209,
          2037,
          2141,
          2084,
          1898,
          1635,
          2117,
          1728
         ],
         "yaxis": "y"
        },
        {
         "hovertemplate": "TEAM=Cavaliers<br>SEASON=%{x}<br>AST=%{y}<extra></extra>",
         "legendgroup": "Cavaliers",
         "line": {
          "color": "#ab63fa",
          "dash": "solid"
         },
         "marker": {
          "symbol": "circle"
         },
         "mode": "lines+markers",
         "name": "Cavaliers",
         "orientation": "v",
         "showlegend": true,
         "type": "scatter",
         "x": [
          2003,
          2004,
          2005,
          2006,
          2007,
          2008,
          2009,
          2010,
          2011,
          2012,
          2013,
          2014,
          2015,
          2016,
          2017,
          2018,
          2019,
          2020,
          2021
         ],
         "xaxis": "x",
         "y": [
          1808,
          1851,
          1770,
          2058,
          1902,
          1931,
          2067,
          1720,
          1308,
          1694,
          1738,
          2308,
          2463,
          2403,
          2459,
          1771,
          1547,
          1850,
          1800
         ],
         "yaxis": "y"
        },
        {
         "hovertemplate": "TEAM=Celtics<br>SEASON=%{x}<br>AST=%{y}<extra></extra>",
         "legendgroup": "Celtics",
         "line": {
          "color": "#FFA15A",
          "dash": "solid"
         },
         "marker": {
          "symbol": "circle"
         },
         "mode": "lines+markers",
         "name": "Celtics",
         "orientation": "v",
         "showlegend": true,
         "type": "scatter",
         "x": [
          2003,
          2004,
          2005,
          2006,
          2007,
          2008,
          2009,
          2010,
          2011,
          2012,
          2013,
          2014,
          2015,
          2016,
          2017,
          2018,
          2019,
          2020,
          2021
         ],
         "xaxis": "x",
         "y": [
          1753,
          1920,
          1716,
          1630,
          2392,
          2183,
          2437,
          2110,
          1953,
          1944,
          1726,
          2273,
          2229,
          2714,
          2338,
          2424,
          2204,
          1975,
          1729
         ],
         "yaxis": "y"
        },
        {
         "hovertemplate": "TEAM=Clippers<br>SEASON=%{x}<br>AST=%{y}<extra></extra>",
         "legendgroup": "Clippers",
         "line": {
          "color": "#19d3f3",
          "dash": "solid"
         },
         "marker": {
          "symbol": "circle"
         },
         "mode": "lines+markers",
         "name": "Clippers",
         "orientation": "v",
         "showlegend": true,
         "type": "scatter",
         "x": [
          2003,
          2004,
          2005,
          2006,
          2007,
          2008,
          2009,
          2010,
          2011,
          2012,
          2013,
          2014,
          2015,
          2016,
          2017,
          2018,
          2019,
          2020,
          2021
         ],
         "xaxis": "x",
         "y": [
          1653,
          1898,
          1957,
          1762,
          1732,
          1723,
          1810,
          1813,
          1575,
          2066,
          2326,
          2527,
          2125,
          2106,
          1950,
          2198,
          2123,
          2259,
          1724
         ],
         "yaxis": "y"
        },
        {
         "hovertemplate": "TEAM=Grizzlies<br>SEASON=%{x}<br>AST=%{y}<extra></extra>",
         "legendgroup": "Grizzlies",
         "line": {
          "color": "#FF6692",
          "dash": "solid"
         },
         "marker": {
          "symbol": "circle"
         },
         "mode": "lines+markers",
         "name": "Grizzlies",
         "orientation": "v",
         "showlegend": true,
         "type": "scatter",
         "x": [
          2003,
          2004,
          2005,
          2006,
          2007,
          2008,
          2009,
          2010,
          2011,
          2012,
          2013,
          2014,
          2015,
          2016,
          2017,
          2018,
          2019,
          2020,
          2021
         ],
         "xaxis": "x",
         "y": [
          1973,
          1799,
          1642,
          1680,
          1574,
          1423,
          1543,
          1936,
          1404,
          2005,
          1944,
          2136,
          1871,
          1978,
          1879,
          2072,
          2137,
          2294,
          1863
         ],
         "yaxis": "y"
        },
        {
         "hovertemplate": "TEAM=Hawks<br>SEASON=%{x}<br>AST=%{y}<extra></extra>",
         "legendgroup": "Hawks",
         "line": {
          "color": "#B6E880",
          "dash": "solid"
         },
         "marker": {
          "symbol": "circle"
         },
         "mode": "lines+markers",
         "name": "Hawks",
         "orientation": "v",
         "showlegend": true,
         "type": "scatter",
         "x": [
          2003,
          2004,
          2005,
          2006,
          2007,
          2008,
          2009,
          2010,
          2011,
          2012,
          2013,
          2014,
          2015,
          2016,
          2017,
          2018,
          2019,
          2020,
          2021
         ],
         "xaxis": "x",
         "y": [
          1648,
          1612,
          1625,
          1573,
          1926,
          1843,
          1969,
          2019,
          1586,
          2122,
          2159,
          2670,
          2467,
          2256,
          2059,
          2238,
          1718,
          2345,
          1703
         ],
         "yaxis": "y"
        },
        {
         "hovertemplate": "TEAM=Heat<br>SEASON=%{x}<br>AST=%{y}<extra></extra>",
         "legendgroup": "Heat",
         "line": {
          "color": "#FF97FF",
          "dash": "solid"
         },
         "marker": {
          "symbol": "circle"
         },
         "mode": "lines+markers",
         "name": "Heat",
         "orientation": "v",
         "showlegend": true,
         "type": "scatter",
         "x": [
          2003,
          2004,
          2005,
          2006,
          2007,
          2008,
          2009,
          2010,
          2011,
          2012,
          2013,
          2014,
          2015,
          2016,
          2017,
          2018,
          2019,
          2020,
          2021
         ],
         "xaxis": "x",
         "y": [
          1777,
          2075,
          2094,
          1752,
          1644,
          1776,
          1636,
          1985,
          1719,
          2363,
          2212,
          1785,
          2100,
          1919,
          2107,
          2117,
          2626,
          2070,
          1915
         ],
         "yaxis": "y"
        },
        {
         "hovertemplate": "TEAM=Jazz<br>SEASON=%{x}<br>AST=%{y}<extra></extra>",
         "legendgroup": "Jazz",
         "line": {
          "color": "#FECB52",
          "dash": "solid"
         },
         "marker": {
          "symbol": "circle"
         },
         "mode": "lines+markers",
         "name": "Jazz",
         "orientation": "v",
         "showlegend": true,
         "type": "scatter",
         "x": [
          2003,
          2004,
          2005,
          2006,
          2007,
          2008,
          2009,
          2010,
          2011,
          2012,
          2013,
          2014,
          2015,
          2016,
          2017,
          2018,
          2019,
          2020,
          2021
         ],
         "xaxis": "x",
         "y": [
          1669,
          1824,
          1772,
          2401,
          2422,
          2151,
          2425,
          1921,
          1506,
          1859,
          1664,
          1804,
          1675,
          1958,
          2131,
          2330,
          1919,
          2070,
          1602
         ],
         "yaxis": "y"
        },
        {
         "hovertemplate": "TEAM=Kings<br>SEASON=%{x}<br>AST=%{y}<extra></extra>",
         "legendgroup": "Kings",
         "line": {
          "color": "#636efa",
          "dash": "solid"
         },
         "marker": {
          "symbol": "circle"
         },
         "mode": "lines+markers",
         "name": "Kings",
         "orientation": "v",
         "showlegend": true,
         "type": "scatter",
         "x": [
          2003,
          2004,
          2005,
          2006,
          2007,
          2008,
          2009,
          2010,
          2011,
          2012,
          2013,
          2014,
          2015,
          2016,
          2017,
          2018,
          2019,
          2020,
          2021
         ],
         "xaxis": "x",
         "y": [
          2426,
          2106,
          1917,
          1665,
          1567,
          1619,
          1679,
          1675,
          1271,
          1708,
          1547,
          1782,
          2135,
          1963,
          1884,
          2196,
          1884,
          2036,
          1716
         ],
         "yaxis": "y"
        },
        {
         "hovertemplate": "TEAM=Knicks<br>SEASON=%{x}<br>AST=%{y}<extra></extra>",
         "legendgroup": "Knicks",
         "line": {
          "color": "#EF553B",
          "dash": "solid"
         },
         "marker": {
          "symbol": "circle"
         },
         "mode": "lines+markers",
         "name": "Knicks",
         "orientation": "v",
         "showlegend": true,
         "type": "scatter",
         "x": [
          2003,
          2004,
          2005,
          2006,
          2007,
          2008,
          2009,
          2010,
          2011,
          2012,
          2013,
          2014,
          2015,
          2016,
          2017,
          2018,
          2019,
          2020,
          2021
         ],
         "xaxis": "x",
         "y": [
          1773,
          1665,
          1468,
          1532,
          1530,
          1738,
          1772,
          1824,
          1391,
          1760,
          1641,
          1890,
          1795,
          1942,
          2008,
          1747,
          1547,
          1790,
          1539
         ],
         "yaxis": "y"
        },
        {
         "hovertemplate": "TEAM=Lakers<br>SEASON=%{x}<br>AST=%{y}<extra></extra>",
         "legendgroup": "Lakers",
         "line": {
          "color": "#00cc96",
          "dash": "solid"
         },
         "marker": {
          "symbol": "circle"
         },
         "mode": "lines+markers",
         "name": "Lakers",
         "orientation": "v",
         "showlegend": true,
         "type": "scatter",
         "x": [
          2003,
          2004,
          2005,
          2006,
          2007,
          2008,
          2009,
          2010,
          2011,
          2012,
          2013,
          2014,
          2015,
          2016,
          2017,
          2018,
          2019,
          2020,
          2021
         ],
         "xaxis": "x",
         "y": [
          2446,
          1671,
          1854,
          1922,
          2439,
          2354,
          2182,
          1990,
          1711,
          1892,
          2006,
          1890,
          1602,
          1893,
          2097,
          2250,
          2564,
          2040,
          1713
         ],
         "yaxis": "y"
        },
        {
         "hovertemplate": "TEAM=Magic<br>SEASON=%{x}<br>AST=%{y}<extra></extra>",
         "legendgroup": "Magic",
         "line": {
          "color": "#ab63fa",
          "dash": "solid"
         },
         "marker": {
          "symbol": "circle"
         },
         "mode": "lines+markers",
         "name": "Magic",
         "orientation": "v",
         "showlegend": true,
         "type": "scatter",
         "x": [
          2003,
          2004,
          2005,
          2006,
          2007,
          2008,
          2009,
          2010,
          2011,
          2012,
          2013,
          2014,
          2015,
          2016,
          2017,
          2018,
          2019,
          2020,
          2021
         ],
         "xaxis": "x",
         "y": [
          1584,
          1583,
          1495,
          1597,
          1880,
          2046,
          1851,
          1723,
          1407,
          1871,
          1726,
          1841,
          2100,
          1962,
          2068,
          2285,
          2082,
          1682,
          1672
         ],
         "yaxis": "y"
        },
        {
         "hovertemplate": "TEAM=Mavericks<br>SEASON=%{x}<br>AST=%{y}<extra></extra>",
         "legendgroup": "Mavericks",
         "line": {
          "color": "#FFA15A",
          "dash": "solid"
         },
         "marker": {
          "symbol": "circle"
         },
         "mode": "lines+markers",
         "name": "Mavericks",
         "orientation": "v",
         "showlegend": true,
         "type": "scatter",
         "x": [
          2003,
          2004,
          2005,
          2006,
          2007,
          2008,
          2009,
          2010,
          2011,
          2012,
          2013,
          2014,
          2015,
          2016,
          2017,
          2018,
          2019,
          2020,
          2021
         ],
         "xaxis": "x",
         "y": [
          2066,
          1837,
          1824,
          1733,
          1817,
          1960,
          2028,
          2377,
          1442,
          1906,
          2069,
          2139,
          2053,
          1843,
          1994,
          1993,
          2171,
          1889,
          1680
         ],
         "yaxis": "y"
        },
        {
         "hovertemplate": "TEAM=Nets<br>SEASON=%{x}<br>AST=%{y}<extra></extra>",
         "legendgroup": "Nets",
         "line": {
          "color": "#19d3f3",
          "dash": "solid"
         },
         "marker": {
          "symbol": "circle"
         },
         "mode": "lines+markers",
         "name": "Nets",
         "orientation": "v",
         "showlegend": true,
         "type": "scatter",
         "x": [
          2003,
          2004,
          2005,
          2006,
          2007,
          2008,
          2009,
          2010,
          2011,
          2012,
          2013,
          2014,
          2015,
          2016,
          2017,
          2018,
          2019,
          2020,
          2021
         ],
         "xaxis": "x",
         "y": [
          2227,
          1854,
          2127,
          2238,
          1925,
          1636,
          1540,
          1723,
          1311,
          1807,
          1934,
          1956,
          1932,
          1886,
          2028,
          2140,
          1999,
          2429,
          1756
         ],
         "yaxis": "y"
        },
        {
         "hovertemplate": "TEAM=Nuggets<br>SEASON=%{x}<br>AST=%{y}<extra></extra>",
         "legendgroup": "Nuggets",
         "line": {
          "color": "#FF6692",
          "dash": "solid"
         },
         "marker": {
          "symbol": "circle"
         },
         "mode": "lines+markers",
         "name": "Nuggets",
         "orientation": "v",
         "showlegend": true,
         "type": "scatter",
         "x": [
          2003,
          2004,
          2005,
          2006,
          2007,
          2008,
          2009,
          2010,
          2011,
          2012,
          2013,
          2014,
          2015,
          2016,
          2017,
          2018,
          2019,
          2020,
          2021
         ],
         "xaxis": "x",
         "y": [
          1892,
          2040,
          2020,
          2008,
          2098,
          2182,
          1834,
          1901,
          1727,
          2129,
          1838,
          1947,
          2003,
          2256,
          2184,
          2682,
          2543,
          2421,
          1983
         ],
         "yaxis": "y"
        },
        {
         "hovertemplate": "TEAM=Pacers<br>SEASON=%{x}<br>AST=%{y}<extra></extra>",
         "legendgroup": "Pacers",
         "line": {
          "color": "#B6E880",
          "dash": "solid"
         },
         "marker": {
          "symbol": "circle"
         },
         "mode": "lines+markers",
         "name": "Pacers",
         "orientation": "v",
         "showlegend": true,
         "type": "scatter",
         "x": [
          2003,
          2004,
          2005,
          2006,
          2007,
          2008,
          2009,
          2010,
          2011,
          2012,
          2013,
          2014,
          2015,
          2016,
          2017,
          2018,
          2019,
          2020,
          2021
         ],
         "xaxis": "x",
         "y": [
          2056,
          1722,
          1738,
          1680,
          1864,
          1775,
          1730,
          1691,
          1407,
          1977,
          2008,
          1897,
          1999,
          2079,
          2039,
          2293,
          2163,
          2183,
          1783
         ],
         "yaxis": "y"
        },
        {
         "hovertemplate": "TEAM=Pelicans<br>SEASON=%{x}<br>AST=%{y}<extra></extra>",
         "legendgroup": "Pelicans",
         "line": {
          "color": "#FF97FF",
          "dash": "solid"
         },
         "marker": {
          "symbol": "circle"
         },
         "mode": "lines+markers",
         "name": "Pelicans",
         "orientation": "v",
         "showlegend": true,
         "type": "scatter",
         "x": [
          2003,
          2004,
          2005,
          2006,
          2007,
          2008,
          2009,
          2010,
          2011,
          2012,
          2013,
          2014,
          2015,
          2016,
          2017,
          2018,
          2019,
          2020,
          2021
         ],
         "xaxis": "x",
         "y": [
          1851,
          1723,
          1519,
          1537,
          2016,
          1688,
          1828,
          1812,
          1368,
          1721,
          1745,
          2041,
          1933,
          2019,
          2518,
          2341,
          2147,
          1984,
          1761
         ],
         "yaxis": "y"
        },
        {
         "hovertemplate": "TEAM=Pistons<br>SEASON=%{x}<br>AST=%{y}<extra></extra>",
         "legendgroup": "Pistons",
         "line": {
          "color": "#FECB52",
          "dash": "solid"
         },
         "marker": {
          "symbol": "circle"
         },
         "mode": "lines+markers",
         "name": "Pistons",
         "orientation": "v",
         "showlegend": true,
         "type": "scatter",
         "x": [
          2003,
          2004,
          2005,
          2006,
          2007,
          2008,
          2009,
          2010,
          2011,
          2012,
          2013,
          2014,
          2015,
          2016,
          2017,
          2018,
          2019,
          2020,
          2021
         ],
         "xaxis": "x",
         "y": [
          2149,
          2299,
          2307,
          2090,
          2180,
          1755,
          1591,
          1730,
          1232,
          1742,
          1714,
          1947,
          1863,
          1859,
          1986,
          2055,
          1714,
          1921,
          1624
         ],
         "yaxis": "y"
        },
        {
         "hovertemplate": "TEAM=Raptors<br>SEASON=%{x}<br>AST=%{y}<extra></extra>",
         "legendgroup": "Raptors",
         "line": {
          "color": "#636efa",
          "dash": "solid"
         },
         "marker": {
          "symbol": "circle"
         },
         "mode": "lines+markers",
         "name": "Raptors",
         "orientation": "v",
         "showlegend": true,
         "type": "scatter",
         "x": [
          2003,
          2004,
          2005,
          2006,
          2007,
          2008,
          2009,
          2010,
          2011,
          2012,
          2013,
          2014,
          2015,
          2016,
          2017,
          2018,
          2019,
          2020,
          2021
         ],
         "xaxis": "x",
         "y": [
          1574,
          1670,
          1593,
          1919,
          2073,
          1835,
          1804,
          1795,
          1382,
          1765,
          1861,
          1907,
          1969,
          1814,
          2329,
          2704,
          2270,
          1888,
          1594
         ],
         "yaxis": "y"
        },
        {
         "hovertemplate": "TEAM=Rockets<br>SEASON=%{x}<br>AST=%{y}<extra></extra>",
         "legendgroup": "Rockets",
         "line": {
          "color": "#EF553B",
          "dash": "solid"
         },
         "marker": {
          "symbol": "circle"
         },
         "mode": "lines+markers",
         "name": "Rockets",
         "orientation": "v",
         "showlegend": true,
         "type": "scatter",
         "x": [
          2003,
          2004,
          2005,
          2006,
          2007,
          2008,
          2009,
          2010,
          2011,
          2012,
          2013,
          2014,
          2015,
          2016,
          2017,
          2018,
          2019,
          2020,
          2021
         ],
         "xaxis": "x",
         "y": [
          1665,
          1859,
          1580,
          1831,
          1850,
          1883,
          1790,
          1955,
          1404,
          2010,
          1865,
          2329,
          2090,
          2425,
          2176,
          2037,
          1996,
          1847,
          1639
         ],
         "yaxis": "y"
        },
        {
         "hovertemplate": "TEAM=Spurs<br>SEASON=%{x}<br>AST=%{y}<extra></extra>",
         "legendgroup": "Spurs",
         "line": {
          "color": "#00cc96",
          "dash": "solid"
         },
         "marker": {
          "symbol": "circle"
         },
         "mode": "lines+markers",
         "name": "Spurs",
         "orientation": "v",
         "showlegend": true,
         "type": "scatter",
         "x": [
          2003,
          2004,
          2005,
          2006,
          2007,
          2008,
          2009,
          2010,
          2011,
          2012,
          2013,
          2014,
          2015,
          2016,
          2017,
          2018,
          2019,
          2020,
          2021
         ],
         "xaxis": "x",
         "y": [
          1870,
          2192,
          1944,
          2211,
          2064,
          1816,
          2021,
          1943,
          1848,
          2517,
          2575,
          2289,
          2344,
          2430,
          2092,
          2283,
          1946,
          1954,
          2030
         ],
         "yaxis": "y"
        },
        {
         "hovertemplate": "TEAM=Suns<br>SEASON=%{x}<br>AST=%{y}<extra></extra>",
         "legendgroup": "Suns",
         "line": {
          "color": "#ab63fa",
          "dash": "solid"
         },
         "marker": {
          "symbol": "circle"
         },
         "mode": "lines+markers",
         "name": "Suns",
         "orientation": "v",
         "showlegend": true,
         "type": "scatter",
         "x": [
          2003,
          2004,
          2005,
          2006,
          2007,
          2008,
          2009,
          2010,
          2011,
          2012,
          2013,
          2014,
          2015,
          2016,
          2017,
          2018,
          2019,
          2020,
          2021
         ],
         "xaxis": "x",
         "y": [
          1586,
          2234,
          2647,
          2379,
          2282,
          1905,
          2245,
          1945,
          1486,
          1855,
          1563,
          1776,
          1843,
          1712,
          1816,
          2043,
          2149,
          2666,
          1928
         ],
         "yaxis": "y"
        },
        {
         "hovertemplate": "TEAM=Thunder<br>SEASON=%{x}<br>AST=%{y}<extra></extra>",
         "legendgroup": "Thunder",
         "line": {
          "color": "#FFA15A",
          "dash": "solid"
         },
         "marker": {
          "symbol": "circle"
         },
         "mode": "lines+markers",
         "name": "Thunder",
         "orientation": "v",
         "showlegend": true,
         "type": "scatter",
         "x": [
          2003,
          2004,
          2005,
          2006,
          2007,
          2008,
          2009,
          2010,
          2011,
          2012,
          2013,
          2014,
          2015,
          2016,
          2017,
          2018,
          2019,
          2020,
          2021
         ],
         "xaxis": "x",
         "y": [
          1774,
          1662,
          1696,
          1695,
          1748,
          1663,
          1736,
          1972,
          1584,
          1952,
          2160,
          1815,
          2371,
          1907,
          1910,
          2111,
          1817,
          1721,
          1525
         ],
         "yaxis": "y"
        },
        {
         "hovertemplate": "TEAM=Timberwolves<br>SEASON=%{x}<br>AST=%{y}<extra></extra>",
         "legendgroup": "Timberwolves",
         "line": {
          "color": "#19d3f3",
          "dash": "solid"
         },
         "marker": {
          "symbol": "circle"
         },
         "mode": "lines+markers",
         "name": "Timberwolves",
         "orientation": "v",
         "showlegend": true,
         "type": "scatter",
         "x": [
          2003,
          2004,
          2005,
          2006,
          2007,
          2008,
          2009,
          2010,
          2011,
          2012,
          2013,
          2014,
          2015,
          2016,
          2017,
          2018,
          2019,
          2020,
          2021
         ],
         "xaxis": "x",
         "y": [
          2236,
          1918,
          1716,
          1848,
          1630,
          1674,
          1626,
          1650,
          1290,
          1836,
          1963,
          1938,
          2065,
          2068,
          2049,
          2102,
          1626,
          1986,
          1867
         ],
         "yaxis": "y"
        },
        {
         "hovertemplate": "TEAM=Trail Blazers<br>SEASON=%{x}<br>AST=%{y}<extra></extra>",
         "legendgroup": "Trail Blazers",
         "line": {
          "color": "#FF6692",
          "dash": "solid"
         },
         "marker": {
          "symbol": "circle"
         },
         "mode": "lines+markers",
         "name": "Trail Blazers",
         "orientation": "v",
         "showlegend": true,
         "type": "scatter",
         "x": [
          2003,
          2004,
          2005,
          2006,
          2007,
          2008,
          2009,
          2010,
          2011,
          2012,
          2013,
          2014,
          2015,
          2016,
          2017,
          2018,
          2019,
          2020,
          2021
         ],
         "xaxis": "x",
         "y": [
          1768,
          1722,
          1490,
          1513,
          1733,
          1755,
          1791,
          1838,
          1349,
          1784,
          2097,
          2012,
          2132,
          1917,
          1773,
          2330,
          1788,
          1779,
          1559
         ],
         "yaxis": "y"
        },
        {
         "hovertemplate": "TEAM=Warriors<br>SEASON=%{x}<br>AST=%{y}<extra></extra>",
         "legendgroup": "Warriors",
         "line": {
          "color": "#B6E880",
          "dash": "solid"
         },
         "marker": {
          "symbol": "circle"
         },
         "mode": "lines+markers",
         "name": "Warriors",
         "orientation": "v",
         "showlegend": true,
         "type": "scatter",
         "x": [
          2003,
          2004,
          2005,
          2006,
          2007,
          2008,
          2009,
          2010,
          2011,
          2012,
          2013,
          2014,
          2015,
          2016,
          2017,
          2018,
          2019,
          2020,
          2021
         ],
         "xaxis": "x",
         "y": [
          1681,
          1811,
          1694,
          2139,
          1833,
          1711,
          1839,
          1847,
          1470,
          2105,
          2083,
          2988,
          3124,
          3158,
          3059,
          3174,
          1773,
          2186,
          2012
         ],
         "yaxis": "y"
        },
        {
         "hovertemplate": "TEAM=Wizards<br>SEASON=%{x}<br>AST=%{y}<extra></extra>",
         "legendgroup": "Wizards",
         "line": {
          "color": "#FF97FF",
          "dash": "solid"
         },
         "marker": {
          "symbol": "circle"
         },
         "mode": "lines+markers",
         "name": "Wizards",
         "orientation": "v",
         "showlegend": true,
         "type": "scatter",
         "x": [
          2003,
          2004,
          2005,
          2006,
          2007,
          2008,
          2009,
          2010,
          2011,
          2012,
          2013,
          2014,
          2015,
          2016,
          2017,
          2018,
          2019,
          2020,
          2021
         ],
         "xaxis": "x",
         "y": [
          1537,
          1735,
          1628,
          1735,
          1701,
          1641,
          1557,
          1592,
          1262,
          1775,
          2124,
          2332,
          2164,
          2417,
          2296,
          2256,
          1964,
          2108,
          1708
         ],
         "yaxis": "y"
        },
        {
         "hovertemplate": "TEAM=Hornets<br>SEASON=%{x}<br>AST=%{y}<extra></extra>",
         "legendgroup": "Hornets",
         "line": {
          "color": "#FECB52",
          "dash": "solid"
         },
         "marker": {
          "symbol": "circle"
         },
         "mode": "lines+markers",
         "name": "Hornets",
         "orientation": "v",
         "showlegend": true,
         "type": "scatter",
         "x": [
          2004,
          2005,
          2006,
          2007,
          2008,
          2009,
          2010,
          2011,
          2012,
          2013,
          2014,
          2015,
          2016,
          2017,
          2018,
          2019,
          2020,
          2021
         ],
         "xaxis": "x",
         "y": [
          1793,
          1717,
          1836,
          1748,
          1741,
          1739,
          1728,
          1326,
          1587,
          1857,
          1833,
          2027,
          2024,
          1869,
          2029,
          1668,
          2173,
          1942
         ],
         "yaxis": "y"
        }
       ],
       "layout": {
        "legend": {
         "title": {
          "text": "TEAM"
         },
         "tracegroupgap": 0
        },
        "template": {
         "data": {
          "bar": [
           {
            "error_x": {
             "color": "#2a3f5f"
            },
            "error_y": {
             "color": "#2a3f5f"
            },
            "marker": {
             "line": {
              "color": "#E5ECF6",
              "width": 0.5
             },
             "pattern": {
              "fillmode": "overlay",
              "size": 10,
              "solidity": 0.2
             }
            },
            "type": "bar"
           }
          ],
          "barpolar": [
           {
            "marker": {
             "line": {
              "color": "#E5ECF6",
              "width": 0.5
             },
             "pattern": {
              "fillmode": "overlay",
              "size": 10,
              "solidity": 0.2
             }
            },
            "type": "barpolar"
           }
          ],
          "carpet": [
           {
            "aaxis": {
             "endlinecolor": "#2a3f5f",
             "gridcolor": "white",
             "linecolor": "white",
             "minorgridcolor": "white",
             "startlinecolor": "#2a3f5f"
            },
            "baxis": {
             "endlinecolor": "#2a3f5f",
             "gridcolor": "white",
             "linecolor": "white",
             "minorgridcolor": "white",
             "startlinecolor": "#2a3f5f"
            },
            "type": "carpet"
           }
          ],
          "choropleth": [
           {
            "colorbar": {
             "outlinewidth": 0,
             "ticks": ""
            },
            "type": "choropleth"
           }
          ],
          "contour": [
           {
            "colorbar": {
             "outlinewidth": 0,
             "ticks": ""
            },
            "colorscale": [
             [
              0,
              "#0d0887"
             ],
             [
              0.1111111111111111,
              "#46039f"
             ],
             [
              0.2222222222222222,
              "#7201a8"
             ],
             [
              0.3333333333333333,
              "#9c179e"
             ],
             [
              0.4444444444444444,
              "#bd3786"
             ],
             [
              0.5555555555555556,
              "#d8576b"
             ],
             [
              0.6666666666666666,
              "#ed7953"
             ],
             [
              0.7777777777777778,
              "#fb9f3a"
             ],
             [
              0.8888888888888888,
              "#fdca26"
             ],
             [
              1,
              "#f0f921"
             ]
            ],
            "type": "contour"
           }
          ],
          "contourcarpet": [
           {
            "colorbar": {
             "outlinewidth": 0,
             "ticks": ""
            },
            "type": "contourcarpet"
           }
          ],
          "heatmap": [
           {
            "colorbar": {
             "outlinewidth": 0,
             "ticks": ""
            },
            "colorscale": [
             [
              0,
              "#0d0887"
             ],
             [
              0.1111111111111111,
              "#46039f"
             ],
             [
              0.2222222222222222,
              "#7201a8"
             ],
             [
              0.3333333333333333,
              "#9c179e"
             ],
             [
              0.4444444444444444,
              "#bd3786"
             ],
             [
              0.5555555555555556,
              "#d8576b"
             ],
             [
              0.6666666666666666,
              "#ed7953"
             ],
             [
              0.7777777777777778,
              "#fb9f3a"
             ],
             [
              0.8888888888888888,
              "#fdca26"
             ],
             [
              1,
              "#f0f921"
             ]
            ],
            "type": "heatmap"
           }
          ],
          "heatmapgl": [
           {
            "colorbar": {
             "outlinewidth": 0,
             "ticks": ""
            },
            "colorscale": [
             [
              0,
              "#0d0887"
             ],
             [
              0.1111111111111111,
              "#46039f"
             ],
             [
              0.2222222222222222,
              "#7201a8"
             ],
             [
              0.3333333333333333,
              "#9c179e"
             ],
             [
              0.4444444444444444,
              "#bd3786"
             ],
             [
              0.5555555555555556,
              "#d8576b"
             ],
             [
              0.6666666666666666,
              "#ed7953"
             ],
             [
              0.7777777777777778,
              "#fb9f3a"
             ],
             [
              0.8888888888888888,
              "#fdca26"
             ],
             [
              1,
              "#f0f921"
             ]
            ],
            "type": "heatmapgl"
           }
          ],
          "histogram": [
           {
            "marker": {
             "pattern": {
              "fillmode": "overlay",
              "size": 10,
              "solidity": 0.2
             }
            },
            "type": "histogram"
           }
          ],
          "histogram2d": [
           {
            "colorbar": {
             "outlinewidth": 0,
             "ticks": ""
            },
            "colorscale": [
             [
              0,
              "#0d0887"
             ],
             [
              0.1111111111111111,
              "#46039f"
             ],
             [
              0.2222222222222222,
              "#7201a8"
             ],
             [
              0.3333333333333333,
              "#9c179e"
             ],
             [
              0.4444444444444444,
              "#bd3786"
             ],
             [
              0.5555555555555556,
              "#d8576b"
             ],
             [
              0.6666666666666666,
              "#ed7953"
             ],
             [
              0.7777777777777778,
              "#fb9f3a"
             ],
             [
              0.8888888888888888,
              "#fdca26"
             ],
             [
              1,
              "#f0f921"
             ]
            ],
            "type": "histogram2d"
           }
          ],
          "histogram2dcontour": [
           {
            "colorbar": {
             "outlinewidth": 0,
             "ticks": ""
            },
            "colorscale": [
             [
              0,
              "#0d0887"
             ],
             [
              0.1111111111111111,
              "#46039f"
             ],
             [
              0.2222222222222222,
              "#7201a8"
             ],
             [
              0.3333333333333333,
              "#9c179e"
             ],
             [
              0.4444444444444444,
              "#bd3786"
             ],
             [
              0.5555555555555556,
              "#d8576b"
             ],
             [
              0.6666666666666666,
              "#ed7953"
             ],
             [
              0.7777777777777778,
              "#fb9f3a"
             ],
             [
              0.8888888888888888,
              "#fdca26"
             ],
             [
              1,
              "#f0f921"
             ]
            ],
            "type": "histogram2dcontour"
           }
          ],
          "mesh3d": [
           {
            "colorbar": {
             "outlinewidth": 0,
             "ticks": ""
            },
            "type": "mesh3d"
           }
          ],
          "parcoords": [
           {
            "line": {
             "colorbar": {
              "outlinewidth": 0,
              "ticks": ""
             }
            },
            "type": "parcoords"
           }
          ],
          "pie": [
           {
            "automargin": true,
            "type": "pie"
           }
          ],
          "scatter": [
           {
            "fillpattern": {
             "fillmode": "overlay",
             "size": 10,
             "solidity": 0.2
            },
            "type": "scatter"
           }
          ],
          "scatter3d": [
           {
            "line": {
             "colorbar": {
              "outlinewidth": 0,
              "ticks": ""
             }
            },
            "marker": {
             "colorbar": {
              "outlinewidth": 0,
              "ticks": ""
             }
            },
            "type": "scatter3d"
           }
          ],
          "scattercarpet": [
           {
            "marker": {
             "colorbar": {
              "outlinewidth": 0,
              "ticks": ""
             }
            },
            "type": "scattercarpet"
           }
          ],
          "scattergeo": [
           {
            "marker": {
             "colorbar": {
              "outlinewidth": 0,
              "ticks": ""
             }
            },
            "type": "scattergeo"
           }
          ],
          "scattergl": [
           {
            "marker": {
             "colorbar": {
              "outlinewidth": 0,
              "ticks": ""
             }
            },
            "type": "scattergl"
           }
          ],
          "scattermapbox": [
           {
            "marker": {
             "colorbar": {
              "outlinewidth": 0,
              "ticks": ""
             }
            },
            "type": "scattermapbox"
           }
          ],
          "scatterpolar": [
           {
            "marker": {
             "colorbar": {
              "outlinewidth": 0,
              "ticks": ""
             }
            },
            "type": "scatterpolar"
           }
          ],
          "scatterpolargl": [
           {
            "marker": {
             "colorbar": {
              "outlinewidth": 0,
              "ticks": ""
             }
            },
            "type": "scatterpolargl"
           }
          ],
          "scatterternary": [
           {
            "marker": {
             "colorbar": {
              "outlinewidth": 0,
              "ticks": ""
             }
            },
            "type": "scatterternary"
           }
          ],
          "surface": [
           {
            "colorbar": {
             "outlinewidth": 0,
             "ticks": ""
            },
            "colorscale": [
             [
              0,
              "#0d0887"
             ],
             [
              0.1111111111111111,
              "#46039f"
             ],
             [
              0.2222222222222222,
              "#7201a8"
             ],
             [
              0.3333333333333333,
              "#9c179e"
             ],
             [
              0.4444444444444444,
              "#bd3786"
             ],
             [
              0.5555555555555556,
              "#d8576b"
             ],
             [
              0.6666666666666666,
              "#ed7953"
             ],
             [
              0.7777777777777778,
              "#fb9f3a"
             ],
             [
              0.8888888888888888,
              "#fdca26"
             ],
             [
              1,
              "#f0f921"
             ]
            ],
            "type": "surface"
           }
          ],
          "table": [
           {
            "cells": {
             "fill": {
              "color": "#EBF0F8"
             },
             "line": {
              "color": "white"
             }
            },
            "header": {
             "fill": {
              "color": "#C8D4E3"
             },
             "line": {
              "color": "white"
             }
            },
            "type": "table"
           }
          ]
         },
         "layout": {
          "annotationdefaults": {
           "arrowcolor": "#2a3f5f",
           "arrowhead": 0,
           "arrowwidth": 1
          },
          "autotypenumbers": "strict",
          "coloraxis": {
           "colorbar": {
            "outlinewidth": 0,
            "ticks": ""
           }
          },
          "colorscale": {
           "diverging": [
            [
             0,
             "#8e0152"
            ],
            [
             0.1,
             "#c51b7d"
            ],
            [
             0.2,
             "#de77ae"
            ],
            [
             0.3,
             "#f1b6da"
            ],
            [
             0.4,
             "#fde0ef"
            ],
            [
             0.5,
             "#f7f7f7"
            ],
            [
             0.6,
             "#e6f5d0"
            ],
            [
             0.7,
             "#b8e186"
            ],
            [
             0.8,
             "#7fbc41"
            ],
            [
             0.9,
             "#4d9221"
            ],
            [
             1,
             "#276419"
            ]
           ],
           "sequential": [
            [
             0,
             "#0d0887"
            ],
            [
             0.1111111111111111,
             "#46039f"
            ],
            [
             0.2222222222222222,
             "#7201a8"
            ],
            [
             0.3333333333333333,
             "#9c179e"
            ],
            [
             0.4444444444444444,
             "#bd3786"
            ],
            [
             0.5555555555555556,
             "#d8576b"
            ],
            [
             0.6666666666666666,
             "#ed7953"
            ],
            [
             0.7777777777777778,
             "#fb9f3a"
            ],
            [
             0.8888888888888888,
             "#fdca26"
            ],
            [
             1,
             "#f0f921"
            ]
           ],
           "sequentialminus": [
            [
             0,
             "#0d0887"
            ],
            [
             0.1111111111111111,
             "#46039f"
            ],
            [
             0.2222222222222222,
             "#7201a8"
            ],
            [
             0.3333333333333333,
             "#9c179e"
            ],
            [
             0.4444444444444444,
             "#bd3786"
            ],
            [
             0.5555555555555556,
             "#d8576b"
            ],
            [
             0.6666666666666666,
             "#ed7953"
            ],
            [
             0.7777777777777778,
             "#fb9f3a"
            ],
            [
             0.8888888888888888,
             "#fdca26"
            ],
            [
             1,
             "#f0f921"
            ]
           ]
          },
          "colorway": [
           "#636efa",
           "#EF553B",
           "#00cc96",
           "#ab63fa",
           "#FFA15A",
           "#19d3f3",
           "#FF6692",
           "#B6E880",
           "#FF97FF",
           "#FECB52"
          ],
          "font": {
           "color": "#2a3f5f"
          },
          "geo": {
           "bgcolor": "white",
           "lakecolor": "white",
           "landcolor": "#E5ECF6",
           "showlakes": true,
           "showland": true,
           "subunitcolor": "white"
          },
          "hoverlabel": {
           "align": "left"
          },
          "hovermode": "closest",
          "mapbox": {
           "style": "light"
          },
          "paper_bgcolor": "white",
          "plot_bgcolor": "#E5ECF6",
          "polar": {
           "angularaxis": {
            "gridcolor": "white",
            "linecolor": "white",
            "ticks": ""
           },
           "bgcolor": "#E5ECF6",
           "radialaxis": {
            "gridcolor": "white",
            "linecolor": "white",
            "ticks": ""
           }
          },
          "scene": {
           "xaxis": {
            "backgroundcolor": "#E5ECF6",
            "gridcolor": "white",
            "gridwidth": 2,
            "linecolor": "white",
            "showbackground": true,
            "ticks": "",
            "zerolinecolor": "white"
           },
           "yaxis": {
            "backgroundcolor": "#E5ECF6",
            "gridcolor": "white",
            "gridwidth": 2,
            "linecolor": "white",
            "showbackground": true,
            "ticks": "",
            "zerolinecolor": "white"
           },
           "zaxis": {
            "backgroundcolor": "#E5ECF6",
            "gridcolor": "white",
            "gridwidth": 2,
            "linecolor": "white",
            "showbackground": true,
            "ticks": "",
            "zerolinecolor": "white"
           }
          },
          "shapedefaults": {
           "line": {
            "color": "#2a3f5f"
           }
          },
          "ternary": {
           "aaxis": {
            "gridcolor": "white",
            "linecolor": "white",
            "ticks": ""
           },
           "baxis": {
            "gridcolor": "white",
            "linecolor": "white",
            "ticks": ""
           },
           "bgcolor": "#E5ECF6",
           "caxis": {
            "gridcolor": "white",
            "linecolor": "white",
            "ticks": ""
           }
          },
          "title": {
           "x": 0.05
          },
          "xaxis": {
           "automargin": true,
           "gridcolor": "white",
           "linecolor": "white",
           "ticks": "",
           "title": {
            "standoff": 15
           },
           "zerolinecolor": "white",
           "zerolinewidth": 2
          },
          "yaxis": {
           "automargin": true,
           "gridcolor": "white",
           "linecolor": "white",
           "ticks": "",
           "title": {
            "standoff": 15
           },
           "zerolinecolor": "white",
           "zerolinewidth": 2
          }
         }
        },
        "title": {
         "text": "Total AST per Season"
        },
        "xaxis": {
         "anchor": "y",
         "domain": [
          0,
          1
         ],
         "title": {
          "text": "SEASON"
         }
        },
        "yaxis": {
         "anchor": "x",
         "domain": [
          0,
          1
         ],
         "title": {
          "text": "AST"
         }
        }
       }
      }
     },
     "metadata": {},
     "output_type": "display_data"
    }
   ],
   "source": [
    "fig2 = px.line(plot_sum_data, x='SEASON', y='AST', markers=True, color='TEAM',title = 'Total AST per Season')\n",
    "fig2.show()"
   ]
  },
  {
   "cell_type": "code",
   "execution_count": 65,
   "metadata": {},
   "outputs": [
    {
     "data": {
      "application/vnd.plotly.v1+json": {
       "config": {
        "plotlyServerURL": "https://plot.ly"
       },
       "data": [
        {
         "hovertemplate": "TEAM=76ers<br>SEASON=%{x}<br>FG3M=%{y}<extra></extra>",
         "legendgroup": "76ers",
         "line": {
          "color": "#636efa",
          "dash": "solid"
         },
         "marker": {
          "symbol": "circle"
         },
         "mode": "lines+markers",
         "name": "76ers",
         "orientation": "v",
         "showlegend": true,
         "type": "scatter",
         "x": [
          2003,
          2004,
          2005,
          2006,
          2007,
          2008,
          2009,
          2010,
          2011,
          2012,
          2013,
          2014,
          2015,
          2016,
          2017,
          2018,
          2019,
          2020,
          2021
         ],
         "xaxis": "x",
         "y": [
          338,
          538,
          375,
          284,
          313,
          376,
          474,
          475,
          401,
          518,
          577,
          738,
          825,
          880,
          1059,
          1041,
          951,
          984,
          776
         ],
         "yaxis": "y"
        },
        {
         "hovertemplate": "TEAM=Bucks<br>SEASON=%{x}<br>FG3M=%{y}<extra></extra>",
         "legendgroup": "Bucks",
         "line": {
          "color": "#EF553B",
          "dash": "solid"
         },
         "marker": {
          "symbol": "circle"
         },
         "mode": "lines+markers",
         "name": "Bucks",
         "orientation": "v",
         "showlegend": true,
         "type": "scatter",
         "x": [
          2003,
          2004,
          2005,
          2006,
          2007,
          2008,
          2009,
          2010,
          2011,
          2012,
          2013,
          2014,
          2015,
          2016,
          2017,
          2018,
          2019,
          2020,
          2021
         ],
         "xaxis": "x",
         "y": [
          425,
          323,
          533,
          524,
          452,
          511,
          691,
          483,
          436,
          625,
          548,
          629,
          480,
          812,
          829,
          1363,
          1254,
          1388,
          1042
         ],
         "yaxis": "y"
        },
        {
         "hovertemplate": "TEAM=Bulls<br>SEASON=%{x}<br>FG3M=%{y}<extra></extra>",
         "legendgroup": "Bulls",
         "line": {
          "color": "#00cc96",
          "dash": "solid"
         },
         "marker": {
          "symbol": "circle"
         },
         "mode": "lines+markers",
         "name": "Bulls",
         "orientation": "v",
         "showlegend": true,
         "type": "scatter",
         "x": [
          2003,
          2004,
          2005,
          2006,
          2007,
          2008,
          2009,
          2010,
          2011,
          2012,
          2013,
          2014,
          2015,
          2016,
          2017,
          2018,
          2019,
          2020,
          2021
         ],
         "xaxis": "x",
         "y": [
          429,
          565,
          607,
          539,
          474,
          544,
          368,
          612,
          445,
          511,
          540,
          819,
          733,
          719,
          986,
          788,
          857,
          998,
          776
         ],
         "yaxis": "y"
        },
        {
         "hovertemplate": "TEAM=Cavaliers<br>SEASON=%{x}<br>FG3M=%{y}<extra></extra>",
         "legendgroup": "Cavaliers",
         "line": {
          "color": "#ab63fa",
          "dash": "solid"
         },
         "marker": {
          "symbol": "circle"
         },
         "mode": "lines+markers",
         "name": "Cavaliers",
         "orientation": "v",
         "showlegend": true,
         "type": "scatter",
         "x": [
          2003,
          2004,
          2005,
          2006,
          2007,
          2008,
          2009,
          2010,
          2011,
          2012,
          2013,
          2014,
          2015,
          2016,
          2017,
          2018,
          2019,
          2020,
          2021
         ],
         "xaxis": "x",
         "y": [
          247,
          300,
          552,
          602,
          639,
          749,
          681,
          509,
          440,
          547,
          584,
          1085,
          1208,
          1380,
          1254,
          880,
          757,
          785,
          821
         ],
         "yaxis": "y"
        },
        {
         "hovertemplate": "TEAM=Celtics<br>SEASON=%{x}<br>FG3M=%{y}<extra></extra>",
         "legendgroup": "Celtics",
         "line": {
          "color": "#FFA15A",
          "dash": "solid"
         },
         "marker": {
          "symbol": "circle"
         },
         "mode": "lines+markers",
         "name": "Celtics",
         "orientation": "v",
         "showlegend": true,
         "type": "scatter",
         "x": [
          2003,
          2004,
          2005,
          2006,
          2007,
          2008,
          2009,
          2010,
          2011,
          2012,
          2013,
          2014,
          2015,
          2016,
          2017,
          2018,
          2019,
          2020,
          2021
         ],
         "xaxis": "x",
         "y": [
          574,
          471,
          467,
          471,
          753,
          632,
          638,
          475,
          456,
          539,
          575,
          764,
          813,
          1285,
          1188,
          1168,
          1196,
          1131,
          913
         ],
         "yaxis": "y"
        },
        {
         "hovertemplate": "TEAM=Clippers<br>SEASON=%{x}<br>FG3M=%{y}<extra></extra>",
         "legendgroup": "Clippers",
         "line": {
          "color": "#19d3f3",
          "dash": "solid"
         },
         "marker": {
          "symbol": "circle"
         },
         "mode": "lines+markers",
         "name": "Clippers",
         "orientation": "v",
         "showlegend": true,
         "type": "scatter",
         "x": [
          2003,
          2004,
          2005,
          2006,
          2007,
          2008,
          2009,
          2010,
          2011,
          2012,
          2013,
          2014,
          2015,
          2016,
          2017,
          2018,
          2019,
          2020,
          2021
         ],
         "xaxis": "x",
         "y": [
          329,
          231,
          344,
          314,
          350,
          535,
          483,
          513,
          582,
          662,
          812,
          1019,
          881,
          945,
          823,
          915,
          1122,
          1349,
          899
         ],
         "yaxis": "y"
        },
        {
         "hovertemplate": "TEAM=Grizzlies<br>SEASON=%{x}<br>FG3M=%{y}<extra></extra>",
         "legendgroup": "Grizzlies",
         "line": {
          "color": "#FF6692",
          "dash": "solid"
         },
         "marker": {
          "symbol": "circle"
         },
         "mode": "lines+markers",
         "name": "Grizzlies",
         "orientation": "v",
         "showlegend": true,
         "type": "scatter",
         "x": [
          2003,
          2004,
          2005,
          2006,
          2007,
          2008,
          2009,
          2010,
          2011,
          2012,
          2013,
          2014,
          2015,
          2016,
          2017,
          2018,
          2019,
          2020,
          2021
         ],
         "xaxis": "x",
         "y": [
          462,
          562,
          605,
          500,
          620,
          398,
          344,
          359,
          301,
          454,
          436,
          510,
          557,
          882,
          792,
          855,
          877,
          991,
          827
         ],
         "yaxis": "y"
        },
        {
         "hovertemplate": "TEAM=Hawks<br>SEASON=%{x}<br>FG3M=%{y}<extra></extra>",
         "legendgroup": "Hawks",
         "line": {
          "color": "#B6E880",
          "dash": "solid"
         },
         "marker": {
          "symbol": "circle"
         },
         "mode": "lines+markers",
         "name": "Hawks",
         "orientation": "v",
         "showlegend": true,
         "type": "scatter",
         "x": [
          2003,
          2004,
          2005,
          2006,
          2007,
          2008,
          2009,
          2010,
          2011,
          2012,
          2013,
          2014,
          2015,
          2016,
          2017,
          2018,
          2019,
          2020,
          2021
         ],
         "xaxis": "x",
         "y": [
          419,
          304,
          424,
          341,
          412,
          664,
          574,
          556,
          527,
          743,
          847,
          1029,
          980,
          829,
          968,
          1130,
          860,
          1244,
          875
         ],
         "yaxis": "y"
        },
        {
         "hovertemplate": "TEAM=Heat<br>SEASON=%{x}<br>FG3M=%{y}<extra></extra>",
         "legendgroup": "Heat",
         "line": {
          "color": "#FF97FF",
          "dash": "solid"
         },
         "marker": {
          "symbol": "circle"
         },
         "mode": "lines+markers",
         "name": "Heat",
         "orientation": "v",
         "showlegend": true,
         "type": "scatter",
         "x": [
          2003,
          2004,
          2005,
          2006,
          2007,
          2008,
          2009,
          2010,
          2011,
          2012,
          2013,
          2014,
          2015,
          2016,
          2017,
          2018,
          2019,
          2020,
          2021
         ],
         "xaxis": "x",
         "y": [
          533,
          565,
          643,
          550,
          491,
          632,
          528,
          671,
          527,
          894,
          851,
          623,
          647,
          890,
          1010,
          994,
          1352,
          1033,
          1001
         ],
         "yaxis": "y"
        },
        {
         "hovertemplate": "TEAM=Jazz<br>SEASON=%{x}<br>FG3M=%{y}<extra></extra>",
         "legendgroup": "Jazz",
         "line": {
          "color": "#FECB52",
          "dash": "solid"
         },
         "marker": {
          "symbol": "circle"
         },
         "mode": "lines+markers",
         "name": "Jazz",
         "orientation": "v",
         "showlegend": true,
         "type": "scatter",
         "x": [
          2003,
          2004,
          2005,
          2006,
          2007,
          2008,
          2009,
          2010,
          2011,
          2012,
          2013,
          2014,
          2015,
          2016,
          2017,
          2018,
          2019,
          2020,
          2021
         ],
         "xaxis": "x",
         "y": [
          252,
          250,
          311,
          427,
          477,
          417,
          504,
          435,
          282,
          507,
          543,
          672,
          739,
          925,
          1033,
          1085,
          1158,
          1493,
          1045
         ],
         "yaxis": "y"
        },
        {
         "hovertemplate": "TEAM=Kings<br>SEASON=%{x}<br>FG3M=%{y}<extra></extra>",
         "legendgroup": "Kings",
         "line": {
          "color": "#636efa",
          "dash": "solid"
         },
         "marker": {
          "symbol": "circle"
         },
         "mode": "lines+markers",
         "name": "Kings",
         "orientation": "v",
         "showlegend": true,
         "type": "scatter",
         "x": [
          2003,
          2004,
          2005,
          2006,
          2007,
          2008,
          2009,
          2010,
          2011,
          2012,
          2013,
          2014,
          2015,
          2016,
          2017,
          2018,
          2019,
          2020,
          2021
         ],
         "xaxis": "x",
         "y": [
          671,
          551,
          525,
          530,
          510,
          586,
          482,
          428,
          411,
          610,
          491,
          495,
          705,
          781,
          787,
          975,
          1006,
          976,
          853
         ],
         "yaxis": "y"
        },
        {
         "hovertemplate": "TEAM=Knicks<br>SEASON=%{x}<br>FG3M=%{y}<extra></extra>",
         "legendgroup": "Knicks",
         "line": {
          "color": "#EF553B",
          "dash": "solid"
         },
         "marker": {
          "symbol": "circle"
         },
         "mode": "lines+markers",
         "name": "Knicks",
         "orientation": "v",
         "showlegend": true,
         "type": "scatter",
         "x": [
          2003,
          2004,
          2005,
          2006,
          2007,
          2008,
          2009,
          2010,
          2011,
          2012,
          2013,
          2014,
          2015,
          2016,
          2017,
          2018,
          2019,
          2020,
          2021
         ],
         "xaxis": "x",
         "y": [
          423,
          441,
          320,
          474,
          490,
          823,
          743,
          798,
          542,
          987,
          759,
          608,
          649,
          763,
          717,
          865,
          676,
          964,
          929
         ],
         "yaxis": "y"
        },
        {
         "hovertemplate": "TEAM=Lakers<br>SEASON=%{x}<br>FG3M=%{y}<extra></extra>",
         "legendgroup": "Lakers",
         "line": {
          "color": "#00cc96",
          "dash": "solid"
         },
         "marker": {
          "symbol": "circle"
         },
         "mode": "lines+markers",
         "name": "Lakers",
         "orientation": "v",
         "showlegend": true,
         "type": "scatter",
         "x": [
          2003,
          2004,
          2005,
          2006,
          2007,
          2008,
          2009,
          2010,
          2011,
          2012,
          2013,
          2014,
          2015,
          2016,
          2017,
          2018,
          2019,
          2020,
          2021
         ],
         "xaxis": "x",
         "y": [
          474,
          642,
          602,
          640,
          808,
          707,
          689,
          572,
          425,
          735,
          774,
          557,
          688,
          814,
          862,
          890,
          1126,
          928,
          865
         ],
         "yaxis": "y"
        },
        {
         "hovertemplate": "TEAM=Magic<br>SEASON=%{x}<br>FG3M=%{y}<extra></extra>",
         "legendgroup": "Magic",
         "line": {
          "color": "#ab63fa",
          "dash": "solid"
         },
         "marker": {
          "symbol": "circle"
         },
         "mode": "lines+markers",
         "name": "Magic",
         "orientation": "v",
         "showlegend": true,
         "type": "scatter",
         "x": [
          2003,
          2004,
          2005,
          2006,
          2007,
          2008,
          2009,
          2010,
          2011,
          2012,
          2013,
          2014,
          2015,
          2016,
          2017,
          2018,
          2019,
          2020,
          2021
         ],
         "xaxis": "x",
         "y": [
          429,
          320,
          299,
          352,
          891,
          1018,
          979,
          807,
          712,
          506,
          563,
          589,
          702,
          763,
          899,
          1021,
          972,
          839,
          859
         ],
         "yaxis": "y"
        },
        {
         "hovertemplate": "TEAM=Mavericks<br>SEASON=%{x}<br>FG3M=%{y}<extra></extra>",
         "legendgroup": "Mavericks",
         "line": {
          "color": "#FFA15A",
          "dash": "solid"
         },
         "marker": {
          "symbol": "circle"
         },
         "mode": "lines+markers",
         "name": "Mavericks",
         "orientation": "v",
         "showlegend": true,
         "type": "scatter",
         "x": [
          2003,
          2004,
          2005,
          2006,
          2007,
          2008,
          2009,
          2010,
          2011,
          2012,
          2013,
          2014,
          2015,
          2016,
          2017,
          2018,
          2019,
          2020,
          2021
         ],
         "xaxis": "x",
         "y": [
          532,
          549,
          526,
          575,
          530,
          644,
          596,
          829,
          529,
          606,
          780,
          849,
          881,
          938,
          1052,
          1062,
          1328,
          1156,
          903
         ],
         "yaxis": "y"
        },
        {
         "hovertemplate": "TEAM=Nets<br>SEASON=%{x}<br>FG3M=%{y}<extra></extra>",
         "legendgroup": "Nets",
         "line": {
          "color": "#19d3f3",
          "dash": "solid"
         },
         "marker": {
          "symbol": "circle"
         },
         "mode": "lines+markers",
         "name": "Nets",
         "orientation": "v",
         "showlegend": true,
         "type": "scatter",
         "x": [
          2003,
          2004,
          2005,
          2006,
          2007,
          2008,
          2009,
          2010,
          2011,
          2012,
          2013,
          2014,
          2015,
          2016,
          2017,
          2018,
          2019,
          2020,
          2021
         ],
         "xaxis": "x",
         "y": [
          426,
          458,
          536,
          701,
          498,
          652,
          377,
          459,
          507,
          671,
          802,
          630,
          570,
          949,
          1094,
          1142,
          1081,
          1304,
          817
         ],
         "yaxis": "y"
        },
        {
         "hovertemplate": "TEAM=Nuggets<br>SEASON=%{x}<br>FG3M=%{y}<extra></extra>",
         "legendgroup": "Nuggets",
         "line": {
          "color": "#FF6692",
          "dash": "solid"
         },
         "marker": {
          "symbol": "circle"
         },
         "mode": "lines+markers",
         "name": "Nuggets",
         "orientation": "v",
         "showlegend": true,
         "type": "scatter",
         "x": [
          2003,
          2004,
          2005,
          2006,
          2007,
          2008,
          2009,
          2010,
          2011,
          2012,
          2013,
          2014,
          2015,
          2016,
          2017,
          2018,
          2019,
          2020,
          2021
         ],
         "xaxis": "x",
         "y": [
          353,
          331,
          365,
          507,
          587,
          677,
          583,
          696,
          472,
          563,
          702,
          705,
          710,
          926,
          1001,
          1081,
          1101,
          1177,
          944
         ],
         "yaxis": "y"
        },
        {
         "hovertemplate": "TEAM=Pacers<br>SEASON=%{x}<br>FG3M=%{y}<extra></extra>",
         "legendgroup": "Pacers",
         "line": {
          "color": "#B6E880",
          "dash": "solid"
         },
         "marker": {
          "symbol": "circle"
         },
         "mode": "lines+markers",
         "name": "Pacers",
         "orientation": "v",
         "showlegend": true,
         "type": "scatter",
         "x": [
          2003,
          2004,
          2005,
          2006,
          2007,
          2008,
          2009,
          2010,
          2011,
          2012,
          2013,
          2014,
          2015,
          2016,
          2017,
          2018,
          2019,
          2020,
          2021
         ],
         "xaxis": "x",
         "y": [
          544,
          615,
          576,
          481,
          755,
          652,
          659,
          614,
          455,
          674,
          689,
          663,
          771,
          805,
          834,
          854,
          872,
          989,
          860
         ],
         "yaxis": "y"
        },
        {
         "hovertemplate": "TEAM=Pelicans<br>SEASON=%{x}<br>FG3M=%{y}<extra></extra>",
         "legendgroup": "Pelicans",
         "line": {
          "color": "#FF97FF",
          "dash": "solid"
         },
         "marker": {
          "symbol": "circle"
         },
         "mode": "lines+markers",
         "name": "Pelicans",
         "orientation": "v",
         "showlegend": true,
         "type": "scatter",
         "x": [
          2003,
          2004,
          2005,
          2006,
          2007,
          2008,
          2009,
          2010,
          2011,
          2012,
          2013,
          2014,
          2015,
          2016,
          2017,
          2018,
          2019,
          2020,
          2021
         ],
         "xaxis": "x",
         "y": [
          572,
          415,
          300,
          455,
          699,
          586,
          571,
          471,
          259,
          535,
          486,
          673,
          768,
          819,
          960,
          900,
          1100,
          822,
          771
         ],
         "yaxis": "y"
        },
        {
         "hovertemplate": "TEAM=Pistons<br>SEASON=%{x}<br>FG3M=%{y}<extra></extra>",
         "legendgroup": "Pistons",
         "line": {
          "color": "#FECB52",
          "dash": "solid"
         },
         "marker": {
          "symbol": "circle"
         },
         "mode": "lines+markers",
         "name": "Pistons",
         "orientation": "v",
         "showlegend": true,
         "type": "scatter",
         "x": [
          2003,
          2004,
          2005,
          2006,
          2007,
          2008,
          2009,
          2010,
          2011,
          2012,
          2013,
          2014,
          2015,
          2016,
          2017,
          2018,
          2019,
          2020,
          2021
         ],
         "xaxis": "x",
         "y": [
          430,
          476,
          681,
          542,
          564,
          389,
          374,
          472,
          317,
          513,
          507,
          762,
          853,
          671,
          929,
          1104,
          843,
          919,
          780
         ],
         "yaxis": "y"
        },
        {
         "hovertemplate": "TEAM=Raptors<br>SEASON=%{x}<br>FG3M=%{y}<extra></extra>",
         "legendgroup": "Raptors",
         "line": {
          "color": "#636efa",
          "dash": "solid"
         },
         "marker": {
          "symbol": "circle"
         },
         "mode": "lines+markers",
         "name": "Raptors",
         "orientation": "v",
         "showlegend": true,
         "type": "scatter",
         "x": [
          2003,
          2004,
          2005,
          2006,
          2007,
          2008,
          2009,
          2010,
          2011,
          2012,
          2013,
          2014,
          2015,
          2016,
          2017,
          2018,
          2019,
          2020,
          2021
         ],
         "xaxis": "x",
         "y": [
          461,
          648,
          608,
          563,
          614,
          479,
          518,
          345,
          365,
          571,
          759,
          807,
          893,
          846,
          1134,
          1348,
          1255,
          1138,
          878
         ],
         "yaxis": "y"
        },
        {
         "hovertemplate": "TEAM=Rockets<br>SEASON=%{x}<br>FG3M=%{y}<extra></extra>",
         "legendgroup": "Rockets",
         "line": {
          "color": "#EF553B",
          "dash": "solid"
         },
         "marker": {
          "symbol": "circle"
         },
         "mode": "lines+markers",
         "name": "Rockets",
         "orientation": "v",
         "showlegend": true,
         "type": "scatter",
         "x": [
          2003,
          2004,
          2005,
          2006,
          2007,
          2008,
          2009,
          2010,
          2011,
          2012,
          2013,
          2014,
          2015,
          2016,
          2017,
          2018,
          2019,
          2020,
          2021
         ],
         "xaxis": "x",
         "y": [
          538,
          603,
          469,
          755,
          618,
          707,
          646,
          677,
          478,
          937,
          828,
          1174,
          1001,
          1395,
          1559,
          1568,
          1477,
          1093,
          934
         ],
         "yaxis": "y"
        },
        {
         "hovertemplate": "TEAM=Spurs<br>SEASON=%{x}<br>FG3M=%{y}<extra></extra>",
         "legendgroup": "Spurs",
         "line": {
          "color": "#00cc96",
          "dash": "solid"
         },
         "marker": {
          "symbol": "circle"
         },
         "mode": "lines+markers",
         "name": "Spurs",
         "orientation": "v",
         "showlegend": true,
         "type": "scatter",
         "x": [
          2003,
          2004,
          2005,
          2006,
          2007,
          2008,
          2009,
          2010,
          2011,
          2012,
          2013,
          2014,
          2015,
          2016,
          2017,
          2018,
          2019,
          2020,
          2021
         ],
         "xaxis": "x",
         "y": [
          477,
          671,
          602,
          746,
          722,
          654,
          602,
          717,
          684,
          828,
          901,
          784,
          693,
          939,
          789,
          898,
          831,
          791,
          810
         ],
         "yaxis": "y"
        },
        {
         "hovertemplate": "TEAM=Suns<br>SEASON=%{x}<br>FG3M=%{y}<extra></extra>",
         "legendgroup": "Suns",
         "line": {
          "color": "#ab63fa",
          "dash": "solid"
         },
         "marker": {
          "symbol": "circle"
         },
         "mode": "lines+markers",
         "name": "Suns",
         "orientation": "v",
         "showlegend": true,
         "type": "scatter",
         "x": [
          2003,
          2004,
          2005,
          2006,
          2007,
          2008,
          2009,
          2010,
          2011,
          2012,
          2013,
          2014,
          2015,
          2016,
          2017,
          2018,
          2019,
          2020,
          2021
         ],
         "xaxis": "x",
         "y": [
          415,
          925,
          1021,
          863,
          719,
          553,
          880,
          701,
          444,
          480,
          765,
          752,
          796,
          652,
          806,
          826,
          911,
          1295,
          819
         ],
         "yaxis": "y"
        },
        {
         "hovertemplate": "TEAM=Thunder<br>SEASON=%{x}<br>FG3M=%{y}<extra></extra>",
         "legendgroup": "Thunder",
         "line": {
          "color": "#FFA15A",
          "dash": "solid"
         },
         "marker": {
          "symbol": "circle"
         },
         "mode": "lines+markers",
         "name": "Thunder",
         "orientation": "v",
         "showlegend": true,
         "type": "scatter",
         "x": [
          2003,
          2004,
          2005,
          2006,
          2007,
          2008,
          2009,
          2010,
          2011,
          2012,
          2013,
          2014,
          2015,
          2016,
          2017,
          2018,
          2019,
          2020,
          2021
         ],
         "xaxis": "x",
         "y": [
          718,
          719,
          605,
          525,
          313,
          328,
          451,
          594,
          608,
          693,
          807,
          679,
          873,
          772,
          980,
          1023,
          929,
          936,
          835
         ],
         "yaxis": "y"
        },
        {
         "hovertemplate": "TEAM=Timberwolves<br>SEASON=%{x}<br>FG3M=%{y}<extra></extra>",
         "legendgroup": "Timberwolves",
         "line": {
          "color": "#19d3f3",
          "dash": "solid"
         },
         "marker": {
          "symbol": "circle"
         },
         "mode": "lines+markers",
         "name": "Timberwolves",
         "orientation": "v",
         "showlegend": true,
         "type": "scatter",
         "x": [
          2003,
          2004,
          2005,
          2006,
          2007,
          2008,
          2009,
          2010,
          2011,
          2012,
          2013,
          2014,
          2015,
          2016,
          2017,
          2018,
          2019,
          2020,
          2021
         ],
         "xaxis": "x",
         "y": [
          431,
          395,
          310,
          384,
          441,
          543,
          403,
          589,
          473,
          450,
          600,
          446,
          507,
          654,
          728,
          867,
          902,
          1027,
          1061
         ],
         "yaxis": "y"
        },
        {
         "hovertemplate": "TEAM=Trail Blazers<br>SEASON=%{x}<br>FG3M=%{y}<extra></extra>",
         "legendgroup": "Trail Blazers",
         "line": {
          "color": "#FF6692",
          "dash": "solid"
         },
         "marker": {
          "symbol": "circle"
         },
         "mode": "lines+markers",
         "name": "Trail Blazers",
         "orientation": "v",
         "showlegend": true,
         "type": "scatter",
         "x": [
          2003,
          2004,
          2005,
          2006,
          2007,
          2008,
          2009,
          2010,
          2011,
          2012,
          2013,
          2014,
          2015,
          2016,
          2017,
          2018,
          2019,
          2020,
          2021
         ],
         "xaxis": "x",
         "y": [
          381,
          420,
          364,
          426,
          538,
          629,
          529,
          548,
          478,
          673,
          857,
          900,
          1070,
          956,
          944,
          1156,
          1098,
          1292,
          905
         ],
         "yaxis": "y"
        },
        {
         "hovertemplate": "TEAM=Warriors<br>SEASON=%{x}<br>FG3M=%{y}<extra></extra>",
         "legendgroup": "Warriors",
         "line": {
          "color": "#B6E880",
          "dash": "solid"
         },
         "marker": {
          "symbol": "circle"
         },
         "mode": "lines+markers",
         "name": "Warriors",
         "orientation": "v",
         "showlegend": true,
         "type": "scatter",
         "x": [
          2003,
          2004,
          2005,
          2006,
          2007,
          2008,
          2009,
          2010,
          2011,
          2012,
          2013,
          2014,
          2015,
          2016,
          2017,
          2018,
          2019,
          2020,
          2021
         ],
         "xaxis": "x",
         "y": [
          429,
          624,
          625,
          822,
          761,
          550,
          633,
          685,
          524,
          762,
          841,
          1202,
          1443,
          1295,
          1208,
          1405,
          742,
          1177,
          1079
         ],
         "yaxis": "y"
        },
        {
         "hovertemplate": "TEAM=Wizards<br>SEASON=%{x}<br>FG3M=%{y}<extra></extra>",
         "legendgroup": "Wizards",
         "line": {
          "color": "#FF97FF",
          "dash": "solid"
         },
         "marker": {
          "symbol": "circle"
         },
         "mode": "lines+markers",
         "name": "Wizards",
         "orientation": "v",
         "showlegend": true,
         "type": "scatter",
         "x": [
          2003,
          2004,
          2005,
          2006,
          2007,
          2008,
          2009,
          2010,
          2011,
          2012,
          2013,
          2014,
          2015,
          2016,
          2017,
          2018,
          2019,
          2020,
          2021
         ],
         "xaxis": "x",
         "y": [
          434,
          570,
          534,
          586,
          611,
          395,
          432,
          392,
          344,
          545,
          709,
          623,
          756,
          918,
          899,
          970,
          957,
          844,
          742
         ],
         "yaxis": "y"
        },
        {
         "hovertemplate": "TEAM=Hornets<br>SEASON=%{x}<br>FG3M=%{y}<extra></extra>",
         "legendgroup": "Hornets",
         "line": {
          "color": "#FECB52",
          "dash": "solid"
         },
         "marker": {
          "symbol": "circle"
         },
         "mode": "lines+markers",
         "name": "Hornets",
         "orientation": "v",
         "showlegend": true,
         "type": "scatter",
         "x": [
          2004,
          2005,
          2006,
          2007,
          2008,
          2009,
          2010,
          2011,
          2012,
          2013,
          2014,
          2015,
          2016,
          2017,
          2018,
          2019,
          2020,
          2021
         ],
         "xaxis": "x",
         "y": [
          320,
          428,
          457,
          529,
          490,
          479,
          393,
          263,
          469,
          547,
          551,
          987,
          866,
          872,
          1043,
          839,
          1095,
          973
         ],
         "yaxis": "y"
        }
       ],
       "layout": {
        "legend": {
         "title": {
          "text": "TEAM"
         },
         "tracegroupgap": 0
        },
        "template": {
         "data": {
          "bar": [
           {
            "error_x": {
             "color": "#2a3f5f"
            },
            "error_y": {
             "color": "#2a3f5f"
            },
            "marker": {
             "line": {
              "color": "#E5ECF6",
              "width": 0.5
             },
             "pattern": {
              "fillmode": "overlay",
              "size": 10,
              "solidity": 0.2
             }
            },
            "type": "bar"
           }
          ],
          "barpolar": [
           {
            "marker": {
             "line": {
              "color": "#E5ECF6",
              "width": 0.5
             },
             "pattern": {
              "fillmode": "overlay",
              "size": 10,
              "solidity": 0.2
             }
            },
            "type": "barpolar"
           }
          ],
          "carpet": [
           {
            "aaxis": {
             "endlinecolor": "#2a3f5f",
             "gridcolor": "white",
             "linecolor": "white",
             "minorgridcolor": "white",
             "startlinecolor": "#2a3f5f"
            },
            "baxis": {
             "endlinecolor": "#2a3f5f",
             "gridcolor": "white",
             "linecolor": "white",
             "minorgridcolor": "white",
             "startlinecolor": "#2a3f5f"
            },
            "type": "carpet"
           }
          ],
          "choropleth": [
           {
            "colorbar": {
             "outlinewidth": 0,
             "ticks": ""
            },
            "type": "choropleth"
           }
          ],
          "contour": [
           {
            "colorbar": {
             "outlinewidth": 0,
             "ticks": ""
            },
            "colorscale": [
             [
              0,
              "#0d0887"
             ],
             [
              0.1111111111111111,
              "#46039f"
             ],
             [
              0.2222222222222222,
              "#7201a8"
             ],
             [
              0.3333333333333333,
              "#9c179e"
             ],
             [
              0.4444444444444444,
              "#bd3786"
             ],
             [
              0.5555555555555556,
              "#d8576b"
             ],
             [
              0.6666666666666666,
              "#ed7953"
             ],
             [
              0.7777777777777778,
              "#fb9f3a"
             ],
             [
              0.8888888888888888,
              "#fdca26"
             ],
             [
              1,
              "#f0f921"
             ]
            ],
            "type": "contour"
           }
          ],
          "contourcarpet": [
           {
            "colorbar": {
             "outlinewidth": 0,
             "ticks": ""
            },
            "type": "contourcarpet"
           }
          ],
          "heatmap": [
           {
            "colorbar": {
             "outlinewidth": 0,
             "ticks": ""
            },
            "colorscale": [
             [
              0,
              "#0d0887"
             ],
             [
              0.1111111111111111,
              "#46039f"
             ],
             [
              0.2222222222222222,
              "#7201a8"
             ],
             [
              0.3333333333333333,
              "#9c179e"
             ],
             [
              0.4444444444444444,
              "#bd3786"
             ],
             [
              0.5555555555555556,
              "#d8576b"
             ],
             [
              0.6666666666666666,
              "#ed7953"
             ],
             [
              0.7777777777777778,
              "#fb9f3a"
             ],
             [
              0.8888888888888888,
              "#fdca26"
             ],
             [
              1,
              "#f0f921"
             ]
            ],
            "type": "heatmap"
           }
          ],
          "heatmapgl": [
           {
            "colorbar": {
             "outlinewidth": 0,
             "ticks": ""
            },
            "colorscale": [
             [
              0,
              "#0d0887"
             ],
             [
              0.1111111111111111,
              "#46039f"
             ],
             [
              0.2222222222222222,
              "#7201a8"
             ],
             [
              0.3333333333333333,
              "#9c179e"
             ],
             [
              0.4444444444444444,
              "#bd3786"
             ],
             [
              0.5555555555555556,
              "#d8576b"
             ],
             [
              0.6666666666666666,
              "#ed7953"
             ],
             [
              0.7777777777777778,
              "#fb9f3a"
             ],
             [
              0.8888888888888888,
              "#fdca26"
             ],
             [
              1,
              "#f0f921"
             ]
            ],
            "type": "heatmapgl"
           }
          ],
          "histogram": [
           {
            "marker": {
             "pattern": {
              "fillmode": "overlay",
              "size": 10,
              "solidity": 0.2
             }
            },
            "type": "histogram"
           }
          ],
          "histogram2d": [
           {
            "colorbar": {
             "outlinewidth": 0,
             "ticks": ""
            },
            "colorscale": [
             [
              0,
              "#0d0887"
             ],
             [
              0.1111111111111111,
              "#46039f"
             ],
             [
              0.2222222222222222,
              "#7201a8"
             ],
             [
              0.3333333333333333,
              "#9c179e"
             ],
             [
              0.4444444444444444,
              "#bd3786"
             ],
             [
              0.5555555555555556,
              "#d8576b"
             ],
             [
              0.6666666666666666,
              "#ed7953"
             ],
             [
              0.7777777777777778,
              "#fb9f3a"
             ],
             [
              0.8888888888888888,
              "#fdca26"
             ],
             [
              1,
              "#f0f921"
             ]
            ],
            "type": "histogram2d"
           }
          ],
          "histogram2dcontour": [
           {
            "colorbar": {
             "outlinewidth": 0,
             "ticks": ""
            },
            "colorscale": [
             [
              0,
              "#0d0887"
             ],
             [
              0.1111111111111111,
              "#46039f"
             ],
             [
              0.2222222222222222,
              "#7201a8"
             ],
             [
              0.3333333333333333,
              "#9c179e"
             ],
             [
              0.4444444444444444,
              "#bd3786"
             ],
             [
              0.5555555555555556,
              "#d8576b"
             ],
             [
              0.6666666666666666,
              "#ed7953"
             ],
             [
              0.7777777777777778,
              "#fb9f3a"
             ],
             [
              0.8888888888888888,
              "#fdca26"
             ],
             [
              1,
              "#f0f921"
             ]
            ],
            "type": "histogram2dcontour"
           }
          ],
          "mesh3d": [
           {
            "colorbar": {
             "outlinewidth": 0,
             "ticks": ""
            },
            "type": "mesh3d"
           }
          ],
          "parcoords": [
           {
            "line": {
             "colorbar": {
              "outlinewidth": 0,
              "ticks": ""
             }
            },
            "type": "parcoords"
           }
          ],
          "pie": [
           {
            "automargin": true,
            "type": "pie"
           }
          ],
          "scatter": [
           {
            "fillpattern": {
             "fillmode": "overlay",
             "size": 10,
             "solidity": 0.2
            },
            "type": "scatter"
           }
          ],
          "scatter3d": [
           {
            "line": {
             "colorbar": {
              "outlinewidth": 0,
              "ticks": ""
             }
            },
            "marker": {
             "colorbar": {
              "outlinewidth": 0,
              "ticks": ""
             }
            },
            "type": "scatter3d"
           }
          ],
          "scattercarpet": [
           {
            "marker": {
             "colorbar": {
              "outlinewidth": 0,
              "ticks": ""
             }
            },
            "type": "scattercarpet"
           }
          ],
          "scattergeo": [
           {
            "marker": {
             "colorbar": {
              "outlinewidth": 0,
              "ticks": ""
             }
            },
            "type": "scattergeo"
           }
          ],
          "scattergl": [
           {
            "marker": {
             "colorbar": {
              "outlinewidth": 0,
              "ticks": ""
             }
            },
            "type": "scattergl"
           }
          ],
          "scattermapbox": [
           {
            "marker": {
             "colorbar": {
              "outlinewidth": 0,
              "ticks": ""
             }
            },
            "type": "scattermapbox"
           }
          ],
          "scatterpolar": [
           {
            "marker": {
             "colorbar": {
              "outlinewidth": 0,
              "ticks": ""
             }
            },
            "type": "scatterpolar"
           }
          ],
          "scatterpolargl": [
           {
            "marker": {
             "colorbar": {
              "outlinewidth": 0,
              "ticks": ""
             }
            },
            "type": "scatterpolargl"
           }
          ],
          "scatterternary": [
           {
            "marker": {
             "colorbar": {
              "outlinewidth": 0,
              "ticks": ""
             }
            },
            "type": "scatterternary"
           }
          ],
          "surface": [
           {
            "colorbar": {
             "outlinewidth": 0,
             "ticks": ""
            },
            "colorscale": [
             [
              0,
              "#0d0887"
             ],
             [
              0.1111111111111111,
              "#46039f"
             ],
             [
              0.2222222222222222,
              "#7201a8"
             ],
             [
              0.3333333333333333,
              "#9c179e"
             ],
             [
              0.4444444444444444,
              "#bd3786"
             ],
             [
              0.5555555555555556,
              "#d8576b"
             ],
             [
              0.6666666666666666,
              "#ed7953"
             ],
             [
              0.7777777777777778,
              "#fb9f3a"
             ],
             [
              0.8888888888888888,
              "#fdca26"
             ],
             [
              1,
              "#f0f921"
             ]
            ],
            "type": "surface"
           }
          ],
          "table": [
           {
            "cells": {
             "fill": {
              "color": "#EBF0F8"
             },
             "line": {
              "color": "white"
             }
            },
            "header": {
             "fill": {
              "color": "#C8D4E3"
             },
             "line": {
              "color": "white"
             }
            },
            "type": "table"
           }
          ]
         },
         "layout": {
          "annotationdefaults": {
           "arrowcolor": "#2a3f5f",
           "arrowhead": 0,
           "arrowwidth": 1
          },
          "autotypenumbers": "strict",
          "coloraxis": {
           "colorbar": {
            "outlinewidth": 0,
            "ticks": ""
           }
          },
          "colorscale": {
           "diverging": [
            [
             0,
             "#8e0152"
            ],
            [
             0.1,
             "#c51b7d"
            ],
            [
             0.2,
             "#de77ae"
            ],
            [
             0.3,
             "#f1b6da"
            ],
            [
             0.4,
             "#fde0ef"
            ],
            [
             0.5,
             "#f7f7f7"
            ],
            [
             0.6,
             "#e6f5d0"
            ],
            [
             0.7,
             "#b8e186"
            ],
            [
             0.8,
             "#7fbc41"
            ],
            [
             0.9,
             "#4d9221"
            ],
            [
             1,
             "#276419"
            ]
           ],
           "sequential": [
            [
             0,
             "#0d0887"
            ],
            [
             0.1111111111111111,
             "#46039f"
            ],
            [
             0.2222222222222222,
             "#7201a8"
            ],
            [
             0.3333333333333333,
             "#9c179e"
            ],
            [
             0.4444444444444444,
             "#bd3786"
            ],
            [
             0.5555555555555556,
             "#d8576b"
            ],
            [
             0.6666666666666666,
             "#ed7953"
            ],
            [
             0.7777777777777778,
             "#fb9f3a"
            ],
            [
             0.8888888888888888,
             "#fdca26"
            ],
            [
             1,
             "#f0f921"
            ]
           ],
           "sequentialminus": [
            [
             0,
             "#0d0887"
            ],
            [
             0.1111111111111111,
             "#46039f"
            ],
            [
             0.2222222222222222,
             "#7201a8"
            ],
            [
             0.3333333333333333,
             "#9c179e"
            ],
            [
             0.4444444444444444,
             "#bd3786"
            ],
            [
             0.5555555555555556,
             "#d8576b"
            ],
            [
             0.6666666666666666,
             "#ed7953"
            ],
            [
             0.7777777777777778,
             "#fb9f3a"
            ],
            [
             0.8888888888888888,
             "#fdca26"
            ],
            [
             1,
             "#f0f921"
            ]
           ]
          },
          "colorway": [
           "#636efa",
           "#EF553B",
           "#00cc96",
           "#ab63fa",
           "#FFA15A",
           "#19d3f3",
           "#FF6692",
           "#B6E880",
           "#FF97FF",
           "#FECB52"
          ],
          "font": {
           "color": "#2a3f5f"
          },
          "geo": {
           "bgcolor": "white",
           "lakecolor": "white",
           "landcolor": "#E5ECF6",
           "showlakes": true,
           "showland": true,
           "subunitcolor": "white"
          },
          "hoverlabel": {
           "align": "left"
          },
          "hovermode": "closest",
          "mapbox": {
           "style": "light"
          },
          "paper_bgcolor": "white",
          "plot_bgcolor": "#E5ECF6",
          "polar": {
           "angularaxis": {
            "gridcolor": "white",
            "linecolor": "white",
            "ticks": ""
           },
           "bgcolor": "#E5ECF6",
           "radialaxis": {
            "gridcolor": "white",
            "linecolor": "white",
            "ticks": ""
           }
          },
          "scene": {
           "xaxis": {
            "backgroundcolor": "#E5ECF6",
            "gridcolor": "white",
            "gridwidth": 2,
            "linecolor": "white",
            "showbackground": true,
            "ticks": "",
            "zerolinecolor": "white"
           },
           "yaxis": {
            "backgroundcolor": "#E5ECF6",
            "gridcolor": "white",
            "gridwidth": 2,
            "linecolor": "white",
            "showbackground": true,
            "ticks": "",
            "zerolinecolor": "white"
           },
           "zaxis": {
            "backgroundcolor": "#E5ECF6",
            "gridcolor": "white",
            "gridwidth": 2,
            "linecolor": "white",
            "showbackground": true,
            "ticks": "",
            "zerolinecolor": "white"
           }
          },
          "shapedefaults": {
           "line": {
            "color": "#2a3f5f"
           }
          },
          "ternary": {
           "aaxis": {
            "gridcolor": "white",
            "linecolor": "white",
            "ticks": ""
           },
           "baxis": {
            "gridcolor": "white",
            "linecolor": "white",
            "ticks": ""
           },
           "bgcolor": "#E5ECF6",
           "caxis": {
            "gridcolor": "white",
            "linecolor": "white",
            "ticks": ""
           }
          },
          "title": {
           "x": 0.05
          },
          "xaxis": {
           "automargin": true,
           "gridcolor": "white",
           "linecolor": "white",
           "ticks": "",
           "title": {
            "standoff": 15
           },
           "zerolinecolor": "white",
           "zerolinewidth": 2
          },
          "yaxis": {
           "automargin": true,
           "gridcolor": "white",
           "linecolor": "white",
           "ticks": "",
           "title": {
            "standoff": 15
           },
           "zerolinecolor": "white",
           "zerolinewidth": 2
          }
         }
        },
        "title": {
         "text": "Total FG3M per Season"
        },
        "xaxis": {
         "anchor": "y",
         "domain": [
          0,
          1
         ],
         "title": {
          "text": "SEASON"
         }
        },
        "yaxis": {
         "anchor": "x",
         "domain": [
          0,
          1
         ],
         "title": {
          "text": "FG3M"
         }
        }
       }
      }
     },
     "metadata": {},
     "output_type": "display_data"
    }
   ],
   "source": [
    "fig2 = px.line(plot_sum_data, x='SEASON', y='FG3M', markers=True, color='TEAM', title = 'Total FG3M per Season')\n",
    "fig2.show()"
   ]
  },
  {
   "cell_type": "code",
   "execution_count": 66,
   "metadata": {},
   "outputs": [
    {
     "data": {
      "application/vnd.plotly.v1+json": {
       "config": {
        "plotlyServerURL": "https://plot.ly"
       },
       "data": [
        {
         "hovertemplate": "TEAM=76ers<br>SEASON=%{x}<br>FG3A=%{y}<extra></extra>",
         "legendgroup": "76ers",
         "line": {
          "color": "#636efa",
          "dash": "solid"
         },
         "marker": {
          "symbol": "circle"
         },
         "mode": "lines+markers",
         "name": "76ers",
         "orientation": "v",
         "showlegend": true,
         "type": "scatter",
         "x": [
          2003,
          2004,
          2005,
          2006,
          2007,
          2008,
          2009,
          2010,
          2011,
          2012,
          2013,
          2014,
          2015,
          2016,
          2017,
          2018,
          2019,
          2020,
          2021
         ],
         "xaxis": "x",
         "y": [
          991,
          1549,
          1031,
          823,
          999,
          1167,
          1381,
          1330,
          1134,
          1438,
          1847,
          2319,
          2470,
          2629,
          2893,
          2921,
          2655,
          2648,
          2165
         ],
         "yaxis": "y"
        },
        {
         "hovertemplate": "TEAM=Bucks<br>SEASON=%{x}<br>FG3A=%{y}<extra></extra>",
         "legendgroup": "Bucks",
         "line": {
          "color": "#EF553B",
          "dash": "solid"
         },
         "marker": {
          "symbol": "circle"
         },
         "mode": "lines+markers",
         "name": "Bucks",
         "orientation": "v",
         "showlegend": true,
         "type": "scatter",
         "x": [
          2003,
          2004,
          2005,
          2006,
          2007,
          2008,
          2009,
          2010,
          2011,
          2012,
          2013,
          2014,
          2015,
          2016,
          2017,
          2018,
          2019,
          2020,
          2021
         ],
         "xaxis": "x",
         "y": [
          1217,
          921,
          1397,
          1472,
          1313,
          1408,
          1962,
          1414,
          1265,
          1762,
          1553,
          1750,
          1402,
          2199,
          2324,
          3866,
          3530,
          3711,
          2833
         ],
         "yaxis": "y"
        },
        {
         "hovertemplate": "TEAM=Bulls<br>SEASON=%{x}<br>FG3A=%{y}<extra></extra>",
         "legendgroup": "Bulls",
         "line": {
          "color": "#00cc96",
          "dash": "solid"
         },
         "marker": {
          "symbol": "circle"
         },
         "mode": "lines+markers",
         "name": "Bulls",
         "orientation": "v",
         "showlegend": true,
         "type": "scatter",
         "x": [
          2003,
          2004,
          2005,
          2006,
          2007,
          2008,
          2009,
          2010,
          2011,
          2012,
          2013,
          2014,
          2015,
          2016,
          2017,
          2018,
          2019,
          2020,
          2021
         ],
         "xaxis": "x",
         "y": [
          1256,
          1572,
          1596,
          1403,
          1305,
          1428,
          1120,
          1722,
          1193,
          1469,
          1555,
          2309,
          1983,
          2142,
          2754,
          2272,
          2479,
          2747,
          2075
         ],
         "yaxis": "y"
        },
        {
         "hovertemplate": "TEAM=Cavaliers<br>SEASON=%{x}<br>FG3A=%{y}<extra></extra>",
         "legendgroup": "Cavaliers",
         "line": {
          "color": "#ab63fa",
          "dash": "solid"
         },
         "marker": {
          "symbol": "circle"
         },
         "mode": "lines+markers",
         "name": "Cavaliers",
         "orientation": "v",
         "showlegend": true,
         "type": "scatter",
         "x": [
          2003,
          2004,
          2005,
          2006,
          2007,
          2008,
          2009,
          2010,
          2011,
          2012,
          2013,
          2014,
          2015,
          2016,
          2017,
          2018,
          2019,
          2020,
          2021
         ],
         "xaxis": "x",
         "y": [
          786,
          904,
          1637,
          1735,
          1796,
          1947,
          1809,
          1489,
          1273,
          1581,
          1640,
          2992,
          3275,
          3551,
          3448,
          2485,
          2183,
          2326,
          2354
         ],
         "yaxis": "y"
        },
        {
         "hovertemplate": "TEAM=Celtics<br>SEASON=%{x}<br>FG3A=%{y}<extra></extra>",
         "legendgroup": "Celtics",
         "line": {
          "color": "#FFA15A",
          "dash": "solid"
         },
         "marker": {
          "symbol": "circle"
         },
         "mode": "lines+markers",
         "name": "Celtics",
         "orientation": "v",
         "showlegend": true,
         "type": "scatter",
         "x": [
          2003,
          2004,
          2005,
          2006,
          2007,
          2008,
          2009,
          2010,
          2011,
          2012,
          2013,
          2014,
          2015,
          2016,
          2017,
          2018,
          2019,
          2020,
          2021
         ],
         "xaxis": "x",
         "y": [
          1662,
          1353,
          1290,
          1283,
          2001,
          1616,
          1816,
          1263,
          1314,
          1514,
          1729,
          2337,
          2452,
          3568,
          3197,
          3264,
          3337,
          3125,
          2643
         ],
         "yaxis": "y"
        },
        {
         "hovertemplate": "TEAM=Clippers<br>SEASON=%{x}<br>FG3A=%{y}<extra></extra>",
         "legendgroup": "Clippers",
         "line": {
          "color": "#19d3f3",
          "dash": "solid"
         },
         "marker": {
          "symbol": "circle"
         },
         "mode": "lines+markers",
         "name": "Clippers",
         "orientation": "v",
         "showlegend": true,
         "type": "scatter",
         "x": [
          2003,
          2004,
          2005,
          2006,
          2007,
          2008,
          2009,
          2010,
          2011,
          2012,
          2013,
          2014,
          2015,
          2016,
          2017,
          2018,
          2019,
          2020,
          2021
         ],
         "xaxis": "x",
         "y": [
          1024,
          669,
          986,
          903,
          1079,
          1513,
          1457,
          1519,
          1621,
          1867,
          2301,
          2769,
          2452,
          2561,
          2323,
          2380,
          3059,
          3352,
          2473
         ],
         "yaxis": "y"
        },
        {
         "hovertemplate": "TEAM=Grizzlies<br>SEASON=%{x}<br>FG3A=%{y}<extra></extra>",
         "legendgroup": "Grizzlies",
         "line": {
          "color": "#FF6692",
          "dash": "solid"
         },
         "marker": {
          "symbol": "circle"
         },
         "mode": "lines+markers",
         "name": "Grizzlies",
         "orientation": "v",
         "showlegend": true,
         "type": "scatter",
         "x": [
          2003,
          2004,
          2005,
          2006,
          2007,
          2008,
          2009,
          2010,
          2011,
          2012,
          2013,
          2014,
          2015,
          2016,
          2017,
          2018,
          2019,
          2020,
          2021
         ],
         "xaxis": "x",
         "y": [
          1365,
          1564,
          1626,
          1362,
          1779,
          1106,
          1020,
          1083,
          932,
          1329,
          1254,
          1516,
          1696,
          2489,
          2265,
          2503,
          2525,
          2821,
          2438
         ],
         "yaxis": "y"
        },
        {
         "hovertemplate": "TEAM=Hawks<br>SEASON=%{x}<br>FG3A=%{y}<extra></extra>",
         "legendgroup": "Hawks",
         "line": {
          "color": "#B6E880",
          "dash": "solid"
         },
         "marker": {
          "symbol": "circle"
         },
         "mode": "lines+markers",
         "name": "Hawks",
         "orientation": "v",
         "showlegend": true,
         "type": "scatter",
         "x": [
          2003,
          2004,
          2005,
          2006,
          2007,
          2008,
          2009,
          2010,
          2011,
          2012,
          2013,
          2014,
          2015,
          2016,
          2017,
          2018,
          2019,
          2020,
          2021
         ],
         "xaxis": "x",
         "y": [
          1249,
          973,
          1154,
          1038,
          1165,
          1826,
          1605,
          1594,
          1443,
          2013,
          2346,
          2792,
          2820,
          2460,
          2700,
          3223,
          2592,
          3406,
          2360
         ],
         "yaxis": "y"
        },
        {
         "hovertemplate": "TEAM=Heat<br>SEASON=%{x}<br>FG3A=%{y}<extra></extra>",
         "legendgroup": "Heat",
         "line": {
          "color": "#FF97FF",
          "dash": "solid"
         },
         "marker": {
          "symbol": "circle"
         },
         "mode": "lines+markers",
         "name": "Heat",
         "orientation": "v",
         "showlegend": true,
         "type": "scatter",
         "x": [
          2003,
          2004,
          2005,
          2006,
          2007,
          2008,
          2009,
          2010,
          2011,
          2012,
          2013,
          2014,
          2015,
          2016,
          2017,
          2018,
          2019,
          2020,
          2021
         ],
         "xaxis": "x",
         "y": [
          1531,
          1492,
          1880,
          1607,
          1373,
          1771,
          1517,
          1854,
          1482,
          2274,
          2299,
          1848,
          1928,
          2436,
          2828,
          2859,
          3635,
          2899,
          2676
         ],
         "yaxis": "y"
        },
        {
         "hovertemplate": "TEAM=Jazz<br>SEASON=%{x}<br>FG3A=%{y}<extra></extra>",
         "legendgroup": "Jazz",
         "line": {
          "color": "#FECB52",
          "dash": "solid"
         },
         "marker": {
          "symbol": "circle"
         },
         "mode": "lines+markers",
         "name": "Jazz",
         "orientation": "v",
         "showlegend": true,
         "type": "scatter",
         "x": [
          2003,
          2004,
          2005,
          2006,
          2007,
          2008,
          2009,
          2010,
          2011,
          2012,
          2013,
          2014,
          2015,
          2016,
          2017,
          2018,
          2019,
          2020,
          2021
         ],
         "xaxis": "x",
         "y": [
          786,
          762,
          925,
          1270,
          1295,
          1195,
          1381,
          1256,
          890,
          1385,
          1577,
          1948,
          2097,
          2511,
          2838,
          3065,
          3029,
          3822,
          2889
         ],
         "yaxis": "y"
        },
        {
         "hovertemplate": "TEAM=Kings<br>SEASON=%{x}<br>FG3A=%{y}<extra></extra>",
         "legendgroup": "Kings",
         "line": {
          "color": "#636efa",
          "dash": "solid"
         },
         "marker": {
          "symbol": "circle"
         },
         "mode": "lines+markers",
         "name": "Kings",
         "orientation": "v",
         "showlegend": true,
         "type": "scatter",
         "x": [
          2003,
          2004,
          2005,
          2006,
          2007,
          2008,
          2009,
          2010,
          2011,
          2012,
          2013,
          2014,
          2015,
          2016,
          2017,
          2018,
          2019,
          2020,
          2021
         ],
         "xaxis": "x",
         "y": [
          1699,
          1500,
          1502,
          1513,
          1367,
          1594,
          1383,
          1277,
          1301,
          1681,
          1475,
          1438,
          1994,
          2067,
          2094,
          2577,
          2767,
          2714,
          2487
         ],
         "yaxis": "y"
        },
        {
         "hovertemplate": "TEAM=Knicks<br>SEASON=%{x}<br>FG3A=%{y}<extra></extra>",
         "legendgroup": "Knicks",
         "line": {
          "color": "#EF553B",
          "dash": "solid"
         },
         "marker": {
          "symbol": "circle"
         },
         "mode": "lines+markers",
         "name": "Knicks",
         "orientation": "v",
         "showlegend": true,
         "type": "scatter",
         "x": [
          2003,
          2004,
          2005,
          2006,
          2007,
          2008,
          2009,
          2010,
          2011,
          2012,
          2013,
          2014,
          2015,
          2016,
          2017,
          2018,
          2019,
          2020,
          2021
         ],
         "xaxis": "x",
         "y": [
          1173,
          1239,
          884,
          1370,
          1454,
          2284,
          2145,
          2176,
          1629,
          2651,
          2038,
          1772,
          1870,
          2184,
          2035,
          2542,
          2004,
          2498,
          2610
         ],
         "yaxis": "y"
        },
        {
         "hovertemplate": "TEAM=Lakers<br>SEASON=%{x}<br>FG3A=%{y}<extra></extra>",
         "legendgroup": "Lakers",
         "line": {
          "color": "#00cc96",
          "dash": "solid"
         },
         "marker": {
          "symbol": "circle"
         },
         "mode": "lines+markers",
         "name": "Lakers",
         "orientation": "v",
         "showlegend": true,
         "type": "scatter",
         "x": [
          2003,
          2004,
          2005,
          2006,
          2007,
          2008,
          2009,
          2010,
          2011,
          2012,
          2013,
          2014,
          2015,
          2016,
          2017,
          2018,
          2019,
          2020,
          2021
         ],
         "xaxis": "x",
         "y": [
          1455,
          1809,
          1733,
          1823,
          2149,
          1940,
          2038,
          1653,
          1319,
          2089,
          2032,
          1628,
          2173,
          2345,
          2535,
          2673,
          3209,
          2616,
          2481
         ],
         "yaxis": "y"
        },
        {
         "hovertemplate": "TEAM=Magic<br>SEASON=%{x}<br>FG3A=%{y}<extra></extra>",
         "legendgroup": "Magic",
         "line": {
          "color": "#ab63fa",
          "dash": "solid"
         },
         "marker": {
          "symbol": "circle"
         },
         "mode": "lines+markers",
         "name": "Magic",
         "orientation": "v",
         "showlegend": true,
         "type": "scatter",
         "x": [
          2003,
          2004,
          2005,
          2006,
          2007,
          2008,
          2009,
          2010,
          2011,
          2012,
          2013,
          2014,
          2015,
          2016,
          2017,
          2018,
          2019,
          2020,
          2021
         ],
         "xaxis": "x",
         "y": [
          1248,
          916,
          796,
          991,
          2327,
          2706,
          2618,
          2244,
          1908,
          1537,
          1596,
          1713,
          2000,
          2303,
          2583,
          2913,
          2847,
          2458,
          2597
         ],
         "yaxis": "y"
        },
        {
         "hovertemplate": "TEAM=Mavericks<br>SEASON=%{x}<br>FG3A=%{y}<extra></extra>",
         "legendgroup": "Mavericks",
         "line": {
          "color": "#FFA15A",
          "dash": "solid"
         },
         "marker": {
          "symbol": "circle"
         },
         "mode": "lines+markers",
         "name": "Mavericks",
         "orientation": "v",
         "showlegend": true,
         "type": "scatter",
         "x": [
          2003,
          2004,
          2005,
          2006,
          2007,
          2008,
          2009,
          2010,
          2011,
          2012,
          2013,
          2014,
          2015,
          2016,
          2017,
          2018,
          2019,
          2020,
          2021
         ],
         "xaxis": "x",
         "y": [
          1543,
          1500,
          1460,
          1533,
          1507,
          1838,
          1614,
          2235,
          1550,
          1628,
          2034,
          2440,
          2639,
          2663,
          2913,
          3115,
          3651,
          3154,
          2636
         ],
         "yaxis": "y"
        },
        {
         "hovertemplate": "TEAM=Nets<br>SEASON=%{x}<br>FG3A=%{y}<extra></extra>",
         "legendgroup": "Nets",
         "line": {
          "color": "#19d3f3",
          "dash": "solid"
         },
         "marker": {
          "symbol": "circle"
         },
         "mode": "lines+markers",
         "name": "Nets",
         "orientation": "v",
         "showlegend": true,
         "type": "scatter",
         "x": [
          2003,
          2004,
          2005,
          2006,
          2007,
          2008,
          2009,
          2010,
          2011,
          2012,
          2013,
          2014,
          2015,
          2016,
          2017,
          2018,
          2019,
          2020,
          2021
         ],
         "xaxis": "x",
         "y": [
          1296,
          1287,
          1639,
          1926,
          1430,
          1735,
          1185,
          1337,
          1481,
          1896,
          2194,
          1889,
          1618,
          2793,
          3055,
          3274,
          3150,
          3354,
          2274
         ],
         "yaxis": "y"
        },
        {
         "hovertemplate": "TEAM=Nuggets<br>SEASON=%{x}<br>FG3A=%{y}<extra></extra>",
         "legendgroup": "Nuggets",
         "line": {
          "color": "#FF6692",
          "dash": "solid"
         },
         "marker": {
          "symbol": "circle"
         },
         "mode": "lines+markers",
         "name": "Nuggets",
         "orientation": "v",
         "showlegend": true,
         "type": "scatter",
         "x": [
          2003,
          2004,
          2005,
          2006,
          2007,
          2008,
          2009,
          2010,
          2011,
          2012,
          2013,
          2014,
          2015,
          2016,
          2017,
          2018,
          2019,
          2020,
          2021
         ],
         "xaxis": "x",
         "y": [
          1046,
          982,
          1144,
          1512,
          1677,
          1814,
          1626,
          1796,
          1444,
          1653,
          1959,
          2169,
          2105,
          2563,
          2683,
          3092,
          3051,
          3116,
          2696
         ],
         "yaxis": "y"
        },
        {
         "hovertemplate": "TEAM=Pacers<br>SEASON=%{x}<br>FG3A=%{y}<extra></extra>",
         "legendgroup": "Pacers",
         "line": {
          "color": "#B6E880",
          "dash": "solid"
         },
         "marker": {
          "symbol": "circle"
         },
         "mode": "lines+markers",
         "name": "Pacers",
         "orientation": "v",
         "showlegend": true,
         "type": "scatter",
         "x": [
          2003,
          2004,
          2005,
          2006,
          2007,
          2008,
          2009,
          2010,
          2011,
          2012,
          2013,
          2014,
          2015,
          2016,
          2017,
          2018,
          2019,
          2020,
          2021
         ],
         "xaxis": "x",
         "y": [
          1564,
          1806,
          1653,
          1389,
          2021,
          1725,
          1896,
          1730,
          1261,
          1963,
          1908,
          1890,
          2211,
          2140,
          2269,
          2307,
          2387,
          2740,
          2544
         ],
         "yaxis": "y"
        },
        {
         "hovertemplate": "TEAM=Pelicans<br>SEASON=%{x}<br>FG3A=%{y}<extra></extra>",
         "legendgroup": "Pelicans",
         "line": {
          "color": "#FF97FF",
          "dash": "solid"
         },
         "marker": {
          "symbol": "circle"
         },
         "mode": "lines+markers",
         "name": "Pelicans",
         "orientation": "v",
         "showlegend": true,
         "type": "scatter",
         "x": [
          2003,
          2004,
          2005,
          2006,
          2007,
          2008,
          2009,
          2010,
          2011,
          2012,
          2013,
          2014,
          2015,
          2016,
          2017,
          2018,
          2019,
          2020,
          2021
         ],
         "xaxis": "x",
         "y": [
          1796,
          1314,
          885,
          1256,
          1789,
          1618,
          1572,
          1316,
          777,
          1474,
          1303,
          1833,
          2139,
          2334,
          2666,
          2632,
          2956,
          2387,
          2330
         ],
         "yaxis": "y"
        },
        {
         "hovertemplate": "TEAM=Pistons<br>SEASON=%{x}<br>FG3A=%{y}<extra></extra>",
         "legendgroup": "Pistons",
         "line": {
          "color": "#FECB52",
          "dash": "solid"
         },
         "marker": {
          "symbol": "circle"
         },
         "mode": "lines+markers",
         "name": "Pistons",
         "orientation": "v",
         "showlegend": true,
         "type": "scatter",
         "x": [
          2003,
          2004,
          2005,
          2006,
          2007,
          2008,
          2009,
          2010,
          2011,
          2012,
          2013,
          2014,
          2015,
          2016,
          2017,
          2018,
          2019,
          2020,
          2021
         ],
         "xaxis": "x",
         "y": [
          1287,
          1400,
          1784,
          1571,
          1556,
          1128,
          1190,
          1256,
          916,
          1440,
          1580,
          2214,
          2453,
          2044,
          2492,
          3191,
          2328,
          2656,
          2425
         ],
         "yaxis": "y"
        },
        {
         "hovertemplate": "TEAM=Raptors<br>SEASON=%{x}<br>FG3A=%{y}<extra></extra>",
         "legendgroup": "Raptors",
         "line": {
          "color": "#636efa",
          "dash": "solid"
         },
         "marker": {
          "symbol": "circle"
         },
         "mode": "lines+markers",
         "name": "Raptors",
         "orientation": "v",
         "showlegend": true,
         "type": "scatter",
         "x": [
          2003,
          2004,
          2005,
          2006,
          2007,
          2008,
          2009,
          2010,
          2011,
          2012,
          2013,
          2014,
          2015,
          2016,
          2017,
          2018,
          2019,
          2020,
          2021
         ],
         "xaxis": "x",
         "y": [
          1294,
          1681,
          1620,
          1551,
          1579,
          1289,
          1397,
          1091,
          1075,
          1665,
          2064,
          2311,
          2519,
          2359,
          3180,
          3729,
          3372,
          3101,
          2474
         ],
         "yaxis": "y"
        },
        {
         "hovertemplate": "TEAM=Rockets<br>SEASON=%{x}<br>FG3A=%{y}<extra></extra>",
         "legendgroup": "Rockets",
         "line": {
          "color": "#EF553B",
          "dash": "solid"
         },
         "marker": {
          "symbol": "circle"
         },
         "mode": "lines+markers",
         "name": "Rockets",
         "orientation": "v",
         "showlegend": true,
         "type": "scatter",
         "x": [
          2003,
          2004,
          2005,
          2006,
          2007,
          2008,
          2009,
          2010,
          2011,
          2012,
          2013,
          2014,
          2015,
          2016,
          2017,
          2018,
          2019,
          2020,
          2021
         ],
         "xaxis": "x",
         "y": [
          1482,
          1645,
          1414,
          2049,
          1827,
          1918,
          1838,
          1843,
          1330,
          2571,
          2333,
          3379,
          2952,
          3952,
          4346,
          4377,
          4245,
          3207,
          2739
         ],
         "yaxis": "y"
        },
        {
         "hovertemplate": "TEAM=Spurs<br>SEASON=%{x}<br>FG3A=%{y}<extra></extra>",
         "legendgroup": "Spurs",
         "line": {
          "color": "#00cc96",
          "dash": "solid"
         },
         "marker": {
          "symbol": "circle"
         },
         "mode": "lines+markers",
         "name": "Spurs",
         "orientation": "v",
         "showlegend": true,
         "type": "scatter",
         "x": [
          2003,
          2004,
          2005,
          2006,
          2007,
          2008,
          2009,
          2010,
          2011,
          2012,
          2013,
          2014,
          2015,
          2016,
          2017,
          2018,
          2019,
          2020,
          2021
         ],
         "xaxis": "x",
         "y": [
          1329,
          1816,
          1561,
          1954,
          1951,
          1708,
          1689,
          1836,
          1722,
          2201,
          2253,
          2154,
          1831,
          2442,
          2248,
          2323,
          2210,
          2282,
          2316
         ],
         "yaxis": "y"
        },
        {
         "hovertemplate": "TEAM=Suns<br>SEASON=%{x}<br>FG3A=%{y}<extra></extra>",
         "legendgroup": "Suns",
         "line": {
          "color": "#ab63fa",
          "dash": "solid"
         },
         "marker": {
          "symbol": "circle"
         },
         "mode": "lines+markers",
         "name": "Suns",
         "orientation": "v",
         "showlegend": true,
         "type": "scatter",
         "x": [
          2003,
          2004,
          2005,
          2006,
          2007,
          2008,
          2009,
          2010,
          2011,
          2012,
          2013,
          2014,
          2015,
          2016,
          2017,
          2018,
          2019,
          2020,
          2021
         ],
         "xaxis": "x",
         "y": [
          1202,
          2322,
          2567,
          2171,
          1838,
          1445,
          2161,
          1857,
          1295,
          1455,
          2055,
          2212,
          2281,
          1971,
          2402,
          2518,
          2560,
          3470,
          2263
         ],
         "yaxis": "y"
        },
        {
         "hovertemplate": "TEAM=Thunder<br>SEASON=%{x}<br>FG3A=%{y}<extra></extra>",
         "legendgroup": "Thunder",
         "line": {
          "color": "#FFA15A",
          "dash": "solid"
         },
         "marker": {
          "symbol": "circle"
         },
         "mode": "lines+markers",
         "name": "Thunder",
         "orientation": "v",
         "showlegend": true,
         "type": "scatter",
         "x": [
          2003,
          2004,
          2005,
          2006,
          2007,
          2008,
          2009,
          2010,
          2011,
          2012,
          2013,
          2014,
          2015,
          2016,
          2017,
          2018,
          2019,
          2020,
          2021
         ],
         "xaxis": "x",
         "y": [
          1925,
          1997,
          1631,
          1451,
          939,
          949,
          1340,
          1742,
          1700,
          1860,
          2282,
          2019,
          2519,
          2343,
          2760,
          2950,
          2634,
          2753,
          2642
         ],
         "yaxis": "y"
        },
        {
         "hovertemplate": "TEAM=Timberwolves<br>SEASON=%{x}<br>FG3A=%{y}<extra></extra>",
         "legendgroup": "Timberwolves",
         "line": {
          "color": "#19d3f3",
          "dash": "solid"
         },
         "marker": {
          "symbol": "circle"
         },
         "mode": "lines+markers",
         "name": "Timberwolves",
         "orientation": "v",
         "showlegend": true,
         "type": "scatter",
         "x": [
          2003,
          2004,
          2005,
          2006,
          2007,
          2008,
          2009,
          2010,
          2011,
          2012,
          2013,
          2014,
          2015,
          2016,
          2017,
          2018,
          2019,
          2020,
          2021
         ],
         "xaxis": "x",
         "y": [
          1170,
          1145,
          942,
          1089,
          1259,
          1539,
          1181,
          1565,
          1423,
          1475,
          1757,
          1328,
          1484,
          1880,
          2024,
          2484,
          2713,
          2953,
          3040
         ],
         "yaxis": "y"
        },
        {
         "hovertemplate": "TEAM=Trail Blazers<br>SEASON=%{x}<br>FG3A=%{y}<extra></extra>",
         "legendgroup": "Trail Blazers",
         "line": {
          "color": "#FF6692",
          "dash": "solid"
         },
         "marker": {
          "symbol": "circle"
         },
         "mode": "lines+markers",
         "name": "Trail Blazers",
         "orientation": "v",
         "showlegend": true,
         "type": "scatter",
         "x": [
          2003,
          2004,
          2005,
          2006,
          2007,
          2008,
          2009,
          2010,
          2011,
          2012,
          2013,
          2014,
          2015,
          2016,
          2017,
          2018,
          2019,
          2020,
          2021
         ],
         "xaxis": "x",
         "y": [
          1102,
          1161,
          1042,
          1232,
          1426,
          1640,
          1488,
          1603,
          1382,
          1904,
          2322,
          2494,
          2891,
          2564,
          2574,
          3198,
          2926,
          3348,
          2622
         ],
         "yaxis": "y"
        },
        {
         "hovertemplate": "TEAM=Warriors<br>SEASON=%{x}<br>FG3A=%{y}<extra></extra>",
         "legendgroup": "Warriors",
         "line": {
          "color": "#B6E880",
          "dash": "solid"
         },
         "marker": {
          "symbol": "circle"
         },
         "mode": "lines+markers",
         "name": "Warriors",
         "orientation": "v",
         "showlegend": true,
         "type": "scatter",
         "x": [
          2003,
          2004,
          2005,
          2006,
          2007,
          2008,
          2009,
          2010,
          2011,
          2012,
          2013,
          2014,
          2015,
          2016,
          2017,
          2018,
          2019,
          2020,
          2021
         ],
         "xaxis": "x",
         "y": [
          1283,
          1774,
          1832,
          2307,
          2185,
          1475,
          1687,
          1749,
          1351,
          1900,
          2221,
          3059,
          3536,
          3362,
          3155,
          3690,
          2226,
          3184,
          2983
         ],
         "yaxis": "y"
        },
        {
         "hovertemplate": "TEAM=Wizards<br>SEASON=%{x}<br>FG3A=%{y}<extra></extra>",
         "legendgroup": "Wizards",
         "line": {
          "color": "#FF97FF",
          "dash": "solid"
         },
         "marker": {
          "symbol": "circle"
         },
         "mode": "lines+markers",
         "name": "Wizards",
         "orientation": "v",
         "showlegend": true,
         "type": "scatter",
         "x": [
          2003,
          2004,
          2005,
          2006,
          2007,
          2008,
          2009,
          2010,
          2011,
          2012,
          2013,
          2014,
          2015,
          2016,
          2017,
          2018,
          2019,
          2020,
          2021
         ],
         "xaxis": "x",
         "y": [
          1269,
          1686,
          1509,
          1696,
          1732,
          1198,
          1225,
          1182,
          1075,
          1495,
          1889,
          1714,
          2129,
          2539,
          2419,
          2876,
          2615,
          2426,
          2192
         ],
         "yaxis": "y"
        },
        {
         "hovertemplate": "TEAM=Hornets<br>SEASON=%{x}<br>FG3A=%{y}<extra></extra>",
         "legendgroup": "Hornets",
         "line": {
          "color": "#FECB52",
          "dash": "solid"
         },
         "marker": {
          "symbol": "circle"
         },
         "mode": "lines+markers",
         "name": "Hornets",
         "orientation": "v",
         "showlegend": true,
         "type": "scatter",
         "x": [
          2004,
          2005,
          2006,
          2007,
          2008,
          2009,
          2010,
          2011,
          2012,
          2013,
          2014,
          2015,
          2016,
          2017,
          2018,
          2019,
          2020,
          2021
         ],
         "xaxis": "x",
         "y": [
          880,
          1261,
          1280,
          1443,
          1339,
          1399,
          1203,
          892,
          1399,
          1556,
          1736,
          2745,
          2526,
          2379,
          2949,
          2397,
          2976,
          2747
         ],
         "yaxis": "y"
        }
       ],
       "layout": {
        "legend": {
         "title": {
          "text": "TEAM"
         },
         "tracegroupgap": 0
        },
        "template": {
         "data": {
          "bar": [
           {
            "error_x": {
             "color": "#2a3f5f"
            },
            "error_y": {
             "color": "#2a3f5f"
            },
            "marker": {
             "line": {
              "color": "#E5ECF6",
              "width": 0.5
             },
             "pattern": {
              "fillmode": "overlay",
              "size": 10,
              "solidity": 0.2
             }
            },
            "type": "bar"
           }
          ],
          "barpolar": [
           {
            "marker": {
             "line": {
              "color": "#E5ECF6",
              "width": 0.5
             },
             "pattern": {
              "fillmode": "overlay",
              "size": 10,
              "solidity": 0.2
             }
            },
            "type": "barpolar"
           }
          ],
          "carpet": [
           {
            "aaxis": {
             "endlinecolor": "#2a3f5f",
             "gridcolor": "white",
             "linecolor": "white",
             "minorgridcolor": "white",
             "startlinecolor": "#2a3f5f"
            },
            "baxis": {
             "endlinecolor": "#2a3f5f",
             "gridcolor": "white",
             "linecolor": "white",
             "minorgridcolor": "white",
             "startlinecolor": "#2a3f5f"
            },
            "type": "carpet"
           }
          ],
          "choropleth": [
           {
            "colorbar": {
             "outlinewidth": 0,
             "ticks": ""
            },
            "type": "choropleth"
           }
          ],
          "contour": [
           {
            "colorbar": {
             "outlinewidth": 0,
             "ticks": ""
            },
            "colorscale": [
             [
              0,
              "#0d0887"
             ],
             [
              0.1111111111111111,
              "#46039f"
             ],
             [
              0.2222222222222222,
              "#7201a8"
             ],
             [
              0.3333333333333333,
              "#9c179e"
             ],
             [
              0.4444444444444444,
              "#bd3786"
             ],
             [
              0.5555555555555556,
              "#d8576b"
             ],
             [
              0.6666666666666666,
              "#ed7953"
             ],
             [
              0.7777777777777778,
              "#fb9f3a"
             ],
             [
              0.8888888888888888,
              "#fdca26"
             ],
             [
              1,
              "#f0f921"
             ]
            ],
            "type": "contour"
           }
          ],
          "contourcarpet": [
           {
            "colorbar": {
             "outlinewidth": 0,
             "ticks": ""
            },
            "type": "contourcarpet"
           }
          ],
          "heatmap": [
           {
            "colorbar": {
             "outlinewidth": 0,
             "ticks": ""
            },
            "colorscale": [
             [
              0,
              "#0d0887"
             ],
             [
              0.1111111111111111,
              "#46039f"
             ],
             [
              0.2222222222222222,
              "#7201a8"
             ],
             [
              0.3333333333333333,
              "#9c179e"
             ],
             [
              0.4444444444444444,
              "#bd3786"
             ],
             [
              0.5555555555555556,
              "#d8576b"
             ],
             [
              0.6666666666666666,
              "#ed7953"
             ],
             [
              0.7777777777777778,
              "#fb9f3a"
             ],
             [
              0.8888888888888888,
              "#fdca26"
             ],
             [
              1,
              "#f0f921"
             ]
            ],
            "type": "heatmap"
           }
          ],
          "heatmapgl": [
           {
            "colorbar": {
             "outlinewidth": 0,
             "ticks": ""
            },
            "colorscale": [
             [
              0,
              "#0d0887"
             ],
             [
              0.1111111111111111,
              "#46039f"
             ],
             [
              0.2222222222222222,
              "#7201a8"
             ],
             [
              0.3333333333333333,
              "#9c179e"
             ],
             [
              0.4444444444444444,
              "#bd3786"
             ],
             [
              0.5555555555555556,
              "#d8576b"
             ],
             [
              0.6666666666666666,
              "#ed7953"
             ],
             [
              0.7777777777777778,
              "#fb9f3a"
             ],
             [
              0.8888888888888888,
              "#fdca26"
             ],
             [
              1,
              "#f0f921"
             ]
            ],
            "type": "heatmapgl"
           }
          ],
          "histogram": [
           {
            "marker": {
             "pattern": {
              "fillmode": "overlay",
              "size": 10,
              "solidity": 0.2
             }
            },
            "type": "histogram"
           }
          ],
          "histogram2d": [
           {
            "colorbar": {
             "outlinewidth": 0,
             "ticks": ""
            },
            "colorscale": [
             [
              0,
              "#0d0887"
             ],
             [
              0.1111111111111111,
              "#46039f"
             ],
             [
              0.2222222222222222,
              "#7201a8"
             ],
             [
              0.3333333333333333,
              "#9c179e"
             ],
             [
              0.4444444444444444,
              "#bd3786"
             ],
             [
              0.5555555555555556,
              "#d8576b"
             ],
             [
              0.6666666666666666,
              "#ed7953"
             ],
             [
              0.7777777777777778,
              "#fb9f3a"
             ],
             [
              0.8888888888888888,
              "#fdca26"
             ],
             [
              1,
              "#f0f921"
             ]
            ],
            "type": "histogram2d"
           }
          ],
          "histogram2dcontour": [
           {
            "colorbar": {
             "outlinewidth": 0,
             "ticks": ""
            },
            "colorscale": [
             [
              0,
              "#0d0887"
             ],
             [
              0.1111111111111111,
              "#46039f"
             ],
             [
              0.2222222222222222,
              "#7201a8"
             ],
             [
              0.3333333333333333,
              "#9c179e"
             ],
             [
              0.4444444444444444,
              "#bd3786"
             ],
             [
              0.5555555555555556,
              "#d8576b"
             ],
             [
              0.6666666666666666,
              "#ed7953"
             ],
             [
              0.7777777777777778,
              "#fb9f3a"
             ],
             [
              0.8888888888888888,
              "#fdca26"
             ],
             [
              1,
              "#f0f921"
             ]
            ],
            "type": "histogram2dcontour"
           }
          ],
          "mesh3d": [
           {
            "colorbar": {
             "outlinewidth": 0,
             "ticks": ""
            },
            "type": "mesh3d"
           }
          ],
          "parcoords": [
           {
            "line": {
             "colorbar": {
              "outlinewidth": 0,
              "ticks": ""
             }
            },
            "type": "parcoords"
           }
          ],
          "pie": [
           {
            "automargin": true,
            "type": "pie"
           }
          ],
          "scatter": [
           {
            "fillpattern": {
             "fillmode": "overlay",
             "size": 10,
             "solidity": 0.2
            },
            "type": "scatter"
           }
          ],
          "scatter3d": [
           {
            "line": {
             "colorbar": {
              "outlinewidth": 0,
              "ticks": ""
             }
            },
            "marker": {
             "colorbar": {
              "outlinewidth": 0,
              "ticks": ""
             }
            },
            "type": "scatter3d"
           }
          ],
          "scattercarpet": [
           {
            "marker": {
             "colorbar": {
              "outlinewidth": 0,
              "ticks": ""
             }
            },
            "type": "scattercarpet"
           }
          ],
          "scattergeo": [
           {
            "marker": {
             "colorbar": {
              "outlinewidth": 0,
              "ticks": ""
             }
            },
            "type": "scattergeo"
           }
          ],
          "scattergl": [
           {
            "marker": {
             "colorbar": {
              "outlinewidth": 0,
              "ticks": ""
             }
            },
            "type": "scattergl"
           }
          ],
          "scattermapbox": [
           {
            "marker": {
             "colorbar": {
              "outlinewidth": 0,
              "ticks": ""
             }
            },
            "type": "scattermapbox"
           }
          ],
          "scatterpolar": [
           {
            "marker": {
             "colorbar": {
              "outlinewidth": 0,
              "ticks": ""
             }
            },
            "type": "scatterpolar"
           }
          ],
          "scatterpolargl": [
           {
            "marker": {
             "colorbar": {
              "outlinewidth": 0,
              "ticks": ""
             }
            },
            "type": "scatterpolargl"
           }
          ],
          "scatterternary": [
           {
            "marker": {
             "colorbar": {
              "outlinewidth": 0,
              "ticks": ""
             }
            },
            "type": "scatterternary"
           }
          ],
          "surface": [
           {
            "colorbar": {
             "outlinewidth": 0,
             "ticks": ""
            },
            "colorscale": [
             [
              0,
              "#0d0887"
             ],
             [
              0.1111111111111111,
              "#46039f"
             ],
             [
              0.2222222222222222,
              "#7201a8"
             ],
             [
              0.3333333333333333,
              "#9c179e"
             ],
             [
              0.4444444444444444,
              "#bd3786"
             ],
             [
              0.5555555555555556,
              "#d8576b"
             ],
             [
              0.6666666666666666,
              "#ed7953"
             ],
             [
              0.7777777777777778,
              "#fb9f3a"
             ],
             [
              0.8888888888888888,
              "#fdca26"
             ],
             [
              1,
              "#f0f921"
             ]
            ],
            "type": "surface"
           }
          ],
          "table": [
           {
            "cells": {
             "fill": {
              "color": "#EBF0F8"
             },
             "line": {
              "color": "white"
             }
            },
            "header": {
             "fill": {
              "color": "#C8D4E3"
             },
             "line": {
              "color": "white"
             }
            },
            "type": "table"
           }
          ]
         },
         "layout": {
          "annotationdefaults": {
           "arrowcolor": "#2a3f5f",
           "arrowhead": 0,
           "arrowwidth": 1
          },
          "autotypenumbers": "strict",
          "coloraxis": {
           "colorbar": {
            "outlinewidth": 0,
            "ticks": ""
           }
          },
          "colorscale": {
           "diverging": [
            [
             0,
             "#8e0152"
            ],
            [
             0.1,
             "#c51b7d"
            ],
            [
             0.2,
             "#de77ae"
            ],
            [
             0.3,
             "#f1b6da"
            ],
            [
             0.4,
             "#fde0ef"
            ],
            [
             0.5,
             "#f7f7f7"
            ],
            [
             0.6,
             "#e6f5d0"
            ],
            [
             0.7,
             "#b8e186"
            ],
            [
             0.8,
             "#7fbc41"
            ],
            [
             0.9,
             "#4d9221"
            ],
            [
             1,
             "#276419"
            ]
           ],
           "sequential": [
            [
             0,
             "#0d0887"
            ],
            [
             0.1111111111111111,
             "#46039f"
            ],
            [
             0.2222222222222222,
             "#7201a8"
            ],
            [
             0.3333333333333333,
             "#9c179e"
            ],
            [
             0.4444444444444444,
             "#bd3786"
            ],
            [
             0.5555555555555556,
             "#d8576b"
            ],
            [
             0.6666666666666666,
             "#ed7953"
            ],
            [
             0.7777777777777778,
             "#fb9f3a"
            ],
            [
             0.8888888888888888,
             "#fdca26"
            ],
            [
             1,
             "#f0f921"
            ]
           ],
           "sequentialminus": [
            [
             0,
             "#0d0887"
            ],
            [
             0.1111111111111111,
             "#46039f"
            ],
            [
             0.2222222222222222,
             "#7201a8"
            ],
            [
             0.3333333333333333,
             "#9c179e"
            ],
            [
             0.4444444444444444,
             "#bd3786"
            ],
            [
             0.5555555555555556,
             "#d8576b"
            ],
            [
             0.6666666666666666,
             "#ed7953"
            ],
            [
             0.7777777777777778,
             "#fb9f3a"
            ],
            [
             0.8888888888888888,
             "#fdca26"
            ],
            [
             1,
             "#f0f921"
            ]
           ]
          },
          "colorway": [
           "#636efa",
           "#EF553B",
           "#00cc96",
           "#ab63fa",
           "#FFA15A",
           "#19d3f3",
           "#FF6692",
           "#B6E880",
           "#FF97FF",
           "#FECB52"
          ],
          "font": {
           "color": "#2a3f5f"
          },
          "geo": {
           "bgcolor": "white",
           "lakecolor": "white",
           "landcolor": "#E5ECF6",
           "showlakes": true,
           "showland": true,
           "subunitcolor": "white"
          },
          "hoverlabel": {
           "align": "left"
          },
          "hovermode": "closest",
          "mapbox": {
           "style": "light"
          },
          "paper_bgcolor": "white",
          "plot_bgcolor": "#E5ECF6",
          "polar": {
           "angularaxis": {
            "gridcolor": "white",
            "linecolor": "white",
            "ticks": ""
           },
           "bgcolor": "#E5ECF6",
           "radialaxis": {
            "gridcolor": "white",
            "linecolor": "white",
            "ticks": ""
           }
          },
          "scene": {
           "xaxis": {
            "backgroundcolor": "#E5ECF6",
            "gridcolor": "white",
            "gridwidth": 2,
            "linecolor": "white",
            "showbackground": true,
            "ticks": "",
            "zerolinecolor": "white"
           },
           "yaxis": {
            "backgroundcolor": "#E5ECF6",
            "gridcolor": "white",
            "gridwidth": 2,
            "linecolor": "white",
            "showbackground": true,
            "ticks": "",
            "zerolinecolor": "white"
           },
           "zaxis": {
            "backgroundcolor": "#E5ECF6",
            "gridcolor": "white",
            "gridwidth": 2,
            "linecolor": "white",
            "showbackground": true,
            "ticks": "",
            "zerolinecolor": "white"
           }
          },
          "shapedefaults": {
           "line": {
            "color": "#2a3f5f"
           }
          },
          "ternary": {
           "aaxis": {
            "gridcolor": "white",
            "linecolor": "white",
            "ticks": ""
           },
           "baxis": {
            "gridcolor": "white",
            "linecolor": "white",
            "ticks": ""
           },
           "bgcolor": "#E5ECF6",
           "caxis": {
            "gridcolor": "white",
            "linecolor": "white",
            "ticks": ""
           }
          },
          "title": {
           "x": 0.05
          },
          "xaxis": {
           "automargin": true,
           "gridcolor": "white",
           "linecolor": "white",
           "ticks": "",
           "title": {
            "standoff": 15
           },
           "zerolinecolor": "white",
           "zerolinewidth": 2
          },
          "yaxis": {
           "automargin": true,
           "gridcolor": "white",
           "linecolor": "white",
           "ticks": "",
           "title": {
            "standoff": 15
           },
           "zerolinecolor": "white",
           "zerolinewidth": 2
          }
         }
        },
        "title": {
         "text": "Total FG3A per Season"
        },
        "xaxis": {
         "anchor": "y",
         "domain": [
          0,
          1
         ],
         "title": {
          "text": "SEASON"
         }
        },
        "yaxis": {
         "anchor": "x",
         "domain": [
          0,
          1
         ],
         "title": {
          "text": "FG3A"
         }
        }
       }
      }
     },
     "metadata": {},
     "output_type": "display_data"
    }
   ],
   "source": [
    "fig2 = px.line(plot_sum_data, x='SEASON', y='FG3A', markers=True, color='TEAM', title = 'Total FG3A per Season')\n",
    "fig2.show()"
   ]
  },
  {
   "cell_type": "code",
   "execution_count": 67,
   "metadata": {},
   "outputs": [
    {
     "data": {
      "application/vnd.plotly.v1+json": {
       "config": {
        "plotlyServerURL": "https://plot.ly"
       },
       "data": [
        {
         "hovertemplate": "TEAM=76ers<br>SEASON=%{x}<br>FG3M=%{y}<extra></extra>",
         "legendgroup": "76ers",
         "line": {
          "color": "#636efa",
          "dash": "solid"
         },
         "marker": {
          "symbol": "circle"
         },
         "mode": "lines+markers",
         "name": "76ers",
         "orientation": "v",
         "showlegend": true,
         "type": "scatter",
         "x": [
          2003,
          2004,
          2005,
          2006,
          2007,
          2008,
          2009,
          2010,
          2011,
          2012,
          2013,
          2014,
          2015,
          2016,
          2017,
          2018,
          2019,
          2020,
          2021
         ],
         "xaxis": "x",
         "y": [
          4.121951219512195,
          6.183908045977011,
          4.573170731707317,
          3.4634146341463414,
          3.5568181818181817,
          4.2727272727272725,
          5.780487804878049,
          5.459770114942529,
          5.075949367088608,
          6.317073170731708,
          7.036585365853658,
          8.2,
          9.269662921348315,
          9.887640449438202,
          10.917525773195877,
          10.731958762886597,
          11.321428571428571,
          11.44186046511628,
          11.246376811594203
         ],
         "yaxis": "y"
        },
        {
         "hovertemplate": "TEAM=Bucks<br>SEASON=%{x}<br>FG3M=%{y}<extra></extra>",
         "legendgroup": "Bucks",
         "line": {
          "color": "#EF553B",
          "dash": "solid"
         },
         "marker": {
          "symbol": "circle"
         },
         "mode": "lines+markers",
         "name": "Bucks",
         "orientation": "v",
         "showlegend": true,
         "type": "scatter",
         "x": [
          2003,
          2004,
          2005,
          2006,
          2007,
          2008,
          2009,
          2010,
          2011,
          2012,
          2013,
          2014,
          2015,
          2016,
          2017,
          2018,
          2019,
          2020,
          2021
         ],
         "xaxis": "x",
         "y": [
          4.885057471264368,
          3.9390243902439024,
          6.126436781609195,
          6.390243902439025,
          5.512195121951219,
          6.2317073170731705,
          7.764044943820225,
          5.890243902439025,
          6.606060606060606,
          7.267441860465116,
          6.682926829268292,
          6.621052631578947,
          5.454545454545454,
          8.638297872340425,
          8.913978494623656,
          13.495049504950495,
          13.780219780219781,
          14.16326530612245,
          14.273972602739725
         ],
         "yaxis": "y"
        },
        {
         "hovertemplate": "TEAM=Bulls<br>SEASON=%{x}<br>FG3M=%{y}<extra></extra>",
         "legendgroup": "Bulls",
         "line": {
          "color": "#00cc96",
          "dash": "solid"
         },
         "marker": {
          "symbol": "circle"
         },
         "mode": "lines+markers",
         "name": "Bulls",
         "orientation": "v",
         "showlegend": true,
         "type": "scatter",
         "x": [
          2003,
          2004,
          2005,
          2006,
          2007,
          2008,
          2009,
          2010,
          2011,
          2012,
          2013,
          2014,
          2015,
          2016,
          2017,
          2018,
          2019,
          2020,
          2021
         ],
         "xaxis": "x",
         "y": [
          5.2317073170731705,
          6.420454545454546,
          6.8977272727272725,
          5.858695652173913,
          5.780487804878049,
          6.112359550561798,
          4.2298850574712645,
          6.244897959183674,
          6.180555555555555,
          5.4361702127659575,
          6.206896551724138,
          8.029411764705882,
          8.144444444444444,
          7.568421052631579,
          11.204545454545455,
          9.057471264367816,
          12.242857142857142,
          13.131578947368421,
          10.929577464788732
         ],
         "yaxis": "y"
        },
        {
         "hovertemplate": "TEAM=Cavaliers<br>SEASON=%{x}<br>FG3M=%{y}<extra></extra>",
         "legendgroup": "Cavaliers",
         "line": {
          "color": "#ab63fa",
          "dash": "solid"
         },
         "marker": {
          "symbol": "circle"
         },
         "mode": "lines+markers",
         "name": "Cavaliers",
         "orientation": "v",
         "showlegend": true,
         "type": "scatter",
         "x": [
          2003,
          2004,
          2005,
          2006,
          2007,
          2008,
          2009,
          2010,
          2011,
          2012,
          2013,
          2014,
          2015,
          2016,
          2017,
          2018,
          2019,
          2020,
          2021
         ],
         "xaxis": "x",
         "y": [
          3.0121951219512195,
          3.658536585365854,
          5.810526315789474,
          5.901960784313726,
          6.726315789473684,
          7.802083333333333,
          7.32258064516129,
          6.2073170731707314,
          6.666666666666667,
          6.670731707317073,
          7.121951219512195,
          10.046296296296296,
          10.981818181818182,
          13.018867924528301,
          11.504587155963304,
          10.232558139534884,
          11.132352941176471,
          10.328947368421053,
          11.402777777777779
         ],
         "yaxis": "y"
        },
        {
         "hovertemplate": "TEAM=Celtics<br>SEASON=%{x}<br>FG3M=%{y}<extra></extra>",
         "legendgroup": "Celtics",
         "line": {
          "color": "#FFA15A",
          "dash": "solid"
         },
         "marker": {
          "symbol": "circle"
         },
         "mode": "lines+markers",
         "name": "Celtics",
         "orientation": "v",
         "showlegend": true,
         "type": "scatter",
         "x": [
          2003,
          2004,
          2005,
          2006,
          2007,
          2008,
          2009,
          2010,
          2011,
          2012,
          2013,
          2014,
          2015,
          2016,
          2017,
          2018,
          2019,
          2020,
          2021
         ],
         "xaxis": "x",
         "y": [
          6.674418604651163,
          5.292134831460674,
          5.695121951219512,
          5.7439024390243905,
          6.972222222222222,
          6.583333333333333,
          6.018867924528302,
          5.21978021978022,
          5.3023255813953485,
          6.195402298850575,
          7.012195121951219,
          8.127659574468085,
          8.741935483870968,
          12.009345794392523,
          11.314285714285715,
          12.294736842105262,
          12.458333333333334,
          14.1375,
          12.680555555555555
         ],
         "yaxis": "y"
        },
        {
         "hovertemplate": "TEAM=Clippers<br>SEASON=%{x}<br>FG3M=%{y}<extra></extra>",
         "legendgroup": "Clippers",
         "line": {
          "color": "#19d3f3",
          "dash": "solid"
         },
         "marker": {
          "symbol": "circle"
         },
         "mode": "lines+markers",
         "name": "Clippers",
         "orientation": "v",
         "showlegend": true,
         "type": "scatter",
         "x": [
          2003,
          2004,
          2005,
          2006,
          2007,
          2008,
          2009,
          2010,
          2011,
          2012,
          2013,
          2014,
          2015,
          2016,
          2017,
          2018,
          2019,
          2020,
          2021
         ],
         "xaxis": "x",
         "y": [
          4.012195121951219,
          2.817073170731707,
          3.6595744680851063,
          3.8292682926829267,
          4.2682926829268295,
          6.524390243902439,
          5.890243902439025,
          6.2560975609756095,
          7.558441558441558,
          7.5227272727272725,
          8.547368421052632,
          9.798076923076923,
          9.372340425531915,
          9.947368421052632,
          9.459770114942529,
          10.054945054945055,
          12.32967032967033,
          14.351063829787234,
          12.315068493150685
         ],
         "yaxis": "y"
        },
        {
         "hovertemplate": "TEAM=Grizzlies<br>SEASON=%{x}<br>FG3M=%{y}<extra></extra>",
         "legendgroup": "Grizzlies",
         "line": {
          "color": "#FF6692",
          "dash": "solid"
         },
         "marker": {
          "symbol": "circle"
         },
         "mode": "lines+markers",
         "name": "Grizzlies",
         "orientation": "v",
         "showlegend": true,
         "type": "scatter",
         "x": [
          2003,
          2004,
          2005,
          2006,
          2007,
          2008,
          2009,
          2010,
          2011,
          2012,
          2013,
          2014,
          2015,
          2016,
          2017,
          2018,
          2019,
          2020,
          2021
         ],
         "xaxis": "x",
         "y": [
          5.372093023255814,
          6.534883720930233,
          7.034883720930233,
          6.097560975609756,
          7.560975609756097,
          4.853658536585366,
          4.195121951219512,
          3.778947368421053,
          4.123287671232877,
          4.680412371134021,
          4.898876404494382,
          5.1,
          6.054347826086956,
          9.382978723404255,
          9.10344827586207,
          9.827586206896552,
          10.9625,
          11.939759036144578,
          11.175675675675675
         ],
         "yaxis": "y"
        },
        {
         "hovertemplate": "TEAM=Hawks<br>SEASON=%{x}<br>FG3M=%{y}<extra></extra>",
         "legendgroup": "Hawks",
         "line": {
          "color": "#B6E880",
          "dash": "solid"
         },
         "marker": {
          "symbol": "circle"
         },
         "mode": "lines+markers",
         "name": "Hawks",
         "orientation": "v",
         "showlegend": true,
         "type": "scatter",
         "x": [
          2003,
          2004,
          2005,
          2006,
          2007,
          2008,
          2009,
          2010,
          2011,
          2012,
          2013,
          2014,
          2015,
          2016,
          2017,
          2018,
          2019,
          2020,
          2021
         ],
         "xaxis": "x",
         "y": [
          5.109756097560975,
          3.707317073170732,
          5.170731707317073,
          4.158536585365853,
          4.629213483146067,
          7.139784946236559,
          6.172043010752688,
          5.914893617021277,
          7.319444444444445,
          8.443181818181818,
          9.51685393258427,
          9.8,
          9.8989898989899,
          8.726315789473684,
          11.126436781609195,
          12.988505747126437,
          11.944444444444445,
          13.23404255319149,
          12.5
         ],
         "yaxis": "y"
        },
        {
         "hovertemplate": "TEAM=Heat<br>SEASON=%{x}<br>FG3M=%{y}<extra></extra>",
         "legendgroup": "Heat",
         "line": {
          "color": "#FF97FF",
          "dash": "solid"
         },
         "marker": {
          "symbol": "circle"
         },
         "mode": "lines+markers",
         "name": "Heat",
         "orientation": "v",
         "showlegend": true,
         "type": "scatter",
         "x": [
          2003,
          2004,
          2005,
          2006,
          2007,
          2008,
          2009,
          2010,
          2011,
          2012,
          2013,
          2014,
          2015,
          2016,
          2017,
          2018,
          2019,
          2020,
          2021
         ],
         "xaxis": "x",
         "y": [
          5.610526315789474,
          5.824742268041237,
          6.123809523809523,
          6.395348837209302,
          5.987804878048781,
          7.101123595505618,
          6.068965517241379,
          6.514563106796117,
          5.921348314606742,
          8.514285714285714,
          8.343137254901961,
          6.9222222222222225,
          6.221153846153846,
          9.88888888888889,
          10.86021505376344,
          11.295454545454545,
          13.254901960784315,
          13.243589743589743,
          13.346666666666666
         ],
         "yaxis": "y"
        },
        {
         "hovertemplate": "TEAM=Jazz<br>SEASON=%{x}<br>FG3M=%{y}<extra></extra>",
         "legendgroup": "Jazz",
         "line": {
          "color": "#FECB52",
          "dash": "solid"
         },
         "marker": {
          "symbol": "circle"
         },
         "mode": "lines+markers",
         "name": "Jazz",
         "orientation": "v",
         "showlegend": true,
         "type": "scatter",
         "x": [
          2003,
          2004,
          2005,
          2006,
          2007,
          2008,
          2009,
          2010,
          2011,
          2012,
          2013,
          2014,
          2015,
          2016,
          2017,
          2018,
          2019,
          2020,
          2021
         ],
         "xaxis": "x",
         "y": [
          3.073170731707317,
          3.048780487804878,
          3.792682926829268,
          4.313131313131313,
          5.074468085106383,
          4.793103448275862,
          5.478260869565218,
          5.304878048780488,
          4.0285714285714285,
          6.182926829268292,
          6.621951219512195,
          7.466666666666667,
          8.303370786516854,
          9.438775510204081,
          10.760416666666666,
          12.055555555555555,
          13.465116279069768,
          17.36046511627907,
          14.71830985915493
         ],
         "yaxis": "y"
        },
        {
         "hovertemplate": "TEAM=Kings<br>SEASON=%{x}<br>FG3M=%{y}<extra></extra>",
         "legendgroup": "Kings",
         "line": {
          "color": "#636efa",
          "dash": "solid"
         },
         "marker": {
          "symbol": "circle"
         },
         "mode": "lines+markers",
         "name": "Kings",
         "orientation": "v",
         "showlegend": true,
         "type": "scatter",
         "x": [
          2003,
          2004,
          2005,
          2006,
          2007,
          2008,
          2009,
          2010,
          2011,
          2012,
          2013,
          2014,
          2015,
          2016,
          2017,
          2018,
          2019,
          2020,
          2021
         ],
         "xaxis": "x",
         "y": [
          7.138297872340425,
          6.333333333333333,
          5.965909090909091,
          6.463414634146342,
          6.219512195121951,
          7.146341463414634,
          5.878048780487805,
          5.219512195121951,
          6.2272727272727275,
          7.439024390243903,
          5.987804878048781,
          5.625,
          8.011363636363637,
          8.977011494252874,
          8.943181818181818,
          11.206896551724139,
          12.734177215189874,
          12.842105263157896,
          11.684931506849315
         ],
         "yaxis": "y"
        },
        {
         "hovertemplate": "TEAM=Knicks<br>SEASON=%{x}<br>FG3M=%{y}<extra></extra>",
         "legendgroup": "Knicks",
         "line": {
          "color": "#EF553B",
          "dash": "solid"
         },
         "marker": {
          "symbol": "circle"
         },
         "mode": "lines+markers",
         "name": "Knicks",
         "orientation": "v",
         "showlegend": true,
         "type": "scatter",
         "x": [
          2003,
          2004,
          2005,
          2006,
          2007,
          2008,
          2009,
          2010,
          2011,
          2012,
          2013,
          2014,
          2015,
          2016,
          2017,
          2018,
          2019,
          2020,
          2021
         ],
         "xaxis": "x",
         "y": [
          4.9186046511627906,
          5.378048780487805,
          3.902439024390244,
          5.780487804878049,
          5.975609756097561,
          10.036585365853659,
          9.060975609756097,
          9.279069767441861,
          7.633802816901408,
          10.5,
          9.25609756097561,
          6.831460674157303,
          7.459770114942529,
          8.670454545454545,
          8.241379310344827,
          9.942528735632184,
          9.657142857142857,
          11.901234567901234,
          13.084507042253522
         ],
         "yaxis": "y"
        },
        {
         "hovertemplate": "TEAM=Lakers<br>SEASON=%{x}<br>FG3M=%{y}<extra></extra>",
         "legendgroup": "Lakers",
         "line": {
          "color": "#00cc96",
          "dash": "solid"
         },
         "marker": {
          "symbol": "circle"
         },
         "mode": "lines+markers",
         "name": "Lakers",
         "orientation": "v",
         "showlegend": true,
         "type": "scatter",
         "x": [
          2003,
          2004,
          2005,
          2006,
          2007,
          2008,
          2009,
          2010,
          2011,
          2012,
          2013,
          2014,
          2015,
          2016,
          2017,
          2018,
          2019,
          2020,
          2021
         ],
         "xaxis": "x",
         "y": [
          4.5576923076923075,
          7.829268292682927,
          6.764044943820225,
          7.35632183908046,
          7.844660194174757,
          6.733333333333333,
          6.561904761904762,
          6.217391304347826,
          5.448717948717949,
          8.546511627906977,
          9.439024390243903,
          6.188888888888889,
          7.730337078651686,
          9.044444444444444,
          9.795454545454545,
          10.113636363636363,
          11.148514851485148,
          11.180722891566266,
          12.01388888888889
         ],
         "yaxis": "y"
        },
        {
         "hovertemplate": "TEAM=Magic<br>SEASON=%{x}<br>FG3M=%{y}<extra></extra>",
         "legendgroup": "Magic",
         "line": {
          "color": "#ab63fa",
          "dash": "solid"
         },
         "marker": {
          "symbol": "circle"
         },
         "mode": "lines+markers",
         "name": "Magic",
         "orientation": "v",
         "showlegend": true,
         "type": "scatter",
         "x": [
          2003,
          2004,
          2005,
          2006,
          2007,
          2008,
          2009,
          2010,
          2011,
          2012,
          2013,
          2014,
          2015,
          2016,
          2017,
          2018,
          2019,
          2020,
          2021
         ],
         "xaxis": "x",
         "y": [
          5.2317073170731705,
          3.902439024390244,
          3.6463414634146343,
          4.093023255813954,
          9.684782608695652,
          9.60377358490566,
          10.197916666666666,
          9.170454545454545,
          10.028169014084508,
          6.170731707317073,
          6.865853658536586,
          6.617977528089888,
          7.887640449438202,
          8.573033707865168,
          10.215909090909092,
          11.219780219780219,
          11.172413793103448,
          11.039473684210526,
          11.930555555555555
         ],
         "yaxis": "y"
        },
        {
         "hovertemplate": "TEAM=Mavericks<br>SEASON=%{x}<br>FG3M=%{y}<extra></extra>",
         "legendgroup": "Mavericks",
         "line": {
          "color": "#FFA15A",
          "dash": "solid"
         },
         "marker": {
          "symbol": "circle"
         },
         "mode": "lines+markers",
         "name": "Mavericks",
         "orientation": "v",
         "showlegend": true,
         "type": "scatter",
         "x": [
          2003,
          2004,
          2005,
          2006,
          2007,
          2008,
          2009,
          2010,
          2011,
          2012,
          2013,
          2014,
          2015,
          2016,
          2017,
          2018,
          2019,
          2020,
          2021
         ],
         "xaxis": "x",
         "y": [
          6.114942528735632,
          5.778947368421052,
          5.0095238095238095,
          6.534090909090909,
          6.091954022988506,
          7,
          6.7727272727272725,
          8.048543689320388,
          7.557142857142857,
          7.390243902439025,
          8.764044943820224,
          8.936842105263159,
          9.372340425531915,
          10.539325842696629,
          11.954545454545455,
          12.494117647058824,
          14.92134831460674,
          14.097560975609756,
          12.71830985915493
         ],
         "yaxis": "y"
        },
        {
         "hovertemplate": "TEAM=Nets<br>SEASON=%{x}<br>FG3M=%{y}<extra></extra>",
         "legendgroup": "Nets",
         "line": {
          "color": "#19d3f3",
          "dash": "solid"
         },
         "marker": {
          "symbol": "circle"
         },
         "mode": "lines+markers",
         "name": "Nets",
         "orientation": "v",
         "showlegend": true,
         "type": "scatter",
         "x": [
          2003,
          2004,
          2005,
          2006,
          2007,
          2008,
          2009,
          2010,
          2011,
          2012,
          2013,
          2014,
          2015,
          2016,
          2017,
          2018,
          2019,
          2020,
          2021
         ],
         "xaxis": "x",
         "y": [
          4.580645161290323,
          5.325581395348837,
          5.763440860215054,
          7.457446808510638,
          6.073170731707317,
          7.951219512195122,
          4.597560975609756,
          5.597560975609756,
          7.681818181818182,
          7.53932584269663,
          8.53191489361702,
          6.774193548387097,
          6.551724137931035,
          10.784090909090908,
          12.720930232558139,
          12.54945054945055,
          13.182926829268293,
          15.162790697674419,
          11.507042253521126
         ],
         "yaxis": "y"
        },
        {
         "hovertemplate": "TEAM=Nuggets<br>SEASON=%{x}<br>FG3M=%{y}<extra></extra>",
         "legendgroup": "Nuggets",
         "line": {
          "color": "#FF6692",
          "dash": "solid"
         },
         "marker": {
          "symbol": "circle"
         },
         "mode": "lines+markers",
         "name": "Nuggets",
         "orientation": "v",
         "showlegend": true,
         "type": "scatter",
         "x": [
          2003,
          2004,
          2005,
          2006,
          2007,
          2008,
          2009,
          2010,
          2011,
          2012,
          2013,
          2014,
          2015,
          2016,
          2017,
          2018,
          2019,
          2020,
          2021
         ],
         "xaxis": "x",
         "y": [
          4.057471264367816,
          3.8045977011494254,
          4.195402298850575,
          5.827586206896552,
          6.825581395348837,
          6.908163265306122,
          6.625,
          8,
          6.465753424657534,
          6.3977272727272725,
          8.560975609756097,
          7.833333333333333,
          7.977528089887641,
          10.28888888888889,
          11.505747126436782,
          10.81,
          11.121212121212121,
          13.847058823529412,
          12.931506849315069
         ],
         "yaxis": "y"
        },
        {
         "hovertemplate": "TEAM=Pacers<br>SEASON=%{x}<br>FG3M=%{y}<extra></extra>",
         "legendgroup": "Pacers",
         "line": {
          "color": "#B6E880",
          "dash": "solid"
         },
         "marker": {
          "symbol": "circle"
         },
         "mode": "lines+markers",
         "name": "Pacers",
         "orientation": "v",
         "showlegend": true,
         "type": "scatter",
         "x": [
          2003,
          2004,
          2005,
          2006,
          2007,
          2008,
          2009,
          2010,
          2011,
          2012,
          2013,
          2014,
          2015,
          2016,
          2017,
          2018,
          2019,
          2020,
          2021
         ],
         "xaxis": "x",
         "y": [
          5.551020408163265,
          6.473684210526316,
          6.545454545454546,
          5.865853658536586,
          9.207317073170731,
          7.951219512195122,
          8.036585365853659,
          7.057471264367816,
          5.909090909090909,
          6.74,
          6.821782178217822,
          7.449438202247191,
          8.03125,
          8.75,
          9.065217391304348,
          9.488888888888889,
          10.380952380952381,
          12.844155844155845,
          11.944444444444445
         ],
         "yaxis": "y"
        },
        {
         "hovertemplate": "TEAM=Pelicans<br>SEASON=%{x}<br>FG3M=%{y}<extra></extra>",
         "legendgroup": "Pelicans",
         "line": {
          "color": "#FF97FF",
          "dash": "solid"
         },
         "marker": {
          "symbol": "circle"
         },
         "mode": "lines+markers",
         "name": "Pelicans",
         "orientation": "v",
         "showlegend": true,
         "type": "scatter",
         "x": [
          2003,
          2004,
          2005,
          2006,
          2007,
          2008,
          2009,
          2010,
          2011,
          2012,
          2013,
          2014,
          2015,
          2016,
          2017,
          2018,
          2019,
          2020,
          2021
         ],
         "xaxis": "x",
         "y": [
          6.426966292134831,
          5.060975609756097,
          3.658536585365854,
          5.548780487804878,
          7.4361702127659575,
          6.735632183908046,
          6.963414634146342,
          5.3522727272727275,
          3.9242424242424243,
          6.524390243902439,
          5.926829268292683,
          7.236559139784946,
          8.629213483146067,
          9.306818181818182,
          10.105263157894736,
          10.344827586206897,
          13.75,
          11.108108108108109,
          10.859154929577464
         ],
         "yaxis": "y"
        },
        {
         "hovertemplate": "TEAM=Pistons<br>SEASON=%{x}<br>FG3M=%{y}<extra></extra>",
         "legendgroup": "Pistons",
         "line": {
          "color": "#FECB52",
          "dash": "solid"
         },
         "marker": {
          "symbol": "circle"
         },
         "mode": "lines+markers",
         "name": "Pistons",
         "orientation": "v",
         "showlegend": true,
         "type": "scatter",
         "x": [
          2003,
          2004,
          2005,
          2006,
          2007,
          2008,
          2009,
          2010,
          2011,
          2012,
          2013,
          2014,
          2015,
          2016,
          2017,
          2018,
          2019,
          2020,
          2021
         ],
         "xaxis": "x",
         "y": [
          4.095238095238095,
          4.4485981308411215,
          6.81,
          5.530612244897959,
          5.696969696969697,
          4.523255813953488,
          4.560975609756097,
          5.7560975609756095,
          4.803030303030303,
          6.2560975609756095,
          6.182926829268292,
          8.561797752808989,
          9.074468085106384,
          7.625,
          10.67816091954023,
          12.131868131868131,
          11.873239436619718,
          12.092105263157896,
          10.985915492957746
         ],
         "yaxis": "y"
        },
        {
         "hovertemplate": "TEAM=Raptors<br>SEASON=%{x}<br>FG3M=%{y}<extra></extra>",
         "legendgroup": "Raptors",
         "line": {
          "color": "#636efa",
          "dash": "solid"
         },
         "marker": {
          "symbol": "circle"
         },
         "mode": "lines+markers",
         "name": "Raptors",
         "orientation": "v",
         "showlegend": true,
         "type": "scatter",
         "x": [
          2003,
          2004,
          2005,
          2006,
          2007,
          2008,
          2009,
          2010,
          2011,
          2012,
          2013,
          2014,
          2015,
          2016,
          2017,
          2018,
          2019,
          2020,
          2021
         ],
         "xaxis": "x",
         "y": [
          5.621951219512195,
          7.902439024390244,
          7.414634146341464,
          6.3977272727272725,
          7.057471264367816,
          5.841463414634147,
          6.317073170731708,
          4.2073170731707314,
          5.53030303030303,
          6.963414634146342,
          8.52808988764045,
          8.67741935483871,
          8.192660550458715,
          8.63265306122449,
          11.690721649484535,
          12.254545454545454,
          13.944444444444445,
          15.173333333333334,
          12.194444444444445
         ],
         "yaxis": "y"
        },
        {
         "hovertemplate": "TEAM=Rockets<br>SEASON=%{x}<br>FG3M=%{y}<extra></extra>",
         "legendgroup": "Rockets",
         "line": {
          "color": "#EF553B",
          "dash": "solid"
         },
         "marker": {
          "symbol": "circle"
         },
         "mode": "lines+markers",
         "name": "Rockets",
         "orientation": "v",
         "showlegend": true,
         "type": "scatter",
         "x": [
          2003,
          2004,
          2005,
          2006,
          2007,
          2008,
          2009,
          2010,
          2011,
          2012,
          2013,
          2014,
          2015,
          2016,
          2017,
          2018,
          2019,
          2020,
          2021
         ],
         "xaxis": "x",
         "y": [
          6.183908045977011,
          6.775280898876405,
          5.719512195121951,
          8.48314606741573,
          7.0227272727272725,
          7.442105263157894,
          7.878048780487805,
          8.25609756097561,
          7.242424242424242,
          10.647727272727273,
          9.409090909090908,
          10.97196261682243,
          10.536842105263158,
          14.090909090909092,
          15.135922330097088,
          16.164948453608247,
          16.054347826086957,
          14.381578947368421,
          13.154929577464788
         ],
         "yaxis": "y"
        },
        {
         "hovertemplate": "TEAM=Spurs<br>SEASON=%{x}<br>FG3M=%{y}<extra></extra>",
         "legendgroup": "Spurs",
         "line": {
          "color": "#00cc96",
          "dash": "solid"
         },
         "marker": {
          "symbol": "circle"
         },
         "mode": "lines+markers",
         "name": "Spurs",
         "orientation": "v",
         "showlegend": true,
         "type": "scatter",
         "x": [
          2003,
          2004,
          2005,
          2006,
          2007,
          2008,
          2009,
          2010,
          2011,
          2012,
          2013,
          2014,
          2015,
          2016,
          2017,
          2018,
          2019,
          2020,
          2021
         ],
         "xaxis": "x",
         "y": [
          5.184782608695652,
          6.390476190476191,
          6.336842105263158,
          7.313725490196078,
          7.292929292929293,
          7.517241379310345,
          6.543478260869565,
          8.147727272727273,
          8.55,
          8.03883495145631,
          8.58095238095238,
          8.340425531914894,
          7.071428571428571,
          9.028846153846153,
          8.576086956521738,
          9.553191489361701,
          10.518987341772151,
          10.407894736842104,
          11.095890410958905
         ],
         "yaxis": "y"
        },
        {
         "hovertemplate": "TEAM=Suns<br>SEASON=%{x}<br>FG3M=%{y}<extra></extra>",
         "legendgroup": "Suns",
         "line": {
          "color": "#ab63fa",
          "dash": "solid"
         },
         "marker": {
          "symbol": "circle"
         },
         "mode": "lines+markers",
         "name": "Suns",
         "orientation": "v",
         "showlegend": true,
         "type": "scatter",
         "x": [
          2003,
          2004,
          2005,
          2006,
          2007,
          2008,
          2009,
          2010,
          2011,
          2012,
          2013,
          2014,
          2015,
          2016,
          2017,
          2018,
          2019,
          2020,
          2021
         ],
         "xaxis": "x",
         "y": [
          5.060975609756097,
          9.536082474226804,
          10.009803921568627,
          9.279569892473118,
          8.264367816091953,
          6.7439024390243905,
          8.979591836734693,
          8.548780487804878,
          6.7272727272727275,
          5.853658536585366,
          9.329268292682928,
          8.545454545454545,
          9.045454545454545,
          7.409090909090909,
          9.372093023255815,
          9.604651162790697,
          11.3875,
          13.214285714285714,
          11.535211267605634
         ],
         "yaxis": "y"
        },
        {
         "hovertemplate": "TEAM=Thunder<br>SEASON=%{x}<br>FG3M=%{y}<extra></extra>",
         "legendgroup": "Thunder",
         "line": {
          "color": "#FFA15A",
          "dash": "solid"
         },
         "marker": {
          "symbol": "circle"
         },
         "mode": "lines+markers",
         "name": "Thunder",
         "orientation": "v",
         "showlegend": true,
         "type": "scatter",
         "x": [
          2003,
          2004,
          2005,
          2006,
          2007,
          2008,
          2009,
          2010,
          2011,
          2012,
          2013,
          2014,
          2015,
          2016,
          2017,
          2018,
          2019,
          2020,
          2021
         ],
         "xaxis": "x",
         "y": [
          8.75609756097561,
          7.731182795698925,
          7.378048780487805,
          6.402439024390244,
          3.817073170731707,
          4,
          5.125,
          6,
          7.069767441860465,
          7.451612903225806,
          7.99009900990099,
          7.629213483146067,
          8.314285714285715,
          8.483516483516484,
          10.76923076923077,
          11.241758241758241,
          10.929411764705883,
          12.48,
          11.928571428571429
         ],
         "yaxis": "y"
        },
        {
         "hovertemplate": "TEAM=Timberwolves<br>SEASON=%{x}<br>FG3M=%{y}<extra></extra>",
         "legendgroup": "Timberwolves",
         "line": {
          "color": "#19d3f3",
          "dash": "solid"
         },
         "marker": {
          "symbol": "circle"
         },
         "mode": "lines+markers",
         "name": "Timberwolves",
         "orientation": "v",
         "showlegend": true,
         "type": "scatter",
         "x": [
          2003,
          2004,
          2005,
          2006,
          2007,
          2008,
          2009,
          2010,
          2011,
          2012,
          2013,
          2014,
          2015,
          2016,
          2017,
          2018,
          2019,
          2020,
          2021
         ],
         "xaxis": "x",
         "y": [
          4.31,
          4.817073170731708,
          3.7804878048780486,
          4.682926829268292,
          5.378048780487805,
          6.621951219512195,
          4.914634146341464,
          7.182926829268292,
          7.166666666666667,
          5.487804878048781,
          7.317073170731708,
          5.01123595505618,
          5.696629213483146,
          7.348314606741573,
          8.088888888888889,
          9.96551724137931,
          13.264705882352942,
          13.693333333333333,
          14.534246575342467
         ],
         "yaxis": "y"
        },
        {
         "hovertemplate": "TEAM=Trail Blazers<br>SEASON=%{x}<br>FG3M=%{y}<extra></extra>",
         "legendgroup": "Trail Blazers",
         "line": {
          "color": "#FF6692",
          "dash": "solid"
         },
         "marker": {
          "symbol": "circle"
         },
         "mode": "lines+markers",
         "name": "Trail Blazers",
         "orientation": "v",
         "showlegend": true,
         "type": "scatter",
         "x": [
          2003,
          2004,
          2005,
          2006,
          2007,
          2008,
          2009,
          2010,
          2011,
          2012,
          2013,
          2014,
          2015,
          2016,
          2017,
          2018,
          2019,
          2020,
          2021
         ],
         "xaxis": "x",
         "y": [
          4.646341463414634,
          5.121951219512195,
          4.439024390243903,
          5.195121951219512,
          6.560975609756097,
          7.1477272727272725,
          6.011363636363637,
          6.2272727272727275,
          7.242424242424242,
          8.207317073170731,
          9.21505376344086,
          9.67741935483871,
          10.7,
          10.391304347826088,
          10.373626373626374,
          11.223300970873787,
          12.620689655172415,
          15.75609756097561,
          12.928571428571429
         ],
         "yaxis": "y"
        },
        {
         "hovertemplate": "TEAM=Warriors<br>SEASON=%{x}<br>FG3M=%{y}<extra></extra>",
         "legendgroup": "Warriors",
         "line": {
          "color": "#B6E880",
          "dash": "solid"
         },
         "marker": {
          "symbol": "circle"
         },
         "mode": "lines+markers",
         "name": "Warriors",
         "orientation": "v",
         "showlegend": true,
         "type": "scatter",
         "x": [
          2003,
          2004,
          2005,
          2006,
          2007,
          2008,
          2009,
          2010,
          2011,
          2012,
          2013,
          2014,
          2015,
          2016,
          2017,
          2018,
          2019,
          2020,
          2021
         ],
         "xaxis": "x",
         "y": [
          5.2317073170731705,
          7.609756097560975,
          7.621951219512195,
          8.838709677419354,
          9.28048780487805,
          6.7073170731707314,
          7.719512195121951,
          8.353658536585366,
          7.9393939393939394,
          8.106382978723405,
          9.44943820224719,
          10.82882882882883,
          12.769911504424778,
          12.216981132075471,
          11.289719626168225,
          12.889908256880734,
          10.6,
          15.285714285714286,
          14.780821917808218
         ],
         "yaxis": "y"
        },
        {
         "hovertemplate": "TEAM=Wizards<br>SEASON=%{x}<br>FG3M=%{y}<extra></extra>",
         "legendgroup": "Wizards",
         "line": {
          "color": "#FF97FF",
          "dash": "solid"
         },
         "marker": {
          "symbol": "circle"
         },
         "mode": "lines+markers",
         "name": "Wizards",
         "orientation": "v",
         "showlegend": true,
         "type": "scatter",
         "x": [
          2003,
          2004,
          2005,
          2006,
          2007,
          2008,
          2009,
          2010,
          2011,
          2012,
          2013,
          2014,
          2015,
          2016,
          2017,
          2018,
          2019,
          2020,
          2021
         ],
         "xaxis": "x",
         "y": [
          5.2926829268292686,
          6.195652173913044,
          6.068181818181818,
          6.813953488372093,
          6.943181818181818,
          4.817073170731708,
          5.2682926829268295,
          4.780487804878049,
          5.212121212121212,
          6.646341463414634,
          7.623655913978495,
          6.292929292929293,
          8.590909090909092,
          9,
          9.771739130434783,
          11.279069767441861,
          12.113924050632912,
          10.292682926829269,
          10.6
         ],
         "yaxis": "y"
        },
        {
         "hovertemplate": "TEAM=Hornets<br>SEASON=%{x}<br>FG3M=%{y}<extra></extra>",
         "legendgroup": "Hornets",
         "line": {
          "color": "#FECB52",
          "dash": "solid"
         },
         "marker": {
          "symbol": "circle"
         },
         "mode": "lines+markers",
         "name": "Hornets",
         "orientation": "v",
         "showlegend": true,
         "type": "scatter",
         "x": [
          2004,
          2005,
          2006,
          2007,
          2008,
          2009,
          2010,
          2011,
          2012,
          2013,
          2014,
          2015,
          2016,
          2017,
          2018,
          2019,
          2020,
          2021
         ],
         "xaxis": "x",
         "y": [
          3.902439024390244,
          5.219512195121951,
          5.573170731707317,
          6.451219512195122,
          5.975609756097561,
          5.569767441860465,
          4.7926829268292686,
          3.984848484848485,
          5.719512195121951,
          6.3604651162790695,
          6.122222222222222,
          10.175257731958762,
          9.730337078651685,
          10.022988505747126,
          11.988505747126437,
          11.985714285714286,
          14.220779220779221,
          13.51388888888889
         ],
         "yaxis": "y"
        }
       ],
       "layout": {
        "legend": {
         "title": {
          "text": "TEAM"
         },
         "tracegroupgap": 0
        },
        "template": {
         "data": {
          "bar": [
           {
            "error_x": {
             "color": "#2a3f5f"
            },
            "error_y": {
             "color": "#2a3f5f"
            },
            "marker": {
             "line": {
              "color": "#E5ECF6",
              "width": 0.5
             },
             "pattern": {
              "fillmode": "overlay",
              "size": 10,
              "solidity": 0.2
             }
            },
            "type": "bar"
           }
          ],
          "barpolar": [
           {
            "marker": {
             "line": {
              "color": "#E5ECF6",
              "width": 0.5
             },
             "pattern": {
              "fillmode": "overlay",
              "size": 10,
              "solidity": 0.2
             }
            },
            "type": "barpolar"
           }
          ],
          "carpet": [
           {
            "aaxis": {
             "endlinecolor": "#2a3f5f",
             "gridcolor": "white",
             "linecolor": "white",
             "minorgridcolor": "white",
             "startlinecolor": "#2a3f5f"
            },
            "baxis": {
             "endlinecolor": "#2a3f5f",
             "gridcolor": "white",
             "linecolor": "white",
             "minorgridcolor": "white",
             "startlinecolor": "#2a3f5f"
            },
            "type": "carpet"
           }
          ],
          "choropleth": [
           {
            "colorbar": {
             "outlinewidth": 0,
             "ticks": ""
            },
            "type": "choropleth"
           }
          ],
          "contour": [
           {
            "colorbar": {
             "outlinewidth": 0,
             "ticks": ""
            },
            "colorscale": [
             [
              0,
              "#0d0887"
             ],
             [
              0.1111111111111111,
              "#46039f"
             ],
             [
              0.2222222222222222,
              "#7201a8"
             ],
             [
              0.3333333333333333,
              "#9c179e"
             ],
             [
              0.4444444444444444,
              "#bd3786"
             ],
             [
              0.5555555555555556,
              "#d8576b"
             ],
             [
              0.6666666666666666,
              "#ed7953"
             ],
             [
              0.7777777777777778,
              "#fb9f3a"
             ],
             [
              0.8888888888888888,
              "#fdca26"
             ],
             [
              1,
              "#f0f921"
             ]
            ],
            "type": "contour"
           }
          ],
          "contourcarpet": [
           {
            "colorbar": {
             "outlinewidth": 0,
             "ticks": ""
            },
            "type": "contourcarpet"
           }
          ],
          "heatmap": [
           {
            "colorbar": {
             "outlinewidth": 0,
             "ticks": ""
            },
            "colorscale": [
             [
              0,
              "#0d0887"
             ],
             [
              0.1111111111111111,
              "#46039f"
             ],
             [
              0.2222222222222222,
              "#7201a8"
             ],
             [
              0.3333333333333333,
              "#9c179e"
             ],
             [
              0.4444444444444444,
              "#bd3786"
             ],
             [
              0.5555555555555556,
              "#d8576b"
             ],
             [
              0.6666666666666666,
              "#ed7953"
             ],
             [
              0.7777777777777778,
              "#fb9f3a"
             ],
             [
              0.8888888888888888,
              "#fdca26"
             ],
             [
              1,
              "#f0f921"
             ]
            ],
            "type": "heatmap"
           }
          ],
          "heatmapgl": [
           {
            "colorbar": {
             "outlinewidth": 0,
             "ticks": ""
            },
            "colorscale": [
             [
              0,
              "#0d0887"
             ],
             [
              0.1111111111111111,
              "#46039f"
             ],
             [
              0.2222222222222222,
              "#7201a8"
             ],
             [
              0.3333333333333333,
              "#9c179e"
             ],
             [
              0.4444444444444444,
              "#bd3786"
             ],
             [
              0.5555555555555556,
              "#d8576b"
             ],
             [
              0.6666666666666666,
              "#ed7953"
             ],
             [
              0.7777777777777778,
              "#fb9f3a"
             ],
             [
              0.8888888888888888,
              "#fdca26"
             ],
             [
              1,
              "#f0f921"
             ]
            ],
            "type": "heatmapgl"
           }
          ],
          "histogram": [
           {
            "marker": {
             "pattern": {
              "fillmode": "overlay",
              "size": 10,
              "solidity": 0.2
             }
            },
            "type": "histogram"
           }
          ],
          "histogram2d": [
           {
            "colorbar": {
             "outlinewidth": 0,
             "ticks": ""
            },
            "colorscale": [
             [
              0,
              "#0d0887"
             ],
             [
              0.1111111111111111,
              "#46039f"
             ],
             [
              0.2222222222222222,
              "#7201a8"
             ],
             [
              0.3333333333333333,
              "#9c179e"
             ],
             [
              0.4444444444444444,
              "#bd3786"
             ],
             [
              0.5555555555555556,
              "#d8576b"
             ],
             [
              0.6666666666666666,
              "#ed7953"
             ],
             [
              0.7777777777777778,
              "#fb9f3a"
             ],
             [
              0.8888888888888888,
              "#fdca26"
             ],
             [
              1,
              "#f0f921"
             ]
            ],
            "type": "histogram2d"
           }
          ],
          "histogram2dcontour": [
           {
            "colorbar": {
             "outlinewidth": 0,
             "ticks": ""
            },
            "colorscale": [
             [
              0,
              "#0d0887"
             ],
             [
              0.1111111111111111,
              "#46039f"
             ],
             [
              0.2222222222222222,
              "#7201a8"
             ],
             [
              0.3333333333333333,
              "#9c179e"
             ],
             [
              0.4444444444444444,
              "#bd3786"
             ],
             [
              0.5555555555555556,
              "#d8576b"
             ],
             [
              0.6666666666666666,
              "#ed7953"
             ],
             [
              0.7777777777777778,
              "#fb9f3a"
             ],
             [
              0.8888888888888888,
              "#fdca26"
             ],
             [
              1,
              "#f0f921"
             ]
            ],
            "type": "histogram2dcontour"
           }
          ],
          "mesh3d": [
           {
            "colorbar": {
             "outlinewidth": 0,
             "ticks": ""
            },
            "type": "mesh3d"
           }
          ],
          "parcoords": [
           {
            "line": {
             "colorbar": {
              "outlinewidth": 0,
              "ticks": ""
             }
            },
            "type": "parcoords"
           }
          ],
          "pie": [
           {
            "automargin": true,
            "type": "pie"
           }
          ],
          "scatter": [
           {
            "fillpattern": {
             "fillmode": "overlay",
             "size": 10,
             "solidity": 0.2
            },
            "type": "scatter"
           }
          ],
          "scatter3d": [
           {
            "line": {
             "colorbar": {
              "outlinewidth": 0,
              "ticks": ""
             }
            },
            "marker": {
             "colorbar": {
              "outlinewidth": 0,
              "ticks": ""
             }
            },
            "type": "scatter3d"
           }
          ],
          "scattercarpet": [
           {
            "marker": {
             "colorbar": {
              "outlinewidth": 0,
              "ticks": ""
             }
            },
            "type": "scattercarpet"
           }
          ],
          "scattergeo": [
           {
            "marker": {
             "colorbar": {
              "outlinewidth": 0,
              "ticks": ""
             }
            },
            "type": "scattergeo"
           }
          ],
          "scattergl": [
           {
            "marker": {
             "colorbar": {
              "outlinewidth": 0,
              "ticks": ""
             }
            },
            "type": "scattergl"
           }
          ],
          "scattermapbox": [
           {
            "marker": {
             "colorbar": {
              "outlinewidth": 0,
              "ticks": ""
             }
            },
            "type": "scattermapbox"
           }
          ],
          "scatterpolar": [
           {
            "marker": {
             "colorbar": {
              "outlinewidth": 0,
              "ticks": ""
             }
            },
            "type": "scatterpolar"
           }
          ],
          "scatterpolargl": [
           {
            "marker": {
             "colorbar": {
              "outlinewidth": 0,
              "ticks": ""
             }
            },
            "type": "scatterpolargl"
           }
          ],
          "scatterternary": [
           {
            "marker": {
             "colorbar": {
              "outlinewidth": 0,
              "ticks": ""
             }
            },
            "type": "scatterternary"
           }
          ],
          "surface": [
           {
            "colorbar": {
             "outlinewidth": 0,
             "ticks": ""
            },
            "colorscale": [
             [
              0,
              "#0d0887"
             ],
             [
              0.1111111111111111,
              "#46039f"
             ],
             [
              0.2222222222222222,
              "#7201a8"
             ],
             [
              0.3333333333333333,
              "#9c179e"
             ],
             [
              0.4444444444444444,
              "#bd3786"
             ],
             [
              0.5555555555555556,
              "#d8576b"
             ],
             [
              0.6666666666666666,
              "#ed7953"
             ],
             [
              0.7777777777777778,
              "#fb9f3a"
             ],
             [
              0.8888888888888888,
              "#fdca26"
             ],
             [
              1,
              "#f0f921"
             ]
            ],
            "type": "surface"
           }
          ],
          "table": [
           {
            "cells": {
             "fill": {
              "color": "#EBF0F8"
             },
             "line": {
              "color": "white"
             }
            },
            "header": {
             "fill": {
              "color": "#C8D4E3"
             },
             "line": {
              "color": "white"
             }
            },
            "type": "table"
           }
          ]
         },
         "layout": {
          "annotationdefaults": {
           "arrowcolor": "#2a3f5f",
           "arrowhead": 0,
           "arrowwidth": 1
          },
          "autotypenumbers": "strict",
          "coloraxis": {
           "colorbar": {
            "outlinewidth": 0,
            "ticks": ""
           }
          },
          "colorscale": {
           "diverging": [
            [
             0,
             "#8e0152"
            ],
            [
             0.1,
             "#c51b7d"
            ],
            [
             0.2,
             "#de77ae"
            ],
            [
             0.3,
             "#f1b6da"
            ],
            [
             0.4,
             "#fde0ef"
            ],
            [
             0.5,
             "#f7f7f7"
            ],
            [
             0.6,
             "#e6f5d0"
            ],
            [
             0.7,
             "#b8e186"
            ],
            [
             0.8,
             "#7fbc41"
            ],
            [
             0.9,
             "#4d9221"
            ],
            [
             1,
             "#276419"
            ]
           ],
           "sequential": [
            [
             0,
             "#0d0887"
            ],
            [
             0.1111111111111111,
             "#46039f"
            ],
            [
             0.2222222222222222,
             "#7201a8"
            ],
            [
             0.3333333333333333,
             "#9c179e"
            ],
            [
             0.4444444444444444,
             "#bd3786"
            ],
            [
             0.5555555555555556,
             "#d8576b"
            ],
            [
             0.6666666666666666,
             "#ed7953"
            ],
            [
             0.7777777777777778,
             "#fb9f3a"
            ],
            [
             0.8888888888888888,
             "#fdca26"
            ],
            [
             1,
             "#f0f921"
            ]
           ],
           "sequentialminus": [
            [
             0,
             "#0d0887"
            ],
            [
             0.1111111111111111,
             "#46039f"
            ],
            [
             0.2222222222222222,
             "#7201a8"
            ],
            [
             0.3333333333333333,
             "#9c179e"
            ],
            [
             0.4444444444444444,
             "#bd3786"
            ],
            [
             0.5555555555555556,
             "#d8576b"
            ],
            [
             0.6666666666666666,
             "#ed7953"
            ],
            [
             0.7777777777777778,
             "#fb9f3a"
            ],
            [
             0.8888888888888888,
             "#fdca26"
            ],
            [
             1,
             "#f0f921"
            ]
           ]
          },
          "colorway": [
           "#636efa",
           "#EF553B",
           "#00cc96",
           "#ab63fa",
           "#FFA15A",
           "#19d3f3",
           "#FF6692",
           "#B6E880",
           "#FF97FF",
           "#FECB52"
          ],
          "font": {
           "color": "#2a3f5f"
          },
          "geo": {
           "bgcolor": "white",
           "lakecolor": "white",
           "landcolor": "#E5ECF6",
           "showlakes": true,
           "showland": true,
           "subunitcolor": "white"
          },
          "hoverlabel": {
           "align": "left"
          },
          "hovermode": "closest",
          "mapbox": {
           "style": "light"
          },
          "paper_bgcolor": "white",
          "plot_bgcolor": "#E5ECF6",
          "polar": {
           "angularaxis": {
            "gridcolor": "white",
            "linecolor": "white",
            "ticks": ""
           },
           "bgcolor": "#E5ECF6",
           "radialaxis": {
            "gridcolor": "white",
            "linecolor": "white",
            "ticks": ""
           }
          },
          "scene": {
           "xaxis": {
            "backgroundcolor": "#E5ECF6",
            "gridcolor": "white",
            "gridwidth": 2,
            "linecolor": "white",
            "showbackground": true,
            "ticks": "",
            "zerolinecolor": "white"
           },
           "yaxis": {
            "backgroundcolor": "#E5ECF6",
            "gridcolor": "white",
            "gridwidth": 2,
            "linecolor": "white",
            "showbackground": true,
            "ticks": "",
            "zerolinecolor": "white"
           },
           "zaxis": {
            "backgroundcolor": "#E5ECF6",
            "gridcolor": "white",
            "gridwidth": 2,
            "linecolor": "white",
            "showbackground": true,
            "ticks": "",
            "zerolinecolor": "white"
           }
          },
          "shapedefaults": {
           "line": {
            "color": "#2a3f5f"
           }
          },
          "ternary": {
           "aaxis": {
            "gridcolor": "white",
            "linecolor": "white",
            "ticks": ""
           },
           "baxis": {
            "gridcolor": "white",
            "linecolor": "white",
            "ticks": ""
           },
           "bgcolor": "#E5ECF6",
           "caxis": {
            "gridcolor": "white",
            "linecolor": "white",
            "ticks": ""
           }
          },
          "title": {
           "x": 0.05
          },
          "xaxis": {
           "automargin": true,
           "gridcolor": "white",
           "linecolor": "white",
           "ticks": "",
           "title": {
            "standoff": 15
           },
           "zerolinecolor": "white",
           "zerolinewidth": 2
          },
          "yaxis": {
           "automargin": true,
           "gridcolor": "white",
           "linecolor": "white",
           "ticks": "",
           "title": {
            "standoff": 15
           },
           "zerolinecolor": "white",
           "zerolinewidth": 2
          }
         }
        },
        "title": {
         "text": "AVG - Total FG3M per Season"
        },
        "xaxis": {
         "anchor": "y",
         "domain": [
          0,
          1
         ],
         "title": {
          "text": "SEASON"
         }
        },
        "yaxis": {
         "anchor": "x",
         "domain": [
          0,
          1
         ],
         "title": {
          "text": "FG3M"
         }
        }
       }
      }
     },
     "metadata": {},
     "output_type": "display_data"
    }
   ],
   "source": [
    "fig2 = px.line(plot_avg_data, x='SEASON', y='FG3M', markers=True, color='TEAM', title = 'AVG - Total FG3M per Season')\n",
    "fig2.show()"
   ]
  },
  {
   "cell_type": "markdown",
   "metadata": {},
   "source": [
    "### For each season, show the division of points, reb, assist, fg3 of a specific squad between players--> pie chart"
   ]
  },
  {
   "cell_type": "code",
   "execution_count": 68,
   "metadata": {},
   "outputs": [],
   "source": [
    "team ='Bulls'\n",
    "season = 2005"
   ]
  },
  {
   "cell_type": "code",
   "execution_count": 69,
   "metadata": {},
   "outputs": [
    {
     "name": "stdout",
     "output_type": "stream",
     "text": [
      "<class 'pandas.core.frame.DataFrame'>\n",
      "RangeIndex: 517429 entries, 0 to 517428\n",
      "Data columns (total 31 columns):\n",
      " #   Column             Non-Null Count   Dtype  \n",
      "---  ------             --------------   -----  \n",
      " 0   GAME_ID            517429 non-null  int64  \n",
      " 1   TEAM_ID            517429 non-null  int64  \n",
      " 2   TEAM_ABBREVIATION  517429 non-null  object \n",
      " 3   TEAM_CITY          517429 non-null  object \n",
      " 4   PLAYER_ID          517429 non-null  int64  \n",
      " 5   PLAYER_NAME        517429 non-null  object \n",
      " 6   PLAYER_NICKNAME    517429 non-null  object \n",
      " 7   START_POSITION     517429 non-null  object \n",
      " 8   COMMENT            517429 non-null  object \n",
      " 9   MIN                517429 non-null  object \n",
      " 10  FGM                517429 non-null  float64\n",
      " 11  FGA                517429 non-null  float64\n",
      " 12  FG_PCT             517429 non-null  float64\n",
      " 13  FG3M               517429 non-null  float64\n",
      " 14  FG3A               517429 non-null  float64\n",
      " 15  FG3_PCT            517429 non-null  float64\n",
      " 16  FTM                517429 non-null  float64\n",
      " 17  FTA                517429 non-null  float64\n",
      " 18  FT_PCT             517429 non-null  float64\n",
      " 19  OREB               517429 non-null  float64\n",
      " 20  DREB               517429 non-null  float64\n",
      " 21  REB                517429 non-null  float64\n",
      " 22  AST                517429 non-null  float64\n",
      " 23  STL                517429 non-null  float64\n",
      " 24  BLK                517429 non-null  float64\n",
      " 25  TO                 517429 non-null  float64\n",
      " 26  PF                 517429 non-null  float64\n",
      " 27  PTS                517429 non-null  float64\n",
      " 28  PLUS_MINUS         517429 non-null  float64\n",
      " 29  SEASON             517429 non-null  int64  \n",
      " 30  TEAM               517429 non-null  object \n",
      "dtypes: float64(19), int64(4), object(8)\n",
      "memory usage: 122.4+ MB\n"
     ]
    }
   ],
   "source": [
    "games_full_df.info()"
   ]
  },
  {
   "cell_type": "code",
   "execution_count": 70,
   "metadata": {},
   "outputs": [],
   "source": [
    "performances_by_season_sum = games_full_df.groupby(['SEASON', 'TEAM', 'PLAYER_NAME'])[['PTS','REB', 'AST', 'FG3M', 'FG3A' ]].sum().reset_index()"
   ]
  },
  {
   "cell_type": "code",
   "execution_count": 71,
   "metadata": {},
   "outputs": [
    {
     "data": {
      "text/html": [
       "<div>\n",
       "<style scoped>\n",
       "    .dataframe tbody tr th:only-of-type {\n",
       "        vertical-align: middle;\n",
       "    }\n",
       "\n",
       "    .dataframe tbody tr th {\n",
       "        vertical-align: top;\n",
       "    }\n",
       "\n",
       "    .dataframe thead th {\n",
       "        text-align: right;\n",
       "    }\n",
       "</style>\n",
       "<table border=\"1\" class=\"dataframe\">\n",
       "  <thead>\n",
       "    <tr style=\"text-align: right;\">\n",
       "      <th></th>\n",
       "      <th>SEASON</th>\n",
       "      <th>TEAM</th>\n",
       "      <th>PLAYER_NAME</th>\n",
       "      <th>PTS</th>\n",
       "      <th>REB</th>\n",
       "      <th>AST</th>\n",
       "      <th>FG3M</th>\n",
       "      <th>FG3A</th>\n",
       "    </tr>\n",
       "  </thead>\n",
       "  <tbody>\n",
       "    <tr>\n",
       "      <th>0</th>\n",
       "      <td>2003</td>\n",
       "      <td>76ers</td>\n",
       "      <td>Aaron McKie</td>\n",
       "      <td>689.0</td>\n",
       "      <td>253.0</td>\n",
       "      <td>195.0</td>\n",
       "      <td>75.0</td>\n",
       "      <td>172.0</td>\n",
       "    </tr>\n",
       "    <tr>\n",
       "      <th>1</th>\n",
       "      <td>2003</td>\n",
       "      <td>76ers</td>\n",
       "      <td>Allen Iverson</td>\n",
       "      <td>1266.0</td>\n",
       "      <td>178.0</td>\n",
       "      <td>324.0</td>\n",
       "      <td>57.0</td>\n",
       "      <td>199.0</td>\n",
       "    </tr>\n",
       "    <tr>\n",
       "      <th>2</th>\n",
       "      <td>2003</td>\n",
       "      <td>76ers</td>\n",
       "      <td>Amal McCaskill</td>\n",
       "      <td>113.0</td>\n",
       "      <td>133.0</td>\n",
       "      <td>20.0</td>\n",
       "      <td>0.0</td>\n",
       "      <td>1.0</td>\n",
       "    </tr>\n",
       "    <tr>\n",
       "      <th>3</th>\n",
       "      <td>2003</td>\n",
       "      <td>76ers</td>\n",
       "      <td>Derrick Coleman</td>\n",
       "      <td>271.0</td>\n",
       "      <td>192.0</td>\n",
       "      <td>46.0</td>\n",
       "      <td>8.0</td>\n",
       "      <td>36.0</td>\n",
       "    </tr>\n",
       "    <tr>\n",
       "      <th>4</th>\n",
       "      <td>2003</td>\n",
       "      <td>76ers</td>\n",
       "      <td>Eric Snow</td>\n",
       "      <td>844.0</td>\n",
       "      <td>281.0</td>\n",
       "      <td>563.0</td>\n",
       "      <td>2.0</td>\n",
       "      <td>18.0</td>\n",
       "    </tr>\n",
       "    <tr>\n",
       "      <th>5</th>\n",
       "      <td>2003</td>\n",
       "      <td>76ers</td>\n",
       "      <td>Glenn Robinson</td>\n",
       "      <td>698.0</td>\n",
       "      <td>189.0</td>\n",
       "      <td>57.0</td>\n",
       "      <td>34.0</td>\n",
       "      <td>100.0</td>\n",
       "    </tr>\n",
       "    <tr>\n",
       "      <th>6</th>\n",
       "      <td>2003</td>\n",
       "      <td>76ers</td>\n",
       "      <td>Greg Buckner</td>\n",
       "      <td>164.0</td>\n",
       "      <td>103.0</td>\n",
       "      <td>45.0</td>\n",
       "      <td>12.0</td>\n",
       "      <td>44.0</td>\n",
       "    </tr>\n",
       "    <tr>\n",
       "      <th>7</th>\n",
       "      <td>2003</td>\n",
       "      <td>76ers</td>\n",
       "      <td>John Salmons</td>\n",
       "      <td>443.0</td>\n",
       "      <td>196.0</td>\n",
       "      <td>134.0</td>\n",
       "      <td>50.0</td>\n",
       "      <td>147.0</td>\n",
       "    </tr>\n",
       "    <tr>\n",
       "      <th>8</th>\n",
       "      <td>2003</td>\n",
       "      <td>76ers</td>\n",
       "      <td>Kenny Thomas</td>\n",
       "      <td>1006.0</td>\n",
       "      <td>750.0</td>\n",
       "      <td>111.0</td>\n",
       "      <td>1.0</td>\n",
       "      <td>5.0</td>\n",
       "    </tr>\n",
       "    <tr>\n",
       "      <th>9</th>\n",
       "      <td>2003</td>\n",
       "      <td>76ers</td>\n",
       "      <td>Kyle Korver</td>\n",
       "      <td>330.0</td>\n",
       "      <td>111.0</td>\n",
       "      <td>40.0</td>\n",
       "      <td>81.0</td>\n",
       "      <td>207.0</td>\n",
       "    </tr>\n",
       "    <tr>\n",
       "      <th>10</th>\n",
       "      <td>2003</td>\n",
       "      <td>76ers</td>\n",
       "      <td>Marc Jackson</td>\n",
       "      <td>206.0</td>\n",
       "      <td>126.0</td>\n",
       "      <td>18.0</td>\n",
       "      <td>0.0</td>\n",
       "      <td>1.0</td>\n",
       "    </tr>\n",
       "    <tr>\n",
       "      <th>11</th>\n",
       "      <td>2003</td>\n",
       "      <td>76ers</td>\n",
       "      <td>Samuel Dalembert</td>\n",
       "      <td>652.0</td>\n",
       "      <td>626.0</td>\n",
       "      <td>21.0</td>\n",
       "      <td>0.0</td>\n",
       "      <td>1.0</td>\n",
       "    </tr>\n",
       "    <tr>\n",
       "      <th>12</th>\n",
       "      <td>2003</td>\n",
       "      <td>76ers</td>\n",
       "      <td>Willie Green</td>\n",
       "      <td>344.0</td>\n",
       "      <td>63.0</td>\n",
       "      <td>52.0</td>\n",
       "      <td>18.0</td>\n",
       "      <td>60.0</td>\n",
       "    </tr>\n",
       "    <tr>\n",
       "      <th>13</th>\n",
       "      <td>2003</td>\n",
       "      <td>76ers</td>\n",
       "      <td>Zendon Hamilton</td>\n",
       "      <td>169.0</td>\n",
       "      <td>146.0</td>\n",
       "      <td>13.0</td>\n",
       "      <td>0.0</td>\n",
       "      <td>0.0</td>\n",
       "    </tr>\n",
       "    <tr>\n",
       "      <th>14</th>\n",
       "      <td>2003</td>\n",
       "      <td>Bucks</td>\n",
       "      <td>Brevin Knight</td>\n",
       "      <td>144.0</td>\n",
       "      <td>59.0</td>\n",
       "      <td>115.0</td>\n",
       "      <td>1.0</td>\n",
       "      <td>3.0</td>\n",
       "    </tr>\n",
       "    <tr>\n",
       "      <th>15</th>\n",
       "      <td>2003</td>\n",
       "      <td>Bucks</td>\n",
       "      <td>Brian Skinner</td>\n",
       "      <td>616.0</td>\n",
       "      <td>433.0</td>\n",
       "      <td>49.0</td>\n",
       "      <td>0.0</td>\n",
       "      <td>0.0</td>\n",
       "    </tr>\n",
       "    <tr>\n",
       "      <th>16</th>\n",
       "      <td>2003</td>\n",
       "      <td>Bucks</td>\n",
       "      <td>Damon Jones</td>\n",
       "      <td>623.0</td>\n",
       "      <td>190.0</td>\n",
       "      <td>515.0</td>\n",
       "      <td>108.0</td>\n",
       "      <td>294.0</td>\n",
       "    </tr>\n",
       "    <tr>\n",
       "      <th>17</th>\n",
       "      <td>2003</td>\n",
       "      <td>Bucks</td>\n",
       "      <td>Dan Gadzuric</td>\n",
       "      <td>428.0</td>\n",
       "      <td>347.0</td>\n",
       "      <td>30.0</td>\n",
       "      <td>0.0</td>\n",
       "      <td>1.0</td>\n",
       "    </tr>\n",
       "    <tr>\n",
       "      <th>18</th>\n",
       "      <td>2003</td>\n",
       "      <td>Bucks</td>\n",
       "      <td>Dan Langhi</td>\n",
       "      <td>7.0</td>\n",
       "      <td>1.0</td>\n",
       "      <td>0.0</td>\n",
       "      <td>1.0</td>\n",
       "      <td>2.0</td>\n",
       "    </tr>\n",
       "    <tr>\n",
       "      <th>19</th>\n",
       "      <td>2003</td>\n",
       "      <td>Bucks</td>\n",
       "      <td>Daniel Santiago</td>\n",
       "      <td>217.0</td>\n",
       "      <td>132.0</td>\n",
       "      <td>24.0</td>\n",
       "      <td>0.0</td>\n",
       "      <td>0.0</td>\n",
       "    </tr>\n",
       "  </tbody>\n",
       "</table>\n",
       "</div>"
      ],
      "text/plain": [
       "    SEASON   TEAM       PLAYER_NAME     PTS    REB    AST   FG3M   FG3A\n",
       "0     2003  76ers       Aaron McKie   689.0  253.0  195.0   75.0  172.0\n",
       "1     2003  76ers     Allen Iverson  1266.0  178.0  324.0   57.0  199.0\n",
       "2     2003  76ers    Amal McCaskill   113.0  133.0   20.0    0.0    1.0\n",
       "3     2003  76ers   Derrick Coleman   271.0  192.0   46.0    8.0   36.0\n",
       "4     2003  76ers         Eric Snow   844.0  281.0  563.0    2.0   18.0\n",
       "5     2003  76ers    Glenn Robinson   698.0  189.0   57.0   34.0  100.0\n",
       "6     2003  76ers      Greg Buckner   164.0  103.0   45.0   12.0   44.0\n",
       "7     2003  76ers      John Salmons   443.0  196.0  134.0   50.0  147.0\n",
       "8     2003  76ers      Kenny Thomas  1006.0  750.0  111.0    1.0    5.0\n",
       "9     2003  76ers       Kyle Korver   330.0  111.0   40.0   81.0  207.0\n",
       "10    2003  76ers      Marc Jackson   206.0  126.0   18.0    0.0    1.0\n",
       "11    2003  76ers  Samuel Dalembert   652.0  626.0   21.0    0.0    1.0\n",
       "12    2003  76ers      Willie Green   344.0   63.0   52.0   18.0   60.0\n",
       "13    2003  76ers   Zendon Hamilton   169.0  146.0   13.0    0.0    0.0\n",
       "14    2003  Bucks     Brevin Knight   144.0   59.0  115.0    1.0    3.0\n",
       "15    2003  Bucks     Brian Skinner   616.0  433.0   49.0    0.0    0.0\n",
       "16    2003  Bucks       Damon Jones   623.0  190.0  515.0  108.0  294.0\n",
       "17    2003  Bucks      Dan Gadzuric   428.0  347.0   30.0    0.0    1.0\n",
       "18    2003  Bucks        Dan Langhi     7.0    1.0    0.0    1.0    2.0\n",
       "19    2003  Bucks   Daniel Santiago   217.0  132.0   24.0    0.0    0.0"
      ]
     },
     "execution_count": 71,
     "metadata": {},
     "output_type": "execute_result"
    }
   ],
   "source": [
    "performances_by_season_sum.head(20)"
   ]
  },
  {
   "cell_type": "code",
   "execution_count": 72,
   "metadata": {},
   "outputs": [],
   "source": [
    "plot_sum_data = performances_by_season_sum[(performances_by_season_sum['TEAM'] == team) & (performances_by_season_sum['SEASON'] == season)]"
   ]
  },
  {
   "cell_type": "code",
   "execution_count": 73,
   "metadata": {},
   "outputs": [
    {
     "name": "stdout",
     "output_type": "stream",
     "text": [
      "<class 'pandas.core.frame.DataFrame'>\n",
      "Index: 19 entries, 1075 to 1093\n",
      "Data columns (total 8 columns):\n",
      " #   Column       Non-Null Count  Dtype  \n",
      "---  ------       --------------  -----  \n",
      " 0   SEASON       19 non-null     int64  \n",
      " 1   TEAM         19 non-null     object \n",
      " 2   PLAYER_NAME  19 non-null     object \n",
      " 3   PTS          19 non-null     float64\n",
      " 4   REB          19 non-null     float64\n",
      " 5   AST          19 non-null     float64\n",
      " 6   FG3M         19 non-null     float64\n",
      " 7   FG3A         19 non-null     float64\n",
      "dtypes: float64(5), int64(1), object(2)\n",
      "memory usage: 1.3+ KB\n"
     ]
    }
   ],
   "source": [
    "plot_sum_data.info()"
   ]
  },
  {
   "cell_type": "code",
   "execution_count": 74,
   "metadata": {},
   "outputs": [
    {
     "data": {
      "application/vnd.plotly.v1+json": {
       "config": {
        "plotlyServerURL": "https://plot.ly"
       },
       "data": [
        {
         "domain": {
          "x": [
           0,
           1
          ],
          "y": [
           0,
           1
          ]
         },
         "hole": 0.3,
         "hovertemplate": "label=%{label}<br>value=%{value}<extra></extra>",
         "labels": [
          "Andres Nocioni",
          "Ben Gordon",
          "Chris Duhon",
          "Darius Songaila",
          "Eddie Basden",
          "Eric Piatkowski",
          "James Thomas",
          "Jannero Pargo",
          "Kirk Hinrich",
          "Luke Schenscher",
          "Luol Deng",
          "Malik Allen",
          "Michael Sweetney",
          "Othella Harrington",
          "Randy Holcomb",
          "Randy Livingston",
          "Stephen Graham",
          "Tim Thomas",
          "Tyson Chandler"
         ],
         "legendgroup": "",
         "name": "",
         "showlegend": true,
         "type": "pie",
         "values": [
          1197,
          1476,
          677,
          568,
          39,
          69,
          6,
          291,
          1407,
          43,
          1173,
          294,
          576,
          346,
          2,
          0,
          5,
          13,
          428
         ]
        }
       ],
       "layout": {
        "legend": {
         "tracegroupgap": 0
        },
        "template": {
         "data": {
          "bar": [
           {
            "error_x": {
             "color": "#2a3f5f"
            },
            "error_y": {
             "color": "#2a3f5f"
            },
            "marker": {
             "line": {
              "color": "#E5ECF6",
              "width": 0.5
             },
             "pattern": {
              "fillmode": "overlay",
              "size": 10,
              "solidity": 0.2
             }
            },
            "type": "bar"
           }
          ],
          "barpolar": [
           {
            "marker": {
             "line": {
              "color": "#E5ECF6",
              "width": 0.5
             },
             "pattern": {
              "fillmode": "overlay",
              "size": 10,
              "solidity": 0.2
             }
            },
            "type": "barpolar"
           }
          ],
          "carpet": [
           {
            "aaxis": {
             "endlinecolor": "#2a3f5f",
             "gridcolor": "white",
             "linecolor": "white",
             "minorgridcolor": "white",
             "startlinecolor": "#2a3f5f"
            },
            "baxis": {
             "endlinecolor": "#2a3f5f",
             "gridcolor": "white",
             "linecolor": "white",
             "minorgridcolor": "white",
             "startlinecolor": "#2a3f5f"
            },
            "type": "carpet"
           }
          ],
          "choropleth": [
           {
            "colorbar": {
             "outlinewidth": 0,
             "ticks": ""
            },
            "type": "choropleth"
           }
          ],
          "contour": [
           {
            "colorbar": {
             "outlinewidth": 0,
             "ticks": ""
            },
            "colorscale": [
             [
              0,
              "#0d0887"
             ],
             [
              0.1111111111111111,
              "#46039f"
             ],
             [
              0.2222222222222222,
              "#7201a8"
             ],
             [
              0.3333333333333333,
              "#9c179e"
             ],
             [
              0.4444444444444444,
              "#bd3786"
             ],
             [
              0.5555555555555556,
              "#d8576b"
             ],
             [
              0.6666666666666666,
              "#ed7953"
             ],
             [
              0.7777777777777778,
              "#fb9f3a"
             ],
             [
              0.8888888888888888,
              "#fdca26"
             ],
             [
              1,
              "#f0f921"
             ]
            ],
            "type": "contour"
           }
          ],
          "contourcarpet": [
           {
            "colorbar": {
             "outlinewidth": 0,
             "ticks": ""
            },
            "type": "contourcarpet"
           }
          ],
          "heatmap": [
           {
            "colorbar": {
             "outlinewidth": 0,
             "ticks": ""
            },
            "colorscale": [
             [
              0,
              "#0d0887"
             ],
             [
              0.1111111111111111,
              "#46039f"
             ],
             [
              0.2222222222222222,
              "#7201a8"
             ],
             [
              0.3333333333333333,
              "#9c179e"
             ],
             [
              0.4444444444444444,
              "#bd3786"
             ],
             [
              0.5555555555555556,
              "#d8576b"
             ],
             [
              0.6666666666666666,
              "#ed7953"
             ],
             [
              0.7777777777777778,
              "#fb9f3a"
             ],
             [
              0.8888888888888888,
              "#fdca26"
             ],
             [
              1,
              "#f0f921"
             ]
            ],
            "type": "heatmap"
           }
          ],
          "heatmapgl": [
           {
            "colorbar": {
             "outlinewidth": 0,
             "ticks": ""
            },
            "colorscale": [
             [
              0,
              "#0d0887"
             ],
             [
              0.1111111111111111,
              "#46039f"
             ],
             [
              0.2222222222222222,
              "#7201a8"
             ],
             [
              0.3333333333333333,
              "#9c179e"
             ],
             [
              0.4444444444444444,
              "#bd3786"
             ],
             [
              0.5555555555555556,
              "#d8576b"
             ],
             [
              0.6666666666666666,
              "#ed7953"
             ],
             [
              0.7777777777777778,
              "#fb9f3a"
             ],
             [
              0.8888888888888888,
              "#fdca26"
             ],
             [
              1,
              "#f0f921"
             ]
            ],
            "type": "heatmapgl"
           }
          ],
          "histogram": [
           {
            "marker": {
             "pattern": {
              "fillmode": "overlay",
              "size": 10,
              "solidity": 0.2
             }
            },
            "type": "histogram"
           }
          ],
          "histogram2d": [
           {
            "colorbar": {
             "outlinewidth": 0,
             "ticks": ""
            },
            "colorscale": [
             [
              0,
              "#0d0887"
             ],
             [
              0.1111111111111111,
              "#46039f"
             ],
             [
              0.2222222222222222,
              "#7201a8"
             ],
             [
              0.3333333333333333,
              "#9c179e"
             ],
             [
              0.4444444444444444,
              "#bd3786"
             ],
             [
              0.5555555555555556,
              "#d8576b"
             ],
             [
              0.6666666666666666,
              "#ed7953"
             ],
             [
              0.7777777777777778,
              "#fb9f3a"
             ],
             [
              0.8888888888888888,
              "#fdca26"
             ],
             [
              1,
              "#f0f921"
             ]
            ],
            "type": "histogram2d"
           }
          ],
          "histogram2dcontour": [
           {
            "colorbar": {
             "outlinewidth": 0,
             "ticks": ""
            },
            "colorscale": [
             [
              0,
              "#0d0887"
             ],
             [
              0.1111111111111111,
              "#46039f"
             ],
             [
              0.2222222222222222,
              "#7201a8"
             ],
             [
              0.3333333333333333,
              "#9c179e"
             ],
             [
              0.4444444444444444,
              "#bd3786"
             ],
             [
              0.5555555555555556,
              "#d8576b"
             ],
             [
              0.6666666666666666,
              "#ed7953"
             ],
             [
              0.7777777777777778,
              "#fb9f3a"
             ],
             [
              0.8888888888888888,
              "#fdca26"
             ],
             [
              1,
              "#f0f921"
             ]
            ],
            "type": "histogram2dcontour"
           }
          ],
          "mesh3d": [
           {
            "colorbar": {
             "outlinewidth": 0,
             "ticks": ""
            },
            "type": "mesh3d"
           }
          ],
          "parcoords": [
           {
            "line": {
             "colorbar": {
              "outlinewidth": 0,
              "ticks": ""
             }
            },
            "type": "parcoords"
           }
          ],
          "pie": [
           {
            "automargin": true,
            "type": "pie"
           }
          ],
          "scatter": [
           {
            "fillpattern": {
             "fillmode": "overlay",
             "size": 10,
             "solidity": 0.2
            },
            "type": "scatter"
           }
          ],
          "scatter3d": [
           {
            "line": {
             "colorbar": {
              "outlinewidth": 0,
              "ticks": ""
             }
            },
            "marker": {
             "colorbar": {
              "outlinewidth": 0,
              "ticks": ""
             }
            },
            "type": "scatter3d"
           }
          ],
          "scattercarpet": [
           {
            "marker": {
             "colorbar": {
              "outlinewidth": 0,
              "ticks": ""
             }
            },
            "type": "scattercarpet"
           }
          ],
          "scattergeo": [
           {
            "marker": {
             "colorbar": {
              "outlinewidth": 0,
              "ticks": ""
             }
            },
            "type": "scattergeo"
           }
          ],
          "scattergl": [
           {
            "marker": {
             "colorbar": {
              "outlinewidth": 0,
              "ticks": ""
             }
            },
            "type": "scattergl"
           }
          ],
          "scattermapbox": [
           {
            "marker": {
             "colorbar": {
              "outlinewidth": 0,
              "ticks": ""
             }
            },
            "type": "scattermapbox"
           }
          ],
          "scatterpolar": [
           {
            "marker": {
             "colorbar": {
              "outlinewidth": 0,
              "ticks": ""
             }
            },
            "type": "scatterpolar"
           }
          ],
          "scatterpolargl": [
           {
            "marker": {
             "colorbar": {
              "outlinewidth": 0,
              "ticks": ""
             }
            },
            "type": "scatterpolargl"
           }
          ],
          "scatterternary": [
           {
            "marker": {
             "colorbar": {
              "outlinewidth": 0,
              "ticks": ""
             }
            },
            "type": "scatterternary"
           }
          ],
          "surface": [
           {
            "colorbar": {
             "outlinewidth": 0,
             "ticks": ""
            },
            "colorscale": [
             [
              0,
              "#0d0887"
             ],
             [
              0.1111111111111111,
              "#46039f"
             ],
             [
              0.2222222222222222,
              "#7201a8"
             ],
             [
              0.3333333333333333,
              "#9c179e"
             ],
             [
              0.4444444444444444,
              "#bd3786"
             ],
             [
              0.5555555555555556,
              "#d8576b"
             ],
             [
              0.6666666666666666,
              "#ed7953"
             ],
             [
              0.7777777777777778,
              "#fb9f3a"
             ],
             [
              0.8888888888888888,
              "#fdca26"
             ],
             [
              1,
              "#f0f921"
             ]
            ],
            "type": "surface"
           }
          ],
          "table": [
           {
            "cells": {
             "fill": {
              "color": "#EBF0F8"
             },
             "line": {
              "color": "white"
             }
            },
            "header": {
             "fill": {
              "color": "#C8D4E3"
             },
             "line": {
              "color": "white"
             }
            },
            "type": "table"
           }
          ]
         },
         "layout": {
          "annotationdefaults": {
           "arrowcolor": "#2a3f5f",
           "arrowhead": 0,
           "arrowwidth": 1
          },
          "autotypenumbers": "strict",
          "coloraxis": {
           "colorbar": {
            "outlinewidth": 0,
            "ticks": ""
           }
          },
          "colorscale": {
           "diverging": [
            [
             0,
             "#8e0152"
            ],
            [
             0.1,
             "#c51b7d"
            ],
            [
             0.2,
             "#de77ae"
            ],
            [
             0.3,
             "#f1b6da"
            ],
            [
             0.4,
             "#fde0ef"
            ],
            [
             0.5,
             "#f7f7f7"
            ],
            [
             0.6,
             "#e6f5d0"
            ],
            [
             0.7,
             "#b8e186"
            ],
            [
             0.8,
             "#7fbc41"
            ],
            [
             0.9,
             "#4d9221"
            ],
            [
             1,
             "#276419"
            ]
           ],
           "sequential": [
            [
             0,
             "#0d0887"
            ],
            [
             0.1111111111111111,
             "#46039f"
            ],
            [
             0.2222222222222222,
             "#7201a8"
            ],
            [
             0.3333333333333333,
             "#9c179e"
            ],
            [
             0.4444444444444444,
             "#bd3786"
            ],
            [
             0.5555555555555556,
             "#d8576b"
            ],
            [
             0.6666666666666666,
             "#ed7953"
            ],
            [
             0.7777777777777778,
             "#fb9f3a"
            ],
            [
             0.8888888888888888,
             "#fdca26"
            ],
            [
             1,
             "#f0f921"
            ]
           ],
           "sequentialminus": [
            [
             0,
             "#0d0887"
            ],
            [
             0.1111111111111111,
             "#46039f"
            ],
            [
             0.2222222222222222,
             "#7201a8"
            ],
            [
             0.3333333333333333,
             "#9c179e"
            ],
            [
             0.4444444444444444,
             "#bd3786"
            ],
            [
             0.5555555555555556,
             "#d8576b"
            ],
            [
             0.6666666666666666,
             "#ed7953"
            ],
            [
             0.7777777777777778,
             "#fb9f3a"
            ],
            [
             0.8888888888888888,
             "#fdca26"
            ],
            [
             1,
             "#f0f921"
            ]
           ]
          },
          "colorway": [
           "#636efa",
           "#EF553B",
           "#00cc96",
           "#ab63fa",
           "#FFA15A",
           "#19d3f3",
           "#FF6692",
           "#B6E880",
           "#FF97FF",
           "#FECB52"
          ],
          "font": {
           "color": "#2a3f5f"
          },
          "geo": {
           "bgcolor": "white",
           "lakecolor": "white",
           "landcolor": "#E5ECF6",
           "showlakes": true,
           "showland": true,
           "subunitcolor": "white"
          },
          "hoverlabel": {
           "align": "left"
          },
          "hovermode": "closest",
          "mapbox": {
           "style": "light"
          },
          "paper_bgcolor": "white",
          "plot_bgcolor": "#E5ECF6",
          "polar": {
           "angularaxis": {
            "gridcolor": "white",
            "linecolor": "white",
            "ticks": ""
           },
           "bgcolor": "#E5ECF6",
           "radialaxis": {
            "gridcolor": "white",
            "linecolor": "white",
            "ticks": ""
           }
          },
          "scene": {
           "xaxis": {
            "backgroundcolor": "#E5ECF6",
            "gridcolor": "white",
            "gridwidth": 2,
            "linecolor": "white",
            "showbackground": true,
            "ticks": "",
            "zerolinecolor": "white"
           },
           "yaxis": {
            "backgroundcolor": "#E5ECF6",
            "gridcolor": "white",
            "gridwidth": 2,
            "linecolor": "white",
            "showbackground": true,
            "ticks": "",
            "zerolinecolor": "white"
           },
           "zaxis": {
            "backgroundcolor": "#E5ECF6",
            "gridcolor": "white",
            "gridwidth": 2,
            "linecolor": "white",
            "showbackground": true,
            "ticks": "",
            "zerolinecolor": "white"
           }
          },
          "shapedefaults": {
           "line": {
            "color": "#2a3f5f"
           }
          },
          "ternary": {
           "aaxis": {
            "gridcolor": "white",
            "linecolor": "white",
            "ticks": ""
           },
           "baxis": {
            "gridcolor": "white",
            "linecolor": "white",
            "ticks": ""
           },
           "bgcolor": "#E5ECF6",
           "caxis": {
            "gridcolor": "white",
            "linecolor": "white",
            "ticks": ""
           }
          },
          "title": {
           "x": 0.05
          },
          "xaxis": {
           "automargin": true,
           "gridcolor": "white",
           "linecolor": "white",
           "ticks": "",
           "title": {
            "standoff": 15
           },
           "zerolinecolor": "white",
           "zerolinewidth": 2
          },
          "yaxis": {
           "automargin": true,
           "gridcolor": "white",
           "linecolor": "white",
           "ticks": "",
           "title": {
            "standoff": 15
           },
           "zerolinecolor": "white",
           "zerolinewidth": 2
          }
         }
        },
        "title": {
         "text": "PTS division for Bulls team"
        }
       }
      }
     },
     "metadata": {},
     "output_type": "display_data"
    }
   ],
   "source": [
    "fig3 = px.pie(values=plot_sum_data['PTS'], names=plot_sum_data['PLAYER_NAME'], title =f'PTS division for {team} team', hole=.3)\n",
    "fig3.show()"
   ]
  },
  {
   "cell_type": "code",
   "execution_count": 75,
   "metadata": {},
   "outputs": [
    {
     "data": {
      "application/vnd.plotly.v1+json": {
       "config": {
        "plotlyServerURL": "https://plot.ly"
       },
       "data": [
        {
         "domain": {
          "x": [
           0,
           1
          ],
          "y": [
           0,
           1
          ]
         },
         "hole": 0.3,
         "hovertemplate": "label=%{label}<br>value=%{value}<extra></extra>",
         "labels": [
          "Andres Nocioni",
          "Ben Gordon",
          "Chris Duhon",
          "Darius Songaila",
          "Eddie Basden",
          "Eric Piatkowski",
          "James Thomas",
          "Jannero Pargo",
          "Kirk Hinrich",
          "Luke Schenscher",
          "Luol Deng",
          "Malik Allen",
          "Michael Sweetney",
          "Othella Harrington",
          "Randy Holcomb",
          "Randy Livingston",
          "Stephen Graham",
          "Tim Thomas",
          "Tyson Chandler"
         ],
         "legendgroup": "",
         "name": "",
         "showlegend": true,
         "type": "pie",
         "values": [
          126,
          258,
          386,
          88,
          8,
          14,
          0,
          97,
          560,
          7,
          150,
          27,
          66,
          39,
          0,
          1,
          1,
          2,
          84
         ]
        }
       ],
       "layout": {
        "legend": {
         "tracegroupgap": 0
        },
        "template": {
         "data": {
          "bar": [
           {
            "error_x": {
             "color": "#2a3f5f"
            },
            "error_y": {
             "color": "#2a3f5f"
            },
            "marker": {
             "line": {
              "color": "#E5ECF6",
              "width": 0.5
             },
             "pattern": {
              "fillmode": "overlay",
              "size": 10,
              "solidity": 0.2
             }
            },
            "type": "bar"
           }
          ],
          "barpolar": [
           {
            "marker": {
             "line": {
              "color": "#E5ECF6",
              "width": 0.5
             },
             "pattern": {
              "fillmode": "overlay",
              "size": 10,
              "solidity": 0.2
             }
            },
            "type": "barpolar"
           }
          ],
          "carpet": [
           {
            "aaxis": {
             "endlinecolor": "#2a3f5f",
             "gridcolor": "white",
             "linecolor": "white",
             "minorgridcolor": "white",
             "startlinecolor": "#2a3f5f"
            },
            "baxis": {
             "endlinecolor": "#2a3f5f",
             "gridcolor": "white",
             "linecolor": "white",
             "minorgridcolor": "white",
             "startlinecolor": "#2a3f5f"
            },
            "type": "carpet"
           }
          ],
          "choropleth": [
           {
            "colorbar": {
             "outlinewidth": 0,
             "ticks": ""
            },
            "type": "choropleth"
           }
          ],
          "contour": [
           {
            "colorbar": {
             "outlinewidth": 0,
             "ticks": ""
            },
            "colorscale": [
             [
              0,
              "#0d0887"
             ],
             [
              0.1111111111111111,
              "#46039f"
             ],
             [
              0.2222222222222222,
              "#7201a8"
             ],
             [
              0.3333333333333333,
              "#9c179e"
             ],
             [
              0.4444444444444444,
              "#bd3786"
             ],
             [
              0.5555555555555556,
              "#d8576b"
             ],
             [
              0.6666666666666666,
              "#ed7953"
             ],
             [
              0.7777777777777778,
              "#fb9f3a"
             ],
             [
              0.8888888888888888,
              "#fdca26"
             ],
             [
              1,
              "#f0f921"
             ]
            ],
            "type": "contour"
           }
          ],
          "contourcarpet": [
           {
            "colorbar": {
             "outlinewidth": 0,
             "ticks": ""
            },
            "type": "contourcarpet"
           }
          ],
          "heatmap": [
           {
            "colorbar": {
             "outlinewidth": 0,
             "ticks": ""
            },
            "colorscale": [
             [
              0,
              "#0d0887"
             ],
             [
              0.1111111111111111,
              "#46039f"
             ],
             [
              0.2222222222222222,
              "#7201a8"
             ],
             [
              0.3333333333333333,
              "#9c179e"
             ],
             [
              0.4444444444444444,
              "#bd3786"
             ],
             [
              0.5555555555555556,
              "#d8576b"
             ],
             [
              0.6666666666666666,
              "#ed7953"
             ],
             [
              0.7777777777777778,
              "#fb9f3a"
             ],
             [
              0.8888888888888888,
              "#fdca26"
             ],
             [
              1,
              "#f0f921"
             ]
            ],
            "type": "heatmap"
           }
          ],
          "heatmapgl": [
           {
            "colorbar": {
             "outlinewidth": 0,
             "ticks": ""
            },
            "colorscale": [
             [
              0,
              "#0d0887"
             ],
             [
              0.1111111111111111,
              "#46039f"
             ],
             [
              0.2222222222222222,
              "#7201a8"
             ],
             [
              0.3333333333333333,
              "#9c179e"
             ],
             [
              0.4444444444444444,
              "#bd3786"
             ],
             [
              0.5555555555555556,
              "#d8576b"
             ],
             [
              0.6666666666666666,
              "#ed7953"
             ],
             [
              0.7777777777777778,
              "#fb9f3a"
             ],
             [
              0.8888888888888888,
              "#fdca26"
             ],
             [
              1,
              "#f0f921"
             ]
            ],
            "type": "heatmapgl"
           }
          ],
          "histogram": [
           {
            "marker": {
             "pattern": {
              "fillmode": "overlay",
              "size": 10,
              "solidity": 0.2
             }
            },
            "type": "histogram"
           }
          ],
          "histogram2d": [
           {
            "colorbar": {
             "outlinewidth": 0,
             "ticks": ""
            },
            "colorscale": [
             [
              0,
              "#0d0887"
             ],
             [
              0.1111111111111111,
              "#46039f"
             ],
             [
              0.2222222222222222,
              "#7201a8"
             ],
             [
              0.3333333333333333,
              "#9c179e"
             ],
             [
              0.4444444444444444,
              "#bd3786"
             ],
             [
              0.5555555555555556,
              "#d8576b"
             ],
             [
              0.6666666666666666,
              "#ed7953"
             ],
             [
              0.7777777777777778,
              "#fb9f3a"
             ],
             [
              0.8888888888888888,
              "#fdca26"
             ],
             [
              1,
              "#f0f921"
             ]
            ],
            "type": "histogram2d"
           }
          ],
          "histogram2dcontour": [
           {
            "colorbar": {
             "outlinewidth": 0,
             "ticks": ""
            },
            "colorscale": [
             [
              0,
              "#0d0887"
             ],
             [
              0.1111111111111111,
              "#46039f"
             ],
             [
              0.2222222222222222,
              "#7201a8"
             ],
             [
              0.3333333333333333,
              "#9c179e"
             ],
             [
              0.4444444444444444,
              "#bd3786"
             ],
             [
              0.5555555555555556,
              "#d8576b"
             ],
             [
              0.6666666666666666,
              "#ed7953"
             ],
             [
              0.7777777777777778,
              "#fb9f3a"
             ],
             [
              0.8888888888888888,
              "#fdca26"
             ],
             [
              1,
              "#f0f921"
             ]
            ],
            "type": "histogram2dcontour"
           }
          ],
          "mesh3d": [
           {
            "colorbar": {
             "outlinewidth": 0,
             "ticks": ""
            },
            "type": "mesh3d"
           }
          ],
          "parcoords": [
           {
            "line": {
             "colorbar": {
              "outlinewidth": 0,
              "ticks": ""
             }
            },
            "type": "parcoords"
           }
          ],
          "pie": [
           {
            "automargin": true,
            "type": "pie"
           }
          ],
          "scatter": [
           {
            "fillpattern": {
             "fillmode": "overlay",
             "size": 10,
             "solidity": 0.2
            },
            "type": "scatter"
           }
          ],
          "scatter3d": [
           {
            "line": {
             "colorbar": {
              "outlinewidth": 0,
              "ticks": ""
             }
            },
            "marker": {
             "colorbar": {
              "outlinewidth": 0,
              "ticks": ""
             }
            },
            "type": "scatter3d"
           }
          ],
          "scattercarpet": [
           {
            "marker": {
             "colorbar": {
              "outlinewidth": 0,
              "ticks": ""
             }
            },
            "type": "scattercarpet"
           }
          ],
          "scattergeo": [
           {
            "marker": {
             "colorbar": {
              "outlinewidth": 0,
              "ticks": ""
             }
            },
            "type": "scattergeo"
           }
          ],
          "scattergl": [
           {
            "marker": {
             "colorbar": {
              "outlinewidth": 0,
              "ticks": ""
             }
            },
            "type": "scattergl"
           }
          ],
          "scattermapbox": [
           {
            "marker": {
             "colorbar": {
              "outlinewidth": 0,
              "ticks": ""
             }
            },
            "type": "scattermapbox"
           }
          ],
          "scatterpolar": [
           {
            "marker": {
             "colorbar": {
              "outlinewidth": 0,
              "ticks": ""
             }
            },
            "type": "scatterpolar"
           }
          ],
          "scatterpolargl": [
           {
            "marker": {
             "colorbar": {
              "outlinewidth": 0,
              "ticks": ""
             }
            },
            "type": "scatterpolargl"
           }
          ],
          "scatterternary": [
           {
            "marker": {
             "colorbar": {
              "outlinewidth": 0,
              "ticks": ""
             }
            },
            "type": "scatterternary"
           }
          ],
          "surface": [
           {
            "colorbar": {
             "outlinewidth": 0,
             "ticks": ""
            },
            "colorscale": [
             [
              0,
              "#0d0887"
             ],
             [
              0.1111111111111111,
              "#46039f"
             ],
             [
              0.2222222222222222,
              "#7201a8"
             ],
             [
              0.3333333333333333,
              "#9c179e"
             ],
             [
              0.4444444444444444,
              "#bd3786"
             ],
             [
              0.5555555555555556,
              "#d8576b"
             ],
             [
              0.6666666666666666,
              "#ed7953"
             ],
             [
              0.7777777777777778,
              "#fb9f3a"
             ],
             [
              0.8888888888888888,
              "#fdca26"
             ],
             [
              1,
              "#f0f921"
             ]
            ],
            "type": "surface"
           }
          ],
          "table": [
           {
            "cells": {
             "fill": {
              "color": "#EBF0F8"
             },
             "line": {
              "color": "white"
             }
            },
            "header": {
             "fill": {
              "color": "#C8D4E3"
             },
             "line": {
              "color": "white"
             }
            },
            "type": "table"
           }
          ]
         },
         "layout": {
          "annotationdefaults": {
           "arrowcolor": "#2a3f5f",
           "arrowhead": 0,
           "arrowwidth": 1
          },
          "autotypenumbers": "strict",
          "coloraxis": {
           "colorbar": {
            "outlinewidth": 0,
            "ticks": ""
           }
          },
          "colorscale": {
           "diverging": [
            [
             0,
             "#8e0152"
            ],
            [
             0.1,
             "#c51b7d"
            ],
            [
             0.2,
             "#de77ae"
            ],
            [
             0.3,
             "#f1b6da"
            ],
            [
             0.4,
             "#fde0ef"
            ],
            [
             0.5,
             "#f7f7f7"
            ],
            [
             0.6,
             "#e6f5d0"
            ],
            [
             0.7,
             "#b8e186"
            ],
            [
             0.8,
             "#7fbc41"
            ],
            [
             0.9,
             "#4d9221"
            ],
            [
             1,
             "#276419"
            ]
           ],
           "sequential": [
            [
             0,
             "#0d0887"
            ],
            [
             0.1111111111111111,
             "#46039f"
            ],
            [
             0.2222222222222222,
             "#7201a8"
            ],
            [
             0.3333333333333333,
             "#9c179e"
            ],
            [
             0.4444444444444444,
             "#bd3786"
            ],
            [
             0.5555555555555556,
             "#d8576b"
            ],
            [
             0.6666666666666666,
             "#ed7953"
            ],
            [
             0.7777777777777778,
             "#fb9f3a"
            ],
            [
             0.8888888888888888,
             "#fdca26"
            ],
            [
             1,
             "#f0f921"
            ]
           ],
           "sequentialminus": [
            [
             0,
             "#0d0887"
            ],
            [
             0.1111111111111111,
             "#46039f"
            ],
            [
             0.2222222222222222,
             "#7201a8"
            ],
            [
             0.3333333333333333,
             "#9c179e"
            ],
            [
             0.4444444444444444,
             "#bd3786"
            ],
            [
             0.5555555555555556,
             "#d8576b"
            ],
            [
             0.6666666666666666,
             "#ed7953"
            ],
            [
             0.7777777777777778,
             "#fb9f3a"
            ],
            [
             0.8888888888888888,
             "#fdca26"
            ],
            [
             1,
             "#f0f921"
            ]
           ]
          },
          "colorway": [
           "#636efa",
           "#EF553B",
           "#00cc96",
           "#ab63fa",
           "#FFA15A",
           "#19d3f3",
           "#FF6692",
           "#B6E880",
           "#FF97FF",
           "#FECB52"
          ],
          "font": {
           "color": "#2a3f5f"
          },
          "geo": {
           "bgcolor": "white",
           "lakecolor": "white",
           "landcolor": "#E5ECF6",
           "showlakes": true,
           "showland": true,
           "subunitcolor": "white"
          },
          "hoverlabel": {
           "align": "left"
          },
          "hovermode": "closest",
          "mapbox": {
           "style": "light"
          },
          "paper_bgcolor": "white",
          "plot_bgcolor": "#E5ECF6",
          "polar": {
           "angularaxis": {
            "gridcolor": "white",
            "linecolor": "white",
            "ticks": ""
           },
           "bgcolor": "#E5ECF6",
           "radialaxis": {
            "gridcolor": "white",
            "linecolor": "white",
            "ticks": ""
           }
          },
          "scene": {
           "xaxis": {
            "backgroundcolor": "#E5ECF6",
            "gridcolor": "white",
            "gridwidth": 2,
            "linecolor": "white",
            "showbackground": true,
            "ticks": "",
            "zerolinecolor": "white"
           },
           "yaxis": {
            "backgroundcolor": "#E5ECF6",
            "gridcolor": "white",
            "gridwidth": 2,
            "linecolor": "white",
            "showbackground": true,
            "ticks": "",
            "zerolinecolor": "white"
           },
           "zaxis": {
            "backgroundcolor": "#E5ECF6",
            "gridcolor": "white",
            "gridwidth": 2,
            "linecolor": "white",
            "showbackground": true,
            "ticks": "",
            "zerolinecolor": "white"
           }
          },
          "shapedefaults": {
           "line": {
            "color": "#2a3f5f"
           }
          },
          "ternary": {
           "aaxis": {
            "gridcolor": "white",
            "linecolor": "white",
            "ticks": ""
           },
           "baxis": {
            "gridcolor": "white",
            "linecolor": "white",
            "ticks": ""
           },
           "bgcolor": "#E5ECF6",
           "caxis": {
            "gridcolor": "white",
            "linecolor": "white",
            "ticks": ""
           }
          },
          "title": {
           "x": 0.05
          },
          "xaxis": {
           "automargin": true,
           "gridcolor": "white",
           "linecolor": "white",
           "ticks": "",
           "title": {
            "standoff": 15
           },
           "zerolinecolor": "white",
           "zerolinewidth": 2
          },
          "yaxis": {
           "automargin": true,
           "gridcolor": "white",
           "linecolor": "white",
           "ticks": "",
           "title": {
            "standoff": 15
           },
           "zerolinecolor": "white",
           "zerolinewidth": 2
          }
         }
        },
        "title": {
         "text": "AST division for Bulls team"
        }
       }
      }
     },
     "metadata": {},
     "output_type": "display_data"
    }
   ],
   "source": [
    "fig3 = px.pie(values=plot_sum_data['AST'], names=plot_sum_data['PLAYER_NAME'], title =f'AST division for {team} team', hole=.3)\n",
    "fig3.show()"
   ]
  },
  {
   "cell_type": "code",
   "execution_count": 76,
   "metadata": {},
   "outputs": [
    {
     "data": {
      "application/vnd.plotly.v1+json": {
       "config": {
        "plotlyServerURL": "https://plot.ly"
       },
       "data": [
        {
         "domain": {
          "x": [
           0,
           1
          ],
          "y": [
           0,
           1
          ]
         },
         "hole": 0.3,
         "hovertemplate": "label=%{label}<br>value=%{value}<extra></extra>",
         "labels": [
          "Andres Nocioni",
          "Ben Gordon",
          "Chris Duhon",
          "Darius Songaila",
          "Eddie Basden",
          "Eric Piatkowski",
          "James Thomas",
          "Jannero Pargo",
          "Kirk Hinrich",
          "Luke Schenscher",
          "Luol Deng",
          "Malik Allen",
          "Michael Sweetney",
          "Othella Harrington",
          "Randy Holcomb",
          "Randy Livingston",
          "Stephen Graham",
          "Tim Thomas",
          "Tyson Chandler"
         ],
         "legendgroup": "",
         "name": "",
         "showlegend": true,
         "type": "pie",
         "values": [
          553,
          239,
          236,
          246,
          28,
          28,
          8,
          67,
          308,
          36,
          545,
          158,
          383,
          156,
          1,
          4,
          3,
          4,
          741
         ]
        }
       ],
       "layout": {
        "legend": {
         "tracegroupgap": 0
        },
        "template": {
         "data": {
          "bar": [
           {
            "error_x": {
             "color": "#2a3f5f"
            },
            "error_y": {
             "color": "#2a3f5f"
            },
            "marker": {
             "line": {
              "color": "#E5ECF6",
              "width": 0.5
             },
             "pattern": {
              "fillmode": "overlay",
              "size": 10,
              "solidity": 0.2
             }
            },
            "type": "bar"
           }
          ],
          "barpolar": [
           {
            "marker": {
             "line": {
              "color": "#E5ECF6",
              "width": 0.5
             },
             "pattern": {
              "fillmode": "overlay",
              "size": 10,
              "solidity": 0.2
             }
            },
            "type": "barpolar"
           }
          ],
          "carpet": [
           {
            "aaxis": {
             "endlinecolor": "#2a3f5f",
             "gridcolor": "white",
             "linecolor": "white",
             "minorgridcolor": "white",
             "startlinecolor": "#2a3f5f"
            },
            "baxis": {
             "endlinecolor": "#2a3f5f",
             "gridcolor": "white",
             "linecolor": "white",
             "minorgridcolor": "white",
             "startlinecolor": "#2a3f5f"
            },
            "type": "carpet"
           }
          ],
          "choropleth": [
           {
            "colorbar": {
             "outlinewidth": 0,
             "ticks": ""
            },
            "type": "choropleth"
           }
          ],
          "contour": [
           {
            "colorbar": {
             "outlinewidth": 0,
             "ticks": ""
            },
            "colorscale": [
             [
              0,
              "#0d0887"
             ],
             [
              0.1111111111111111,
              "#46039f"
             ],
             [
              0.2222222222222222,
              "#7201a8"
             ],
             [
              0.3333333333333333,
              "#9c179e"
             ],
             [
              0.4444444444444444,
              "#bd3786"
             ],
             [
              0.5555555555555556,
              "#d8576b"
             ],
             [
              0.6666666666666666,
              "#ed7953"
             ],
             [
              0.7777777777777778,
              "#fb9f3a"
             ],
             [
              0.8888888888888888,
              "#fdca26"
             ],
             [
              1,
              "#f0f921"
             ]
            ],
            "type": "contour"
           }
          ],
          "contourcarpet": [
           {
            "colorbar": {
             "outlinewidth": 0,
             "ticks": ""
            },
            "type": "contourcarpet"
           }
          ],
          "heatmap": [
           {
            "colorbar": {
             "outlinewidth": 0,
             "ticks": ""
            },
            "colorscale": [
             [
              0,
              "#0d0887"
             ],
             [
              0.1111111111111111,
              "#46039f"
             ],
             [
              0.2222222222222222,
              "#7201a8"
             ],
             [
              0.3333333333333333,
              "#9c179e"
             ],
             [
              0.4444444444444444,
              "#bd3786"
             ],
             [
              0.5555555555555556,
              "#d8576b"
             ],
             [
              0.6666666666666666,
              "#ed7953"
             ],
             [
              0.7777777777777778,
              "#fb9f3a"
             ],
             [
              0.8888888888888888,
              "#fdca26"
             ],
             [
              1,
              "#f0f921"
             ]
            ],
            "type": "heatmap"
           }
          ],
          "heatmapgl": [
           {
            "colorbar": {
             "outlinewidth": 0,
             "ticks": ""
            },
            "colorscale": [
             [
              0,
              "#0d0887"
             ],
             [
              0.1111111111111111,
              "#46039f"
             ],
             [
              0.2222222222222222,
              "#7201a8"
             ],
             [
              0.3333333333333333,
              "#9c179e"
             ],
             [
              0.4444444444444444,
              "#bd3786"
             ],
             [
              0.5555555555555556,
              "#d8576b"
             ],
             [
              0.6666666666666666,
              "#ed7953"
             ],
             [
              0.7777777777777778,
              "#fb9f3a"
             ],
             [
              0.8888888888888888,
              "#fdca26"
             ],
             [
              1,
              "#f0f921"
             ]
            ],
            "type": "heatmapgl"
           }
          ],
          "histogram": [
           {
            "marker": {
             "pattern": {
              "fillmode": "overlay",
              "size": 10,
              "solidity": 0.2
             }
            },
            "type": "histogram"
           }
          ],
          "histogram2d": [
           {
            "colorbar": {
             "outlinewidth": 0,
             "ticks": ""
            },
            "colorscale": [
             [
              0,
              "#0d0887"
             ],
             [
              0.1111111111111111,
              "#46039f"
             ],
             [
              0.2222222222222222,
              "#7201a8"
             ],
             [
              0.3333333333333333,
              "#9c179e"
             ],
             [
              0.4444444444444444,
              "#bd3786"
             ],
             [
              0.5555555555555556,
              "#d8576b"
             ],
             [
              0.6666666666666666,
              "#ed7953"
             ],
             [
              0.7777777777777778,
              "#fb9f3a"
             ],
             [
              0.8888888888888888,
              "#fdca26"
             ],
             [
              1,
              "#f0f921"
             ]
            ],
            "type": "histogram2d"
           }
          ],
          "histogram2dcontour": [
           {
            "colorbar": {
             "outlinewidth": 0,
             "ticks": ""
            },
            "colorscale": [
             [
              0,
              "#0d0887"
             ],
             [
              0.1111111111111111,
              "#46039f"
             ],
             [
              0.2222222222222222,
              "#7201a8"
             ],
             [
              0.3333333333333333,
              "#9c179e"
             ],
             [
              0.4444444444444444,
              "#bd3786"
             ],
             [
              0.5555555555555556,
              "#d8576b"
             ],
             [
              0.6666666666666666,
              "#ed7953"
             ],
             [
              0.7777777777777778,
              "#fb9f3a"
             ],
             [
              0.8888888888888888,
              "#fdca26"
             ],
             [
              1,
              "#f0f921"
             ]
            ],
            "type": "histogram2dcontour"
           }
          ],
          "mesh3d": [
           {
            "colorbar": {
             "outlinewidth": 0,
             "ticks": ""
            },
            "type": "mesh3d"
           }
          ],
          "parcoords": [
           {
            "line": {
             "colorbar": {
              "outlinewidth": 0,
              "ticks": ""
             }
            },
            "type": "parcoords"
           }
          ],
          "pie": [
           {
            "automargin": true,
            "type": "pie"
           }
          ],
          "scatter": [
           {
            "fillpattern": {
             "fillmode": "overlay",
             "size": 10,
             "solidity": 0.2
            },
            "type": "scatter"
           }
          ],
          "scatter3d": [
           {
            "line": {
             "colorbar": {
              "outlinewidth": 0,
              "ticks": ""
             }
            },
            "marker": {
             "colorbar": {
              "outlinewidth": 0,
              "ticks": ""
             }
            },
            "type": "scatter3d"
           }
          ],
          "scattercarpet": [
           {
            "marker": {
             "colorbar": {
              "outlinewidth": 0,
              "ticks": ""
             }
            },
            "type": "scattercarpet"
           }
          ],
          "scattergeo": [
           {
            "marker": {
             "colorbar": {
              "outlinewidth": 0,
              "ticks": ""
             }
            },
            "type": "scattergeo"
           }
          ],
          "scattergl": [
           {
            "marker": {
             "colorbar": {
              "outlinewidth": 0,
              "ticks": ""
             }
            },
            "type": "scattergl"
           }
          ],
          "scattermapbox": [
           {
            "marker": {
             "colorbar": {
              "outlinewidth": 0,
              "ticks": ""
             }
            },
            "type": "scattermapbox"
           }
          ],
          "scatterpolar": [
           {
            "marker": {
             "colorbar": {
              "outlinewidth": 0,
              "ticks": ""
             }
            },
            "type": "scatterpolar"
           }
          ],
          "scatterpolargl": [
           {
            "marker": {
             "colorbar": {
              "outlinewidth": 0,
              "ticks": ""
             }
            },
            "type": "scatterpolargl"
           }
          ],
          "scatterternary": [
           {
            "marker": {
             "colorbar": {
              "outlinewidth": 0,
              "ticks": ""
             }
            },
            "type": "scatterternary"
           }
          ],
          "surface": [
           {
            "colorbar": {
             "outlinewidth": 0,
             "ticks": ""
            },
            "colorscale": [
             [
              0,
              "#0d0887"
             ],
             [
              0.1111111111111111,
              "#46039f"
             ],
             [
              0.2222222222222222,
              "#7201a8"
             ],
             [
              0.3333333333333333,
              "#9c179e"
             ],
             [
              0.4444444444444444,
              "#bd3786"
             ],
             [
              0.5555555555555556,
              "#d8576b"
             ],
             [
              0.6666666666666666,
              "#ed7953"
             ],
             [
              0.7777777777777778,
              "#fb9f3a"
             ],
             [
              0.8888888888888888,
              "#fdca26"
             ],
             [
              1,
              "#f0f921"
             ]
            ],
            "type": "surface"
           }
          ],
          "table": [
           {
            "cells": {
             "fill": {
              "color": "#EBF0F8"
             },
             "line": {
              "color": "white"
             }
            },
            "header": {
             "fill": {
              "color": "#C8D4E3"
             },
             "line": {
              "color": "white"
             }
            },
            "type": "table"
           }
          ]
         },
         "layout": {
          "annotationdefaults": {
           "arrowcolor": "#2a3f5f",
           "arrowhead": 0,
           "arrowwidth": 1
          },
          "autotypenumbers": "strict",
          "coloraxis": {
           "colorbar": {
            "outlinewidth": 0,
            "ticks": ""
           }
          },
          "colorscale": {
           "diverging": [
            [
             0,
             "#8e0152"
            ],
            [
             0.1,
             "#c51b7d"
            ],
            [
             0.2,
             "#de77ae"
            ],
            [
             0.3,
             "#f1b6da"
            ],
            [
             0.4,
             "#fde0ef"
            ],
            [
             0.5,
             "#f7f7f7"
            ],
            [
             0.6,
             "#e6f5d0"
            ],
            [
             0.7,
             "#b8e186"
            ],
            [
             0.8,
             "#7fbc41"
            ],
            [
             0.9,
             "#4d9221"
            ],
            [
             1,
             "#276419"
            ]
           ],
           "sequential": [
            [
             0,
             "#0d0887"
            ],
            [
             0.1111111111111111,
             "#46039f"
            ],
            [
             0.2222222222222222,
             "#7201a8"
            ],
            [
             0.3333333333333333,
             "#9c179e"
            ],
            [
             0.4444444444444444,
             "#bd3786"
            ],
            [
             0.5555555555555556,
             "#d8576b"
            ],
            [
             0.6666666666666666,
             "#ed7953"
            ],
            [
             0.7777777777777778,
             "#fb9f3a"
            ],
            [
             0.8888888888888888,
             "#fdca26"
            ],
            [
             1,
             "#f0f921"
            ]
           ],
           "sequentialminus": [
            [
             0,
             "#0d0887"
            ],
            [
             0.1111111111111111,
             "#46039f"
            ],
            [
             0.2222222222222222,
             "#7201a8"
            ],
            [
             0.3333333333333333,
             "#9c179e"
            ],
            [
             0.4444444444444444,
             "#bd3786"
            ],
            [
             0.5555555555555556,
             "#d8576b"
            ],
            [
             0.6666666666666666,
             "#ed7953"
            ],
            [
             0.7777777777777778,
             "#fb9f3a"
            ],
            [
             0.8888888888888888,
             "#fdca26"
            ],
            [
             1,
             "#f0f921"
            ]
           ]
          },
          "colorway": [
           "#636efa",
           "#EF553B",
           "#00cc96",
           "#ab63fa",
           "#FFA15A",
           "#19d3f3",
           "#FF6692",
           "#B6E880",
           "#FF97FF",
           "#FECB52"
          ],
          "font": {
           "color": "#2a3f5f"
          },
          "geo": {
           "bgcolor": "white",
           "lakecolor": "white",
           "landcolor": "#E5ECF6",
           "showlakes": true,
           "showland": true,
           "subunitcolor": "white"
          },
          "hoverlabel": {
           "align": "left"
          },
          "hovermode": "closest",
          "mapbox": {
           "style": "light"
          },
          "paper_bgcolor": "white",
          "plot_bgcolor": "#E5ECF6",
          "polar": {
           "angularaxis": {
            "gridcolor": "white",
            "linecolor": "white",
            "ticks": ""
           },
           "bgcolor": "#E5ECF6",
           "radialaxis": {
            "gridcolor": "white",
            "linecolor": "white",
            "ticks": ""
           }
          },
          "scene": {
           "xaxis": {
            "backgroundcolor": "#E5ECF6",
            "gridcolor": "white",
            "gridwidth": 2,
            "linecolor": "white",
            "showbackground": true,
            "ticks": "",
            "zerolinecolor": "white"
           },
           "yaxis": {
            "backgroundcolor": "#E5ECF6",
            "gridcolor": "white",
            "gridwidth": 2,
            "linecolor": "white",
            "showbackground": true,
            "ticks": "",
            "zerolinecolor": "white"
           },
           "zaxis": {
            "backgroundcolor": "#E5ECF6",
            "gridcolor": "white",
            "gridwidth": 2,
            "linecolor": "white",
            "showbackground": true,
            "ticks": "",
            "zerolinecolor": "white"
           }
          },
          "shapedefaults": {
           "line": {
            "color": "#2a3f5f"
           }
          },
          "ternary": {
           "aaxis": {
            "gridcolor": "white",
            "linecolor": "white",
            "ticks": ""
           },
           "baxis": {
            "gridcolor": "white",
            "linecolor": "white",
            "ticks": ""
           },
           "bgcolor": "#E5ECF6",
           "caxis": {
            "gridcolor": "white",
            "linecolor": "white",
            "ticks": ""
           }
          },
          "title": {
           "x": 0.05
          },
          "xaxis": {
           "automargin": true,
           "gridcolor": "white",
           "linecolor": "white",
           "ticks": "",
           "title": {
            "standoff": 15
           },
           "zerolinecolor": "white",
           "zerolinewidth": 2
          },
          "yaxis": {
           "automargin": true,
           "gridcolor": "white",
           "linecolor": "white",
           "ticks": "",
           "title": {
            "standoff": 15
           },
           "zerolinecolor": "white",
           "zerolinewidth": 2
          }
         }
        },
        "title": {
         "text": "REB division for Bulls team"
        }
       }
      }
     },
     "metadata": {},
     "output_type": "display_data"
    }
   ],
   "source": [
    "fig3 = px.pie(values=plot_sum_data['REB'], names=plot_sum_data['PLAYER_NAME'], title =f'REB division for {team} team', hole=.3)\n",
    "fig3.show()"
   ]
  },
  {
   "cell_type": "code",
   "execution_count": 77,
   "metadata": {},
   "outputs": [
    {
     "data": {
      "application/vnd.plotly.v1+json": {
       "config": {
        "plotlyServerURL": "https://plot.ly"
       },
       "data": [
        {
         "domain": {
          "x": [
           0,
           1
          ],
          "y": [
           0,
           1
          ]
         },
         "hole": 0.3,
         "hovertemplate": "label=%{label}<br>value=%{value}<extra></extra>",
         "labels": [
          "Andres Nocioni",
          "Ben Gordon",
          "Chris Duhon",
          "Darius Songaila",
          "Eddie Basden",
          "Eric Piatkowski",
          "James Thomas",
          "Jannero Pargo",
          "Kirk Hinrich",
          "Luke Schenscher",
          "Luol Deng",
          "Malik Allen",
          "Michael Sweetney",
          "Othella Harrington",
          "Randy Holcomb",
          "Randy Livingston",
          "Stephen Graham",
          "Tim Thomas",
          "Tyson Chandler"
         ],
         "legendgroup": "",
         "name": "",
         "showlegend": true,
         "type": "pie",
         "values": [
          103,
          181,
          107,
          2,
          1,
          11,
          0,
          42,
          135,
          0,
          22,
          1,
          0,
          0,
          0,
          0,
          1,
          1,
          0
         ]
        }
       ],
       "layout": {
        "legend": {
         "tracegroupgap": 0
        },
        "template": {
         "data": {
          "bar": [
           {
            "error_x": {
             "color": "#2a3f5f"
            },
            "error_y": {
             "color": "#2a3f5f"
            },
            "marker": {
             "line": {
              "color": "#E5ECF6",
              "width": 0.5
             },
             "pattern": {
              "fillmode": "overlay",
              "size": 10,
              "solidity": 0.2
             }
            },
            "type": "bar"
           }
          ],
          "barpolar": [
           {
            "marker": {
             "line": {
              "color": "#E5ECF6",
              "width": 0.5
             },
             "pattern": {
              "fillmode": "overlay",
              "size": 10,
              "solidity": 0.2
             }
            },
            "type": "barpolar"
           }
          ],
          "carpet": [
           {
            "aaxis": {
             "endlinecolor": "#2a3f5f",
             "gridcolor": "white",
             "linecolor": "white",
             "minorgridcolor": "white",
             "startlinecolor": "#2a3f5f"
            },
            "baxis": {
             "endlinecolor": "#2a3f5f",
             "gridcolor": "white",
             "linecolor": "white",
             "minorgridcolor": "white",
             "startlinecolor": "#2a3f5f"
            },
            "type": "carpet"
           }
          ],
          "choropleth": [
           {
            "colorbar": {
             "outlinewidth": 0,
             "ticks": ""
            },
            "type": "choropleth"
           }
          ],
          "contour": [
           {
            "colorbar": {
             "outlinewidth": 0,
             "ticks": ""
            },
            "colorscale": [
             [
              0,
              "#0d0887"
             ],
             [
              0.1111111111111111,
              "#46039f"
             ],
             [
              0.2222222222222222,
              "#7201a8"
             ],
             [
              0.3333333333333333,
              "#9c179e"
             ],
             [
              0.4444444444444444,
              "#bd3786"
             ],
             [
              0.5555555555555556,
              "#d8576b"
             ],
             [
              0.6666666666666666,
              "#ed7953"
             ],
             [
              0.7777777777777778,
              "#fb9f3a"
             ],
             [
              0.8888888888888888,
              "#fdca26"
             ],
             [
              1,
              "#f0f921"
             ]
            ],
            "type": "contour"
           }
          ],
          "contourcarpet": [
           {
            "colorbar": {
             "outlinewidth": 0,
             "ticks": ""
            },
            "type": "contourcarpet"
           }
          ],
          "heatmap": [
           {
            "colorbar": {
             "outlinewidth": 0,
             "ticks": ""
            },
            "colorscale": [
             [
              0,
              "#0d0887"
             ],
             [
              0.1111111111111111,
              "#46039f"
             ],
             [
              0.2222222222222222,
              "#7201a8"
             ],
             [
              0.3333333333333333,
              "#9c179e"
             ],
             [
              0.4444444444444444,
              "#bd3786"
             ],
             [
              0.5555555555555556,
              "#d8576b"
             ],
             [
              0.6666666666666666,
              "#ed7953"
             ],
             [
              0.7777777777777778,
              "#fb9f3a"
             ],
             [
              0.8888888888888888,
              "#fdca26"
             ],
             [
              1,
              "#f0f921"
             ]
            ],
            "type": "heatmap"
           }
          ],
          "heatmapgl": [
           {
            "colorbar": {
             "outlinewidth": 0,
             "ticks": ""
            },
            "colorscale": [
             [
              0,
              "#0d0887"
             ],
             [
              0.1111111111111111,
              "#46039f"
             ],
             [
              0.2222222222222222,
              "#7201a8"
             ],
             [
              0.3333333333333333,
              "#9c179e"
             ],
             [
              0.4444444444444444,
              "#bd3786"
             ],
             [
              0.5555555555555556,
              "#d8576b"
             ],
             [
              0.6666666666666666,
              "#ed7953"
             ],
             [
              0.7777777777777778,
              "#fb9f3a"
             ],
             [
              0.8888888888888888,
              "#fdca26"
             ],
             [
              1,
              "#f0f921"
             ]
            ],
            "type": "heatmapgl"
           }
          ],
          "histogram": [
           {
            "marker": {
             "pattern": {
              "fillmode": "overlay",
              "size": 10,
              "solidity": 0.2
             }
            },
            "type": "histogram"
           }
          ],
          "histogram2d": [
           {
            "colorbar": {
             "outlinewidth": 0,
             "ticks": ""
            },
            "colorscale": [
             [
              0,
              "#0d0887"
             ],
             [
              0.1111111111111111,
              "#46039f"
             ],
             [
              0.2222222222222222,
              "#7201a8"
             ],
             [
              0.3333333333333333,
              "#9c179e"
             ],
             [
              0.4444444444444444,
              "#bd3786"
             ],
             [
              0.5555555555555556,
              "#d8576b"
             ],
             [
              0.6666666666666666,
              "#ed7953"
             ],
             [
              0.7777777777777778,
              "#fb9f3a"
             ],
             [
              0.8888888888888888,
              "#fdca26"
             ],
             [
              1,
              "#f0f921"
             ]
            ],
            "type": "histogram2d"
           }
          ],
          "histogram2dcontour": [
           {
            "colorbar": {
             "outlinewidth": 0,
             "ticks": ""
            },
            "colorscale": [
             [
              0,
              "#0d0887"
             ],
             [
              0.1111111111111111,
              "#46039f"
             ],
             [
              0.2222222222222222,
              "#7201a8"
             ],
             [
              0.3333333333333333,
              "#9c179e"
             ],
             [
              0.4444444444444444,
              "#bd3786"
             ],
             [
              0.5555555555555556,
              "#d8576b"
             ],
             [
              0.6666666666666666,
              "#ed7953"
             ],
             [
              0.7777777777777778,
              "#fb9f3a"
             ],
             [
              0.8888888888888888,
              "#fdca26"
             ],
             [
              1,
              "#f0f921"
             ]
            ],
            "type": "histogram2dcontour"
           }
          ],
          "mesh3d": [
           {
            "colorbar": {
             "outlinewidth": 0,
             "ticks": ""
            },
            "type": "mesh3d"
           }
          ],
          "parcoords": [
           {
            "line": {
             "colorbar": {
              "outlinewidth": 0,
              "ticks": ""
             }
            },
            "type": "parcoords"
           }
          ],
          "pie": [
           {
            "automargin": true,
            "type": "pie"
           }
          ],
          "scatter": [
           {
            "fillpattern": {
             "fillmode": "overlay",
             "size": 10,
             "solidity": 0.2
            },
            "type": "scatter"
           }
          ],
          "scatter3d": [
           {
            "line": {
             "colorbar": {
              "outlinewidth": 0,
              "ticks": ""
             }
            },
            "marker": {
             "colorbar": {
              "outlinewidth": 0,
              "ticks": ""
             }
            },
            "type": "scatter3d"
           }
          ],
          "scattercarpet": [
           {
            "marker": {
             "colorbar": {
              "outlinewidth": 0,
              "ticks": ""
             }
            },
            "type": "scattercarpet"
           }
          ],
          "scattergeo": [
           {
            "marker": {
             "colorbar": {
              "outlinewidth": 0,
              "ticks": ""
             }
            },
            "type": "scattergeo"
           }
          ],
          "scattergl": [
           {
            "marker": {
             "colorbar": {
              "outlinewidth": 0,
              "ticks": ""
             }
            },
            "type": "scattergl"
           }
          ],
          "scattermapbox": [
           {
            "marker": {
             "colorbar": {
              "outlinewidth": 0,
              "ticks": ""
             }
            },
            "type": "scattermapbox"
           }
          ],
          "scatterpolar": [
           {
            "marker": {
             "colorbar": {
              "outlinewidth": 0,
              "ticks": ""
             }
            },
            "type": "scatterpolar"
           }
          ],
          "scatterpolargl": [
           {
            "marker": {
             "colorbar": {
              "outlinewidth": 0,
              "ticks": ""
             }
            },
            "type": "scatterpolargl"
           }
          ],
          "scatterternary": [
           {
            "marker": {
             "colorbar": {
              "outlinewidth": 0,
              "ticks": ""
             }
            },
            "type": "scatterternary"
           }
          ],
          "surface": [
           {
            "colorbar": {
             "outlinewidth": 0,
             "ticks": ""
            },
            "colorscale": [
             [
              0,
              "#0d0887"
             ],
             [
              0.1111111111111111,
              "#46039f"
             ],
             [
              0.2222222222222222,
              "#7201a8"
             ],
             [
              0.3333333333333333,
              "#9c179e"
             ],
             [
              0.4444444444444444,
              "#bd3786"
             ],
             [
              0.5555555555555556,
              "#d8576b"
             ],
             [
              0.6666666666666666,
              "#ed7953"
             ],
             [
              0.7777777777777778,
              "#fb9f3a"
             ],
             [
              0.8888888888888888,
              "#fdca26"
             ],
             [
              1,
              "#f0f921"
             ]
            ],
            "type": "surface"
           }
          ],
          "table": [
           {
            "cells": {
             "fill": {
              "color": "#EBF0F8"
             },
             "line": {
              "color": "white"
             }
            },
            "header": {
             "fill": {
              "color": "#C8D4E3"
             },
             "line": {
              "color": "white"
             }
            },
            "type": "table"
           }
          ]
         },
         "layout": {
          "annotationdefaults": {
           "arrowcolor": "#2a3f5f",
           "arrowhead": 0,
           "arrowwidth": 1
          },
          "autotypenumbers": "strict",
          "coloraxis": {
           "colorbar": {
            "outlinewidth": 0,
            "ticks": ""
           }
          },
          "colorscale": {
           "diverging": [
            [
             0,
             "#8e0152"
            ],
            [
             0.1,
             "#c51b7d"
            ],
            [
             0.2,
             "#de77ae"
            ],
            [
             0.3,
             "#f1b6da"
            ],
            [
             0.4,
             "#fde0ef"
            ],
            [
             0.5,
             "#f7f7f7"
            ],
            [
             0.6,
             "#e6f5d0"
            ],
            [
             0.7,
             "#b8e186"
            ],
            [
             0.8,
             "#7fbc41"
            ],
            [
             0.9,
             "#4d9221"
            ],
            [
             1,
             "#276419"
            ]
           ],
           "sequential": [
            [
             0,
             "#0d0887"
            ],
            [
             0.1111111111111111,
             "#46039f"
            ],
            [
             0.2222222222222222,
             "#7201a8"
            ],
            [
             0.3333333333333333,
             "#9c179e"
            ],
            [
             0.4444444444444444,
             "#bd3786"
            ],
            [
             0.5555555555555556,
             "#d8576b"
            ],
            [
             0.6666666666666666,
             "#ed7953"
            ],
            [
             0.7777777777777778,
             "#fb9f3a"
            ],
            [
             0.8888888888888888,
             "#fdca26"
            ],
            [
             1,
             "#f0f921"
            ]
           ],
           "sequentialminus": [
            [
             0,
             "#0d0887"
            ],
            [
             0.1111111111111111,
             "#46039f"
            ],
            [
             0.2222222222222222,
             "#7201a8"
            ],
            [
             0.3333333333333333,
             "#9c179e"
            ],
            [
             0.4444444444444444,
             "#bd3786"
            ],
            [
             0.5555555555555556,
             "#d8576b"
            ],
            [
             0.6666666666666666,
             "#ed7953"
            ],
            [
             0.7777777777777778,
             "#fb9f3a"
            ],
            [
             0.8888888888888888,
             "#fdca26"
            ],
            [
             1,
             "#f0f921"
            ]
           ]
          },
          "colorway": [
           "#636efa",
           "#EF553B",
           "#00cc96",
           "#ab63fa",
           "#FFA15A",
           "#19d3f3",
           "#FF6692",
           "#B6E880",
           "#FF97FF",
           "#FECB52"
          ],
          "font": {
           "color": "#2a3f5f"
          },
          "geo": {
           "bgcolor": "white",
           "lakecolor": "white",
           "landcolor": "#E5ECF6",
           "showlakes": true,
           "showland": true,
           "subunitcolor": "white"
          },
          "hoverlabel": {
           "align": "left"
          },
          "hovermode": "closest",
          "mapbox": {
           "style": "light"
          },
          "paper_bgcolor": "white",
          "plot_bgcolor": "#E5ECF6",
          "polar": {
           "angularaxis": {
            "gridcolor": "white",
            "linecolor": "white",
            "ticks": ""
           },
           "bgcolor": "#E5ECF6",
           "radialaxis": {
            "gridcolor": "white",
            "linecolor": "white",
            "ticks": ""
           }
          },
          "scene": {
           "xaxis": {
            "backgroundcolor": "#E5ECF6",
            "gridcolor": "white",
            "gridwidth": 2,
            "linecolor": "white",
            "showbackground": true,
            "ticks": "",
            "zerolinecolor": "white"
           },
           "yaxis": {
            "backgroundcolor": "#E5ECF6",
            "gridcolor": "white",
            "gridwidth": 2,
            "linecolor": "white",
            "showbackground": true,
            "ticks": "",
            "zerolinecolor": "white"
           },
           "zaxis": {
            "backgroundcolor": "#E5ECF6",
            "gridcolor": "white",
            "gridwidth": 2,
            "linecolor": "white",
            "showbackground": true,
            "ticks": "",
            "zerolinecolor": "white"
           }
          },
          "shapedefaults": {
           "line": {
            "color": "#2a3f5f"
           }
          },
          "ternary": {
           "aaxis": {
            "gridcolor": "white",
            "linecolor": "white",
            "ticks": ""
           },
           "baxis": {
            "gridcolor": "white",
            "linecolor": "white",
            "ticks": ""
           },
           "bgcolor": "#E5ECF6",
           "caxis": {
            "gridcolor": "white",
            "linecolor": "white",
            "ticks": ""
           }
          },
          "title": {
           "x": 0.05
          },
          "xaxis": {
           "automargin": true,
           "gridcolor": "white",
           "linecolor": "white",
           "ticks": "",
           "title": {
            "standoff": 15
           },
           "zerolinecolor": "white",
           "zerolinewidth": 2
          },
          "yaxis": {
           "automargin": true,
           "gridcolor": "white",
           "linecolor": "white",
           "ticks": "",
           "title": {
            "standoff": 15
           },
           "zerolinecolor": "white",
           "zerolinewidth": 2
          }
         }
        },
        "title": {
         "text": "FG3M division for Bulls team"
        }
       }
      }
     },
     "metadata": {},
     "output_type": "display_data"
    }
   ],
   "source": [
    "fig3 = px.pie(values=plot_sum_data['FG3M'], names=plot_sum_data['PLAYER_NAME'], title =f'FG3M division for {team} team', hole=.3)\n",
    "fig3.show()"
   ]
  },
  {
   "cell_type": "code",
   "execution_count": 78,
   "metadata": {},
   "outputs": [
    {
     "data": {
      "application/vnd.plotly.v1+json": {
       "config": {
        "plotlyServerURL": "https://plot.ly"
       },
       "data": [
        {
         "domain": {
          "x": [
           0,
           1
          ],
          "y": [
           0,
           1
          ]
         },
         "hole": 0.3,
         "hovertemplate": "label=%{label}<br>value=%{value}<extra></extra>",
         "labels": [
          "Andres Nocioni",
          "Ben Gordon",
          "Chris Duhon",
          "Darius Songaila",
          "Eddie Basden",
          "Eric Piatkowski",
          "James Thomas",
          "Jannero Pargo",
          "Kirk Hinrich",
          "Luke Schenscher",
          "Luol Deng",
          "Malik Allen",
          "Michael Sweetney",
          "Othella Harrington",
          "Randy Holcomb",
          "Randy Livingston",
          "Stephen Graham",
          "Tim Thomas",
          "Tyson Chandler"
         ],
         "legendgroup": "",
         "name": "",
         "showlegend": true,
         "type": "pie",
         "values": [
          259,
          423,
          294,
          5,
          7,
          38,
          0,
          108,
          367,
          0,
          83,
          1,
          0,
          0,
          0,
          0,
          4,
          6,
          1
         ]
        }
       ],
       "layout": {
        "legend": {
         "tracegroupgap": 0
        },
        "template": {
         "data": {
          "bar": [
           {
            "error_x": {
             "color": "#2a3f5f"
            },
            "error_y": {
             "color": "#2a3f5f"
            },
            "marker": {
             "line": {
              "color": "#E5ECF6",
              "width": 0.5
             },
             "pattern": {
              "fillmode": "overlay",
              "size": 10,
              "solidity": 0.2
             }
            },
            "type": "bar"
           }
          ],
          "barpolar": [
           {
            "marker": {
             "line": {
              "color": "#E5ECF6",
              "width": 0.5
             },
             "pattern": {
              "fillmode": "overlay",
              "size": 10,
              "solidity": 0.2
             }
            },
            "type": "barpolar"
           }
          ],
          "carpet": [
           {
            "aaxis": {
             "endlinecolor": "#2a3f5f",
             "gridcolor": "white",
             "linecolor": "white",
             "minorgridcolor": "white",
             "startlinecolor": "#2a3f5f"
            },
            "baxis": {
             "endlinecolor": "#2a3f5f",
             "gridcolor": "white",
             "linecolor": "white",
             "minorgridcolor": "white",
             "startlinecolor": "#2a3f5f"
            },
            "type": "carpet"
           }
          ],
          "choropleth": [
           {
            "colorbar": {
             "outlinewidth": 0,
             "ticks": ""
            },
            "type": "choropleth"
           }
          ],
          "contour": [
           {
            "colorbar": {
             "outlinewidth": 0,
             "ticks": ""
            },
            "colorscale": [
             [
              0,
              "#0d0887"
             ],
             [
              0.1111111111111111,
              "#46039f"
             ],
             [
              0.2222222222222222,
              "#7201a8"
             ],
             [
              0.3333333333333333,
              "#9c179e"
             ],
             [
              0.4444444444444444,
              "#bd3786"
             ],
             [
              0.5555555555555556,
              "#d8576b"
             ],
             [
              0.6666666666666666,
              "#ed7953"
             ],
             [
              0.7777777777777778,
              "#fb9f3a"
             ],
             [
              0.8888888888888888,
              "#fdca26"
             ],
             [
              1,
              "#f0f921"
             ]
            ],
            "type": "contour"
           }
          ],
          "contourcarpet": [
           {
            "colorbar": {
             "outlinewidth": 0,
             "ticks": ""
            },
            "type": "contourcarpet"
           }
          ],
          "heatmap": [
           {
            "colorbar": {
             "outlinewidth": 0,
             "ticks": ""
            },
            "colorscale": [
             [
              0,
              "#0d0887"
             ],
             [
              0.1111111111111111,
              "#46039f"
             ],
             [
              0.2222222222222222,
              "#7201a8"
             ],
             [
              0.3333333333333333,
              "#9c179e"
             ],
             [
              0.4444444444444444,
              "#bd3786"
             ],
             [
              0.5555555555555556,
              "#d8576b"
             ],
             [
              0.6666666666666666,
              "#ed7953"
             ],
             [
              0.7777777777777778,
              "#fb9f3a"
             ],
             [
              0.8888888888888888,
              "#fdca26"
             ],
             [
              1,
              "#f0f921"
             ]
            ],
            "type": "heatmap"
           }
          ],
          "heatmapgl": [
           {
            "colorbar": {
             "outlinewidth": 0,
             "ticks": ""
            },
            "colorscale": [
             [
              0,
              "#0d0887"
             ],
             [
              0.1111111111111111,
              "#46039f"
             ],
             [
              0.2222222222222222,
              "#7201a8"
             ],
             [
              0.3333333333333333,
              "#9c179e"
             ],
             [
              0.4444444444444444,
              "#bd3786"
             ],
             [
              0.5555555555555556,
              "#d8576b"
             ],
             [
              0.6666666666666666,
              "#ed7953"
             ],
             [
              0.7777777777777778,
              "#fb9f3a"
             ],
             [
              0.8888888888888888,
              "#fdca26"
             ],
             [
              1,
              "#f0f921"
             ]
            ],
            "type": "heatmapgl"
           }
          ],
          "histogram": [
           {
            "marker": {
             "pattern": {
              "fillmode": "overlay",
              "size": 10,
              "solidity": 0.2
             }
            },
            "type": "histogram"
           }
          ],
          "histogram2d": [
           {
            "colorbar": {
             "outlinewidth": 0,
             "ticks": ""
            },
            "colorscale": [
             [
              0,
              "#0d0887"
             ],
             [
              0.1111111111111111,
              "#46039f"
             ],
             [
              0.2222222222222222,
              "#7201a8"
             ],
             [
              0.3333333333333333,
              "#9c179e"
             ],
             [
              0.4444444444444444,
              "#bd3786"
             ],
             [
              0.5555555555555556,
              "#d8576b"
             ],
             [
              0.6666666666666666,
              "#ed7953"
             ],
             [
              0.7777777777777778,
              "#fb9f3a"
             ],
             [
              0.8888888888888888,
              "#fdca26"
             ],
             [
              1,
              "#f0f921"
             ]
            ],
            "type": "histogram2d"
           }
          ],
          "histogram2dcontour": [
           {
            "colorbar": {
             "outlinewidth": 0,
             "ticks": ""
            },
            "colorscale": [
             [
              0,
              "#0d0887"
             ],
             [
              0.1111111111111111,
              "#46039f"
             ],
             [
              0.2222222222222222,
              "#7201a8"
             ],
             [
              0.3333333333333333,
              "#9c179e"
             ],
             [
              0.4444444444444444,
              "#bd3786"
             ],
             [
              0.5555555555555556,
              "#d8576b"
             ],
             [
              0.6666666666666666,
              "#ed7953"
             ],
             [
              0.7777777777777778,
              "#fb9f3a"
             ],
             [
              0.8888888888888888,
              "#fdca26"
             ],
             [
              1,
              "#f0f921"
             ]
            ],
            "type": "histogram2dcontour"
           }
          ],
          "mesh3d": [
           {
            "colorbar": {
             "outlinewidth": 0,
             "ticks": ""
            },
            "type": "mesh3d"
           }
          ],
          "parcoords": [
           {
            "line": {
             "colorbar": {
              "outlinewidth": 0,
              "ticks": ""
             }
            },
            "type": "parcoords"
           }
          ],
          "pie": [
           {
            "automargin": true,
            "type": "pie"
           }
          ],
          "scatter": [
           {
            "fillpattern": {
             "fillmode": "overlay",
             "size": 10,
             "solidity": 0.2
            },
            "type": "scatter"
           }
          ],
          "scatter3d": [
           {
            "line": {
             "colorbar": {
              "outlinewidth": 0,
              "ticks": ""
             }
            },
            "marker": {
             "colorbar": {
              "outlinewidth": 0,
              "ticks": ""
             }
            },
            "type": "scatter3d"
           }
          ],
          "scattercarpet": [
           {
            "marker": {
             "colorbar": {
              "outlinewidth": 0,
              "ticks": ""
             }
            },
            "type": "scattercarpet"
           }
          ],
          "scattergeo": [
           {
            "marker": {
             "colorbar": {
              "outlinewidth": 0,
              "ticks": ""
             }
            },
            "type": "scattergeo"
           }
          ],
          "scattergl": [
           {
            "marker": {
             "colorbar": {
              "outlinewidth": 0,
              "ticks": ""
             }
            },
            "type": "scattergl"
           }
          ],
          "scattermapbox": [
           {
            "marker": {
             "colorbar": {
              "outlinewidth": 0,
              "ticks": ""
             }
            },
            "type": "scattermapbox"
           }
          ],
          "scatterpolar": [
           {
            "marker": {
             "colorbar": {
              "outlinewidth": 0,
              "ticks": ""
             }
            },
            "type": "scatterpolar"
           }
          ],
          "scatterpolargl": [
           {
            "marker": {
             "colorbar": {
              "outlinewidth": 0,
              "ticks": ""
             }
            },
            "type": "scatterpolargl"
           }
          ],
          "scatterternary": [
           {
            "marker": {
             "colorbar": {
              "outlinewidth": 0,
              "ticks": ""
             }
            },
            "type": "scatterternary"
           }
          ],
          "surface": [
           {
            "colorbar": {
             "outlinewidth": 0,
             "ticks": ""
            },
            "colorscale": [
             [
              0,
              "#0d0887"
             ],
             [
              0.1111111111111111,
              "#46039f"
             ],
             [
              0.2222222222222222,
              "#7201a8"
             ],
             [
              0.3333333333333333,
              "#9c179e"
             ],
             [
              0.4444444444444444,
              "#bd3786"
             ],
             [
              0.5555555555555556,
              "#d8576b"
             ],
             [
              0.6666666666666666,
              "#ed7953"
             ],
             [
              0.7777777777777778,
              "#fb9f3a"
             ],
             [
              0.8888888888888888,
              "#fdca26"
             ],
             [
              1,
              "#f0f921"
             ]
            ],
            "type": "surface"
           }
          ],
          "table": [
           {
            "cells": {
             "fill": {
              "color": "#EBF0F8"
             },
             "line": {
              "color": "white"
             }
            },
            "header": {
             "fill": {
              "color": "#C8D4E3"
             },
             "line": {
              "color": "white"
             }
            },
            "type": "table"
           }
          ]
         },
         "layout": {
          "annotationdefaults": {
           "arrowcolor": "#2a3f5f",
           "arrowhead": 0,
           "arrowwidth": 1
          },
          "autotypenumbers": "strict",
          "coloraxis": {
           "colorbar": {
            "outlinewidth": 0,
            "ticks": ""
           }
          },
          "colorscale": {
           "diverging": [
            [
             0,
             "#8e0152"
            ],
            [
             0.1,
             "#c51b7d"
            ],
            [
             0.2,
             "#de77ae"
            ],
            [
             0.3,
             "#f1b6da"
            ],
            [
             0.4,
             "#fde0ef"
            ],
            [
             0.5,
             "#f7f7f7"
            ],
            [
             0.6,
             "#e6f5d0"
            ],
            [
             0.7,
             "#b8e186"
            ],
            [
             0.8,
             "#7fbc41"
            ],
            [
             0.9,
             "#4d9221"
            ],
            [
             1,
             "#276419"
            ]
           ],
           "sequential": [
            [
             0,
             "#0d0887"
            ],
            [
             0.1111111111111111,
             "#46039f"
            ],
            [
             0.2222222222222222,
             "#7201a8"
            ],
            [
             0.3333333333333333,
             "#9c179e"
            ],
            [
             0.4444444444444444,
             "#bd3786"
            ],
            [
             0.5555555555555556,
             "#d8576b"
            ],
            [
             0.6666666666666666,
             "#ed7953"
            ],
            [
             0.7777777777777778,
             "#fb9f3a"
            ],
            [
             0.8888888888888888,
             "#fdca26"
            ],
            [
             1,
             "#f0f921"
            ]
           ],
           "sequentialminus": [
            [
             0,
             "#0d0887"
            ],
            [
             0.1111111111111111,
             "#46039f"
            ],
            [
             0.2222222222222222,
             "#7201a8"
            ],
            [
             0.3333333333333333,
             "#9c179e"
            ],
            [
             0.4444444444444444,
             "#bd3786"
            ],
            [
             0.5555555555555556,
             "#d8576b"
            ],
            [
             0.6666666666666666,
             "#ed7953"
            ],
            [
             0.7777777777777778,
             "#fb9f3a"
            ],
            [
             0.8888888888888888,
             "#fdca26"
            ],
            [
             1,
             "#f0f921"
            ]
           ]
          },
          "colorway": [
           "#636efa",
           "#EF553B",
           "#00cc96",
           "#ab63fa",
           "#FFA15A",
           "#19d3f3",
           "#FF6692",
           "#B6E880",
           "#FF97FF",
           "#FECB52"
          ],
          "font": {
           "color": "#2a3f5f"
          },
          "geo": {
           "bgcolor": "white",
           "lakecolor": "white",
           "landcolor": "#E5ECF6",
           "showlakes": true,
           "showland": true,
           "subunitcolor": "white"
          },
          "hoverlabel": {
           "align": "left"
          },
          "hovermode": "closest",
          "mapbox": {
           "style": "light"
          },
          "paper_bgcolor": "white",
          "plot_bgcolor": "#E5ECF6",
          "polar": {
           "angularaxis": {
            "gridcolor": "white",
            "linecolor": "white",
            "ticks": ""
           },
           "bgcolor": "#E5ECF6",
           "radialaxis": {
            "gridcolor": "white",
            "linecolor": "white",
            "ticks": ""
           }
          },
          "scene": {
           "xaxis": {
            "backgroundcolor": "#E5ECF6",
            "gridcolor": "white",
            "gridwidth": 2,
            "linecolor": "white",
            "showbackground": true,
            "ticks": "",
            "zerolinecolor": "white"
           },
           "yaxis": {
            "backgroundcolor": "#E5ECF6",
            "gridcolor": "white",
            "gridwidth": 2,
            "linecolor": "white",
            "showbackground": true,
            "ticks": "",
            "zerolinecolor": "white"
           },
           "zaxis": {
            "backgroundcolor": "#E5ECF6",
            "gridcolor": "white",
            "gridwidth": 2,
            "linecolor": "white",
            "showbackground": true,
            "ticks": "",
            "zerolinecolor": "white"
           }
          },
          "shapedefaults": {
           "line": {
            "color": "#2a3f5f"
           }
          },
          "ternary": {
           "aaxis": {
            "gridcolor": "white",
            "linecolor": "white",
            "ticks": ""
           },
           "baxis": {
            "gridcolor": "white",
            "linecolor": "white",
            "ticks": ""
           },
           "bgcolor": "#E5ECF6",
           "caxis": {
            "gridcolor": "white",
            "linecolor": "white",
            "ticks": ""
           }
          },
          "title": {
           "x": 0.05
          },
          "xaxis": {
           "automargin": true,
           "gridcolor": "white",
           "linecolor": "white",
           "ticks": "",
           "title": {
            "standoff": 15
           },
           "zerolinecolor": "white",
           "zerolinewidth": 2
          },
          "yaxis": {
           "automargin": true,
           "gridcolor": "white",
           "linecolor": "white",
           "ticks": "",
           "title": {
            "standoff": 15
           },
           "zerolinecolor": "white",
           "zerolinewidth": 2
          }
         }
        },
        "title": {
         "text": "FG3A division for Bulls team"
        }
       }
      }
     },
     "metadata": {},
     "output_type": "display_data"
    }
   ],
   "source": [
    "fig3 = px.pie(values=plot_sum_data['FG3A'], names=plot_sum_data['PLAYER_NAME'], title =f'FG3A division for {team} team', hole=.3)\n",
    "fig3.show()"
   ]
  },
  {
   "cell_type": "markdown",
   "metadata": {},
   "source": [
    "### For each player, plot the statistics across all season"
   ]
  },
  {
   "cell_type": "code",
   "execution_count": 79,
   "metadata": {},
   "outputs": [],
   "source": [
    "player='Tyson Chandler'"
   ]
  },
  {
   "cell_type": "code",
   "execution_count": 80,
   "metadata": {},
   "outputs": [
    {
     "name": "stdout",
     "output_type": "stream",
     "text": [
      "<class 'pandas.core.frame.DataFrame'>\n",
      "RangeIndex: 517429 entries, 0 to 517428\n",
      "Data columns (total 31 columns):\n",
      " #   Column             Non-Null Count   Dtype  \n",
      "---  ------             --------------   -----  \n",
      " 0   GAME_ID            517429 non-null  int64  \n",
      " 1   TEAM_ID            517429 non-null  int64  \n",
      " 2   TEAM_ABBREVIATION  517429 non-null  object \n",
      " 3   TEAM_CITY          517429 non-null  object \n",
      " 4   PLAYER_ID          517429 non-null  int64  \n",
      " 5   PLAYER_NAME        517429 non-null  object \n",
      " 6   PLAYER_NICKNAME    517429 non-null  object \n",
      " 7   START_POSITION     517429 non-null  object \n",
      " 8   COMMENT            517429 non-null  object \n",
      " 9   MIN                517429 non-null  object \n",
      " 10  FGM                517429 non-null  float64\n",
      " 11  FGA                517429 non-null  float64\n",
      " 12  FG_PCT             517429 non-null  float64\n",
      " 13  FG3M               517429 non-null  float64\n",
      " 14  FG3A               517429 non-null  float64\n",
      " 15  FG3_PCT            517429 non-null  float64\n",
      " 16  FTM                517429 non-null  float64\n",
      " 17  FTA                517429 non-null  float64\n",
      " 18  FT_PCT             517429 non-null  float64\n",
      " 19  OREB               517429 non-null  float64\n",
      " 20  DREB               517429 non-null  float64\n",
      " 21  REB                517429 non-null  float64\n",
      " 22  AST                517429 non-null  float64\n",
      " 23  STL                517429 non-null  float64\n",
      " 24  BLK                517429 non-null  float64\n",
      " 25  TO                 517429 non-null  float64\n",
      " 26  PF                 517429 non-null  float64\n",
      " 27  PTS                517429 non-null  float64\n",
      " 28  PLUS_MINUS         517429 non-null  float64\n",
      " 29  SEASON             517429 non-null  int64  \n",
      " 30  TEAM               517429 non-null  object \n",
      "dtypes: float64(19), int64(4), object(8)\n",
      "memory usage: 122.4+ MB\n"
     ]
    }
   ],
   "source": [
    "games_full_df.info()"
   ]
  },
  {
   "cell_type": "code",
   "execution_count": 81,
   "metadata": {},
   "outputs": [
    {
     "data": {
      "text/html": [
       "<div>\n",
       "<style scoped>\n",
       "    .dataframe tbody tr th:only-of-type {\n",
       "        vertical-align: middle;\n",
       "    }\n",
       "\n",
       "    .dataframe tbody tr th {\n",
       "        vertical-align: top;\n",
       "    }\n",
       "\n",
       "    .dataframe thead th {\n",
       "        text-align: right;\n",
       "    }\n",
       "</style>\n",
       "<table border=\"1\" class=\"dataframe\">\n",
       "  <thead>\n",
       "    <tr style=\"text-align: right;\">\n",
       "      <th></th>\n",
       "      <th>GAME_ID</th>\n",
       "      <th>TEAM_ID</th>\n",
       "      <th>TEAM_ABBREVIATION</th>\n",
       "      <th>TEAM_CITY</th>\n",
       "      <th>PLAYER_ID</th>\n",
       "      <th>PLAYER_NAME</th>\n",
       "      <th>PLAYER_NICKNAME</th>\n",
       "      <th>START_POSITION</th>\n",
       "      <th>COMMENT</th>\n",
       "      <th>MIN</th>\n",
       "      <th>...</th>\n",
       "      <th>REB</th>\n",
       "      <th>AST</th>\n",
       "      <th>STL</th>\n",
       "      <th>BLK</th>\n",
       "      <th>TO</th>\n",
       "      <th>PF</th>\n",
       "      <th>PTS</th>\n",
       "      <th>PLUS_MINUS</th>\n",
       "      <th>SEASON</th>\n",
       "      <th>TEAM</th>\n",
       "    </tr>\n",
       "  </thead>\n",
       "  <tbody>\n",
       "    <tr>\n",
       "      <th>0</th>\n",
       "      <td>22101005</td>\n",
       "      <td>1610612750</td>\n",
       "      <td>MIN</td>\n",
       "      <td>Minnesota</td>\n",
       "      <td>1630162</td>\n",
       "      <td>Anthony Edwards</td>\n",
       "      <td>Anthony</td>\n",
       "      <td>F</td>\n",
       "      <td>N/A</td>\n",
       "      <td>36:22</td>\n",
       "      <td>...</td>\n",
       "      <td>8.0</td>\n",
       "      <td>5.0</td>\n",
       "      <td>3.0</td>\n",
       "      <td>1.0</td>\n",
       "      <td>1.0</td>\n",
       "      <td>1.0</td>\n",
       "      <td>15.0</td>\n",
       "      <td>5.0</td>\n",
       "      <td>2021</td>\n",
       "      <td>Timberwolves</td>\n",
       "    </tr>\n",
       "    <tr>\n",
       "      <th>1</th>\n",
       "      <td>22101005</td>\n",
       "      <td>1610612750</td>\n",
       "      <td>MIN</td>\n",
       "      <td>Minnesota</td>\n",
       "      <td>1630183</td>\n",
       "      <td>Jaden McDaniels</td>\n",
       "      <td>Jaden</td>\n",
       "      <td>F</td>\n",
       "      <td>N/A</td>\n",
       "      <td>23:54</td>\n",
       "      <td>...</td>\n",
       "      <td>6.0</td>\n",
       "      <td>0.0</td>\n",
       "      <td>0.0</td>\n",
       "      <td>2.0</td>\n",
       "      <td>2.0</td>\n",
       "      <td>6.0</td>\n",
       "      <td>14.0</td>\n",
       "      <td>10.0</td>\n",
       "      <td>2021</td>\n",
       "      <td>Timberwolves</td>\n",
       "    </tr>\n",
       "    <tr>\n",
       "      <th>2</th>\n",
       "      <td>22101005</td>\n",
       "      <td>1610612750</td>\n",
       "      <td>MIN</td>\n",
       "      <td>Minnesota</td>\n",
       "      <td>1626157</td>\n",
       "      <td>Karl-Anthony Towns</td>\n",
       "      <td>Karl-Anthony</td>\n",
       "      <td>C</td>\n",
       "      <td>N/A</td>\n",
       "      <td>25:17</td>\n",
       "      <td>...</td>\n",
       "      <td>10.0</td>\n",
       "      <td>0.0</td>\n",
       "      <td>0.0</td>\n",
       "      <td>0.0</td>\n",
       "      <td>3.0</td>\n",
       "      <td>4.0</td>\n",
       "      <td>15.0</td>\n",
       "      <td>14.0</td>\n",
       "      <td>2021</td>\n",
       "      <td>Timberwolves</td>\n",
       "    </tr>\n",
       "    <tr>\n",
       "      <th>3</th>\n",
       "      <td>22101005</td>\n",
       "      <td>1610612750</td>\n",
       "      <td>MIN</td>\n",
       "      <td>Minnesota</td>\n",
       "      <td>1627736</td>\n",
       "      <td>Malik Beasley</td>\n",
       "      <td>Malik</td>\n",
       "      <td>G</td>\n",
       "      <td>N/A</td>\n",
       "      <td>30:52</td>\n",
       "      <td>...</td>\n",
       "      <td>3.0</td>\n",
       "      <td>1.0</td>\n",
       "      <td>1.0</td>\n",
       "      <td>0.0</td>\n",
       "      <td>1.0</td>\n",
       "      <td>4.0</td>\n",
       "      <td>12.0</td>\n",
       "      <td>20.0</td>\n",
       "      <td>2021</td>\n",
       "      <td>Timberwolves</td>\n",
       "    </tr>\n",
       "    <tr>\n",
       "      <th>4</th>\n",
       "      <td>22101005</td>\n",
       "      <td>1610612750</td>\n",
       "      <td>MIN</td>\n",
       "      <td>Minnesota</td>\n",
       "      <td>1626156</td>\n",
       "      <td>D'Angelo Russell</td>\n",
       "      <td>D'Angelo</td>\n",
       "      <td>G</td>\n",
       "      <td>N/A</td>\n",
       "      <td>33:46</td>\n",
       "      <td>...</td>\n",
       "      <td>6.0</td>\n",
       "      <td>9.0</td>\n",
       "      <td>1.0</td>\n",
       "      <td>0.0</td>\n",
       "      <td>5.0</td>\n",
       "      <td>0.0</td>\n",
       "      <td>14.0</td>\n",
       "      <td>17.0</td>\n",
       "      <td>2021</td>\n",
       "      <td>Timberwolves</td>\n",
       "    </tr>\n",
       "    <tr>\n",
       "      <th>5</th>\n",
       "      <td>22101005</td>\n",
       "      <td>1610612750</td>\n",
       "      <td>MIN</td>\n",
       "      <td>Minnesota</td>\n",
       "      <td>1629675</td>\n",
       "      <td>Naz Reid</td>\n",
       "      <td>Naz</td>\n",
       "      <td>N/A</td>\n",
       "      <td>N/A</td>\n",
       "      <td>23:56</td>\n",
       "      <td>...</td>\n",
       "      <td>10.0</td>\n",
       "      <td>1.0</td>\n",
       "      <td>3.0</td>\n",
       "      <td>2.0</td>\n",
       "      <td>1.0</td>\n",
       "      <td>1.0</td>\n",
       "      <td>11.0</td>\n",
       "      <td>-7.0</td>\n",
       "      <td>2021</td>\n",
       "      <td>Timberwolves</td>\n",
       "    </tr>\n",
       "    <tr>\n",
       "      <th>6</th>\n",
       "      <td>22101005</td>\n",
       "      <td>1610612750</td>\n",
       "      <td>MIN</td>\n",
       "      <td>Minnesota</td>\n",
       "      <td>1629162</td>\n",
       "      <td>Jordan McLaughlin</td>\n",
       "      <td>Jordan</td>\n",
       "      <td>N/A</td>\n",
       "      <td>N/A</td>\n",
       "      <td>21:00</td>\n",
       "      <td>...</td>\n",
       "      <td>1.0</td>\n",
       "      <td>3.0</td>\n",
       "      <td>3.0</td>\n",
       "      <td>0.0</td>\n",
       "      <td>0.0</td>\n",
       "      <td>1.0</td>\n",
       "      <td>5.0</td>\n",
       "      <td>-10.0</td>\n",
       "      <td>2021</td>\n",
       "      <td>Timberwolves</td>\n",
       "    </tr>\n",
       "    <tr>\n",
       "      <th>7</th>\n",
       "      <td>22101005</td>\n",
       "      <td>1610612750</td>\n",
       "      <td>MIN</td>\n",
       "      <td>Minnesota</td>\n",
       "      <td>1629669</td>\n",
       "      <td>Jaylen Nowell</td>\n",
       "      <td>Jaylen</td>\n",
       "      <td>N/A</td>\n",
       "      <td>N/A</td>\n",
       "      <td>21:35</td>\n",
       "      <td>...</td>\n",
       "      <td>0.0</td>\n",
       "      <td>1.0</td>\n",
       "      <td>0.0</td>\n",
       "      <td>0.0</td>\n",
       "      <td>0.0</td>\n",
       "      <td>0.0</td>\n",
       "      <td>16.0</td>\n",
       "      <td>-5.0</td>\n",
       "      <td>2021</td>\n",
       "      <td>Timberwolves</td>\n",
       "    </tr>\n",
       "    <tr>\n",
       "      <th>8</th>\n",
       "      <td>22101005</td>\n",
       "      <td>1610612750</td>\n",
       "      <td>MIN</td>\n",
       "      <td>Minnesota</td>\n",
       "      <td>1627752</td>\n",
       "      <td>Taurean Prince</td>\n",
       "      <td>Taurean</td>\n",
       "      <td>N/A</td>\n",
       "      <td>N/A</td>\n",
       "      <td>22:53</td>\n",
       "      <td>...</td>\n",
       "      <td>2.0</td>\n",
       "      <td>1.0</td>\n",
       "      <td>1.0</td>\n",
       "      <td>0.0</td>\n",
       "      <td>1.0</td>\n",
       "      <td>2.0</td>\n",
       "      <td>11.0</td>\n",
       "      <td>1.0</td>\n",
       "      <td>2021</td>\n",
       "      <td>Timberwolves</td>\n",
       "    </tr>\n",
       "    <tr>\n",
       "      <th>9</th>\n",
       "      <td>22101005</td>\n",
       "      <td>1610612750</td>\n",
       "      <td>MIN</td>\n",
       "      <td>Minnesota</td>\n",
       "      <td>1629006</td>\n",
       "      <td>Josh Okogie</td>\n",
       "      <td>Josh</td>\n",
       "      <td>N/A</td>\n",
       "      <td>N/A</td>\n",
       "      <td>0:25</td>\n",
       "      <td>...</td>\n",
       "      <td>0.0</td>\n",
       "      <td>0.0</td>\n",
       "      <td>0.0</td>\n",
       "      <td>0.0</td>\n",
       "      <td>0.0</td>\n",
       "      <td>0.0</td>\n",
       "      <td>0.0</td>\n",
       "      <td>0.0</td>\n",
       "      <td>2021</td>\n",
       "      <td>Timberwolves</td>\n",
       "    </tr>\n",
       "    <tr>\n",
       "      <th>10</th>\n",
       "      <td>22100995</td>\n",
       "      <td>1610612750</td>\n",
       "      <td>MIN</td>\n",
       "      <td>Minnesota</td>\n",
       "      <td>1630162</td>\n",
       "      <td>Anthony Edwards</td>\n",
       "      <td>Anthony</td>\n",
       "      <td>F</td>\n",
       "      <td>N/A</td>\n",
       "      <td>34:27</td>\n",
       "      <td>...</td>\n",
       "      <td>3.0</td>\n",
       "      <td>5.0</td>\n",
       "      <td>1.0</td>\n",
       "      <td>0.0</td>\n",
       "      <td>0.0</td>\n",
       "      <td>3.0</td>\n",
       "      <td>25.0</td>\n",
       "      <td>-3.0</td>\n",
       "      <td>2021</td>\n",
       "      <td>Timberwolves</td>\n",
       "    </tr>\n",
       "    <tr>\n",
       "      <th>11</th>\n",
       "      <td>22100995</td>\n",
       "      <td>1610612750</td>\n",
       "      <td>MIN</td>\n",
       "      <td>Minnesota</td>\n",
       "      <td>1629020</td>\n",
       "      <td>Jarred Vanderbilt</td>\n",
       "      <td>Jarred</td>\n",
       "      <td>F</td>\n",
       "      <td>N/A</td>\n",
       "      <td>20:22</td>\n",
       "      <td>...</td>\n",
       "      <td>6.0</td>\n",
       "      <td>0.0</td>\n",
       "      <td>1.0</td>\n",
       "      <td>0.0</td>\n",
       "      <td>0.0</td>\n",
       "      <td>2.0</td>\n",
       "      <td>2.0</td>\n",
       "      <td>-6.0</td>\n",
       "      <td>2021</td>\n",
       "      <td>Timberwolves</td>\n",
       "    </tr>\n",
       "    <tr>\n",
       "      <th>12</th>\n",
       "      <td>22100995</td>\n",
       "      <td>1610612750</td>\n",
       "      <td>MIN</td>\n",
       "      <td>Minnesota</td>\n",
       "      <td>1626157</td>\n",
       "      <td>Karl-Anthony Towns</td>\n",
       "      <td>Karl-Anthony</td>\n",
       "      <td>C</td>\n",
       "      <td>N/A</td>\n",
       "      <td>33:52</td>\n",
       "      <td>...</td>\n",
       "      <td>13.0</td>\n",
       "      <td>4.0</td>\n",
       "      <td>2.0</td>\n",
       "      <td>2.0</td>\n",
       "      <td>3.0</td>\n",
       "      <td>5.0</td>\n",
       "      <td>21.0</td>\n",
       "      <td>2.0</td>\n",
       "      <td>2021</td>\n",
       "      <td>Timberwolves</td>\n",
       "    </tr>\n",
       "    <tr>\n",
       "      <th>13</th>\n",
       "      <td>22100995</td>\n",
       "      <td>1610612750</td>\n",
       "      <td>MIN</td>\n",
       "      <td>Minnesota</td>\n",
       "      <td>201976</td>\n",
       "      <td>Patrick Beverley</td>\n",
       "      <td>Patrick</td>\n",
       "      <td>G</td>\n",
       "      <td>N/A</td>\n",
       "      <td>4:05</td>\n",
       "      <td>...</td>\n",
       "      <td>0.0</td>\n",
       "      <td>0.0</td>\n",
       "      <td>1.0</td>\n",
       "      <td>0.0</td>\n",
       "      <td>1.0</td>\n",
       "      <td>3.0</td>\n",
       "      <td>9.0</td>\n",
       "      <td>4.0</td>\n",
       "      <td>2021</td>\n",
       "      <td>Timberwolves</td>\n",
       "    </tr>\n",
       "    <tr>\n",
       "      <th>14</th>\n",
       "      <td>22100995</td>\n",
       "      <td>1610612750</td>\n",
       "      <td>MIN</td>\n",
       "      <td>Minnesota</td>\n",
       "      <td>1626156</td>\n",
       "      <td>D'Angelo Russell</td>\n",
       "      <td>D'Angelo</td>\n",
       "      <td>G</td>\n",
       "      <td>N/A</td>\n",
       "      <td>39:20</td>\n",
       "      <td>...</td>\n",
       "      <td>2.0</td>\n",
       "      <td>7.0</td>\n",
       "      <td>0.0</td>\n",
       "      <td>0.0</td>\n",
       "      <td>2.0</td>\n",
       "      <td>1.0</td>\n",
       "      <td>13.0</td>\n",
       "      <td>-4.0</td>\n",
       "      <td>2021</td>\n",
       "      <td>Timberwolves</td>\n",
       "    </tr>\n",
       "    <tr>\n",
       "      <th>15</th>\n",
       "      <td>22100995</td>\n",
       "      <td>1610612750</td>\n",
       "      <td>MIN</td>\n",
       "      <td>Minnesota</td>\n",
       "      <td>1627736</td>\n",
       "      <td>Malik Beasley</td>\n",
       "      <td>Malik</td>\n",
       "      <td>N/A</td>\n",
       "      <td>N/A</td>\n",
       "      <td>32:11</td>\n",
       "      <td>...</td>\n",
       "      <td>4.0</td>\n",
       "      <td>2.0</td>\n",
       "      <td>2.0</td>\n",
       "      <td>0.0</td>\n",
       "      <td>0.0</td>\n",
       "      <td>0.0</td>\n",
       "      <td>8.0</td>\n",
       "      <td>4.0</td>\n",
       "      <td>2021</td>\n",
       "      <td>Timberwolves</td>\n",
       "    </tr>\n",
       "    <tr>\n",
       "      <th>16</th>\n",
       "      <td>22100995</td>\n",
       "      <td>1610612750</td>\n",
       "      <td>MIN</td>\n",
       "      <td>Minnesota</td>\n",
       "      <td>1630183</td>\n",
       "      <td>Jaden McDaniels</td>\n",
       "      <td>Jaden</td>\n",
       "      <td>N/A</td>\n",
       "      <td>N/A</td>\n",
       "      <td>32:03</td>\n",
       "      <td>...</td>\n",
       "      <td>3.0</td>\n",
       "      <td>1.0</td>\n",
       "      <td>0.0</td>\n",
       "      <td>3.0</td>\n",
       "      <td>1.0</td>\n",
       "      <td>2.0</td>\n",
       "      <td>12.0</td>\n",
       "      <td>-16.0</td>\n",
       "      <td>2021</td>\n",
       "      <td>Timberwolves</td>\n",
       "    </tr>\n",
       "    <tr>\n",
       "      <th>17</th>\n",
       "      <td>22100995</td>\n",
       "      <td>1610612750</td>\n",
       "      <td>MIN</td>\n",
       "      <td>Minnesota</td>\n",
       "      <td>1627752</td>\n",
       "      <td>Taurean Prince</td>\n",
       "      <td>Taurean</td>\n",
       "      <td>N/A</td>\n",
       "      <td>N/A</td>\n",
       "      <td>16:54</td>\n",
       "      <td>...</td>\n",
       "      <td>0.0</td>\n",
       "      <td>0.0</td>\n",
       "      <td>0.0</td>\n",
       "      <td>0.0</td>\n",
       "      <td>1.0</td>\n",
       "      <td>1.0</td>\n",
       "      <td>4.0</td>\n",
       "      <td>-7.0</td>\n",
       "      <td>2021</td>\n",
       "      <td>Timberwolves</td>\n",
       "    </tr>\n",
       "    <tr>\n",
       "      <th>18</th>\n",
       "      <td>22100995</td>\n",
       "      <td>1610612750</td>\n",
       "      <td>MIN</td>\n",
       "      <td>Minnesota</td>\n",
       "      <td>1629669</td>\n",
       "      <td>Jaylen Nowell</td>\n",
       "      <td>Jaylen</td>\n",
       "      <td>N/A</td>\n",
       "      <td>N/A</td>\n",
       "      <td>12:38</td>\n",
       "      <td>...</td>\n",
       "      <td>2.0</td>\n",
       "      <td>3.0</td>\n",
       "      <td>0.0</td>\n",
       "      <td>0.0</td>\n",
       "      <td>0.0</td>\n",
       "      <td>2.0</td>\n",
       "      <td>12.0</td>\n",
       "      <td>-4.0</td>\n",
       "      <td>2021</td>\n",
       "      <td>Timberwolves</td>\n",
       "    </tr>\n",
       "    <tr>\n",
       "      <th>19</th>\n",
       "      <td>22100995</td>\n",
       "      <td>1610612750</td>\n",
       "      <td>MIN</td>\n",
       "      <td>Minnesota</td>\n",
       "      <td>1629675</td>\n",
       "      <td>Naz Reid</td>\n",
       "      <td>Naz</td>\n",
       "      <td>N/A</td>\n",
       "      <td>N/A</td>\n",
       "      <td>14:08</td>\n",
       "      <td>...</td>\n",
       "      <td>4.0</td>\n",
       "      <td>2.0</td>\n",
       "      <td>1.0</td>\n",
       "      <td>0.0</td>\n",
       "      <td>1.0</td>\n",
       "      <td>5.0</td>\n",
       "      <td>4.0</td>\n",
       "      <td>-10.0</td>\n",
       "      <td>2021</td>\n",
       "      <td>Timberwolves</td>\n",
       "    </tr>\n",
       "  </tbody>\n",
       "</table>\n",
       "<p>20 rows × 31 columns</p>\n",
       "</div>"
      ],
      "text/plain": [
       "     GAME_ID     TEAM_ID TEAM_ABBREVIATION  TEAM_CITY  PLAYER_ID  \\\n",
       "0   22101005  1610612750               MIN  Minnesota    1630162   \n",
       "1   22101005  1610612750               MIN  Minnesota    1630183   \n",
       "2   22101005  1610612750               MIN  Minnesota    1626157   \n",
       "3   22101005  1610612750               MIN  Minnesota    1627736   \n",
       "4   22101005  1610612750               MIN  Minnesota    1626156   \n",
       "5   22101005  1610612750               MIN  Minnesota    1629675   \n",
       "6   22101005  1610612750               MIN  Minnesota    1629162   \n",
       "7   22101005  1610612750               MIN  Minnesota    1629669   \n",
       "8   22101005  1610612750               MIN  Minnesota    1627752   \n",
       "9   22101005  1610612750               MIN  Minnesota    1629006   \n",
       "10  22100995  1610612750               MIN  Minnesota    1630162   \n",
       "11  22100995  1610612750               MIN  Minnesota    1629020   \n",
       "12  22100995  1610612750               MIN  Minnesota    1626157   \n",
       "13  22100995  1610612750               MIN  Minnesota     201976   \n",
       "14  22100995  1610612750               MIN  Minnesota    1626156   \n",
       "15  22100995  1610612750               MIN  Minnesota    1627736   \n",
       "16  22100995  1610612750               MIN  Minnesota    1630183   \n",
       "17  22100995  1610612750               MIN  Minnesota    1627752   \n",
       "18  22100995  1610612750               MIN  Minnesota    1629669   \n",
       "19  22100995  1610612750               MIN  Minnesota    1629675   \n",
       "\n",
       "           PLAYER_NAME PLAYER_NICKNAME START_POSITION COMMENT    MIN  ...  \\\n",
       "0      Anthony Edwards         Anthony              F     N/A  36:22  ...   \n",
       "1      Jaden McDaniels           Jaden              F     N/A  23:54  ...   \n",
       "2   Karl-Anthony Towns    Karl-Anthony              C     N/A  25:17  ...   \n",
       "3        Malik Beasley           Malik              G     N/A  30:52  ...   \n",
       "4     D'Angelo Russell        D'Angelo              G     N/A  33:46  ...   \n",
       "5             Naz Reid             Naz            N/A     N/A  23:56  ...   \n",
       "6    Jordan McLaughlin          Jordan            N/A     N/A  21:00  ...   \n",
       "7        Jaylen Nowell          Jaylen            N/A     N/A  21:35  ...   \n",
       "8       Taurean Prince         Taurean            N/A     N/A  22:53  ...   \n",
       "9          Josh Okogie            Josh            N/A     N/A   0:25  ...   \n",
       "10     Anthony Edwards         Anthony              F     N/A  34:27  ...   \n",
       "11   Jarred Vanderbilt          Jarred              F     N/A  20:22  ...   \n",
       "12  Karl-Anthony Towns    Karl-Anthony              C     N/A  33:52  ...   \n",
       "13    Patrick Beverley         Patrick              G     N/A   4:05  ...   \n",
       "14    D'Angelo Russell        D'Angelo              G     N/A  39:20  ...   \n",
       "15       Malik Beasley           Malik            N/A     N/A  32:11  ...   \n",
       "16     Jaden McDaniels           Jaden            N/A     N/A  32:03  ...   \n",
       "17      Taurean Prince         Taurean            N/A     N/A  16:54  ...   \n",
       "18       Jaylen Nowell          Jaylen            N/A     N/A  12:38  ...   \n",
       "19            Naz Reid             Naz            N/A     N/A  14:08  ...   \n",
       "\n",
       "     REB  AST  STL  BLK   TO   PF   PTS  PLUS_MINUS  SEASON          TEAM  \n",
       "0    8.0  5.0  3.0  1.0  1.0  1.0  15.0         5.0    2021  Timberwolves  \n",
       "1    6.0  0.0  0.0  2.0  2.0  6.0  14.0        10.0    2021  Timberwolves  \n",
       "2   10.0  0.0  0.0  0.0  3.0  4.0  15.0        14.0    2021  Timberwolves  \n",
       "3    3.0  1.0  1.0  0.0  1.0  4.0  12.0        20.0    2021  Timberwolves  \n",
       "4    6.0  9.0  1.0  0.0  5.0  0.0  14.0        17.0    2021  Timberwolves  \n",
       "5   10.0  1.0  3.0  2.0  1.0  1.0  11.0        -7.0    2021  Timberwolves  \n",
       "6    1.0  3.0  3.0  0.0  0.0  1.0   5.0       -10.0    2021  Timberwolves  \n",
       "7    0.0  1.0  0.0  0.0  0.0  0.0  16.0        -5.0    2021  Timberwolves  \n",
       "8    2.0  1.0  1.0  0.0  1.0  2.0  11.0         1.0    2021  Timberwolves  \n",
       "9    0.0  0.0  0.0  0.0  0.0  0.0   0.0         0.0    2021  Timberwolves  \n",
       "10   3.0  5.0  1.0  0.0  0.0  3.0  25.0        -3.0    2021  Timberwolves  \n",
       "11   6.0  0.0  1.0  0.0  0.0  2.0   2.0        -6.0    2021  Timberwolves  \n",
       "12  13.0  4.0  2.0  2.0  3.0  5.0  21.0         2.0    2021  Timberwolves  \n",
       "13   0.0  0.0  1.0  0.0  1.0  3.0   9.0         4.0    2021  Timberwolves  \n",
       "14   2.0  7.0  0.0  0.0  2.0  1.0  13.0        -4.0    2021  Timberwolves  \n",
       "15   4.0  2.0  2.0  0.0  0.0  0.0   8.0         4.0    2021  Timberwolves  \n",
       "16   3.0  1.0  0.0  3.0  1.0  2.0  12.0       -16.0    2021  Timberwolves  \n",
       "17   0.0  0.0  0.0  0.0  1.0  1.0   4.0        -7.0    2021  Timberwolves  \n",
       "18   2.0  3.0  0.0  0.0  0.0  2.0  12.0        -4.0    2021  Timberwolves  \n",
       "19   4.0  2.0  1.0  0.0  1.0  5.0   4.0       -10.0    2021  Timberwolves  \n",
       "\n",
       "[20 rows x 31 columns]"
      ]
     },
     "execution_count": 81,
     "metadata": {},
     "output_type": "execute_result"
    }
   ],
   "source": [
    "games_full_df.head(20)"
   ]
  },
  {
   "cell_type": "code",
   "execution_count": 82,
   "metadata": {},
   "outputs": [],
   "source": [
    "performances_by_season_sum = games_full_df.groupby(['SEASON', 'TEAM', 'PLAYER_NAME'])[['PTS','REB', 'AST', 'FG3M', 'FG3A']].sum().reset_index()\n",
    "performances_by_season_avg = games_full_df.groupby(['SEASON', 'TEAM', 'PLAYER_NAME'])[['PTS','REB', 'AST', 'FG3_PCT']].mean().reset_index()"
   ]
  },
  {
   "cell_type": "code",
   "execution_count": 83,
   "metadata": {},
   "outputs": [],
   "source": [
    "plot_sum_data = performances_by_season_sum[performances_by_season_sum['PLAYER_NAME'] == player]\n",
    "plot_avg_data = performances_by_season_avg[performances_by_season_avg['PLAYER_NAME'] == player]"
   ]
  },
  {
   "cell_type": "code",
   "execution_count": 84,
   "metadata": {},
   "outputs": [
    {
     "data": {
      "text/html": [
       "<div>\n",
       "<style scoped>\n",
       "    .dataframe tbody tr th:only-of-type {\n",
       "        vertical-align: middle;\n",
       "    }\n",
       "\n",
       "    .dataframe tbody tr th {\n",
       "        vertical-align: top;\n",
       "    }\n",
       "\n",
       "    .dataframe thead th {\n",
       "        text-align: right;\n",
       "    }\n",
       "</style>\n",
       "<table border=\"1\" class=\"dataframe\">\n",
       "  <thead>\n",
       "    <tr style=\"text-align: right;\">\n",
       "      <th></th>\n",
       "      <th>SEASON</th>\n",
       "      <th>TEAM</th>\n",
       "      <th>PLAYER_NAME</th>\n",
       "      <th>PTS</th>\n",
       "      <th>REB</th>\n",
       "      <th>AST</th>\n",
       "      <th>FG3_PCT</th>\n",
       "    </tr>\n",
       "  </thead>\n",
       "  <tbody>\n",
       "    <tr>\n",
       "      <th>50</th>\n",
       "      <td>2003</td>\n",
       "      <td>Bulls</td>\n",
       "      <td>Tyson Chandler</td>\n",
       "      <td>6.147059</td>\n",
       "      <td>7.764706</td>\n",
       "      <td>0.676471</td>\n",
       "      <td>0.0</td>\n",
       "    </tr>\n",
       "    <tr>\n",
       "      <th>566</th>\n",
       "      <td>2004</td>\n",
       "      <td>Bulls</td>\n",
       "      <td>Tyson Chandler</td>\n",
       "      <td>8.255814</td>\n",
       "      <td>9.686047</td>\n",
       "      <td>0.848837</td>\n",
       "      <td>0.0</td>\n",
       "    </tr>\n",
       "    <tr>\n",
       "      <th>1093</th>\n",
       "      <td>2005</td>\n",
       "      <td>Bulls</td>\n",
       "      <td>Tyson Chandler</td>\n",
       "      <td>5.035294</td>\n",
       "      <td>8.717647</td>\n",
       "      <td>0.988235</td>\n",
       "      <td>0.0</td>\n",
       "    </tr>\n",
       "    <tr>\n",
       "      <th>1881</th>\n",
       "      <td>2006</td>\n",
       "      <td>Pelicans</td>\n",
       "      <td>Tyson Chandler</td>\n",
       "      <td>9.452055</td>\n",
       "      <td>12.383562</td>\n",
       "      <td>0.904110</td>\n",
       "      <td>0.0</td>\n",
       "    </tr>\n",
       "    <tr>\n",
       "      <th>2392</th>\n",
       "      <td>2007</td>\n",
       "      <td>Pelicans</td>\n",
       "      <td>Tyson Chandler</td>\n",
       "      <td>11.263736</td>\n",
       "      <td>11.549451</td>\n",
       "      <td>0.945055</td>\n",
       "      <td>0.0</td>\n",
       "    </tr>\n",
       "  </tbody>\n",
       "</table>\n",
       "</div>"
      ],
      "text/plain": [
       "      SEASON      TEAM     PLAYER_NAME        PTS        REB       AST  \\\n",
       "50      2003     Bulls  Tyson Chandler   6.147059   7.764706  0.676471   \n",
       "566     2004     Bulls  Tyson Chandler   8.255814   9.686047  0.848837   \n",
       "1093    2005     Bulls  Tyson Chandler   5.035294   8.717647  0.988235   \n",
       "1881    2006  Pelicans  Tyson Chandler   9.452055  12.383562  0.904110   \n",
       "2392    2007  Pelicans  Tyson Chandler  11.263736  11.549451  0.945055   \n",
       "\n",
       "      FG3_PCT  \n",
       "50        0.0  \n",
       "566       0.0  \n",
       "1093      0.0  \n",
       "1881      0.0  \n",
       "2392      0.0  "
      ]
     },
     "execution_count": 84,
     "metadata": {},
     "output_type": "execute_result"
    }
   ],
   "source": [
    "plot_avg_data.head()"
   ]
  },
  {
   "cell_type": "code",
   "execution_count": 85,
   "metadata": {},
   "outputs": [
    {
     "data": {
      "text/html": [
       "<div>\n",
       "<style scoped>\n",
       "    .dataframe tbody tr th:only-of-type {\n",
       "        vertical-align: middle;\n",
       "    }\n",
       "\n",
       "    .dataframe tbody tr th {\n",
       "        vertical-align: top;\n",
       "    }\n",
       "\n",
       "    .dataframe thead th {\n",
       "        text-align: right;\n",
       "    }\n",
       "</style>\n",
       "<table border=\"1\" class=\"dataframe\">\n",
       "  <thead>\n",
       "    <tr style=\"text-align: right;\">\n",
       "      <th></th>\n",
       "      <th>SEASON</th>\n",
       "      <th>TEAM</th>\n",
       "      <th>PLAYER_NAME</th>\n",
       "      <th>PTS</th>\n",
       "      <th>REB</th>\n",
       "      <th>AST</th>\n",
       "      <th>FG3M</th>\n",
       "      <th>FG3A</th>\n",
       "    </tr>\n",
       "  </thead>\n",
       "  <tbody>\n",
       "    <tr>\n",
       "      <th>50</th>\n",
       "      <td>2003</td>\n",
       "      <td>Bulls</td>\n",
       "      <td>Tyson Chandler</td>\n",
       "      <td>209.0</td>\n",
       "      <td>264.0</td>\n",
       "      <td>23.0</td>\n",
       "      <td>0.0</td>\n",
       "      <td>1.0</td>\n",
       "    </tr>\n",
       "    <tr>\n",
       "      <th>566</th>\n",
       "      <td>2004</td>\n",
       "      <td>Bulls</td>\n",
       "      <td>Tyson Chandler</td>\n",
       "      <td>710.0</td>\n",
       "      <td>833.0</td>\n",
       "      <td>73.0</td>\n",
       "      <td>0.0</td>\n",
       "      <td>2.0</td>\n",
       "    </tr>\n",
       "    <tr>\n",
       "      <th>1093</th>\n",
       "      <td>2005</td>\n",
       "      <td>Bulls</td>\n",
       "      <td>Tyson Chandler</td>\n",
       "      <td>428.0</td>\n",
       "      <td>741.0</td>\n",
       "      <td>84.0</td>\n",
       "      <td>0.0</td>\n",
       "      <td>1.0</td>\n",
       "    </tr>\n",
       "    <tr>\n",
       "      <th>1881</th>\n",
       "      <td>2006</td>\n",
       "      <td>Pelicans</td>\n",
       "      <td>Tyson Chandler</td>\n",
       "      <td>690.0</td>\n",
       "      <td>904.0</td>\n",
       "      <td>66.0</td>\n",
       "      <td>0.0</td>\n",
       "      <td>1.0</td>\n",
       "    </tr>\n",
       "    <tr>\n",
       "      <th>2392</th>\n",
       "      <td>2007</td>\n",
       "      <td>Pelicans</td>\n",
       "      <td>Tyson Chandler</td>\n",
       "      <td>1025.0</td>\n",
       "      <td>1051.0</td>\n",
       "      <td>86.0</td>\n",
       "      <td>0.0</td>\n",
       "      <td>1.0</td>\n",
       "    </tr>\n",
       "  </tbody>\n",
       "</table>\n",
       "</div>"
      ],
      "text/plain": [
       "      SEASON      TEAM     PLAYER_NAME     PTS     REB   AST  FG3M  FG3A\n",
       "50      2003     Bulls  Tyson Chandler   209.0   264.0  23.0   0.0   1.0\n",
       "566     2004     Bulls  Tyson Chandler   710.0   833.0  73.0   0.0   2.0\n",
       "1093    2005     Bulls  Tyson Chandler   428.0   741.0  84.0   0.0   1.0\n",
       "1881    2006  Pelicans  Tyson Chandler   690.0   904.0  66.0   0.0   1.0\n",
       "2392    2007  Pelicans  Tyson Chandler  1025.0  1051.0  86.0   0.0   1.0"
      ]
     },
     "execution_count": 85,
     "metadata": {},
     "output_type": "execute_result"
    }
   ],
   "source": [
    "plot_sum_data.head()"
   ]
  },
  {
   "cell_type": "code",
   "execution_count": 86,
   "metadata": {},
   "outputs": [
    {
     "data": {
      "application/vnd.plotly.v1+json": {
       "config": {
        "plotlyServerURL": "https://plot.ly"
       },
       "data": [
        {
         "hovertemplate": "variable=PTS<br>SEASON=%{x}<br>value=%{y}<extra></extra>",
         "legendgroup": "PTS",
         "line": {
          "color": "#636efa",
          "dash": "solid"
         },
         "marker": {
          "symbol": "circle"
         },
         "mode": "lines+markers",
         "name": "PTS",
         "orientation": "v",
         "showlegend": true,
         "type": "scatter",
         "x": [
          2003,
          2004,
          2005,
          2006,
          2007,
          2008,
          2009,
          2010,
          2011,
          2012,
          2013,
          2014,
          2015,
          2016,
          2017,
          2018,
          2018,
          2019
         ],
         "xaxis": "x",
         "y": [
          209,
          710,
          428,
          690,
          1025,
          412,
          347,
          915,
          730,
          757,
          480,
          865,
          488,
          417,
          305,
          147,
          38,
          45
         ],
         "yaxis": "y"
        },
        {
         "hovertemplate": "variable=REB<br>SEASON=%{x}<br>value=%{y}<extra></extra>",
         "legendgroup": "REB",
         "line": {
          "color": "#EF553B",
          "dash": "solid"
         },
         "marker": {
          "symbol": "circle"
         },
         "mode": "lines+markers",
         "name": "REB",
         "orientation": "v",
         "showlegend": true,
         "type": "scatter",
         "x": [
          2003,
          2004,
          2005,
          2006,
          2007,
          2008,
          2009,
          2010,
          2011,
          2012,
          2013,
          2014,
          2015,
          2016,
          2017,
          2018,
          2018,
          2019
         ],
         "xaxis": "x",
         "y": [
          264,
          833,
          741,
          904,
          1051,
          414,
          330,
          885,
          657,
          791,
          529,
          955,
          594,
          558,
          431,
          268,
          53,
          76
         ],
         "yaxis": "y"
        },
        {
         "hovertemplate": "variable=AST<br>SEASON=%{x}<br>value=%{y}<extra></extra>",
         "legendgroup": "AST",
         "line": {
          "color": "#00cc96",
          "dash": "solid"
         },
         "marker": {
          "symbol": "circle"
         },
         "mode": "lines+markers",
         "name": "AST",
         "orientation": "v",
         "showlegend": true,
         "type": "scatter",
         "x": [
          2003,
          2004,
          2005,
          2006,
          2007,
          2008,
          2009,
          2010,
          2011,
          2012,
          2013,
          2014,
          2015,
          2016,
          2017,
          2018,
          2018,
          2019
         ],
         "xaxis": "x",
         "y": [
          23,
          73,
          84,
          66,
          86,
          24,
          18,
          40,
          60,
          66,
          59,
          86,
          66,
          31,
          54,
          31,
          15,
          7
         ],
         "yaxis": "y"
        }
       ],
       "layout": {
        "legend": {
         "title": {
          "text": "variable"
         },
         "tracegroupgap": 0
        },
        "template": {
         "data": {
          "bar": [
           {
            "error_x": {
             "color": "#2a3f5f"
            },
            "error_y": {
             "color": "#2a3f5f"
            },
            "marker": {
             "line": {
              "color": "#E5ECF6",
              "width": 0.5
             },
             "pattern": {
              "fillmode": "overlay",
              "size": 10,
              "solidity": 0.2
             }
            },
            "type": "bar"
           }
          ],
          "barpolar": [
           {
            "marker": {
             "line": {
              "color": "#E5ECF6",
              "width": 0.5
             },
             "pattern": {
              "fillmode": "overlay",
              "size": 10,
              "solidity": 0.2
             }
            },
            "type": "barpolar"
           }
          ],
          "carpet": [
           {
            "aaxis": {
             "endlinecolor": "#2a3f5f",
             "gridcolor": "white",
             "linecolor": "white",
             "minorgridcolor": "white",
             "startlinecolor": "#2a3f5f"
            },
            "baxis": {
             "endlinecolor": "#2a3f5f",
             "gridcolor": "white",
             "linecolor": "white",
             "minorgridcolor": "white",
             "startlinecolor": "#2a3f5f"
            },
            "type": "carpet"
           }
          ],
          "choropleth": [
           {
            "colorbar": {
             "outlinewidth": 0,
             "ticks": ""
            },
            "type": "choropleth"
           }
          ],
          "contour": [
           {
            "colorbar": {
             "outlinewidth": 0,
             "ticks": ""
            },
            "colorscale": [
             [
              0,
              "#0d0887"
             ],
             [
              0.1111111111111111,
              "#46039f"
             ],
             [
              0.2222222222222222,
              "#7201a8"
             ],
             [
              0.3333333333333333,
              "#9c179e"
             ],
             [
              0.4444444444444444,
              "#bd3786"
             ],
             [
              0.5555555555555556,
              "#d8576b"
             ],
             [
              0.6666666666666666,
              "#ed7953"
             ],
             [
              0.7777777777777778,
              "#fb9f3a"
             ],
             [
              0.8888888888888888,
              "#fdca26"
             ],
             [
              1,
              "#f0f921"
             ]
            ],
            "type": "contour"
           }
          ],
          "contourcarpet": [
           {
            "colorbar": {
             "outlinewidth": 0,
             "ticks": ""
            },
            "type": "contourcarpet"
           }
          ],
          "heatmap": [
           {
            "colorbar": {
             "outlinewidth": 0,
             "ticks": ""
            },
            "colorscale": [
             [
              0,
              "#0d0887"
             ],
             [
              0.1111111111111111,
              "#46039f"
             ],
             [
              0.2222222222222222,
              "#7201a8"
             ],
             [
              0.3333333333333333,
              "#9c179e"
             ],
             [
              0.4444444444444444,
              "#bd3786"
             ],
             [
              0.5555555555555556,
              "#d8576b"
             ],
             [
              0.6666666666666666,
              "#ed7953"
             ],
             [
              0.7777777777777778,
              "#fb9f3a"
             ],
             [
              0.8888888888888888,
              "#fdca26"
             ],
             [
              1,
              "#f0f921"
             ]
            ],
            "type": "heatmap"
           }
          ],
          "heatmapgl": [
           {
            "colorbar": {
             "outlinewidth": 0,
             "ticks": ""
            },
            "colorscale": [
             [
              0,
              "#0d0887"
             ],
             [
              0.1111111111111111,
              "#46039f"
             ],
             [
              0.2222222222222222,
              "#7201a8"
             ],
             [
              0.3333333333333333,
              "#9c179e"
             ],
             [
              0.4444444444444444,
              "#bd3786"
             ],
             [
              0.5555555555555556,
              "#d8576b"
             ],
             [
              0.6666666666666666,
              "#ed7953"
             ],
             [
              0.7777777777777778,
              "#fb9f3a"
             ],
             [
              0.8888888888888888,
              "#fdca26"
             ],
             [
              1,
              "#f0f921"
             ]
            ],
            "type": "heatmapgl"
           }
          ],
          "histogram": [
           {
            "marker": {
             "pattern": {
              "fillmode": "overlay",
              "size": 10,
              "solidity": 0.2
             }
            },
            "type": "histogram"
           }
          ],
          "histogram2d": [
           {
            "colorbar": {
             "outlinewidth": 0,
             "ticks": ""
            },
            "colorscale": [
             [
              0,
              "#0d0887"
             ],
             [
              0.1111111111111111,
              "#46039f"
             ],
             [
              0.2222222222222222,
              "#7201a8"
             ],
             [
              0.3333333333333333,
              "#9c179e"
             ],
             [
              0.4444444444444444,
              "#bd3786"
             ],
             [
              0.5555555555555556,
              "#d8576b"
             ],
             [
              0.6666666666666666,
              "#ed7953"
             ],
             [
              0.7777777777777778,
              "#fb9f3a"
             ],
             [
              0.8888888888888888,
              "#fdca26"
             ],
             [
              1,
              "#f0f921"
             ]
            ],
            "type": "histogram2d"
           }
          ],
          "histogram2dcontour": [
           {
            "colorbar": {
             "outlinewidth": 0,
             "ticks": ""
            },
            "colorscale": [
             [
              0,
              "#0d0887"
             ],
             [
              0.1111111111111111,
              "#46039f"
             ],
             [
              0.2222222222222222,
              "#7201a8"
             ],
             [
              0.3333333333333333,
              "#9c179e"
             ],
             [
              0.4444444444444444,
              "#bd3786"
             ],
             [
              0.5555555555555556,
              "#d8576b"
             ],
             [
              0.6666666666666666,
              "#ed7953"
             ],
             [
              0.7777777777777778,
              "#fb9f3a"
             ],
             [
              0.8888888888888888,
              "#fdca26"
             ],
             [
              1,
              "#f0f921"
             ]
            ],
            "type": "histogram2dcontour"
           }
          ],
          "mesh3d": [
           {
            "colorbar": {
             "outlinewidth": 0,
             "ticks": ""
            },
            "type": "mesh3d"
           }
          ],
          "parcoords": [
           {
            "line": {
             "colorbar": {
              "outlinewidth": 0,
              "ticks": ""
             }
            },
            "type": "parcoords"
           }
          ],
          "pie": [
           {
            "automargin": true,
            "type": "pie"
           }
          ],
          "scatter": [
           {
            "fillpattern": {
             "fillmode": "overlay",
             "size": 10,
             "solidity": 0.2
            },
            "type": "scatter"
           }
          ],
          "scatter3d": [
           {
            "line": {
             "colorbar": {
              "outlinewidth": 0,
              "ticks": ""
             }
            },
            "marker": {
             "colorbar": {
              "outlinewidth": 0,
              "ticks": ""
             }
            },
            "type": "scatter3d"
           }
          ],
          "scattercarpet": [
           {
            "marker": {
             "colorbar": {
              "outlinewidth": 0,
              "ticks": ""
             }
            },
            "type": "scattercarpet"
           }
          ],
          "scattergeo": [
           {
            "marker": {
             "colorbar": {
              "outlinewidth": 0,
              "ticks": ""
             }
            },
            "type": "scattergeo"
           }
          ],
          "scattergl": [
           {
            "marker": {
             "colorbar": {
              "outlinewidth": 0,
              "ticks": ""
             }
            },
            "type": "scattergl"
           }
          ],
          "scattermapbox": [
           {
            "marker": {
             "colorbar": {
              "outlinewidth": 0,
              "ticks": ""
             }
            },
            "type": "scattermapbox"
           }
          ],
          "scatterpolar": [
           {
            "marker": {
             "colorbar": {
              "outlinewidth": 0,
              "ticks": ""
             }
            },
            "type": "scatterpolar"
           }
          ],
          "scatterpolargl": [
           {
            "marker": {
             "colorbar": {
              "outlinewidth": 0,
              "ticks": ""
             }
            },
            "type": "scatterpolargl"
           }
          ],
          "scatterternary": [
           {
            "marker": {
             "colorbar": {
              "outlinewidth": 0,
              "ticks": ""
             }
            },
            "type": "scatterternary"
           }
          ],
          "surface": [
           {
            "colorbar": {
             "outlinewidth": 0,
             "ticks": ""
            },
            "colorscale": [
             [
              0,
              "#0d0887"
             ],
             [
              0.1111111111111111,
              "#46039f"
             ],
             [
              0.2222222222222222,
              "#7201a8"
             ],
             [
              0.3333333333333333,
              "#9c179e"
             ],
             [
              0.4444444444444444,
              "#bd3786"
             ],
             [
              0.5555555555555556,
              "#d8576b"
             ],
             [
              0.6666666666666666,
              "#ed7953"
             ],
             [
              0.7777777777777778,
              "#fb9f3a"
             ],
             [
              0.8888888888888888,
              "#fdca26"
             ],
             [
              1,
              "#f0f921"
             ]
            ],
            "type": "surface"
           }
          ],
          "table": [
           {
            "cells": {
             "fill": {
              "color": "#EBF0F8"
             },
             "line": {
              "color": "white"
             }
            },
            "header": {
             "fill": {
              "color": "#C8D4E3"
             },
             "line": {
              "color": "white"
             }
            },
            "type": "table"
           }
          ]
         },
         "layout": {
          "annotationdefaults": {
           "arrowcolor": "#2a3f5f",
           "arrowhead": 0,
           "arrowwidth": 1
          },
          "autotypenumbers": "strict",
          "coloraxis": {
           "colorbar": {
            "outlinewidth": 0,
            "ticks": ""
           }
          },
          "colorscale": {
           "diverging": [
            [
             0,
             "#8e0152"
            ],
            [
             0.1,
             "#c51b7d"
            ],
            [
             0.2,
             "#de77ae"
            ],
            [
             0.3,
             "#f1b6da"
            ],
            [
             0.4,
             "#fde0ef"
            ],
            [
             0.5,
             "#f7f7f7"
            ],
            [
             0.6,
             "#e6f5d0"
            ],
            [
             0.7,
             "#b8e186"
            ],
            [
             0.8,
             "#7fbc41"
            ],
            [
             0.9,
             "#4d9221"
            ],
            [
             1,
             "#276419"
            ]
           ],
           "sequential": [
            [
             0,
             "#0d0887"
            ],
            [
             0.1111111111111111,
             "#46039f"
            ],
            [
             0.2222222222222222,
             "#7201a8"
            ],
            [
             0.3333333333333333,
             "#9c179e"
            ],
            [
             0.4444444444444444,
             "#bd3786"
            ],
            [
             0.5555555555555556,
             "#d8576b"
            ],
            [
             0.6666666666666666,
             "#ed7953"
            ],
            [
             0.7777777777777778,
             "#fb9f3a"
            ],
            [
             0.8888888888888888,
             "#fdca26"
            ],
            [
             1,
             "#f0f921"
            ]
           ],
           "sequentialminus": [
            [
             0,
             "#0d0887"
            ],
            [
             0.1111111111111111,
             "#46039f"
            ],
            [
             0.2222222222222222,
             "#7201a8"
            ],
            [
             0.3333333333333333,
             "#9c179e"
            ],
            [
             0.4444444444444444,
             "#bd3786"
            ],
            [
             0.5555555555555556,
             "#d8576b"
            ],
            [
             0.6666666666666666,
             "#ed7953"
            ],
            [
             0.7777777777777778,
             "#fb9f3a"
            ],
            [
             0.8888888888888888,
             "#fdca26"
            ],
            [
             1,
             "#f0f921"
            ]
           ]
          },
          "colorway": [
           "#636efa",
           "#EF553B",
           "#00cc96",
           "#ab63fa",
           "#FFA15A",
           "#19d3f3",
           "#FF6692",
           "#B6E880",
           "#FF97FF",
           "#FECB52"
          ],
          "font": {
           "color": "#2a3f5f"
          },
          "geo": {
           "bgcolor": "white",
           "lakecolor": "white",
           "landcolor": "#E5ECF6",
           "showlakes": true,
           "showland": true,
           "subunitcolor": "white"
          },
          "hoverlabel": {
           "align": "left"
          },
          "hovermode": "closest",
          "mapbox": {
           "style": "light"
          },
          "paper_bgcolor": "white",
          "plot_bgcolor": "#E5ECF6",
          "polar": {
           "angularaxis": {
            "gridcolor": "white",
            "linecolor": "white",
            "ticks": ""
           },
           "bgcolor": "#E5ECF6",
           "radialaxis": {
            "gridcolor": "white",
            "linecolor": "white",
            "ticks": ""
           }
          },
          "scene": {
           "xaxis": {
            "backgroundcolor": "#E5ECF6",
            "gridcolor": "white",
            "gridwidth": 2,
            "linecolor": "white",
            "showbackground": true,
            "ticks": "",
            "zerolinecolor": "white"
           },
           "yaxis": {
            "backgroundcolor": "#E5ECF6",
            "gridcolor": "white",
            "gridwidth": 2,
            "linecolor": "white",
            "showbackground": true,
            "ticks": "",
            "zerolinecolor": "white"
           },
           "zaxis": {
            "backgroundcolor": "#E5ECF6",
            "gridcolor": "white",
            "gridwidth": 2,
            "linecolor": "white",
            "showbackground": true,
            "ticks": "",
            "zerolinecolor": "white"
           }
          },
          "shapedefaults": {
           "line": {
            "color": "#2a3f5f"
           }
          },
          "ternary": {
           "aaxis": {
            "gridcolor": "white",
            "linecolor": "white",
            "ticks": ""
           },
           "baxis": {
            "gridcolor": "white",
            "linecolor": "white",
            "ticks": ""
           },
           "bgcolor": "#E5ECF6",
           "caxis": {
            "gridcolor": "white",
            "linecolor": "white",
            "ticks": ""
           }
          },
          "title": {
           "x": 0.05
          },
          "xaxis": {
           "automargin": true,
           "gridcolor": "white",
           "linecolor": "white",
           "ticks": "",
           "title": {
            "standoff": 15
           },
           "zerolinecolor": "white",
           "zerolinewidth": 2
          },
          "yaxis": {
           "automargin": true,
           "gridcolor": "white",
           "linecolor": "white",
           "ticks": "",
           "title": {
            "standoff": 15
           },
           "zerolinecolor": "white",
           "zerolinewidth": 2
          }
         }
        },
        "title": {
         "text": "Total PTS per Season per player Tyson Chandler"
        },
        "xaxis": {
         "anchor": "y",
         "domain": [
          0,
          1
         ],
         "title": {
          "text": "SEASON"
         }
        },
        "yaxis": {
         "anchor": "x",
         "domain": [
          0,
          1
         ],
         "title": {
          "text": "value"
         }
        }
       }
      }
     },
     "metadata": {},
     "output_type": "display_data"
    }
   ],
   "source": [
    "fig4 = px.line(plot_sum_data, x='SEASON', y=['PTS', 'REB', 'AST'], markers=True, title = f'Total PTS per Season per player {player}')\n",
    "fig4.show()"
   ]
  },
  {
   "cell_type": "code",
   "execution_count": 87,
   "metadata": {},
   "outputs": [
    {
     "data": {
      "application/vnd.plotly.v1+json": {
       "config": {
        "plotlyServerURL": "https://plot.ly"
       },
       "data": [
        {
         "hovertemplate": "variable=FG3M<br>SEASON=%{x}<br>value=%{y}<extra></extra>",
         "legendgroup": "FG3M",
         "line": {
          "color": "#636efa",
          "dash": "solid"
         },
         "marker": {
          "symbol": "circle"
         },
         "mode": "lines+markers",
         "name": "FG3M",
         "orientation": "v",
         "showlegend": true,
         "type": "scatter",
         "x": [
          2003,
          2004,
          2005,
          2006,
          2007,
          2008,
          2009,
          2010,
          2011,
          2012,
          2013,
          2014,
          2015,
          2016,
          2017,
          2018,
          2018,
          2019
         ],
         "xaxis": "x",
         "y": [
          0,
          0,
          0,
          0,
          0,
          0,
          0,
          0,
          0,
          0,
          0,
          0,
          0,
          0,
          0,
          0,
          0,
          0
         ],
         "yaxis": "y"
        },
        {
         "hovertemplate": "variable=FG3A<br>SEASON=%{x}<br>value=%{y}<extra></extra>",
         "legendgroup": "FG3A",
         "line": {
          "color": "#EF553B",
          "dash": "solid"
         },
         "marker": {
          "symbol": "circle"
         },
         "mode": "lines+markers",
         "name": "FG3A",
         "orientation": "v",
         "showlegend": true,
         "type": "scatter",
         "x": [
          2003,
          2004,
          2005,
          2006,
          2007,
          2008,
          2009,
          2010,
          2011,
          2012,
          2013,
          2014,
          2015,
          2016,
          2017,
          2018,
          2018,
          2019
         ],
         "xaxis": "x",
         "y": [
          1,
          2,
          1,
          1,
          1,
          0,
          0,
          0,
          2,
          0,
          1,
          0,
          1,
          0,
          0,
          1,
          0,
          0
         ],
         "yaxis": "y"
        }
       ],
       "layout": {
        "legend": {
         "title": {
          "text": "variable"
         },
         "tracegroupgap": 0
        },
        "template": {
         "data": {
          "bar": [
           {
            "error_x": {
             "color": "#2a3f5f"
            },
            "error_y": {
             "color": "#2a3f5f"
            },
            "marker": {
             "line": {
              "color": "#E5ECF6",
              "width": 0.5
             },
             "pattern": {
              "fillmode": "overlay",
              "size": 10,
              "solidity": 0.2
             }
            },
            "type": "bar"
           }
          ],
          "barpolar": [
           {
            "marker": {
             "line": {
              "color": "#E5ECF6",
              "width": 0.5
             },
             "pattern": {
              "fillmode": "overlay",
              "size": 10,
              "solidity": 0.2
             }
            },
            "type": "barpolar"
           }
          ],
          "carpet": [
           {
            "aaxis": {
             "endlinecolor": "#2a3f5f",
             "gridcolor": "white",
             "linecolor": "white",
             "minorgridcolor": "white",
             "startlinecolor": "#2a3f5f"
            },
            "baxis": {
             "endlinecolor": "#2a3f5f",
             "gridcolor": "white",
             "linecolor": "white",
             "minorgridcolor": "white",
             "startlinecolor": "#2a3f5f"
            },
            "type": "carpet"
           }
          ],
          "choropleth": [
           {
            "colorbar": {
             "outlinewidth": 0,
             "ticks": ""
            },
            "type": "choropleth"
           }
          ],
          "contour": [
           {
            "colorbar": {
             "outlinewidth": 0,
             "ticks": ""
            },
            "colorscale": [
             [
              0,
              "#0d0887"
             ],
             [
              0.1111111111111111,
              "#46039f"
             ],
             [
              0.2222222222222222,
              "#7201a8"
             ],
             [
              0.3333333333333333,
              "#9c179e"
             ],
             [
              0.4444444444444444,
              "#bd3786"
             ],
             [
              0.5555555555555556,
              "#d8576b"
             ],
             [
              0.6666666666666666,
              "#ed7953"
             ],
             [
              0.7777777777777778,
              "#fb9f3a"
             ],
             [
              0.8888888888888888,
              "#fdca26"
             ],
             [
              1,
              "#f0f921"
             ]
            ],
            "type": "contour"
           }
          ],
          "contourcarpet": [
           {
            "colorbar": {
             "outlinewidth": 0,
             "ticks": ""
            },
            "type": "contourcarpet"
           }
          ],
          "heatmap": [
           {
            "colorbar": {
             "outlinewidth": 0,
             "ticks": ""
            },
            "colorscale": [
             [
              0,
              "#0d0887"
             ],
             [
              0.1111111111111111,
              "#46039f"
             ],
             [
              0.2222222222222222,
              "#7201a8"
             ],
             [
              0.3333333333333333,
              "#9c179e"
             ],
             [
              0.4444444444444444,
              "#bd3786"
             ],
             [
              0.5555555555555556,
              "#d8576b"
             ],
             [
              0.6666666666666666,
              "#ed7953"
             ],
             [
              0.7777777777777778,
              "#fb9f3a"
             ],
             [
              0.8888888888888888,
              "#fdca26"
             ],
             [
              1,
              "#f0f921"
             ]
            ],
            "type": "heatmap"
           }
          ],
          "heatmapgl": [
           {
            "colorbar": {
             "outlinewidth": 0,
             "ticks": ""
            },
            "colorscale": [
             [
              0,
              "#0d0887"
             ],
             [
              0.1111111111111111,
              "#46039f"
             ],
             [
              0.2222222222222222,
              "#7201a8"
             ],
             [
              0.3333333333333333,
              "#9c179e"
             ],
             [
              0.4444444444444444,
              "#bd3786"
             ],
             [
              0.5555555555555556,
              "#d8576b"
             ],
             [
              0.6666666666666666,
              "#ed7953"
             ],
             [
              0.7777777777777778,
              "#fb9f3a"
             ],
             [
              0.8888888888888888,
              "#fdca26"
             ],
             [
              1,
              "#f0f921"
             ]
            ],
            "type": "heatmapgl"
           }
          ],
          "histogram": [
           {
            "marker": {
             "pattern": {
              "fillmode": "overlay",
              "size": 10,
              "solidity": 0.2
             }
            },
            "type": "histogram"
           }
          ],
          "histogram2d": [
           {
            "colorbar": {
             "outlinewidth": 0,
             "ticks": ""
            },
            "colorscale": [
             [
              0,
              "#0d0887"
             ],
             [
              0.1111111111111111,
              "#46039f"
             ],
             [
              0.2222222222222222,
              "#7201a8"
             ],
             [
              0.3333333333333333,
              "#9c179e"
             ],
             [
              0.4444444444444444,
              "#bd3786"
             ],
             [
              0.5555555555555556,
              "#d8576b"
             ],
             [
              0.6666666666666666,
              "#ed7953"
             ],
             [
              0.7777777777777778,
              "#fb9f3a"
             ],
             [
              0.8888888888888888,
              "#fdca26"
             ],
             [
              1,
              "#f0f921"
             ]
            ],
            "type": "histogram2d"
           }
          ],
          "histogram2dcontour": [
           {
            "colorbar": {
             "outlinewidth": 0,
             "ticks": ""
            },
            "colorscale": [
             [
              0,
              "#0d0887"
             ],
             [
              0.1111111111111111,
              "#46039f"
             ],
             [
              0.2222222222222222,
              "#7201a8"
             ],
             [
              0.3333333333333333,
              "#9c179e"
             ],
             [
              0.4444444444444444,
              "#bd3786"
             ],
             [
              0.5555555555555556,
              "#d8576b"
             ],
             [
              0.6666666666666666,
              "#ed7953"
             ],
             [
              0.7777777777777778,
              "#fb9f3a"
             ],
             [
              0.8888888888888888,
              "#fdca26"
             ],
             [
              1,
              "#f0f921"
             ]
            ],
            "type": "histogram2dcontour"
           }
          ],
          "mesh3d": [
           {
            "colorbar": {
             "outlinewidth": 0,
             "ticks": ""
            },
            "type": "mesh3d"
           }
          ],
          "parcoords": [
           {
            "line": {
             "colorbar": {
              "outlinewidth": 0,
              "ticks": ""
             }
            },
            "type": "parcoords"
           }
          ],
          "pie": [
           {
            "automargin": true,
            "type": "pie"
           }
          ],
          "scatter": [
           {
            "fillpattern": {
             "fillmode": "overlay",
             "size": 10,
             "solidity": 0.2
            },
            "type": "scatter"
           }
          ],
          "scatter3d": [
           {
            "line": {
             "colorbar": {
              "outlinewidth": 0,
              "ticks": ""
             }
            },
            "marker": {
             "colorbar": {
              "outlinewidth": 0,
              "ticks": ""
             }
            },
            "type": "scatter3d"
           }
          ],
          "scattercarpet": [
           {
            "marker": {
             "colorbar": {
              "outlinewidth": 0,
              "ticks": ""
             }
            },
            "type": "scattercarpet"
           }
          ],
          "scattergeo": [
           {
            "marker": {
             "colorbar": {
              "outlinewidth": 0,
              "ticks": ""
             }
            },
            "type": "scattergeo"
           }
          ],
          "scattergl": [
           {
            "marker": {
             "colorbar": {
              "outlinewidth": 0,
              "ticks": ""
             }
            },
            "type": "scattergl"
           }
          ],
          "scattermapbox": [
           {
            "marker": {
             "colorbar": {
              "outlinewidth": 0,
              "ticks": ""
             }
            },
            "type": "scattermapbox"
           }
          ],
          "scatterpolar": [
           {
            "marker": {
             "colorbar": {
              "outlinewidth": 0,
              "ticks": ""
             }
            },
            "type": "scatterpolar"
           }
          ],
          "scatterpolargl": [
           {
            "marker": {
             "colorbar": {
              "outlinewidth": 0,
              "ticks": ""
             }
            },
            "type": "scatterpolargl"
           }
          ],
          "scatterternary": [
           {
            "marker": {
             "colorbar": {
              "outlinewidth": 0,
              "ticks": ""
             }
            },
            "type": "scatterternary"
           }
          ],
          "surface": [
           {
            "colorbar": {
             "outlinewidth": 0,
             "ticks": ""
            },
            "colorscale": [
             [
              0,
              "#0d0887"
             ],
             [
              0.1111111111111111,
              "#46039f"
             ],
             [
              0.2222222222222222,
              "#7201a8"
             ],
             [
              0.3333333333333333,
              "#9c179e"
             ],
             [
              0.4444444444444444,
              "#bd3786"
             ],
             [
              0.5555555555555556,
              "#d8576b"
             ],
             [
              0.6666666666666666,
              "#ed7953"
             ],
             [
              0.7777777777777778,
              "#fb9f3a"
             ],
             [
              0.8888888888888888,
              "#fdca26"
             ],
             [
              1,
              "#f0f921"
             ]
            ],
            "type": "surface"
           }
          ],
          "table": [
           {
            "cells": {
             "fill": {
              "color": "#EBF0F8"
             },
             "line": {
              "color": "white"
             }
            },
            "header": {
             "fill": {
              "color": "#C8D4E3"
             },
             "line": {
              "color": "white"
             }
            },
            "type": "table"
           }
          ]
         },
         "layout": {
          "annotationdefaults": {
           "arrowcolor": "#2a3f5f",
           "arrowhead": 0,
           "arrowwidth": 1
          },
          "autotypenumbers": "strict",
          "coloraxis": {
           "colorbar": {
            "outlinewidth": 0,
            "ticks": ""
           }
          },
          "colorscale": {
           "diverging": [
            [
             0,
             "#8e0152"
            ],
            [
             0.1,
             "#c51b7d"
            ],
            [
             0.2,
             "#de77ae"
            ],
            [
             0.3,
             "#f1b6da"
            ],
            [
             0.4,
             "#fde0ef"
            ],
            [
             0.5,
             "#f7f7f7"
            ],
            [
             0.6,
             "#e6f5d0"
            ],
            [
             0.7,
             "#b8e186"
            ],
            [
             0.8,
             "#7fbc41"
            ],
            [
             0.9,
             "#4d9221"
            ],
            [
             1,
             "#276419"
            ]
           ],
           "sequential": [
            [
             0,
             "#0d0887"
            ],
            [
             0.1111111111111111,
             "#46039f"
            ],
            [
             0.2222222222222222,
             "#7201a8"
            ],
            [
             0.3333333333333333,
             "#9c179e"
            ],
            [
             0.4444444444444444,
             "#bd3786"
            ],
            [
             0.5555555555555556,
             "#d8576b"
            ],
            [
             0.6666666666666666,
             "#ed7953"
            ],
            [
             0.7777777777777778,
             "#fb9f3a"
            ],
            [
             0.8888888888888888,
             "#fdca26"
            ],
            [
             1,
             "#f0f921"
            ]
           ],
           "sequentialminus": [
            [
             0,
             "#0d0887"
            ],
            [
             0.1111111111111111,
             "#46039f"
            ],
            [
             0.2222222222222222,
             "#7201a8"
            ],
            [
             0.3333333333333333,
             "#9c179e"
            ],
            [
             0.4444444444444444,
             "#bd3786"
            ],
            [
             0.5555555555555556,
             "#d8576b"
            ],
            [
             0.6666666666666666,
             "#ed7953"
            ],
            [
             0.7777777777777778,
             "#fb9f3a"
            ],
            [
             0.8888888888888888,
             "#fdca26"
            ],
            [
             1,
             "#f0f921"
            ]
           ]
          },
          "colorway": [
           "#636efa",
           "#EF553B",
           "#00cc96",
           "#ab63fa",
           "#FFA15A",
           "#19d3f3",
           "#FF6692",
           "#B6E880",
           "#FF97FF",
           "#FECB52"
          ],
          "font": {
           "color": "#2a3f5f"
          },
          "geo": {
           "bgcolor": "white",
           "lakecolor": "white",
           "landcolor": "#E5ECF6",
           "showlakes": true,
           "showland": true,
           "subunitcolor": "white"
          },
          "hoverlabel": {
           "align": "left"
          },
          "hovermode": "closest",
          "mapbox": {
           "style": "light"
          },
          "paper_bgcolor": "white",
          "plot_bgcolor": "#E5ECF6",
          "polar": {
           "angularaxis": {
            "gridcolor": "white",
            "linecolor": "white",
            "ticks": ""
           },
           "bgcolor": "#E5ECF6",
           "radialaxis": {
            "gridcolor": "white",
            "linecolor": "white",
            "ticks": ""
           }
          },
          "scene": {
           "xaxis": {
            "backgroundcolor": "#E5ECF6",
            "gridcolor": "white",
            "gridwidth": 2,
            "linecolor": "white",
            "showbackground": true,
            "ticks": "",
            "zerolinecolor": "white"
           },
           "yaxis": {
            "backgroundcolor": "#E5ECF6",
            "gridcolor": "white",
            "gridwidth": 2,
            "linecolor": "white",
            "showbackground": true,
            "ticks": "",
            "zerolinecolor": "white"
           },
           "zaxis": {
            "backgroundcolor": "#E5ECF6",
            "gridcolor": "white",
            "gridwidth": 2,
            "linecolor": "white",
            "showbackground": true,
            "ticks": "",
            "zerolinecolor": "white"
           }
          },
          "shapedefaults": {
           "line": {
            "color": "#2a3f5f"
           }
          },
          "ternary": {
           "aaxis": {
            "gridcolor": "white",
            "linecolor": "white",
            "ticks": ""
           },
           "baxis": {
            "gridcolor": "white",
            "linecolor": "white",
            "ticks": ""
           },
           "bgcolor": "#E5ECF6",
           "caxis": {
            "gridcolor": "white",
            "linecolor": "white",
            "ticks": ""
           }
          },
          "title": {
           "x": 0.05
          },
          "xaxis": {
           "automargin": true,
           "gridcolor": "white",
           "linecolor": "white",
           "ticks": "",
           "title": {
            "standoff": 15
           },
           "zerolinecolor": "white",
           "zerolinewidth": 2
          },
          "yaxis": {
           "automargin": true,
           "gridcolor": "white",
           "linecolor": "white",
           "ticks": "",
           "title": {
            "standoff": 15
           },
           "zerolinecolor": "white",
           "zerolinewidth": 2
          }
         }
        },
        "title": {
         "text": "Three Point Shots Stats per Season per player Tyson Chandler"
        },
        "xaxis": {
         "anchor": "y",
         "domain": [
          0,
          1
         ],
         "title": {
          "text": "SEASON"
         }
        },
        "yaxis": {
         "anchor": "x",
         "domain": [
          0,
          1
         ],
         "title": {
          "text": "value"
         }
        }
       }
      }
     },
     "metadata": {},
     "output_type": "display_data"
    }
   ],
   "source": [
    "fig4 = px.line(plot_sum_data, x='SEASON', y=['FG3M', 'FG3A'], markers=True, title = f'Three Point Shots Stats per Season per player {player}')\n",
    "fig4.show()"
   ]
  },
  {
   "cell_type": "markdown",
   "metadata": {},
   "source": [
    "### For each player, plot the statistics across all matches of a specific season"
   ]
  },
  {
   "cell_type": "code",
   "execution_count": 124,
   "metadata": {},
   "outputs": [],
   "source": [
    "season = 2020\n",
    "player = 'Karl-Anthony Towns'"
   ]
  },
  {
   "cell_type": "code",
   "execution_count": 125,
   "metadata": {},
   "outputs": [],
   "source": [
    "plot_data1 = games_full_df[(games_full_df['PLAYER_NAME'] == player) & (games_full_df['SEASON'] == season)]"
   ]
  },
  {
   "cell_type": "code",
   "execution_count": 131,
   "metadata": {},
   "outputs": [
    {
     "name": "stderr",
     "output_type": "stream",
     "text": [
      "/tmp/ipykernel_3322/1566726399.py:1: SettingWithCopyWarning:\n",
      "\n",
      "\n",
      "A value is trying to be set on a copy of a slice from a DataFrame.\n",
      "Try using .loc[row_indexer,col_indexer] = value instead\n",
      "\n",
      "See the caveats in the documentation: https://pandas.pydata.org/pandas-docs/stable/user_guide/indexing.html#returning-a-view-versus-a-copy\n",
      "\n",
      "/tmp/ipykernel_3322/1566726399.py:3: SettingWithCopyWarning:\n",
      "\n",
      "\n",
      "A value is trying to be set on a copy of a slice from a DataFrame.\n",
      "Try using .loc[row_indexer,col_indexer] = value instead\n",
      "\n",
      "See the caveats in the documentation: https://pandas.pydata.org/pandas-docs/stable/user_guide/indexing.html#returning-a-view-versus-a-copy\n",
      "\n"
     ]
    }
   ],
   "source": [
    "plot_data1['NUMBER'] = range(len(plot_data1))\n",
    "col = 'NUMBER'\n",
    "plot_data1['GAME_NUMBER'] = f'game_{plot_data1[col]}'"
   ]
  },
  {
   "cell_type": "code",
   "execution_count": 132,
   "metadata": {},
   "outputs": [
    {
     "data": {
      "text/html": [
       "<div>\n",
       "<style scoped>\n",
       "    .dataframe tbody tr th:only-of-type {\n",
       "        vertical-align: middle;\n",
       "    }\n",
       "\n",
       "    .dataframe tbody tr th {\n",
       "        vertical-align: top;\n",
       "    }\n",
       "\n",
       "    .dataframe thead th {\n",
       "        text-align: right;\n",
       "    }\n",
       "</style>\n",
       "<table border=\"1\" class=\"dataframe\">\n",
       "  <thead>\n",
       "    <tr style=\"text-align: right;\">\n",
       "      <th></th>\n",
       "      <th>GAME_ID</th>\n",
       "      <th>TEAM_ID</th>\n",
       "      <th>TEAM_ABBREVIATION</th>\n",
       "      <th>TEAM_CITY</th>\n",
       "      <th>PLAYER_ID</th>\n",
       "      <th>PLAYER_NAME</th>\n",
       "      <th>PLAYER_NICKNAME</th>\n",
       "      <th>START_POSITION</th>\n",
       "      <th>COMMENT</th>\n",
       "      <th>MIN</th>\n",
       "      <th>...</th>\n",
       "      <th>STL</th>\n",
       "      <th>BLK</th>\n",
       "      <th>TO</th>\n",
       "      <th>PF</th>\n",
       "      <th>PTS</th>\n",
       "      <th>PLUS_MINUS</th>\n",
       "      <th>SEASON</th>\n",
       "      <th>TEAM</th>\n",
       "      <th>NUMBER</th>\n",
       "      <th>GAME_NUMBER</th>\n",
       "    </tr>\n",
       "  </thead>\n",
       "  <tbody>\n",
       "    <tr>\n",
       "      <th>836</th>\n",
       "      <td>22001071</td>\n",
       "      <td>1610612750</td>\n",
       "      <td>MIN</td>\n",
       "      <td>Minnesota</td>\n",
       "      <td>1626157</td>\n",
       "      <td>Karl-Anthony Towns</td>\n",
       "      <td>N/A</td>\n",
       "      <td>C</td>\n",
       "      <td>N/A</td>\n",
       "      <td>31:11</td>\n",
       "      <td>...</td>\n",
       "      <td>2.0</td>\n",
       "      <td>0.0</td>\n",
       "      <td>1.0</td>\n",
       "      <td>6.0</td>\n",
       "      <td>23.0</td>\n",
       "      <td>14.0</td>\n",
       "      <td>2020</td>\n",
       "      <td>Timberwolves</td>\n",
       "      <td>0</td>\n",
       "      <td>game_836      0\\n846      1\\n858      2\\n868  ...</td>\n",
       "    </tr>\n",
       "    <tr>\n",
       "      <th>846</th>\n",
       "      <td>22001063</td>\n",
       "      <td>1610612750</td>\n",
       "      <td>MIN</td>\n",
       "      <td>Minnesota</td>\n",
       "      <td>1626157</td>\n",
       "      <td>Karl-Anthony Towns</td>\n",
       "      <td>N/A</td>\n",
       "      <td>C</td>\n",
       "      <td>N/A</td>\n",
       "      <td>27:06</td>\n",
       "      <td>...</td>\n",
       "      <td>0.0</td>\n",
       "      <td>0.0</td>\n",
       "      <td>3.0</td>\n",
       "      <td>3.0</td>\n",
       "      <td>24.0</td>\n",
       "      <td>-10.0</td>\n",
       "      <td>2020</td>\n",
       "      <td>Timberwolves</td>\n",
       "      <td>1</td>\n",
       "      <td>game_836      0\\n846      1\\n858      2\\n868  ...</td>\n",
       "    </tr>\n",
       "    <tr>\n",
       "      <th>858</th>\n",
       "      <td>22001052</td>\n",
       "      <td>1610612750</td>\n",
       "      <td>MIN</td>\n",
       "      <td>Minnesota</td>\n",
       "      <td>1626157</td>\n",
       "      <td>Karl-Anthony Towns</td>\n",
       "      <td>N/A</td>\n",
       "      <td>C</td>\n",
       "      <td>N/A</td>\n",
       "      <td>39:01</td>\n",
       "      <td>...</td>\n",
       "      <td>0.0</td>\n",
       "      <td>0.0</td>\n",
       "      <td>5.0</td>\n",
       "      <td>4.0</td>\n",
       "      <td>20.0</td>\n",
       "      <td>-6.0</td>\n",
       "      <td>2020</td>\n",
       "      <td>Timberwolves</td>\n",
       "      <td>2</td>\n",
       "      <td>game_836      0\\n846      1\\n858      2\\n868  ...</td>\n",
       "    </tr>\n",
       "    <tr>\n",
       "      <th>868</th>\n",
       "      <td>22001033</td>\n",
       "      <td>1610612750</td>\n",
       "      <td>MIN</td>\n",
       "      <td>Minnesota</td>\n",
       "      <td>1626157</td>\n",
       "      <td>Karl-Anthony Towns</td>\n",
       "      <td>N/A</td>\n",
       "      <td>C</td>\n",
       "      <td>N/A</td>\n",
       "      <td>33:54</td>\n",
       "      <td>...</td>\n",
       "      <td>3.0</td>\n",
       "      <td>0.0</td>\n",
       "      <td>2.0</td>\n",
       "      <td>3.0</td>\n",
       "      <td>28.0</td>\n",
       "      <td>32.0</td>\n",
       "      <td>2020</td>\n",
       "      <td>Timberwolves</td>\n",
       "      <td>3</td>\n",
       "      <td>game_836      0\\n846      1\\n858      2\\n868  ...</td>\n",
       "    </tr>\n",
       "    <tr>\n",
       "      <th>880</th>\n",
       "      <td>22001022</td>\n",
       "      <td>1610612750</td>\n",
       "      <td>MIN</td>\n",
       "      <td>Minnesota</td>\n",
       "      <td>1626157</td>\n",
       "      <td>Karl-Anthony Towns</td>\n",
       "      <td>N/A</td>\n",
       "      <td>C</td>\n",
       "      <td>N/A</td>\n",
       "      <td>28:35</td>\n",
       "      <td>...</td>\n",
       "      <td>1.0</td>\n",
       "      <td>2.0</td>\n",
       "      <td>1.0</td>\n",
       "      <td>3.0</td>\n",
       "      <td>27.0</td>\n",
       "      <td>32.0</td>\n",
       "      <td>2020</td>\n",
       "      <td>Timberwolves</td>\n",
       "      <td>4</td>\n",
       "      <td>game_836      0\\n846      1\\n858      2\\n868  ...</td>\n",
       "    </tr>\n",
       "  </tbody>\n",
       "</table>\n",
       "<p>5 rows × 33 columns</p>\n",
       "</div>"
      ],
      "text/plain": [
       "      GAME_ID     TEAM_ID TEAM_ABBREVIATION  TEAM_CITY  PLAYER_ID  \\\n",
       "836  22001071  1610612750               MIN  Minnesota    1626157   \n",
       "846  22001063  1610612750               MIN  Minnesota    1626157   \n",
       "858  22001052  1610612750               MIN  Minnesota    1626157   \n",
       "868  22001033  1610612750               MIN  Minnesota    1626157   \n",
       "880  22001022  1610612750               MIN  Minnesota    1626157   \n",
       "\n",
       "            PLAYER_NAME PLAYER_NICKNAME START_POSITION COMMENT    MIN  ...  \\\n",
       "836  Karl-Anthony Towns             N/A              C     N/A  31:11  ...   \n",
       "846  Karl-Anthony Towns             N/A              C     N/A  27:06  ...   \n",
       "858  Karl-Anthony Towns             N/A              C     N/A  39:01  ...   \n",
       "868  Karl-Anthony Towns             N/A              C     N/A  33:54  ...   \n",
       "880  Karl-Anthony Towns             N/A              C     N/A  28:35  ...   \n",
       "\n",
       "     STL  BLK   TO   PF   PTS  PLUS_MINUS  SEASON          TEAM  NUMBER  \\\n",
       "836  2.0  0.0  1.0  6.0  23.0        14.0    2020  Timberwolves       0   \n",
       "846  0.0  0.0  3.0  3.0  24.0       -10.0    2020  Timberwolves       1   \n",
       "858  0.0  0.0  5.0  4.0  20.0        -6.0    2020  Timberwolves       2   \n",
       "868  3.0  0.0  2.0  3.0  28.0        32.0    2020  Timberwolves       3   \n",
       "880  1.0  2.0  1.0  3.0  27.0        32.0    2020  Timberwolves       4   \n",
       "\n",
       "                                           GAME_NUMBER  \n",
       "836  game_836      0\\n846      1\\n858      2\\n868  ...  \n",
       "846  game_836      0\\n846      1\\n858      2\\n868  ...  \n",
       "858  game_836      0\\n846      1\\n858      2\\n868  ...  \n",
       "868  game_836      0\\n846      1\\n858      2\\n868  ...  \n",
       "880  game_836      0\\n846      1\\n858      2\\n868  ...  \n",
       "\n",
       "[5 rows x 33 columns]"
      ]
     },
     "execution_count": 132,
     "metadata": {},
     "output_type": "execute_result"
    }
   ],
   "source": [
    "plot_data1.head()"
   ]
  },
  {
   "cell_type": "code",
   "execution_count": 129,
   "metadata": {},
   "outputs": [
    {
     "data": {
      "application/vnd.plotly.v1+json": {
       "config": {
        "plotlyServerURL": "https://plot.ly"
       },
       "data": [
        {
         "hovertemplate": "variable=PTS<br>NUMBER=%{x}<br>value=%{y}<extra></extra>",
         "legendgroup": "PTS",
         "line": {
          "color": "#636efa",
          "dash": "solid"
         },
         "marker": {
          "symbol": "circle"
         },
         "mode": "lines+markers",
         "name": "PTS",
         "orientation": "v",
         "showlegend": true,
         "type": "scatter",
         "x": [
          0,
          1,
          2,
          3,
          4,
          5,
          6,
          7,
          8,
          9,
          10,
          11,
          12,
          13,
          14,
          15,
          16,
          17,
          18,
          19,
          20,
          21,
          22,
          23,
          24,
          25,
          26,
          27,
          28,
          29,
          30,
          31,
          32,
          33,
          34,
          35,
          36,
          37,
          38,
          39,
          40,
          41,
          42,
          43,
          44,
          45,
          46,
          47,
          48,
          49,
          50,
          51,
          52,
          53,
          54
         ],
         "xaxis": "x",
         "y": [
          23,
          24,
          20,
          28,
          27,
          27,
          22,
          28,
          22,
          31,
          21,
          24,
          26,
          26,
          16,
          24,
          27,
          30,
          32,
          23,
          39,
          30,
          18,
          31,
          27,
          29,
          22,
          33,
          16,
          16,
          22,
          22,
          24,
          41,
          29,
          13,
          34,
          16,
          16,
          21,
          23,
          24,
          26,
          27,
          19,
          30,
          15,
          20,
          25,
          18,
          25,
          25,
          20,
          14,
          13
         ],
         "yaxis": "y"
        },
        {
         "hovertemplate": "variable=REB<br>NUMBER=%{x}<br>value=%{y}<extra></extra>",
         "legendgroup": "REB",
         "line": {
          "color": "#EF553B",
          "dash": "solid"
         },
         "marker": {
          "symbol": "circle"
         },
         "mode": "lines+markers",
         "name": "REB",
         "orientation": "v",
         "showlegend": true,
         "type": "scatter",
         "x": [
          0,
          1,
          2,
          3,
          4,
          5,
          6,
          7,
          8,
          9,
          10,
          11,
          12,
          13,
          14,
          15,
          16,
          17,
          18,
          19,
          20,
          21,
          22,
          23,
          24,
          25,
          26,
          27,
          28,
          29,
          30,
          31,
          32,
          33,
          34,
          35,
          36,
          37,
          38,
          39,
          40,
          41,
          42,
          43,
          44,
          45,
          46,
          47,
          48,
          49,
          50,
          51,
          52,
          53,
          54
         ],
         "xaxis": "x",
         "y": [
          9,
          14,
          11,
          8,
          9,
          6,
          4,
          14,
          11,
          7,
          11,
          12,
          5,
          18,
          6,
          5,
          12,
          12,
          12,
          13,
          14,
          16,
          17,
          12,
          15,
          16,
          5,
          10,
          12,
          12,
          11,
          11,
          9,
          10,
          6,
          8,
          10,
          7,
          15,
          10,
          11,
          8,
          8,
          15,
          13,
          10,
          6,
          11,
          8,
          10,
          14,
          13,
          7,
          9,
          8
         ],
         "yaxis": "y"
        },
        {
         "hovertemplate": "variable=AST<br>NUMBER=%{x}<br>value=%{y}<extra></extra>",
         "legendgroup": "AST",
         "line": {
          "color": "#00cc96",
          "dash": "solid"
         },
         "marker": {
          "symbol": "circle"
         },
         "mode": "lines+markers",
         "name": "AST",
         "orientation": "v",
         "showlegend": true,
         "type": "scatter",
         "x": [
          0,
          1,
          2,
          3,
          4,
          5,
          6,
          7,
          8,
          9,
          10,
          11,
          12,
          13,
          14,
          15,
          16,
          17,
          18,
          19,
          20,
          21,
          22,
          23,
          24,
          25,
          26,
          27,
          28,
          29,
          30,
          31,
          32,
          33,
          34,
          35,
          36,
          37,
          38,
          39,
          40,
          41,
          42,
          43,
          44,
          45,
          46,
          47,
          48,
          49,
          50,
          51,
          52,
          53,
          54
         ],
         "xaxis": "x",
         "y": [
          5,
          2,
          4,
          5,
          4,
          4,
          5,
          3,
          7,
          5,
          2,
          3,
          6,
          5,
          5,
          5,
          8,
          7,
          6,
          5,
          5,
          2,
          6,
          5,
          4,
          8,
          6,
          1,
          3,
          3,
          7,
          7,
          1,
          8,
          7,
          8,
          4,
          1,
          3,
          1,
          5,
          5,
          11,
          4,
          4,
          1,
          4,
          3,
          2,
          3,
          3,
          4,
          3,
          5,
          0
         ],
         "yaxis": "y"
        }
       ],
       "layout": {
        "legend": {
         "title": {
          "text": "variable"
         },
         "tracegroupgap": 0
        },
        "template": {
         "data": {
          "bar": [
           {
            "error_x": {
             "color": "#2a3f5f"
            },
            "error_y": {
             "color": "#2a3f5f"
            },
            "marker": {
             "line": {
              "color": "#E5ECF6",
              "width": 0.5
             },
             "pattern": {
              "fillmode": "overlay",
              "size": 10,
              "solidity": 0.2
             }
            },
            "type": "bar"
           }
          ],
          "barpolar": [
           {
            "marker": {
             "line": {
              "color": "#E5ECF6",
              "width": 0.5
             },
             "pattern": {
              "fillmode": "overlay",
              "size": 10,
              "solidity": 0.2
             }
            },
            "type": "barpolar"
           }
          ],
          "carpet": [
           {
            "aaxis": {
             "endlinecolor": "#2a3f5f",
             "gridcolor": "white",
             "linecolor": "white",
             "minorgridcolor": "white",
             "startlinecolor": "#2a3f5f"
            },
            "baxis": {
             "endlinecolor": "#2a3f5f",
             "gridcolor": "white",
             "linecolor": "white",
             "minorgridcolor": "white",
             "startlinecolor": "#2a3f5f"
            },
            "type": "carpet"
           }
          ],
          "choropleth": [
           {
            "colorbar": {
             "outlinewidth": 0,
             "ticks": ""
            },
            "type": "choropleth"
           }
          ],
          "contour": [
           {
            "colorbar": {
             "outlinewidth": 0,
             "ticks": ""
            },
            "colorscale": [
             [
              0,
              "#0d0887"
             ],
             [
              0.1111111111111111,
              "#46039f"
             ],
             [
              0.2222222222222222,
              "#7201a8"
             ],
             [
              0.3333333333333333,
              "#9c179e"
             ],
             [
              0.4444444444444444,
              "#bd3786"
             ],
             [
              0.5555555555555556,
              "#d8576b"
             ],
             [
              0.6666666666666666,
              "#ed7953"
             ],
             [
              0.7777777777777778,
              "#fb9f3a"
             ],
             [
              0.8888888888888888,
              "#fdca26"
             ],
             [
              1,
              "#f0f921"
             ]
            ],
            "type": "contour"
           }
          ],
          "contourcarpet": [
           {
            "colorbar": {
             "outlinewidth": 0,
             "ticks": ""
            },
            "type": "contourcarpet"
           }
          ],
          "heatmap": [
           {
            "colorbar": {
             "outlinewidth": 0,
             "ticks": ""
            },
            "colorscale": [
             [
              0,
              "#0d0887"
             ],
             [
              0.1111111111111111,
              "#46039f"
             ],
             [
              0.2222222222222222,
              "#7201a8"
             ],
             [
              0.3333333333333333,
              "#9c179e"
             ],
             [
              0.4444444444444444,
              "#bd3786"
             ],
             [
              0.5555555555555556,
              "#d8576b"
             ],
             [
              0.6666666666666666,
              "#ed7953"
             ],
             [
              0.7777777777777778,
              "#fb9f3a"
             ],
             [
              0.8888888888888888,
              "#fdca26"
             ],
             [
              1,
              "#f0f921"
             ]
            ],
            "type": "heatmap"
           }
          ],
          "heatmapgl": [
           {
            "colorbar": {
             "outlinewidth": 0,
             "ticks": ""
            },
            "colorscale": [
             [
              0,
              "#0d0887"
             ],
             [
              0.1111111111111111,
              "#46039f"
             ],
             [
              0.2222222222222222,
              "#7201a8"
             ],
             [
              0.3333333333333333,
              "#9c179e"
             ],
             [
              0.4444444444444444,
              "#bd3786"
             ],
             [
              0.5555555555555556,
              "#d8576b"
             ],
             [
              0.6666666666666666,
              "#ed7953"
             ],
             [
              0.7777777777777778,
              "#fb9f3a"
             ],
             [
              0.8888888888888888,
              "#fdca26"
             ],
             [
              1,
              "#f0f921"
             ]
            ],
            "type": "heatmapgl"
           }
          ],
          "histogram": [
           {
            "marker": {
             "pattern": {
              "fillmode": "overlay",
              "size": 10,
              "solidity": 0.2
             }
            },
            "type": "histogram"
           }
          ],
          "histogram2d": [
           {
            "colorbar": {
             "outlinewidth": 0,
             "ticks": ""
            },
            "colorscale": [
             [
              0,
              "#0d0887"
             ],
             [
              0.1111111111111111,
              "#46039f"
             ],
             [
              0.2222222222222222,
              "#7201a8"
             ],
             [
              0.3333333333333333,
              "#9c179e"
             ],
             [
              0.4444444444444444,
              "#bd3786"
             ],
             [
              0.5555555555555556,
              "#d8576b"
             ],
             [
              0.6666666666666666,
              "#ed7953"
             ],
             [
              0.7777777777777778,
              "#fb9f3a"
             ],
             [
              0.8888888888888888,
              "#fdca26"
             ],
             [
              1,
              "#f0f921"
             ]
            ],
            "type": "histogram2d"
           }
          ],
          "histogram2dcontour": [
           {
            "colorbar": {
             "outlinewidth": 0,
             "ticks": ""
            },
            "colorscale": [
             [
              0,
              "#0d0887"
             ],
             [
              0.1111111111111111,
              "#46039f"
             ],
             [
              0.2222222222222222,
              "#7201a8"
             ],
             [
              0.3333333333333333,
              "#9c179e"
             ],
             [
              0.4444444444444444,
              "#bd3786"
             ],
             [
              0.5555555555555556,
              "#d8576b"
             ],
             [
              0.6666666666666666,
              "#ed7953"
             ],
             [
              0.7777777777777778,
              "#fb9f3a"
             ],
             [
              0.8888888888888888,
              "#fdca26"
             ],
             [
              1,
              "#f0f921"
             ]
            ],
            "type": "histogram2dcontour"
           }
          ],
          "mesh3d": [
           {
            "colorbar": {
             "outlinewidth": 0,
             "ticks": ""
            },
            "type": "mesh3d"
           }
          ],
          "parcoords": [
           {
            "line": {
             "colorbar": {
              "outlinewidth": 0,
              "ticks": ""
             }
            },
            "type": "parcoords"
           }
          ],
          "pie": [
           {
            "automargin": true,
            "type": "pie"
           }
          ],
          "scatter": [
           {
            "fillpattern": {
             "fillmode": "overlay",
             "size": 10,
             "solidity": 0.2
            },
            "type": "scatter"
           }
          ],
          "scatter3d": [
           {
            "line": {
             "colorbar": {
              "outlinewidth": 0,
              "ticks": ""
             }
            },
            "marker": {
             "colorbar": {
              "outlinewidth": 0,
              "ticks": ""
             }
            },
            "type": "scatter3d"
           }
          ],
          "scattercarpet": [
           {
            "marker": {
             "colorbar": {
              "outlinewidth": 0,
              "ticks": ""
             }
            },
            "type": "scattercarpet"
           }
          ],
          "scattergeo": [
           {
            "marker": {
             "colorbar": {
              "outlinewidth": 0,
              "ticks": ""
             }
            },
            "type": "scattergeo"
           }
          ],
          "scattergl": [
           {
            "marker": {
             "colorbar": {
              "outlinewidth": 0,
              "ticks": ""
             }
            },
            "type": "scattergl"
           }
          ],
          "scattermapbox": [
           {
            "marker": {
             "colorbar": {
              "outlinewidth": 0,
              "ticks": ""
             }
            },
            "type": "scattermapbox"
           }
          ],
          "scatterpolar": [
           {
            "marker": {
             "colorbar": {
              "outlinewidth": 0,
              "ticks": ""
             }
            },
            "type": "scatterpolar"
           }
          ],
          "scatterpolargl": [
           {
            "marker": {
             "colorbar": {
              "outlinewidth": 0,
              "ticks": ""
             }
            },
            "type": "scatterpolargl"
           }
          ],
          "scatterternary": [
           {
            "marker": {
             "colorbar": {
              "outlinewidth": 0,
              "ticks": ""
             }
            },
            "type": "scatterternary"
           }
          ],
          "surface": [
           {
            "colorbar": {
             "outlinewidth": 0,
             "ticks": ""
            },
            "colorscale": [
             [
              0,
              "#0d0887"
             ],
             [
              0.1111111111111111,
              "#46039f"
             ],
             [
              0.2222222222222222,
              "#7201a8"
             ],
             [
              0.3333333333333333,
              "#9c179e"
             ],
             [
              0.4444444444444444,
              "#bd3786"
             ],
             [
              0.5555555555555556,
              "#d8576b"
             ],
             [
              0.6666666666666666,
              "#ed7953"
             ],
             [
              0.7777777777777778,
              "#fb9f3a"
             ],
             [
              0.8888888888888888,
              "#fdca26"
             ],
             [
              1,
              "#f0f921"
             ]
            ],
            "type": "surface"
           }
          ],
          "table": [
           {
            "cells": {
             "fill": {
              "color": "#EBF0F8"
             },
             "line": {
              "color": "white"
             }
            },
            "header": {
             "fill": {
              "color": "#C8D4E3"
             },
             "line": {
              "color": "white"
             }
            },
            "type": "table"
           }
          ]
         },
         "layout": {
          "annotationdefaults": {
           "arrowcolor": "#2a3f5f",
           "arrowhead": 0,
           "arrowwidth": 1
          },
          "autotypenumbers": "strict",
          "coloraxis": {
           "colorbar": {
            "outlinewidth": 0,
            "ticks": ""
           }
          },
          "colorscale": {
           "diverging": [
            [
             0,
             "#8e0152"
            ],
            [
             0.1,
             "#c51b7d"
            ],
            [
             0.2,
             "#de77ae"
            ],
            [
             0.3,
             "#f1b6da"
            ],
            [
             0.4,
             "#fde0ef"
            ],
            [
             0.5,
             "#f7f7f7"
            ],
            [
             0.6,
             "#e6f5d0"
            ],
            [
             0.7,
             "#b8e186"
            ],
            [
             0.8,
             "#7fbc41"
            ],
            [
             0.9,
             "#4d9221"
            ],
            [
             1,
             "#276419"
            ]
           ],
           "sequential": [
            [
             0,
             "#0d0887"
            ],
            [
             0.1111111111111111,
             "#46039f"
            ],
            [
             0.2222222222222222,
             "#7201a8"
            ],
            [
             0.3333333333333333,
             "#9c179e"
            ],
            [
             0.4444444444444444,
             "#bd3786"
            ],
            [
             0.5555555555555556,
             "#d8576b"
            ],
            [
             0.6666666666666666,
             "#ed7953"
            ],
            [
             0.7777777777777778,
             "#fb9f3a"
            ],
            [
             0.8888888888888888,
             "#fdca26"
            ],
            [
             1,
             "#f0f921"
            ]
           ],
           "sequentialminus": [
            [
             0,
             "#0d0887"
            ],
            [
             0.1111111111111111,
             "#46039f"
            ],
            [
             0.2222222222222222,
             "#7201a8"
            ],
            [
             0.3333333333333333,
             "#9c179e"
            ],
            [
             0.4444444444444444,
             "#bd3786"
            ],
            [
             0.5555555555555556,
             "#d8576b"
            ],
            [
             0.6666666666666666,
             "#ed7953"
            ],
            [
             0.7777777777777778,
             "#fb9f3a"
            ],
            [
             0.8888888888888888,
             "#fdca26"
            ],
            [
             1,
             "#f0f921"
            ]
           ]
          },
          "colorway": [
           "#636efa",
           "#EF553B",
           "#00cc96",
           "#ab63fa",
           "#FFA15A",
           "#19d3f3",
           "#FF6692",
           "#B6E880",
           "#FF97FF",
           "#FECB52"
          ],
          "font": {
           "color": "#2a3f5f"
          },
          "geo": {
           "bgcolor": "white",
           "lakecolor": "white",
           "landcolor": "#E5ECF6",
           "showlakes": true,
           "showland": true,
           "subunitcolor": "white"
          },
          "hoverlabel": {
           "align": "left"
          },
          "hovermode": "closest",
          "mapbox": {
           "style": "light"
          },
          "paper_bgcolor": "white",
          "plot_bgcolor": "#E5ECF6",
          "polar": {
           "angularaxis": {
            "gridcolor": "white",
            "linecolor": "white",
            "ticks": ""
           },
           "bgcolor": "#E5ECF6",
           "radialaxis": {
            "gridcolor": "white",
            "linecolor": "white",
            "ticks": ""
           }
          },
          "scene": {
           "xaxis": {
            "backgroundcolor": "#E5ECF6",
            "gridcolor": "white",
            "gridwidth": 2,
            "linecolor": "white",
            "showbackground": true,
            "ticks": "",
            "zerolinecolor": "white"
           },
           "yaxis": {
            "backgroundcolor": "#E5ECF6",
            "gridcolor": "white",
            "gridwidth": 2,
            "linecolor": "white",
            "showbackground": true,
            "ticks": "",
            "zerolinecolor": "white"
           },
           "zaxis": {
            "backgroundcolor": "#E5ECF6",
            "gridcolor": "white",
            "gridwidth": 2,
            "linecolor": "white",
            "showbackground": true,
            "ticks": "",
            "zerolinecolor": "white"
           }
          },
          "shapedefaults": {
           "line": {
            "color": "#2a3f5f"
           }
          },
          "ternary": {
           "aaxis": {
            "gridcolor": "white",
            "linecolor": "white",
            "ticks": ""
           },
           "baxis": {
            "gridcolor": "white",
            "linecolor": "white",
            "ticks": ""
           },
           "bgcolor": "#E5ECF6",
           "caxis": {
            "gridcolor": "white",
            "linecolor": "white",
            "ticks": ""
           }
          },
          "title": {
           "x": 0.05
          },
          "xaxis": {
           "automargin": true,
           "gridcolor": "white",
           "linecolor": "white",
           "ticks": "",
           "title": {
            "standoff": 15
           },
           "zerolinecolor": "white",
           "zerolinewidth": 2
          },
          "yaxis": {
           "automargin": true,
           "gridcolor": "white",
           "linecolor": "white",
           "ticks": "",
           "title": {
            "standoff": 15
           },
           "zerolinecolor": "white",
           "zerolinewidth": 2
          }
         }
        },
        "title": {
         "text": "Total PTS per Season per player Karl-Anthony Towns"
        },
        "xaxis": {
         "anchor": "y",
         "domain": [
          0,
          1
         ],
         "title": {
          "text": "NUMBER"
         }
        },
        "yaxis": {
         "anchor": "x",
         "domain": [
          0,
          1
         ],
         "title": {
          "text": "value"
         }
        }
       }
      }
     },
     "metadata": {},
     "output_type": "display_data"
    }
   ],
   "source": [
    "fig4 = px.line(plot_data1, x='NUMBER', y=['PTS', 'REB', 'AST'], markers=True, title = f'Total PTS per Season per player {player}')\n",
    "fig4.show()"
   ]
  },
  {
   "cell_type": "code",
   "execution_count": null,
   "metadata": {},
   "outputs": [],
   "source": []
  }
 ],
 "metadata": {
  "kernelspec": {
   "display_name": "data_science",
   "language": "python",
   "name": "python3"
  },
  "language_info": {
   "codemirror_mode": {
    "name": "ipython",
    "version": 3
   },
   "file_extension": ".py",
   "mimetype": "text/x-python",
   "name": "python",
   "nbconvert_exporter": "python",
   "pygments_lexer": "ipython3",
   "version": "3.10.6"
  },
  "orig_nbformat": 4
 },
 "nbformat": 4,
 "nbformat_minor": 2
}
